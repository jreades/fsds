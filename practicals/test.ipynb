{
  "cells": [
    {
      "cell_type": "markdown",
      "metadata": {},
      "source": [
        "## Testing\n",
        "\n",
        "Easing into EDA\n",
        "\n",
        "#### 0.1 Rendered\n",
        "\n",
        "``` python\n",
        "# | echo: false\n",
        "write_code(msg)\n",
        "```"
      ],
      "id": "45a1d418-e0d0-445d-aec7-1c2b064f76af"
    },
    {
      "cell_type": "code",
      "execution_count": 2,
      "metadata": {},
      "outputs": [],
      "source": [
        "import ast\n",
        "#Markdown(\"```{python}\\n\" + ast.literal_eval(msg) + \"\\n```\")"
      ],
      "id": "e52afa0e"
    },
    {
      "cell_type": "markdown",
      "metadata": {},
      "source": [
        "from IPython.core.formatters import format_display_data formatted,\n",
        "metadata = format_display_data(Markdown(msg))\n",
        "\n",
        "t = format_display_data(Markdown(msg))\\[0\\]\\[‘text/markdown’\\] print(t)\n",
        "write_code(ast.literal_eval(t))"
      ],
      "id": "a4a99599-4a8d-4cde-9bd5-ff0f250518d2"
    }
  ],
  "nbformat": 4,
  "nbformat_minor": 5,
  "metadata": {
    "kernelspec": {
      "name": "python3",
      "display_name": "Python 3 (ipykernel)",
      "language": "python",
      "path": "/Users/jreades/anaconda3/envs/sds/share/jupyter/kernels/python3"
    },
    "language_info": {
      "name": "python",
      "codemirror_mode": {
        "name": "ipython",
        "version": "3"
      },
      "file_extension": ".py",
      "mimetype": "text/x-python",
      "nbconvert_exporter": "python",
      "pygments_lexer": "ipython3",
      "version": "3.12.2"
    }
  }
}