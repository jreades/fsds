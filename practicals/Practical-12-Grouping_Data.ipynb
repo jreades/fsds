{
  "cells": [
    {
      "cell_type": "markdown",
      "metadata": {},
      "source": [
        "## Practical 12: Grouping Data\n",
        "\n",
        "Aggregation, Classification & Clustering\n",
        "\n",
        "A common challenge in data analysis is how to group observations in a\n",
        "data set together in a way that allows for generalisation: *this* group\n",
        "of observations are similar to one another, *that* group is dissimilar\n",
        "to this group. Sometimes we have a *label* that we can use as part of\n",
        "the process (in which case we’re doing **classification**), and somtimes\n",
        "we don’t (in which case we’re doing **clustering**). But what defines\n",
        "similarity and difference? There is no *one* answer to that question and\n",
        "so there are many different ways to cluster or classify data, each of\n",
        "which has strengths and weaknesses that make them more, or less,\n",
        "appropriate in different contexts.\n",
        "\n",
        "> **Note**\n",
        ">\n",
        "> **🔗 Connections**: This practical pulls together many topics covered\n",
        "> in other modules, and many of the ideas covered elsewhere in *this*\n",
        "> module: clustering, reproducibility, dimensionality reduction… but,\n",
        "> above all, this practical is about the importance of **judgement**. Do\n",
        "> *not* take what we’ve done here as the ONE RIGHT WAY: a number of\n",
        "> these results are questionnable at best because we haven’t developed\n",
        "> or defined an underlying hypothesis informed by a critical appraisal\n",
        "> of the data. You should be *much* more selective in how you deploy the\n",
        "> data and the algorithms, as last week’s [session on\n",
        "> dimensionality](https://jreades.github.io/fsds/sessions/week8.html)\n",
        "> should have shown.\n",
        "\n",
        "## 1. Preamble"
      ],
      "id": "96dd67ca-f668-4d0a-accc-28c9c6936a44"
    },
    {
      "cell_type": "code",
      "execution_count": 1,
      "metadata": {},
      "outputs": [],
      "source": [
        "import warnings # This suppresses some meaningless errors from Seaborn and Pandas\n",
        "warnings.simplefilter(action='ignore', category=FutureWarning)"
      ],
      "id": "8b531e6d"
    },
    {
      "cell_type": "code",
      "execution_count": 2,
      "metadata": {},
      "outputs": [],
      "source": [
        "import numpy as np\n",
        "import pandas as pd\n",
        "import geopandas as gpd\n",
        "import seaborn as sns\n",
        "import matplotlib.pyplot as plt\n",
        "import matplotlib.cm as cm\n",
        "import matplotlib as mpl\n",
        "import re\n",
        "import os\n",
        "\n",
        "from matplotlib.colors import ListedColormap\n",
        "\n",
        "# All of these are potentially useful, though\n",
        "# not all have been used in this practical --\n",
        "# I'd suggest exploring the use of different \n",
        "# Scalers/Transformers as well as clustering \n",
        "# algorithms...\n",
        "from sklearn.neighbors import NearestNeighbors\n",
        "from sklearn.decomposition import PCA\n",
        "from sklearn.preprocessing import MinMaxScaler, StandardScaler, RobustScaler, PowerTransformer\n",
        "from sklearn.cluster import KMeans, DBSCAN, OPTICS\n",
        "from sklearn.ensemble import RandomForestClassifier\n",
        "from sklearn.metrics import silhouette_samples, silhouette_score\n",
        "\n",
        "import random\n",
        "random.seed(42)    # For reproducibility\n",
        "np.random.seed(42) # For reproducibility\n",
        "\n",
        "# Make numeric display a bit neater\n",
        "pd.set_option('display.float_format', lambda x: '{:,.2f}'.format(x))"
      ],
      "id": "bf46a05f"
    },
    {
      "cell_type": "markdown",
      "metadata": {},
      "source": [
        "#### 1.0.1 Initialise the Scaler(s)\n",
        "\n",
        "Remember that you can set up the `sklearn` transformers in advance, and\n",
        "then `fit` them before `transform`-ing them."
      ],
      "id": "5d8ee584-341c-4a50-b10c-df796661b463"
    },
    {
      "cell_type": "code",
      "execution_count": 3,
      "metadata": {},
      "outputs": [],
      "source": [
        "mms  = MinMaxScaler(feature_range=(-1,1))\n",
        "stds = StandardScaler()\n",
        "rbs  = RobustScaler()\n",
        "pts  = PowerTransformer()"
      ],
      "id": "3a337cea"
    },
    {
      "cell_type": "markdown",
      "metadata": {},
      "source": [
        "#### 1.0.2 Set Up Plotting Functions\n",
        "\n",
        "> **Note**\n",
        ">\n",
        "> **🔗 Connections**: Here’s an example of how you can use a function to\n",
        "> do something a little more complex than just locally save some data.\n",
        "> This is still largely a kind of ‘stub’, but if you are going to be\n",
        "> producing a lot of plots of London why not automate away some of the\n",
        "> pain of producing a good-looking basemap *each* time: use a function\n",
        "> to apply the formatting and then just return `f` and `ax` as if you’d\n",
        "> done this all yourself."
      ],
      "id": "1800a5b1-773b-4662-ad6d-ce95c9c339be"
    },
    {
      "cell_type": "code",
      "execution_count": 4,
      "metadata": {},
      "outputs": [],
      "source": [
        "def plt_ldn(w, b):\n",
        "    \"\"\"\n",
        "    Creates a new figure of a standard size with the \n",
        "    water (w) and boundary (b) layers set up for easy\n",
        "    plotting. Right now this function assumes that you're\n",
        "    looking at London, but you could parameterise it in\n",
        "    other ways ot allow it to work for other areas.\n",
        "    \n",
        "    w: a water layer for London\n",
        "    b: a borough (or other) boundary layer for London\n",
        "    \"\"\"\n",
        "    fig, ax = plt.subplots(1, figsize=(14, 12))\n",
        "    w.plot(ax=ax, color='#79aef5', zorder=2)\n",
        "    b.plot(ax=ax, edgecolor='#cc2d2d', facecolor='None', zorder=3)\n",
        "    ax.set_xlim([502000,563000])\n",
        "    ax.set_ylim([155000,201500])\n",
        "    ax.spines['top'].set_visible(False)\n",
        "    ax.spines['right'].set_visible(False)\n",
        "    ax.spines['bottom'].set_visible(False)\n",
        "    ax.spines['left'].set_visible(False)\n",
        "    return fig, ax\n",
        "\n",
        "########################\n",
        "# These may no longer be relevant because of changes to geopandas API\n",
        "\n",
        "def default_cmap(n, outliers=False):\n",
        "    cmap = mpl.cm.get_cmap('viridis_r', n)\n",
        "    colors = cmap(np.linspace(0,1,n))\n",
        "    if outliers:\n",
        "        gray = np.array([225/256, 225/256, 225/256, 1])\n",
        "        colors = np.insert(colors, 0, gray, axis=0)\n",
        "    return ListedColormap(colors)\n",
        "\n",
        "# mappable = ax.collections[-1] if you add the geopandas\n",
        "# plot last.\n",
        "def add_colorbar(mappable, ax, cmap, norm, breaks, outliers=False):\n",
        "    cb = fig.colorbar(mappable, ax=ax, cmap=cmap, norm=norm,\n",
        "                    boundaries=breaks,\n",
        "                    extend=('min' if outliers else 'neither'), \n",
        "                    spacing='uniform',\n",
        "                    orientation='horizontal',\n",
        "                    fraction=0.05, shrink=0.5, pad=0.05)\n",
        "    cb.set_label(\"Cluster Number\")"
      ],
      "id": "1d70ca2e"
    },
    {
      "cell_type": "markdown",
      "metadata": {},
      "source": [
        "#### 1.0.3 Set up Caching Function"
      ],
      "id": "f60fba7b-4856-4c62-b63b-fc12bf843d32"
    },
    {
      "cell_type": "code",
      "execution_count": 5,
      "metadata": {},
      "outputs": [],
      "source": [
        "from pathlib import Path\n",
        "from requests import get\n",
        "from functools import wraps\n",
        "\n",
        "def check_cache(f):\n",
        "    @wraps(f)\n",
        "    def wrapper(src:str, dst:str, min_size=100) -> Path:\n",
        "        if src.find('?') == -1:\n",
        "            url = Path(src)\n",
        "        else:\n",
        "            url = Path(src[:src.find('?')])\n",
        "        fn  = url.name  # Extract the filename\n",
        "        dsn = Path(f\"{dst}/{fn}\") # Destination filename\n",
        "        if dsn.is_file() and dsn.stat().st_size > min_size:\n",
        "            print(f\"+ {dsn} found locally!\")\n",
        "            return(dsn)\n",
        "        else:\n",
        "            print(f\"+ {dsn} not found, downloading!\")\n",
        "            return(f(src, dsn))\n",
        "    return wrapper\n",
        "\n",
        "@check_cache\n",
        "def cache_data(src:Path, dst:Path) -> str:\n",
        "    \"\"\"Downloads a remote file.\n",
        "    \n",
        "    The function sits between the 'read' step of a pandas or geopandas\n",
        "    data frame and downloading the file from a remote location. The idea\n",
        "    is that it will save it locally so that you don't need to remember to\n",
        "    do so yourself. Subsequent re-reads of the file will return instantly\n",
        "    rather than downloading the entire file for a second or n-th itme.\n",
        "    \n",
        "    Parameters\n",
        "    ----------\n",
        "    src : str\n",
        "        The remote *source* for the file, any valid URL should work.\n",
        "    dst : str\n",
        "        The *destination* location to save the downloaded file.\n",
        "        \n",
        "    Returns\n",
        "    -------\n",
        "    str\n",
        "        A string representing the local location of the file.\n",
        "    \"\"\"\n",
        "      \n",
        "    # Create any missing directories in dest(ination) path\n",
        "    # -- os.path.join is the reverse of split (as you saw above)\n",
        "    # but it doesn't work with lists... so I had to google how\n",
        "    # to use the 'splat' operator! os.makedirs creates missing\n",
        "    # directories in a path automatically.\n",
        "    if not dst.parent.exists():\n",
        "        dst.parent.mkdir(parents=True, exist_ok=True)\n",
        "        \n",
        "    # Download and write the file\n",
        "    with dst.open(mode='wb') as file:\n",
        "        response = get(src)\n",
        "        file.write(response.content)\n",
        "        \n",
        "    print(' + Done downloading...')\n",
        "\n",
        "    return dst.resolve()"
      ],
      "id": "621022af"
    },
    {
      "cell_type": "markdown",
      "metadata": {},
      "source": [
        "## 2. Load Data\n",
        "\n",
        "### 2.1 London Data Layers\n",
        "\n",
        "> **Difficulty: Low.**"
      ],
      "id": "04bb2b01-5bf3-4679-a072-a5c5a288c20d"
    },
    {
      "cell_type": "code",
      "execution_count": 6,
      "metadata": {},
      "outputs": [],
      "source": [
        "spath = 'https://github.com/jreades/fsds/blob/master/data/src/' # source path\n",
        "ddir  = os.path.join('data','geo') # destination directory\n",
        "water = gpd.read_file( cache_data(spath+'Water.gpkg?raw=true', ddir) )\n",
        "boros = gpd.read_file( cache_data(spath+'Boroughs.gpkg?raw=true', ddir) )\n",
        "green = gpd.read_file( cache_data(spath+'Greenspace.gpkg?raw=true', ddir) )\n",
        "\n",
        "msoas = gpd.read_file( cache_data('http://orca.casa.ucl.ac.uk/~jreades/data/MSOA-2011.gpkg', ddir) )\n",
        "msoas = msoas.to_crs(epsg=27700)\n",
        "\n",
        "# I don't use this in this practical, but it's a\n",
        "# really useful data set that gives you 'names'\n",
        "# for MSOAs that broadly correspond to what most\n",
        "# Londoners would think of as a 'neighbourhood'.\n",
        "msoa_nms = gpd.read_file( cache_data('http://orca.casa.ucl.ac.uk/~jreades/data/MSOA-2011-Names.gpkg', ddir) )\n",
        "msoa_nms = msoa_nms.to_crs(epsg=27700)\n",
        "print(\"Done.\")"
      ],
      "id": "a29b4c16"
    },
    {
      "cell_type": "markdown",
      "metadata": {},
      "source": [
        "### 2.2 Reduced Dimensionality MSOA Data\n",
        "\n",
        "> **Difficulty: Low.**\n",
        "\n",
        "You should have this locally from last week, but just in case…"
      ],
      "id": "3faf769e-829d-4806-8d4c-bd0adebf2df4"
    },
    {
      "cell_type": "code",
      "execution_count": 7,
      "metadata": {},
      "outputs": [],
      "source": [
        "host = 'http://orca.casa.ucl.ac.uk'\n",
        "path = '~jreades/data'\n",
        "rddf = gpd.read_parquet( cache_data(f'{host}/{path}/Reduced_Dimension_Data.geoparquet', ddir) )\n",
        "print(f\"Data frame is {rddf.shape[0]:,} x {rddf.shape[1]}\")"
      ],
      "id": "1995b4f5"
    },
    {
      "cell_type": "markdown",
      "metadata": {},
      "source": [
        "You should have: `Data frame is 983 x 93`.\n",
        "\n",
        "And below you should see both the components and the dimensions from\n",
        "last week’s processing."
      ],
      "id": "fedfe138-44b6-460b-92fa-fc2aa170e22c"
    },
    {
      "cell_type": "code",
      "execution_count": 8,
      "metadata": {},
      "outputs": [],
      "source": [
        "rddf.iloc[0:3, -7:]"
      ],
      "id": "ffcab584"
    },
    {
      "cell_type": "markdown",
      "metadata": {},
      "source": [
        "I get the results below, but note that the **Dimension values** may be\n",
        "slightly different:\n",
        "\n",
        "|  | Component 5 | Component 6 | Component 7 | Borough | Dimension 1 | Dimension 2 | Subregion |\n",
        "|:------|---------:|----------:|---------:|------:|---------:|---------:|--------:|\n",
        "| **E02000001** | 1.44 | 3.95 | -1.52 | City of London | 7.74 | 3.36 | Inner West |\n",
        "| **E02000002** | -0.28 | 0.89 | 0.26 | Barking and Dagenham | 2.04 | 7.59 | Outer East and North East |\n",
        "| **E02000003** | -0.11 | 1.12 | 0.83 | Barking and Dagenham | 2.20 | 6.87 | Outer East and North East |\n",
        "\n",
        "### 2.3 Listings Data\n",
        "\n",
        "> **Difficulty: Low.**\n",
        "\n",
        "Let’s also get the listings data from a few weeks back:"
      ],
      "id": "a316f6a1-0eb9-4d76-8ebb-7ea9747e5efa"
    },
    {
      "cell_type": "code",
      "execution_count": 9,
      "metadata": {},
      "outputs": [],
      "source": [
        "ymd  = '20250615'\n",
        "city = 'London'\n",
        "host = 'https://orca.casa.ucl.ac.uk'\n",
        "url  = f'{host}/~jreades/data/{ymd}-{city}-listings.geoparquet'"
      ],
      "id": "55950049"
    },
    {
      "cell_type": "code",
      "execution_count": 10,
      "metadata": {},
      "outputs": [],
      "source": [
        "listings = gpd.read_parquet( cache_data(url, ddir) )\n",
        "listings = listings.to_crs(epsg=27700)\n",
        "print(f\"Data frame is {listings.shape[0]:,} x {listings.shape[1]}\")"
      ],
      "id": "866ddd11"
    },
    {
      "cell_type": "markdown",
      "metadata": {},
      "source": [
        "You should have: `Data frame is 85,134 x 31`.\n",
        "\n",
        "And a quick plot of the price to check:"
      ],
      "id": "b9d01b56-9067-4290-8b93-f0806bfa7484"
    },
    {
      "cell_type": "code",
      "execution_count": 11,
      "metadata": {},
      "outputs": [],
      "source": [
        "listings.plot(???, cmap='plasma', scheme='quantiles', k=10, \n",
        "              markersize=.5, alpha=0.15, figsize=(10,7));"
      ],
      "id": "c7e598c7"
    },
    {
      "cell_type": "markdown",
      "metadata": {},
      "source": [
        "## 3. Aggregate Listings by MSOA\n",
        "\n",
        "### 3.1 Join Listings to MSOA\n",
        "\n",
        "> **Difficulty: Medium-to-hard.**\n",
        "\n",
        "First, let’s link all this using the MSOA Geography that we created last\n",
        "week and a mix or merge and sjoin!\n",
        "\n",
        "> **Note**\n",
        ">\n",
        ">     **&#128279; Connections**: Notice a few things going on here! We are calling `gpd.sjoin` because pandas (`pd`) doesn't know about spatial joins, only geopandas (`gpd`) does. More on this [next week](https://jreades.github.io/fsds/sessions/week10.html#lectures). Also see how we drop some columns _at the point where we do the join_ by taking advantage of the fact that most pandas/geopandas operations return a _copy_ of the (Geo)DataFrame. That allows us to get back from the spatial join a neat, tidy data frame ready for further analysis. If you're struggling to make sense of this, try removing the `drop` operations and see what your data frame looks like afterwards. This should all be old hat, but in case you need a refresher there's always [Week 5](https://jreades.github.io/fsds/sessions/week5.html) on pandas."
      ],
      "id": "0f1d3efb-fd47-4cc1-b58a-147d541c4e32"
    },
    {
      "cell_type": "code",
      "execution_count": 12,
      "metadata": {},
      "outputs": [],
      "source": [
        "# Before the spatial join\n",
        "listings.columns"
      ],
      "id": "fa3653f8"
    },
    {
      "cell_type": "code",
      "execution_count": 13,
      "metadata": {},
      "outputs": [],
      "source": [
        "msoa_listings = gpd.sjoin(???, msoas.drop(\n",
        "                        columns=['MSOA11NM', 'LAD11CD', 'LAD11NM', 'RGN11CD', 'RGN11NM',\n",
        "                                 'USUALRES', 'HHOLDRES', 'COMESTRES', 'POPDEN', 'HHOLDS', \n",
        "                                 'AVHHOLDSZ']), predicate='???').drop(\n",
        "                        columns=['latitude','longitude','index_right']\n",
        "                )"
      ],
      "id": "88aef0bf"
    },
    {
      "cell_type": "code",
      "execution_count": 14,
      "metadata": {},
      "outputs": [],
      "source": [
        "# All we've added is the MSOA11CD\n",
        "msoa_listings.columns"
      ],
      "id": "a70e5bcb"
    },
    {
      "cell_type": "markdown",
      "metadata": {},
      "source": [
        "All being well you should now have:\n",
        "\n",
        "    Index(['listing_url', 'last_scraped', 'name', 'description', 'host_id',\n",
        "           'host_name', 'host_since', 'host_location', 'host_is_superhost',\n",
        "           'host_listings_count', 'host_total_listings_count',\n",
        "           'host_verifications', 'property_type', 'room_type', 'accommodates',\n",
        "           'bathrooms_text', 'bedrooms', 'beds', 'amenities', 'price',\n",
        "           'minimum_nights', 'maximum_nights', 'availability_365',\n",
        "           'number_of_reviews', 'first_review', 'last_review',\n",
        "           'review_scores_rating', 'reviews_per_month', 'geometry', 'MSOA11CD'],\n",
        "          dtype='object')\n",
        "\n",
        "### 3.2 Price by MSOA\n",
        "\n",
        "> **Difficulty: Medium.**\n",
        "\n",
        "Let’s calculate the median price by MSOA… Notice that we have to specify\n",
        "the column we want after the `groupby` so the we don’t get the median of\n",
        "*every* column returned\n",
        "\n",
        "> **Note**\n",
        ">\n",
        ">     **&#128279; Connections**: I find `groupby` to be a complex operation and often need a couple of gos before I get back waht I want. The thing to take away is that: 1) anything in the `groupby` will become part of the `index` afterwards (so if you group on multiple things you get a multi-part index); 2) aggregating functions apply to _all_ columns unless you filter them some way. Here we filter by selecting only the `price` column to aggregate. You can also filter for `numeric only`."
      ],
      "id": "4c1286c8-7ebd-4bcc-a827-077e54143155"
    },
    {
      "cell_type": "code",
      "execution_count": 15,
      "metadata": {},
      "outputs": [],
      "source": [
        "# *m*soa *l*istings *g*rouped by *p*rice\n",
        "mlgp = msoa_listings.groupby('???')['price'].agg('???') \n",
        "mlgp.head()"
      ],
      "id": "be759386"
    },
    {
      "cell_type": "markdown",
      "metadata": {},
      "source": [
        "You should get something like:\n",
        "\n",
        "    MSOA11CD\n",
        "    E02000001   170.00\n",
        "    E02000002    97.00\n",
        "    E02000003    80.00\n",
        "    E02000004    54.00\n",
        "    E02000005   100.00\n",
        "    Name: price, dtype: float64\n",
        "\n",
        "### 3.3 Room Type by MSOA\n",
        "\n",
        "> **Difficulty: Medium.**\n",
        "\n",
        "Now let’s calculate the count of room types by MSOA and compare the\n",
        "effects of `reset_index` on the outputs below. And notice too that we\n",
        "can assign the aggregated value to a column name!"
      ],
      "id": "74f651c4-3722-4c62-8293-996a076ac740"
    },
    {
      "cell_type": "code",
      "execution_count": 16,
      "metadata": {},
      "outputs": [],
      "source": [
        "# *m*soa *l*istings *g*rouped *c*ount\n",
        "mlgc = msoa_listings.groupby(['???','???'], observed=False).listing_url.agg(Count='???')\n",
        "mlgc.head()"
      ],
      "id": "17d4b691"
    },
    {
      "cell_type": "markdown",
      "metadata": {},
      "source": [
        "You should get something resembling this:\n",
        "\n",
        "|      MSOA11CD | room_type           | Count<br/> <br />  |\n",
        "|--------------:|:--------------------|-------------------:|\n",
        "| **E02000001** | **Entire home/apt** |                466 |\n",
        "|               | **Hotel room**      |                  0 |\n",
        "|               | **Private room**    |                 61 |\n",
        "|               | **Shared room**     |                  1 |\n",
        "| **E02000002** | **Entire home/apt** |                  4 |"
      ],
      "id": "52270608-4c64-436e-9b9a-04bbb8061919"
    },
    {
      "cell_type": "code",
      "execution_count": 17,
      "metadata": {},
      "outputs": [],
      "source": [
        "# *m*soa *l*istings *g*rouped *c*ount *r*eset index\n",
        "mlgcr = msoa_listings.groupby(['???','???'], observed=False).listing_url.agg(Count='???').reset_index() # msoa listings grouped counts\n",
        "mlgcr.head()"
      ],
      "id": "70a5af19"
    },
    {
      "cell_type": "markdown",
      "metadata": {},
      "source": [
        "You should get something like:\n",
        "\n",
        "|     | MSOA11CD  | room_type       | Count |\n",
        "|----:|:----------|:----------------|------:|\n",
        "|   0 | E02000001 | Entire home/apt |   466 |\n",
        "|   1 | E02000001 | Hotel room      |     0 |\n",
        "|   2 | E02000001 | Private room    |    61 |\n",
        "|   3 | E02000001 | Shared room     |     1 |\n",
        "|   4 | E02000002 | Entire home/apt |     4 |\n",
        "\n",
        "### 3.4 Price by Room Type\n",
        "\n",
        "> **Difficulty: Hard.**\n",
        "\n",
        "But perhaps median price/room type would make more sense? And do we want\n",
        "to retain values where there are no listings? For example, there are no\n",
        "hotel rooms listed for E02000001, how do we ensure that these *NAs are\n",
        "dropped*?"
      ],
      "id": "a08ced35-c67c-41bf-a2d0-dd50d318f072"
    },
    {
      "cell_type": "code",
      "execution_count": 18,
      "metadata": {},
      "outputs": [],
      "source": [
        "# *m*soa *l*istings *g*rouped *r*oom *p*rice\n",
        "mlgrp = msoa_listings.???(???, observed=True\n",
        "                      )['price'].agg('???').reset_index()\n",
        "mlgrp.head()"
      ],
      "id": "42ae1024"
    },
    {
      "cell_type": "markdown",
      "metadata": {},
      "source": [
        "You should get something like:\n",
        "\n",
        "|     | MSOA11CD  | room type       |  price |\n",
        "|----:|:----------|:----------------|-------:|\n",
        "|   0 | E02000001 | Entire home/apt | 177.00 |\n",
        "|   2 | E02000001 | Private room    | 100.00 |\n",
        "|   3 | E02000001 | Shared room     | 120.00 |\n",
        "|   4 | E02000002 | Entire home/apt | 117.00 |\n",
        "|   6 | E02000002 | Private room    |  42.00 |\n",
        "\n",
        "### 3.5 Explore Outlier Per-MSOA Prices\n",
        "\n",
        "> **Difficulty: Medium.**\n",
        "\n",
        "Are there MSOAs what *look* like they might contain erroneous data?\n",
        "\n",
        "#### 3.5.1 Plot MSOA Median Prices"
      ],
      "id": "7c5650aa-73a9-4077-b19f-ee994c782b08"
    },
    {
      "cell_type": "code",
      "execution_count": 19,
      "metadata": {},
      "outputs": [],
      "source": [
        "mlgp.hist(bins=200);"
      ],
      "id": "6e910383"
    },
    {
      "cell_type": "markdown",
      "metadata": {},
      "source": [
        "#### 3.5.2 Examine Listings from High-Priced MSOAs\n",
        "\n",
        "Careful, this is showing the *listings* from MSOAs whose median price is\n",
        "above \\$300/night:"
      ],
      "id": "91028444-ba85-44bc-b882-7dc6105e964e"
    },
    {
      "cell_type": "code",
      "execution_count": 20,
      "metadata": {},
      "outputs": [],
      "source": [
        "msoa_listings[\n",
        "    msoa_listings.MSOA11CD.isin(mlgp[mlgp > 300].index)\n",
        "].sort_values(by='price', ascending=False).head(7)[\n",
        "    ['price','room_type','name','description']\n",
        "]"
      ],
      "id": "f476b46b"
    },
    {
      "cell_type": "markdown",
      "metadata": {},
      "source": [
        "Some of these look legi (4, 5, and… 8 bedroom ‘villas’?), though not\n",
        "every one…\n",
        "\n",
        "And how about these?"
      ],
      "id": "b0de958d-c65e-44f9-a573-0a6e786f1c16"
    },
    {
      "cell_type": "code",
      "execution_count": 21,
      "metadata": {},
      "outputs": [],
      "source": [
        "msoa_listings[\n",
        "    (msoa_listings.MSOA11CD.isin(mlgp[mlgp > 300].index)) & (msoa_listings.room_type!='Entire home/apt')\n",
        "].sort_values(by='price', ascending=False).head(7)[\n",
        "    ['price','room_type','property_type','name','description']\n",
        "]"
      ],
      "id": "dab279a7"
    },
    {
      "cell_type": "markdown",
      "metadata": {},
      "source": [
        "If we wanted to be rigorous then we’d have to investigate further:\n",
        "properties in Mayfair and Westminster *are* going to be expensive, but\n",
        "are these plausible nightly prices? In some cases, yes. In others…"
      ],
      "id": "c7c99330-8add-4d43-8e1f-a9bf4b7c3a89"
    },
    {
      "cell_type": "code",
      "execution_count": 22,
      "metadata": {},
      "outputs": [],
      "source": [
        "msoa_listings[\n",
        "    (msoa_listings.MSOA11CD.isin(mlgp[mlgp < 100].index)) & (msoa_listings.room_type!='Entire home/apt')\n",
        "].sort_values(by='price', ascending=False).head(7)[\n",
        "    ['price','room_type','name','description']\n",
        "]"
      ],
      "id": "edb12f89"
    },
    {
      "cell_type": "markdown",
      "metadata": {},
      "source": [
        "On the whole, let’s take a *guess* that there are a small number of\n",
        "implausibly high prices for individual units that aren’t in very\n",
        "expensive neighbourhoods and that these are either\n",
        "erroneous/deliberately incorrect, or represent a price that is not\n",
        "per-night.\n",
        "\n",
        "> **Note**\n",
        ">\n",
        ">     **&#128279; Connections**: What's the right answer here? There isn't one. You could probably spend _months_ figuring out what's a real, available-to-let listing and waht isn't. I would argue that assuming all listings are 'legit' without doing some additional EDA and ESDA is negligent. You could also look at how some of the methods of standardisation/normalisation work and use those to identify improbable listings (but remember that a £10,000 in Mayfair _might_ be legit, while a $5,000 listing in Barking _probably_ isn't!). Or you could look at the inter-decile range (or just define your own range: 1%-99%?).\n",
        "\n",
        "#### 3.5.3 Filter Unlikely Listings\n",
        "\n",
        "> **Difficulty: Hard.**\n",
        "\n",
        "See if you can filter out these less likely listings on the following\n",
        "criteria:\n",
        "\n",
        "1.  Listings are priced above \\$300/night AND\n",
        "2.  Room type is not `'Entire home/apt'` AND\n",
        "3.  Listings do *not* contain the words: suite, luxury, loft, stunning,\n",
        "    prime, historic, or deluxe.\n",
        "\n",
        "I found 901 rows to drop this way."
      ],
      "id": "66b687a0-1b54-42f3-98fc-0b59947539c9"
    },
    {
      "cell_type": "code",
      "execution_count": 23,
      "metadata": {},
      "outputs": [],
      "source": [
        "target_regex = r'(?:suite|luxury|loft|stunning|prime|historic|deluxe|boutique)'\n",
        "to_drop = msoa_listings[\n",
        "            (???) & \n",
        "            (???) &\n",
        "            ~(???(target_regex, flags=re.IGNORECASE, regex=True, na=True))]\n",
        "print(f\"Have found {to_drop.shape[0]:,} rows to drop on the basis of unlikely per night prices.\")"
      ],
      "id": "3a377a02"
    },
    {
      "cell_type": "code",
      "execution_count": 24,
      "metadata": {},
      "outputs": [],
      "source": [
        "to_drop.sort_values(by='price', ascending=False)[['price','room_type','name','description']]"
      ],
      "id": "236ba3dc"
    },
    {
      "cell_type": "markdown",
      "metadata": {},
      "source": [
        "#### 3.5.4 Plot Unlikely Listings\n",
        "\n",
        "Here we use the `plt_ldn` function – notice how it’s designed to return\n",
        "`f,ax` in the same way that `plt.subplots` (which we’re already familiar\n",
        "with) does!"
      ],
      "id": "0c329074-b849-4a41-85ad-5d6fda1bed29"
    },
    {
      "cell_type": "code",
      "execution_count": 25,
      "metadata": {},
      "outputs": [],
      "source": [
        "f,ax = plt_ldn(???, ???)\n",
        "to_drop.plot(column='price', markersize=10, alpha=0.7, cmap='viridis', ax=ax);"
      ],
      "id": "7a4081e2"
    },
    {
      "cell_type": "markdown",
      "metadata": {},
      "source": [
        "#### 3.5.5 … And Drop\n",
        "\n",
        "Some might be legitimate, but I’m feeling broadly ok with the remainder."
      ],
      "id": "2c7b7ac9-1370-486d-b56b-ae0b509c20f6"
    },
    {
      "cell_type": "code",
      "execution_count": 26,
      "metadata": {},
      "outputs": [],
      "source": [
        "cleaned = msoa_listings.drop(index=to_drop.???)\n",
        "print(f\"Cleaned data has {cleaned.shape[0]:,} rows.\")"
      ],
      "id": "8e250162"
    },
    {
      "cell_type": "markdown",
      "metadata": {},
      "source": [
        "After this I had 84,308 rows.\n",
        "\n",
        "I would normally, at this point, spend quite a bit of time validating\n",
        "this cleaning approach, but right now we’re going to take a\n",
        "rough-and-ready approach.\n",
        "\n",
        "#### 3.5.6 Questions\n",
        "\n",
        "-   What data type did [Task 2.2](#Task-2.2:-Price-by-MSOA) return?\n",
        "\n",
        "> \n",
        "\n",
        "-   What is the function of `reset_index()` in [Task\n",
        "    2.3](#Task-2.:3-Room-Type-by-MSOA) and when might you choose to\n",
        "    reset (or not)?\n",
        "\n",
        "> \n",
        "\n",
        "## 4. Pivot Tables & ‘Wide Data’\n",
        "\n",
        "The `group_by` operation is *one* way to organise and aggregate our\n",
        "data, but pivot tables are a *second* common way to achieve this. We\n",
        "typically use a pivot table to go from long to wide data frames – it’s\n",
        "often seen as one of Excel’s main benefits, but Pandas can do that too!\n",
        "\n",
        "> **Note**\n",
        ">\n",
        ">     **&#128279; Connections**: Notice that a pivot table is just a different kind of aggregation. Principally, it's about going from long to wide in your data frame. These issues should be familiar from R and it's `mutate` and other `data.table` methods. We just write them different in Python.\n",
        "\n",
        "### 4.1 Create Pivot Table\n",
        "\n",
        "> **Difficulty: Hard.**\n",
        "\n",
        "We can make use of the pivot table function to generate counts by MSOA\n",
        "in a ‘wide’ format."
      ],
      "id": "175996a9-0005-455f-83e5-605e69e4d28b"
    },
    {
      "cell_type": "code",
      "execution_count": 27,
      "metadata": {},
      "outputs": [],
      "source": [
        "pivot = cleaned.groupby(\n",
        "                ['MSOA11CD','room_type'], observed=False\n",
        "        ).listing_url.agg(Count='count').reset_index().pivot(\n",
        "                index='???', columns=['???'], values=['???'])\n",
        "pivot.head(3)"
      ],
      "id": "b9722a0b"
    },
    {
      "cell_type": "markdown",
      "metadata": {},
      "source": [
        "The formatting will look a tiny bit different, but you should get\n",
        "something like this:\n",
        "\n",
        "|  |  |  |  |  | Count |\n",
        "|-----:|------------------:|-----------:|-----------:|-----------:|-----------:|\n",
        "| **room_type** | **Entire home/apt** | **Hotel room** | **Private room** | **Shared room** |  |\n",
        "| **MSOA11CD** |  |  |  |  |  |\n",
        "| **E02000001** | 466 | 0 | 55 | 1 |  |\n",
        "| **E02000002** | 4 | 0 | 2 | 0 |  |\n",
        "| **E02000003** | 12 | 0 | 13 | 0 |  |\n",
        "\n",
        "### 4.2 Check Counts\n",
        "\n",
        "> **Difficulty: Low.**"
      ],
      "id": "5f409c1a-1b29-42be-8998-a7651033137b"
    },
    {
      "cell_type": "code",
      "execution_count": 28,
      "metadata": {},
      "outputs": [],
      "source": [
        "pivot.sum()"
      ],
      "id": "b960a31c"
    },
    {
      "cell_type": "markdown",
      "metadata": {},
      "source": [
        "Just to reassure you that the pivot results ‘make sense’:"
      ],
      "id": "a05bae81-66ff-4b71-9dfd-32fdf89babd9"
    },
    {
      "cell_type": "code",
      "execution_count": 29,
      "metadata": {},
      "outputs": [],
      "source": [
        "print(cleaned[cleaned.room_type=='Entire home/apt'].listing_url.count())\n",
        "print(cleaned[cleaned.room_type=='Private room'].listing_url.count())"
      ],
      "id": "a45acd61"
    },
    {
      "cell_type": "markdown",
      "metadata": {},
      "source": [
        "### 4.3 Tidy & Normalise\n",
        "\n",
        "> **Difficulty: Low.**\n",
        "\n",
        "My instinct at this point is that, looking at the pivot table, we see\n",
        "quite different levels of Airbnb penetration and it is hard to know how\n",
        "handle this difference: share would be unstable because of the low\n",
        "counts in some places and high counts in others; a derived variable that\n",
        "tells us something about density or mix could be interesting (e.g. HHI\n",
        "or LQ) but wouldn’t quite capture the pattern of mixing.\n",
        "\n",
        "#### 4.3.1 Tidy\n",
        "\n",
        "Personally, based on the room type counts above I think we can drop\n",
        "Hotel Rooms and Shared Rooms from this since the other two categories\n",
        "are *so* dominant."
      ],
      "id": "57d3c318-aa1b-4d8c-82bc-615d3ae11ef8"
    },
    {
      "cell_type": "code",
      "execution_count": 30,
      "metadata": {},
      "outputs": [],
      "source": [
        "# Flatten the column index\n",
        "pivot.columns = ['Entire home/apt','Hotel room','Private room','Shared room']\n",
        "# Drop the columns\n",
        "pivot.drop(???, inplace=True)\n",
        "pivot.head()"
      ],
      "id": "18224b75"
    },
    {
      "cell_type": "markdown",
      "metadata": {},
      "source": [
        "You should have only the **Entire home/apt** and **Private room**\n",
        "columns now.\n",
        "\n",
        "#### 4.3.2 Normalise"
      ],
      "id": "1cec371c-1163-4b78-a50b-9f66f5d0ed3d"
    },
    {
      "cell_type": "code",
      "execution_count": 31,
      "metadata": {},
      "outputs": [],
      "source": [
        "pivot_norm = pd.DataFrame(index=pivot.index)\n",
        "for c in pivot.columns.to_list():\n",
        "    # Power Transform\n",
        "    pivot_norm[c] = pts.???(pivot[c].to_numpy().reshape(???,???))\n",
        "\n",
        "pivot_norm.head()"
      ],
      "id": "813d8b7e"
    },
    {
      "cell_type": "markdown",
      "metadata": {},
      "source": [
        "You should have something like:\n",
        "\n",
        "|               | Entire home/apt | Private room |\n",
        "|:--------------|----------------:|-------------:|\n",
        "| **MSOA11CD**  |                 |              |\n",
        "| **E02000001** |            2.20 |         1.06 |\n",
        "| **E02000002** |           -1.29 |        -1.85 |\n",
        "\n",
        "#### 4.3.3 Plot"
      ],
      "id": "eeff5a94-b631-407b-a1df-bcd0a6d72d88"
    },
    {
      "cell_type": "code",
      "execution_count": 32,
      "metadata": {},
      "outputs": [],
      "source": [
        "pnm = pd.merge(msoas.set_index('MSOA11CD'), pivot_norm, left_index=True, right_index=True)\n",
        "pnm.plot(column='Entire home/apt', cmap='viridis', edgecolor='none', legend=True, figsize=(12,8));"
      ],
      "id": "1494ddd4"
    },
    {
      "cell_type": "markdown",
      "metadata": {},
      "source": [
        "### 4.4 PCA\n",
        "\n",
        "> **Difficulty: Moderate, though you might find the questions hard.**\n",
        "\n",
        "You can merge the output of this next step back on to the `rddf` data\n",
        "frame as part of a clustering process, though we’d really want to do\n",
        "some more thinking about what this data *means* and what transformations\n",
        "we’d need to do in order to make them *meaningful*.\n",
        "\n",
        "For instance, if we went back to last week’s code, we could have\n",
        "appended this InsideAirbnb data *before* doing the dimensionality\n",
        "reduction, or we could apply it now to create a new measure that could\n",
        "be used as a separate part of the clustering process together with the\n",
        "reduced dimensionality of the demographic data.\n",
        "\n",
        "#### 4.4.1 Perform Reduction"
      ],
      "id": "70fce783-c2e0-4dfc-817c-f98e705851de"
    },
    {
      "cell_type": "code",
      "execution_count": 33,
      "metadata": {},
      "outputs": [],
      "source": [
        "pcomp = PCA(n_components=???, random_state=42)\n",
        "rd    = pcomp.???(pivot_norm)\n",
        "print(f\"The explained variance of each component is: {', '.join([f'{x*100:.2f}%' for x in pcomp.explained_variance_ratio_])}\")"
      ],
      "id": "2b744f4a"
    },
    {
      "cell_type": "markdown",
      "metadata": {},
      "source": [
        "Take the first component and convert to a series to enable the merge:"
      ],
      "id": "067ccadf-46ca-4d31-839b-b7457575e5a2"
    },
    {
      "cell_type": "code",
      "execution_count": 34,
      "metadata": {},
      "outputs": [],
      "source": [
        "airbnb_pca = pd.DataFrame(\n",
        "                {'Airbnb Component 1': mms.fit_transform(rd[:,1].reshape(-1,1)).reshape(1,-1)[0]}, \n",
        "                index=pivot.index)\n",
        "\n",
        "airbnb_pca.head()"
      ],
      "id": "75e4230b"
    },
    {
      "cell_type": "markdown",
      "metadata": {},
      "source": [
        "You should have something like: \\| \\| Airbnb Component 1 \\| \\| :—- \\|\n",
        "—-: \\| \\| **MSOA11CD** \\| \\| \\| **E02000001** \\| 0.47 \\| \\|\n",
        "**E02000002** \\| 0.19"
      ],
      "id": "a8a0a9eb-d7a1-42dc-bce4-d829383f5bcf"
    },
    {
      "cell_type": "code",
      "execution_count": 35,
      "metadata": {},
      "outputs": [],
      "source": [
        "pcanm = pd.merge(msoas.set_index('MSOA11CD'), airbnb_pca, left_index=True, right_index=True)\n",
        "pcanm.plot(column='Airbnb Component 1', cmap='viridis', edgecolor='none', legend=True, figsize=(12,8));"
      ],
      "id": "eea03a6d"
    },
    {
      "cell_type": "markdown",
      "metadata": {},
      "source": [
        "#### 4.4.2 Write to Data Frame"
      ],
      "id": "23a06eb0-6e51-4150-84c2-b93424238f8a"
    },
    {
      "cell_type": "code",
      "execution_count": 36,
      "metadata": {},
      "outputs": [],
      "source": [
        "# Result Set from merge\n",
        "rs = pd.merge(rddf, airbnb_pca, left_index=True, right_index=True)"
      ],
      "id": "4b7c2ec6"
    },
    {
      "cell_type": "markdown",
      "metadata": {},
      "source": [
        "Grab the PCA, UMAP, and Airbnb outputs for clustering and append\n",
        "rescaled price:"
      ],
      "id": "210b4921-ce5d-476c-945b-70439eb51bb0"
    },
    {
      "cell_type": "code",
      "execution_count": 37,
      "metadata": {},
      "outputs": [],
      "source": [
        "# Merge the reducded dimensionality data frame with the PCA-reduced Airbnb data\n",
        "# to create the *cl*uster *d*ata *f*rame\n",
        "cldf = pd.merge(rddf.loc[:,'Component 1':], airbnb_pca, \n",
        "                left_index=True, right_index=True)\n",
        "\n",
        "# Append median price from cleaned listings grouped by MSOA too!\n",
        "s1 = cleaned.groupby(by='MSOA11CD').price.agg('median')\n",
        "cldf['median_price'] = pd.Series(np.squeeze(mms.fit_transform(s1.values.reshape(-1,1))), index=s1.index)\n",
        "\n",
        "# Append mean price from cleaned listings grouped by MSOA too!\n",
        "s2 = cleaned.groupby(by='MSOA11CD').price.agg('mean')\n",
        "cldf['mean_price'] = pd.Series(np.squeeze(mms.fit_transform(s2.values.reshape(-1,1))), index=s2.index)\n",
        "\n",
        "cldf.drop(columns=['Subregion','Borough'], inplace=True)\n",
        "\n",
        "cldf.head()"
      ],
      "id": "0422d667"
    },
    {
      "cell_type": "markdown",
      "metadata": {},
      "source": [
        "#### 4.4.3 Questions\n",
        "\n",
        "-   Have a think about why you might want to keep the Airbnb data\n",
        "    separate from the MSOA data when doing PCA (or any other kind of\n",
        "    dimensionality reduction)!\n",
        "\n",
        "> \n",
        "\n",
        "-   Why *might* it be interesting to add *both* mean and median MSOA\n",
        "    prices to the clustering process? Here’s a hint (but it’s *very*\n",
        "    subtle): `sns.jointplot(x=s1, y=s2, s=15, alpha=0.6)`\n",
        "\n",
        "> \n",
        "\n",
        "## 5. First K-Means Clustering\n",
        "\n",
        "### 5.1 Perform Clustering\n",
        "\n",
        "> **Difficulty: Low.**"
      ],
      "id": "6d6e9f2c-79a4-4732-a393-73add71be2c1"
    },
    {
      "cell_type": "code",
      "execution_count": 38,
      "metadata": {},
      "outputs": [],
      "source": [
        "c_nm   = 'KMeans' # Clustering name\n",
        "k_pref = ??? # Number of clusters\n",
        "\n",
        "kmeans = KMeans(n_clusters=k_pref, n_init=25, random_state=42).fit(cldf.drop(columns=['Dimension 1','Dimension 2'])) # The process"
      ],
      "id": "85499cba"
    },
    {
      "cell_type": "markdown",
      "metadata": {},
      "source": [
        "Here are the results:"
      ],
      "id": "4469eecc-d717-4d96-8bf3-d856bcce9498"
    },
    {
      "cell_type": "code",
      "execution_count": 39,
      "metadata": {},
      "outputs": [],
      "source": [
        "print(kmeans.labels_) # The results"
      ],
      "id": "7a7feab2"
    },
    {
      "cell_type": "markdown",
      "metadata": {},
      "source": [
        "### 5.2 Save Clusters to Data Frame\n",
        "\n",
        "> **Difficulty: Low.**\n",
        "\n",
        "#### 5.2.1 Write Series and Assign\n",
        "\n",
        "Now capture the labels (i.e. clusters) and write them to a data series\n",
        "that we store on the result set df (`rs`):"
      ],
      "id": "a3470ba7-9a1d-4794-b14c-77519d671829"
    },
    {
      "cell_type": "code",
      "execution_count": 40,
      "metadata": {},
      "outputs": [],
      "source": [
        "rs[c_nm] = pd.Series(kmeans.labels_, index=cldf.index)"
      ],
      "id": "262e9c1e"
    },
    {
      "cell_type": "markdown",
      "metadata": {},
      "source": [
        "#### 5.2.2 Histogram of Cluster Members\n",
        "\n",
        "How are the clusters distributed?"
      ],
      "id": "f115de44-ef8f-484d-b640-6bd66922f7c1"
    },
    {
      "cell_type": "code",
      "execution_count": 41,
      "metadata": {},
      "outputs": [],
      "source": [
        "sns.histplot(data=???, x=c_nm, bins=k_pref);"
      ],
      "id": "6dbe6c40"
    },
    {
      "cell_type": "markdown",
      "metadata": {},
      "source": [
        "#### 5.2.3 Map Clusters\n",
        "\n",
        "And here’s a map!"
      ],
      "id": "2ece5d4c-373f-4c86-a34a-f6b44568de66"
    },
    {
      "cell_type": "code",
      "execution_count": 42,
      "metadata": {},
      "outputs": [],
      "source": [
        "fig, ax = plt_ldn(water, boros)\n",
        "fig.suptitle(f\"{c_nm} Results (k={k_pref})\", fontsize=20, y=0.92)\n",
        "rs.plot(column=???, ax=ax, linewidth=0, zorder=0, categorical=???, legend=True);"
      ],
      "id": "64615f04"
    },
    {
      "cell_type": "markdown",
      "metadata": {},
      "source": [
        "#### 5.2.4 Questions\n",
        "\n",
        "-   What critical assumption did we make when running this analysis?\n",
        "\n",
        "> \n",
        "\n",
        "-   Why did I *not* use the UMAP dimensions here?\n",
        "\n",
        "> \n",
        "\n",
        "-   Why do we have the `c_nm='kMeans'` when we *know* what kind of\n",
        "    clustering we’re doing?\n",
        "\n",
        "> \n",
        "\n",
        "-   Does this look like a *good* clustering?\n",
        "\n",
        "> \n",
        "\n",
        "## 6. Second K-Means Clustering\n",
        "\n",
        "### 6.1 What’s the ‘Right’ Number of Clusters?\n",
        "\n",
        "> **Difficulty: Moderate.**\n",
        "\n",
        "There’s more than one way to find the ‘right’ number of clusters. In\n",
        "Singleton’s *Geocomputation* chapter they use WCSS to pick the ‘optimal’\n",
        "number of clusters. The idea is that you plot the average WCSS for each\n",
        "number of possible clusters in the range of interest (2…n) and then look\n",
        "for a ‘knee’ (i.e. kink) in the curve. The principle of this approach is\n",
        "that you look for the point where there is declining benefit from adding\n",
        "more clusters. The problem is that there is always some benefit to\n",
        "adding more clusters (the perfect clustering is k==n), so you don’t\n",
        "always see a knee.\n",
        "\n",
        "Another way to try to make the process of selecting the number of\n",
        "clusters a little less arbitrary is called the silhouette plot and (like\n",
        "WCSS) it allows us to evaluate the ‘quality’ of the clustering outcome\n",
        "by examining the distance between each observation and the rest of the\n",
        "cluster. In this case it’s based on Partitioning Around the Medoid\n",
        "(PAM).\n",
        "\n",
        "Either way, to evaluate this in a systematic way, we want to do multiple\n",
        "k-means clusterings for multiple values of k and then we can look at\n",
        "which gives the best results…"
      ],
      "id": "3f6a7287-d4d8-4bbe-842c-1f169ebcea59"
    },
    {
      "cell_type": "code",
      "execution_count": 43,
      "metadata": {},
      "outputs": [],
      "source": [
        "kcldf = cldf.drop(columns=['Dimension 1','Dimension 2'])"
      ],
      "id": "a8aa79b1"
    },
    {
      "cell_type": "markdown",
      "metadata": {},
      "source": [
        "#### 6.1.1 Repeated Clustering\n",
        "\n",
        "Let’s try clustering across a wider range. Because we repeatedly re-run\n",
        "the clustering code (unlike with Hierarchical Clustering) this can take\n",
        "a few minutes. I got nearly 5 minutes on a M2 Mac."
      ],
      "id": "faffb4b0-5ca1-4d1a-b378-0160db89c71e"
    },
    {
      "cell_type": "code",
      "execution_count": 44,
      "metadata": {},
      "outputs": [],
      "source": [
        "%%time \n",
        "\n",
        "# Adapted from: http://scikit-learn.org/stable/auto_examples/cluster/plot_kmeans_silhouette_analysis.html\n",
        "\n",
        "x = []\n",
        "y = []\n",
        "\n",
        "# For resolutions of 'k' in the range 2..40\n",
        "for k in range(2,41):\n",
        "    \n",
        "    #############\n",
        "    # Do the clustering using the main columns\n",
        "    kmeans = KMeans(n_clusters=k, n_init=25, random_state=42).fit(kcldf)\n",
        "    \n",
        "    # Calculate the overall silhouette score\n",
        "    silhouette_avg = silhouette_score(kcldf, kmeans.labels_)\n",
        "    \n",
        "    y.append(k)\n",
        "    x.append(silhouette_avg)\n",
        "    \n",
        "    print('.', end='')"
      ],
      "id": "bc24bf63"
    },
    {
      "cell_type": "markdown",
      "metadata": {},
      "source": [
        "#### 6.1.2 Plot Silhouette Scores"
      ],
      "id": "81d8f8b0-4d3e-46c6-9de1-be80594f23d2"
    },
    {
      "cell_type": "code",
      "execution_count": 45,
      "metadata": {},
      "outputs": [],
      "source": [
        "print()\n",
        "print(f\"Largest silhouette score was {max(x):6.4f} for k={y[x.index(max(x))]}\")\n",
        "\n",
        "plt.plot(y, x)\n",
        "plt.gca().xaxis.grid(True);\n",
        "plt.gcf().suptitle(\"Average Silhouette Scores\");"
      ],
      "id": "8432c119"
    },
    {
      "cell_type": "markdown",
      "metadata": {},
      "source": [
        "> **Warning**\n",
        ">\n",
        ">     **&#9888; Note**: Had we used the UMAP dimensions here you'd likely see more instability in the silhouette plot because the distribution is not remotely Gaussian, though a lot depends on the magnitude of the columns and the number of UMAP vs. PCA components.\n",
        "\n",
        "We can use the largest average silhouette score to determine the\n",
        "‘natural’ number of clusters in the data, but that that’s only if we\n",
        "don’t have any kind of underlying theory, other empirical evidence, or\n",
        "even just a reason for choosing a different value… Again, we’re now\n",
        "getting in areas where your judgement and your ability to communicate\n",
        "your rationale to readers is the key thing.\n",
        "\n",
        "### 6.2 Final Clustering\n",
        "\n",
        "> **Difficulty: Low.**\n",
        "\n",
        "So although we should probably pick the largest silhouette scores,\n",
        "that’s `k=3` which kind of defeats the purpose of clustering in the\n",
        "first place. In the absence of a *compelling* reason to pick 2 or 3\n",
        "clusters, let’s have a closer look at the *next* maximum silhouetted\n",
        "score:\n",
        "\n",
        "#### 6.2.1 Perform Clustering"
      ],
      "id": "91695007-891b-4a3b-9ca0-ffa54d18e827"
    },
    {
      "cell_type": "code",
      "execution_count": 46,
      "metadata": {},
      "outputs": [],
      "source": [
        "k_pref=???\n",
        "\n",
        "#############\n",
        "# Do the clustering using the main columns\n",
        "kmeans = KMeans(n_clusters=k_pref, n_init=25, random_state=42).fit(kcldf)\n",
        "\n",
        "# Convert to a series\n",
        "s = pd.Series(kmeans.labels_, index=kcldf.index, name=c_nm)\n",
        "\n",
        "# We do this for plotting\n",
        "rs[c_nm] = s\n",
        "    \n",
        "# Calculate the overall silhouette score\n",
        "silhouette_avg = silhouette_score(kcldf, kmeans.labels_)\n",
        "\n",
        "# Calculate the silhouette values\n",
        "sample_silhouette_values = silhouette_samples(kcldf, kmeans.labels_)"
      ],
      "id": "a3be9039"
    },
    {
      "cell_type": "markdown",
      "metadata": {},
      "source": [
        "#### 6.2.2 Plot Diagnostics"
      ],
      "id": "6c050484-b5d8-443e-9889-f3a0379e0a01"
    },
    {
      "cell_type": "code",
      "execution_count": 47,
      "metadata": {},
      "outputs": [],
      "source": [
        "#############\n",
        "# Create a subplot with 1 row and 2 columns\n",
        "fig, (ax1, ax2) = plt.subplots(1, 2)\n",
        "fig.set_size_inches(9, 5)\n",
        "\n",
        "# The 1st subplot is the silhouette plot\n",
        "# The silhouette coefficient can range from -1, 1\n",
        "ax1.set_xlim([-1.0, 1.0]) # Changed from -0.1, 1\n",
        "    \n",
        "# The (n_clusters+1)*10 is for inserting blank space between silhouette\n",
        "# plots of individual clusters, to demarcate them clearly.\n",
        "ax1.set_ylim([0, kcldf.shape[0] + (k_pref + 1) * 10])\n",
        "    \n",
        "y_lower = 10\n",
        "    \n",
        "# For each of the clusters...\n",
        "for i in range(k_pref):\n",
        "    # Aggregate the silhouette scores for samples belonging to\n",
        "    # cluster i, and sort them\n",
        "    ith_cluster_silhouette_values = \\\n",
        "        sample_silhouette_values[kmeans.labels_ == i]\n",
        "\n",
        "    ith_cluster_silhouette_values.sort()\n",
        "\n",
        "    size_cluster_i = ith_cluster_silhouette_values.shape[0]\n",
        "    y_upper = y_lower + size_cluster_i\n",
        "        \n",
        "    # Set the color ramp\n",
        "    color = plt.cm.Spectral(i/k_pref)\n",
        "    ax1.fill_betweenx(np.arange(y_lower, y_upper),\n",
        "                        0, ith_cluster_silhouette_values,\n",
        "                        facecolor=color, edgecolor=color, alpha=0.7)\n",
        "\n",
        "    # Label the silhouette plots with their cluster numbers at the middle\n",
        "    ax1.text(-0.05, y_lower + 0.5 * size_cluster_i, str(i))\n",
        "\n",
        "    # Compute the new y_lower for next plot\n",
        "    y_lower = y_upper + 10  # 10 for the 0 samples\n",
        "\n",
        "    ax1.set_title(\"The silhouette plot for the clusters.\")\n",
        "    ax1.set_xlabel(\"The silhouette coefficient values\")\n",
        "    ax1.set_ylabel(\"Cluster label\")\n",
        "\n",
        "    # The vertical line for average silhouette score of all the values\n",
        "    ax1.axvline(x=silhouette_avg, color=\"red\", linestyle=\"--\", linewidth=0.5)\n",
        "\n",
        "    ax1.set_yticks([])  # Clear the yaxis labels / ticks\n",
        "    ax1.set_xticks(np.arange(-1.0, 1.1, 0.2)) # Was: [-0.1, 0, 0.2, 0.4, 0.6, 0.8, 1]\n",
        "\n",
        "    # 2nd Plot showing the actual clusters formed --\n",
        "    # we can only do this for the first two dimensions\n",
        "    # so we may not see fully what is causing the \n",
        "    # resulting assignment\n",
        "    colors = plt.cm.Spectral(kmeans.labels_.astype(float) / k_pref)\n",
        "    ax2.scatter(kcldf[kcldf.columns[0]], kcldf[kcldf.columns[1]], \n",
        "                marker='.', s=30, lw=0, alpha=0.7, c=colors)\n",
        "\n",
        "    # Labeling the clusters\n",
        "    centers = kmeans.cluster_centers_\n",
        "    \n",
        "    # Draw white circles at cluster centers\n",
        "    ax2.scatter(centers[:, 0], centers[:, 1],\n",
        "                marker='o', c=\"white\", alpha=1, s=200)\n",
        "\n",
        "    for i, c in enumerate(centers):\n",
        "        ax2.scatter(c[0], c[1], marker='$%d$' % i, alpha=1, s=50)\n",
        "\n",
        "    ax2.set_title(\"Visualization of the clustered data\")\n",
        "    ax2.set_xlabel(\"Feature space for the 1st feature\")\n",
        "    ax2.set_ylabel(\"Feature space for the 2nd feature\")\n",
        "\n",
        "plt.suptitle((\"Silhouette results for KMeans clustering \"\n",
        "                \"with %d clusters\" % k_pref),\n",
        "                fontsize=14, fontweight='bold')\n",
        "\n",
        "plt.show()"
      ],
      "id": "db9d2461"
    },
    {
      "cell_type": "markdown",
      "metadata": {},
      "source": [
        "> **Warning**\n",
        ">\n",
        ">     **&#9888; Stop**: Make sure that you understand how the silhouette plot and value work, and why your results _may_ diverge from mine.\n",
        "\n",
        "#### 6.2.3 Map Clusters"
      ],
      "id": "f8a73f55-9438-4290-9ed6-c0ac15d8cb25"
    },
    {
      "cell_type": "code",
      "execution_count": 48,
      "metadata": {},
      "outputs": [],
      "source": [
        "fig, ax = plt_ldn(water, boros)\n",
        "fig.suptitle(f\"{c_nm} Results (k={k_pref})\", fontsize=20, y=0.92)\n",
        "rs.plot(column=c_nm, ax=ax, linewidth=0, zorder=0, categorical=True, legend=True);"
      ],
      "id": "e9a42616"
    },
    {
      "cell_type": "markdown",
      "metadata": {},
      "source": [
        "### 6.3 ‘Representative’ Centroids\n",
        "\n",
        "> **Difficulty: Moderate since, conceptually, there’s a lot going on.**\n",
        "\n",
        "To get a sense of how these clusters differ we can try to extract\n",
        "‘representative’ centroids (mid-points of the multi-dimensional cloud\n",
        "that constitutes a cluster). In the case of k-means this will work quite\n",
        "will since the clusters are explicitly built around mean centroids.\n",
        "There’s also a k-medoids clustering approach built around the median\n",
        "centroid.\n",
        "\n",
        "These are columns that we want to suppress from our sample:"
      ],
      "id": "705ffcf0-7fd7-4f46-b3cb-e23f6f7a1539"
    },
    {
      "cell_type": "code",
      "execution_count": 49,
      "metadata": {},
      "outputs": [],
      "source": [
        "to_suppress=['OBJECTID', 'BNG_E', 'BNG_N', 'LONG', 'LAT', \n",
        "             'Shape__Are', 'Shape__Len', 'geometry', 'Component 1', \n",
        "             'Component 2', 'Component 3', 'Component 4', 'Component 5', \n",
        "             'Component 6', 'Component 7', 'Dimension 1', 'Dimension 2', \n",
        "             'Airbnb Component 1']"
      ],
      "id": "7479e2ec"
    },
    {
      "cell_type": "markdown",
      "metadata": {},
      "source": [
        "Take a sample of the full range of numeric columns:"
      ],
      "id": "6b4df42d-d34d-476d-a470-73baa7f9f14e"
    },
    {
      "cell_type": "code",
      "execution_count": 50,
      "metadata": {},
      "outputs": [],
      "source": [
        "cols = random.sample(rs.select_dtypes(exclude='object').drop(columns=to_suppress).columns.to_list(), 12)\n",
        "print(cols)"
      ],
      "id": "9103bd7e"
    },
    {
      "cell_type": "markdown",
      "metadata": {},
      "source": [
        "Calculate the mean of these columns for each cluster:"
      ],
      "id": "68ec1f5a-caf8-4393-bc7c-7a3af3c4f8c9"
    },
    {
      "cell_type": "code",
      "execution_count": 51,
      "metadata": {},
      "outputs": [],
      "source": [
        "# Empty data frame with the columns we'll need\n",
        "centroids = pd.DataFrame(columns=cols)\n",
        "\n",
        "# For each cluster...\n",
        "for k in sorted(rs[c_nm].unique()):\n",
        "    print(f\"Processing cluster {k}\")\n",
        "    \n",
        "    # Select rows where the cluster name matches the cluster number\n",
        "    clust = rs[rs[c_nm]==k]\n",
        "    \n",
        "    # Append the means to the centroids data frame\n",
        "    centroids.loc[k] = clust[cols].mean()"
      ],
      "id": "ae43532e"
    },
    {
      "cell_type": "code",
      "execution_count": 52,
      "metadata": {},
      "outputs": [],
      "source": [
        "centroids"
      ],
      "id": "4d1c2300"
    },
    {
      "cell_type": "code",
      "execution_count": 53,
      "metadata": {},
      "outputs": [],
      "source": [
        "centroids_long = pd.DataFrame(columns=['Variable','Cluster','Std. Value'])\n",
        "for i in range(0,len(centroids.index)):\n",
        "    row = centroids.iloc[i,:]\n",
        "    for r in row.index:\n",
        "        d = pd.DataFrame({'Variable':r, 'Cluster':i, 'Std. Value':row[r]}, index=[1])\n",
        "        centroids_long = pd.concat([centroids_long, d], ignore_index=True)"
      ],
      "id": "2a688503"
    },
    {
      "cell_type": "code",
      "execution_count": 54,
      "metadata": {},
      "outputs": [],
      "source": [
        "g = sns.FacetGrid(centroids_long, col=\"Variable\", col_wrap=3, height=3, aspect=1.5, margin_titles=True, sharey=True)\n",
        "g = g.map(plt.bar, \"Cluster\", \"Std. Value\")"
      ],
      "id": "bc1572a8"
    },
    {
      "cell_type": "markdown",
      "metadata": {},
      "source": [
        "> **Note**\n",
        ">\n",
        ">     **&#128279; Connections**: The above centroid outputs are a way to think about how each cluster is 'loaded' on to the data. We can't show all of the variables in the data, so we've randomly selected a subset and can then look at how different clusters are more (or less) associated with the standardised value of a particular column/variable.\n",
        "\n",
        "## 7. DBSCAN\n",
        "\n",
        "For what it’s worth, I’ve had *enormous* trouble with DBSCAN and this\n",
        "kind of data. I don’t think it deals very well with *much* more than\n",
        "three dimensions, so the flexbility to not have to specify the number of\n",
        "clusters is balanced with a density-based approach that is severely\n",
        "hampered by high-dimensional distance-inflation."
      ],
      "id": "7da19ce7-9c6d-4e90-9bb5-d05e83a8665d"
    },
    {
      "cell_type": "code",
      "execution_count": 55,
      "metadata": {},
      "outputs": [],
      "source": [
        "# Drop the PCA dimensions\n",
        "cldf2 = cldf.loc[:,'Dimension 1':].copy()\n",
        "for c in [x for x in cldf.columns.to_list() if x.startswith('Dimension ')]:\n",
        "    cldf2[c] = pd.Series(np.squeeze(mms.fit_transform(cldf2[c].to_numpy().reshape(-1,1))), index=cldf2.index)\n",
        "cldf2.head()"
      ],
      "id": "c0d318c4"
    },
    {
      "cell_type": "markdown",
      "metadata": {},
      "source": [
        "### 7.1 Work out the Neighbour Distance\n",
        "\n",
        "> **Difficulty: Moderate.**\n",
        "\n",
        "We normally look for some kind of ‘knee’ to set the distance."
      ],
      "id": "68d1748d-1bfd-4e89-80bc-f772525e8c44"
    },
    {
      "cell_type": "code",
      "execution_count": 56,
      "metadata": {},
      "outputs": [],
      "source": [
        "nbrs = NearestNeighbors(n_neighbors=6).fit(cldf2)\n",
        "distances, indices = nbrs.kneighbors(cldf2)\n",
        "\n",
        "distances = np.sort(distances, axis=0)\n",
        "distances = distances[:,1]"
      ],
      "id": "9123daca"
    },
    {
      "cell_type": "markdown",
      "metadata": {},
      "source": [
        "### 7.2 Derive Approximate Knee\n",
        "\n",
        "> **Difficulty: Low.**"
      ],
      "id": "9ab273c9-2e52-4b57-84a6-34d273690f0e"
    },
    {
      "cell_type": "code",
      "execution_count": 57,
      "metadata": {},
      "outputs": [],
      "source": [
        "from kneed import knee_locator\n",
        "\n",
        "kn = knee_locator.KneeLocator(np.arange(distances.shape[0]), distances, S=12,\n",
        "                              curve='convex', direction='increasing')\n",
        "print(f\"Knee detected at: {kn.knee}\")\n",
        "kn.plot_knee()\n",
        "kn.plot_knee_normalized()"
      ],
      "id": "ced3a80e"
    },
    {
      "cell_type": "code",
      "execution_count": 58,
      "metadata": {},
      "outputs": [],
      "source": [
        "print(f\"Best guess at epsilon for DBSCAN is {distances[kn.knee]:0.4f}\")"
      ],
      "id": "f822574e"
    },
    {
      "cell_type": "markdown",
      "metadata": {},
      "source": [
        "### 7.3 Explore Epsilons\n",
        "\n",
        "> **Difficulty: Moderate.**\n",
        "\n",
        "There are two values that need to be specified: `eps` and `min_samples`.\n",
        "Both seem to be set largely by trial and error, though we can use the\n",
        "above result as a target. It’s easiest to set `min_samples` first since\n",
        "that sets a floor for your cluster size and then `eps` is basically a\n",
        "distance metric that governs how far away something can be from a\n",
        "cluster and still be considered part of that cluster.\n",
        "\n",
        "#### 7.3.1 Iterate Over Range\n",
        "\n",
        "> **Caution**\n",
        ">\n",
        ">     **&#9888; Warning**: Depending on the data volume, this next step may take quite a lot of time since we are iterating through many, many values of Epsilon to explore how the clustering result changes and how well this matches up with (or doesn't) the graph above."
      ],
      "id": "8ddfad82-594b-4362-9627-1fbaf7b96ea9"
    },
    {
      "cell_type": "code",
      "execution_count": 59,
      "metadata": {},
      "outputs": [],
      "source": [
        "%%time \n",
        "\n",
        "c_nm = 'DBSCAN'\n",
        "\n",
        "# Make numeric display a bit neater\n",
        "pd.set_option('display.float_format', lambda x: '{:,.4f}'.format(x))\n",
        "\n",
        "el  = []\n",
        "\n",
        "max_clusters  = 10\n",
        "cluster_count = 1\n",
        "\n",
        "iters = 0\n",
        "\n",
        "for e in np.arange(0.025, 0.76, 0.01): # <- You might want to adjust these!\n",
        "    \n",
        "    if iters % 25==0: print(f\"{iters} epsilons explored.\") \n",
        "    \n",
        "    # Run the clustering\n",
        "    dbs = DBSCAN(eps=e, min_samples=cldf2.shape[1]+1).fit(cldf2)\n",
        "    \n",
        "    # See how we did\n",
        "    s = pd.Series(dbs.labels_, index=cldf2.index, name=c_nm)\n",
        "    \n",
        "    row = [e]\n",
        "    data = s.value_counts()\n",
        "    \n",
        "    for c in range(-1, max_clusters+1):\n",
        "        try:\n",
        "            if np.isnan(data[c]):\n",
        "                row.append(None)\n",
        "            else: \n",
        "                row.append(data[c])\n",
        "        except KeyError:\n",
        "            row.append(None)\n",
        "    \n",
        "    el.append(row)\n",
        "    iters+=1\n",
        "\n",
        "edf = pd.DataFrame(el, columns=['Epsilon']+[\"Cluster \" + str(x) for x in list(range(-1,max_clusters+1))])\n",
        "\n",
        "# Make numeric display a bit neater\n",
        "pd.set_option('display.float_format', lambda x: '{:,.2f}'.format(x))\n",
        "\n",
        "print(\"Done.\")"
      ],
      "id": "c8263d4b"
    },
    {
      "cell_type": "markdown",
      "metadata": {},
      "source": [
        "#### 7.3.2 Examine Clusters"
      ],
      "id": "3e72781e-79cd-45b6-9a72-5e87cc50a684"
    },
    {
      "cell_type": "code",
      "execution_count": 60,
      "metadata": {},
      "outputs": [],
      "source": [
        "edf.head() # Notice the -1 cluster for small epsilons"
      ],
      "id": "93647c21"
    },
    {
      "cell_type": "code",
      "execution_count": 61,
      "metadata": {},
      "outputs": [],
      "source": [
        "epsilon_long = pd.DataFrame(columns=['Epsilon','Cluster','Count'])\n",
        "\n",
        "for i in range(0,len(edf.index)):\n",
        "    row = edf.iloc[i,:]\n",
        "    for c in range(1,len(edf.columns.values)):\n",
        "        if row[c] != None and not np.isnan(row[c]):\n",
        "            d = pd.DataFrame({'Epsilon':row[0], 'Cluster':f\"Cluster {c-2}\", 'Count':row[c]}, index=[1])\n",
        "            epsilon_long = pd.concat([epsilon_long, d], ignore_index=True)\n",
        "\n",
        "epsilon_long['Count'] = epsilon_long.Count.astype(float)"
      ],
      "id": "50c9972e"
    },
    {
      "cell_type": "markdown",
      "metadata": {},
      "source": [
        "#### 7.3.3 Plot Cluster Sizes\n",
        "\n",
        "One of the really big problems with DBSCAN and this kind of data is that\n",
        "you have no *practical* way of specifying epsilon (whereas if you were\n",
        "doing walkability analysis then you could cluster on walking distance!).\n",
        "So you can look at the data (as above) to get a reasoanble value, but\n",
        "look what the output below shows about the stability of the clusters for\n",
        "different values of epsilon!"
      ],
      "id": "12f1b954-8644-4a2a-b224-48b673e75426"
    },
    {
      "cell_type": "code",
      "execution_count": 62,
      "metadata": {},
      "outputs": [],
      "source": [
        "fig, ax = plt.subplots(figsize=(12,8))\n",
        "sns.lineplot(data=epsilon_long, x='Epsilon', y='Count', hue='Cluster');\n",
        "plt.vlines(x=distances[kn.knee], ymin=0, ymax=epsilon_long.Count.max(), color=(1, .7, .7, .8), linestyles='dashed')\n",
        "plt.gcf().suptitle(f\"Cluster sizes for various realisations of Epsilon\");\n",
        "plt.tight_layout()"
      ],
      "id": "fae7ae77"
    },
    {
      "cell_type": "markdown",
      "metadata": {},
      "source": [
        "### 7.4 Final Clustering\n",
        "\n",
        "> **Difficulty: Moderate.**\n",
        "\n",
        "###: Perform Clustering\n",
        "\n",
        "Use the value from kneed…"
      ],
      "id": "f0161c86-b31b-416b-87e8-c1c3f6f552bb"
    },
    {
      "cell_type": "code",
      "execution_count": 63,
      "metadata": {},
      "outputs": [],
      "source": [
        "dbs = DBSCAN(eps=distances[kn.knee], min_samples=cldf2.shape[1]+1).fit(cldf2.values)\n",
        "s = pd.Series(dbs.labels_, index=cldf2.index, name=c_nm)\n",
        "rs[c_nm] = s\n",
        "print(s.value_counts())"
      ],
      "id": "3f6bdb53"
    },
    {
      "cell_type": "markdown",
      "metadata": {},
      "source": [
        "###: Map Clusters"
      ],
      "id": "a87c3523-4e9f-47c0-8c3d-5914c355bcd0"
    },
    {
      "cell_type": "code",
      "execution_count": 64,
      "metadata": {},
      "outputs": [],
      "source": [
        "fig, ax = plt_ldn(water, boros)\n",
        "fig.suptitle(f\"{c_nm} Results\", fontsize=20, y=0.92)\n",
        "rs.plot(column=c_nm, ax=ax, linewidth=0, zorder=0, legend=True, categorical=True);"
      ],
      "id": "2d4cffb4"
    },
    {
      "cell_type": "markdown",
      "metadata": {},
      "source": [
        "#### 7.4.1 ‘Representative’ Centroids"
      ],
      "id": "d6008c88-1d55-47be-bf6f-f4ae5569b1c1"
    },
    {
      "cell_type": "code",
      "execution_count": 65,
      "metadata": {},
      "outputs": [],
      "source": [
        "to_suppress=['OBJECTID', 'BNG_E', 'BNG_N', 'LONG', 'LAT', \n",
        "             'Shape__Are', 'Shape__Len', 'geometry', 'Component 1', \n",
        "             'Component 2', 'Component 3', 'Component 4', 'Component 5', \n",
        "             'Component 6', 'Component 7', 'Dimension 1', 'Dimension 2', \n",
        "             'Airbnb Component 1']"
      ],
      "id": "028fd800"
    },
    {
      "cell_type": "markdown",
      "metadata": {},
      "source": [
        "Take a sample of the full range of numeric columns:"
      ],
      "id": "27b01774-02e0-4ca7-92a9-177c907e8851"
    },
    {
      "cell_type": "code",
      "execution_count": 66,
      "metadata": {},
      "outputs": [],
      "source": [
        "cols = random.sample(rs.select_dtypes(exclude='object').drop(columns=to_suppress).columns.to_list(), 12)\n",
        "print(cols)"
      ],
      "id": "32299c0c"
    },
    {
      "cell_type": "markdown",
      "metadata": {},
      "source": [
        "Calculate the mean of these columns for each cluster:"
      ],
      "id": "5683a37f-b883-4e30-b50e-3a08c46b898b"
    },
    {
      "cell_type": "code",
      "execution_count": 67,
      "metadata": {},
      "outputs": [],
      "source": [
        "# Empty data frame with the columns we'll need\n",
        "centroids = pd.DataFrame(columns=cols)\n",
        "\n",
        "# For each cluster...\n",
        "for k in sorted(rs[c_nm].unique()):\n",
        "    print(f\"Processing cluster {k}\")\n",
        "    \n",
        "    # Select rows where the cluster name matches the cluster number\n",
        "    clust = rs[rs[c_nm]==k]\n",
        "    \n",
        "    # Append the means to the centroids data frame\n",
        "    centroids.loc[k] = clust[cols].mean()"
      ],
      "id": "8de8ac54"
    },
    {
      "cell_type": "code",
      "execution_count": 68,
      "metadata": {},
      "outputs": [],
      "source": [
        "# Drop the unclustered records (-1)\n",
        "centroids.drop(labels=[-1], axis=0, inplace=True)\n",
        "centroids"
      ],
      "id": "d659ba88"
    },
    {
      "cell_type": "code",
      "execution_count": 69,
      "metadata": {},
      "outputs": [],
      "source": [
        "centroids_long = pd.DataFrame(columns=['Variable','Cluster','Std. Value'])\n",
        "for i in range(0,len(centroids.index)):\n",
        "    row = centroids.iloc[i,:]\n",
        "    for r in row.index:\n",
        "        d = pd.DataFrame({'Variable':r, 'Cluster':i, 'Std. Value':row[r]}, index=[1])\n",
        "        centroids_long = pd.concat([centroids_long, d], ignore_index=True)"
      ],
      "id": "8a19d568"
    },
    {
      "cell_type": "code",
      "execution_count": 70,
      "metadata": {},
      "outputs": [],
      "source": [
        "g = sns.FacetGrid(centroids_long, col=\"Variable\", col_wrap=3, height=3, aspect=1.5, margin_titles=True, sharey=True)\n",
        "g = g.map(plt.bar, \"Cluster\", \"Std. Value\")"
      ],
      "id": "400cc587"
    },
    {
      "cell_type": "markdown",
      "metadata": {},
      "source": [
        "## 8. Self-Organising Maps\n",
        "\n",
        "SOMs offer a third type of clustering algorithm. They are a relatively\n",
        "‘simple’ type of neural network in which the ‘map’ (of the SOM) adjusts\n",
        "to the data. We’re not going to do this in *this* practical, but the\n",
        "main thing is that, unlike the above approaches, SOMs build a 2D map of\n",
        "a higher-dimensional space and use this as a mechanism for subsequently\n",
        "clustering the raw data. In this sense there is a conceptual link\n",
        "between SOMs and PCA or t-SNE or UMAP. Tehy are used quite a lot for\n",
        "text-clustering using keywords (where you have high-dimensionality).\n",
        "\n",
        "There are [a lot of SOM implementations in\n",
        "Python](https://www.google.com/search?q=python+self-organizing+map) but\n",
        "the one I used to use, called SOMPY, appears to have [been\n",
        "abandonned](https://github.com/sevamoo/SOMPY/issues).\n",
        "\n",
        "## 9. Classification\n",
        "\n",
        "And now for something completely different! This is section is\n",
        "**completely optional**, but I thought that you might find it helpful to\n",
        "have a look at how *supervised* learning (classification) differs from\n",
        "*unsupervised* learning (clustering). Here we’re going to perform a\n",
        "fairly straightforward classification: predicting the `room_type` for\n",
        "randomly-selected listings. Of course we know the true answer, but this\n",
        "is for demonstration purposes!\n",
        "\n",
        "### 9.1 Additional Setup\n",
        "\n",
        "> **Difficulty: Hard, as I’ve left out quite a bit of code.**\n",
        "\n",
        "#### 9.1.1 Import Libraries"
      ],
      "id": "624b6fe6-f23c-46ee-908c-23c4e95d1416"
    },
    {
      "cell_type": "code",
      "execution_count": 71,
      "metadata": {},
      "outputs": [],
      "source": [
        "from sklearn.ensemble import RandomForestClassifier\n",
        "from sklearn.model_selection import train_test_split\n",
        "from sklearn.preprocessing import LabelEncoder\n",
        "from sklearn.metrics import confusion_matrix\n",
        "from sklearn.inspection import permutation_importance"
      ],
      "id": "35037a0e"
    },
    {
      "cell_type": "markdown",
      "metadata": {},
      "source": [
        "#### 9.1.2 Set Up Data\n",
        "\n",
        "I’m taking a fairly brutal approach here: anything that is not\n",
        "inherently numeric is gone (bye, bye, text), and I’m not bothering to\n",
        "convert implicitly numeric values either: dates could be converted to\n",
        "‘months since last review’, for instance, while amenities could be\n",
        "One-Hot Encoded after some pruning of rare amenities. This leaves us\n",
        "with a much smaller number of columns to feed *in* to the classifier."
      ],
      "id": "acf4b8ad-07ca-4281-845a-c798f678a683"
    },
    {
      "cell_type": "code",
      "execution_count": 72,
      "metadata": {},
      "outputs": [],
      "source": [
        "print(f\"Cleaned columns: {', '.join(cleaned.columns.to_list())}.\")\n",
        "classifier_in = cleaned.drop(columns=['listing_url','last_scraped','name','description',\n",
        "                                      'host_name', 'host_location', 'property_type', \n",
        "                                      'bathrooms_text', 'amenities', 'geometry', 'MSOA11CD',\n",
        "                                      'host_since', 'first_review', 'last_review',\n",
        "                                      'host_verifications', 'review_scores_rating',\n",
        "                                      'reviews_per_month'])"
      ],
      "id": "d7dcbea4"
    },
    {
      "cell_type": "markdown",
      "metadata": {},
      "source": [
        "#### 9.1.3 Remove NAs\n",
        "\n",
        "Not all classifiers have this issue, but some will struggle to make\n",
        "predictions (or not be able to do so at all) if there are NAs in the\n",
        "data set. The classifier we’re using can’t deal with NAs, so we have to\n",
        "strip these out, but before we do let’s check the effect:"
      ],
      "id": "7e097168-2656-4aee-88b2-cee7212d98a5"
    },
    {
      "cell_type": "code",
      "execution_count": 73,
      "metadata": {},
      "outputs": [],
      "source": [
        "classifier_in.isna().sum()"
      ],
      "id": "3cf9d677"
    },
    {
      "cell_type": "markdown",
      "metadata": {},
      "source": [
        "We can safely drop these now, and you should end up with about 54,000\n",
        "rows to work with."
      ],
      "id": "26c34e37-3022-465f-bd20-2268f49eef1c"
    },
    {
      "cell_type": "code",
      "execution_count": 74,
      "metadata": {},
      "outputs": [],
      "source": [
        "classifier_in = classifier_in.dropna(axis=0, how='any')\n",
        "print(f\"Now have {classifier_in.shape[0]:,} rows of data to work with (down from {cleaned.shape[0]:,}).\")"
      ],
      "id": "09e4d434"
    },
    {
      "cell_type": "code",
      "execution_count": 75,
      "metadata": {},
      "outputs": [],
      "source": [
        "print()\n",
        "print(f\"Classifier training columns: {', '.join(classifier_in.columns.to_list())}.\")\n",
        "classifier_in.head()"
      ],
      "id": "1979855a"
    },
    {
      "cell_type": "markdown",
      "metadata": {},
      "source": [
        "#### 9.1.4 Remap Non-Numeric Columns\n",
        "\n",
        "We do still have a couple of non-numeric columns to deal with: booleans\n",
        "and the thing we’re actually trying to predict (the room type)!"
      ],
      "id": "b1c60cad-b969-4a0a-b03b-c33801059b0b"
    },
    {
      "cell_type": "code",
      "execution_count": 76,
      "metadata": {},
      "outputs": [],
      "source": [
        "classifier_in['host_is_superhost'] = classifier_in.host_is_superhost.replace({True:1, False:0}).astype('int')"
      ],
      "id": "8c498c21"
    },
    {
      "cell_type": "code",
      "execution_count": 77,
      "metadata": {},
      "outputs": [],
      "source": [
        "le = LabelEncoder()\n",
        "classifier_in['room_class'] = le.fit_transform(classifier_in.room_type)"
      ],
      "id": "495b2a08"
    },
    {
      "cell_type": "markdown",
      "metadata": {},
      "source": [
        "A quick check: we should only have one type per class and vice versa."
      ],
      "id": "c59e93e5-de4e-4090-a5cb-6982a1280d90"
    },
    {
      "cell_type": "code",
      "execution_count": 78,
      "metadata": {},
      "outputs": [],
      "source": [
        "classifier_in.groupby(by=['room_type','room_class']).host_id.agg('count').reset_index()"
      ],
      "id": "56b4eab4"
    },
    {
      "cell_type": "markdown",
      "metadata": {},
      "source": [
        "### 9.2 Random Forest Classification\n",
        "\n",
        "> **Difficulty: Hard.**\n",
        "\n",
        "We’re going to use a [Random Forest\n",
        "Classifier](https://scikit-learn.org/stable/modules/generated/sklearn.ensemble.RandomForestClassifier.html)\n",
        "but the nice thing about `sklearn` is that you can quite easily swap in\n",
        "other classifiers if you’d like to explore further. This is one *big*\n",
        "advantage of Python over R in my book: whereas R tends to get new\n",
        "algorithms *first*, they are often implemented independently by many\n",
        "people and you can end up with incompatible data structures that require\n",
        "a lot of faff to reorganise for a different algorithm. Python is a bit\n",
        "more ‘managed’ and the dominance of `numpy` and `sklearn` and `pandas`\n",
        "means that people have an incentive to contribute to this library or, if\n",
        "it’s genuinely novel, to create an implementation that works *like* it\n",
        "would if it were part of `sklearn`!\n",
        "\n",
        "> **Note**\n",
        ">\n",
        ">     **&#128279; Connections**: So here's an _actual_ Machine Learning implementation, but you'll have seen a lot of parts of the code before! \n",
        "\n",
        "#### 9.2.1 Train/Test Split"
      ],
      "id": "7c2983c4-84ee-49bc-81fd-b29c9a5eb17e"
    },
    {
      "cell_type": "code",
      "execution_count": 79,
      "metadata": {},
      "outputs": [],
      "source": [
        "train, test = train_test_split(classifier_in, test_size=0.2, random_state=42)\n",
        "print(f\"Train contains {train.shape[0]:,} records.\")\n",
        "print(f\"Test contains {test.shape[0]:,} records.\")"
      ],
      "id": "0c9b6d2f"
    },
    {
      "cell_type": "code",
      "execution_count": 80,
      "metadata": {},
      "outputs": [],
      "source": [
        "y_train = train.room_class\n",
        "X_train = train.drop(columns=['room_class','room_type'])\n",
        "\n",
        "y_test  = test.room_class\n",
        "X_test  = test.drop(columns=['room_class','room_type'])"
      ],
      "id": "df79bc8d"
    },
    {
      "cell_type": "markdown",
      "metadata": {},
      "source": [
        "#### 9.2.2 Classifier Setup"
      ],
      "id": "c54b85bc-408d-47f5-8518-e8c0aed1b2b9"
    },
    {
      "cell_type": "code",
      "execution_count": 81,
      "metadata": {},
      "outputs": [],
      "source": [
        "rfc = RandomForestClassifier(\n",
        "    max_depth=8,\n",
        "    min_samples_split=7,\n",
        "    n_jobs=4,\n",
        "    random_state=42\n",
        ")"
      ],
      "id": "b8fcec13"
    },
    {
      "cell_type": "markdown",
      "metadata": {},
      "source": [
        "#### 9.2.3 Fit and Predict"
      ],
      "id": "45d49a0f-a551-4ae0-a171-92b6e40df3ab"
    },
    {
      "cell_type": "code",
      "execution_count": 82,
      "metadata": {},
      "outputs": [],
      "source": [
        "rfc.fit(X_train, y_train)"
      ],
      "id": "bb3fa61a"
    },
    {
      "cell_type": "code",
      "execution_count": 83,
      "metadata": {},
      "outputs": [],
      "source": [
        "y_hat = rfc.predict(X_test)"
      ],
      "id": "b0029166"
    },
    {
      "cell_type": "markdown",
      "metadata": {},
      "source": [
        "### 9.3 Validate\n",
        "\n",
        "> **Difficulty: Hard.**\n",
        "\n",
        "#### 9.3.1 Confusion Matrix"
      ],
      "id": "bc166940-2ad5-4947-bd7f-516f1c5e8976"
    },
    {
      "cell_type": "code",
      "execution_count": 84,
      "metadata": {},
      "outputs": [],
      "source": [
        "c_matrix = pd.DataFrame(confusion_matrix(y_test, y_hat))\n",
        "c_matrix.index = le.inverse_transform(c_matrix.index)\n",
        "c_matrix.columns = le.inverse_transform(c_matrix.columns)\n",
        "c_matrix"
      ],
      "id": "01453b73"
    },
    {
      "cell_type": "markdown",
      "metadata": {},
      "source": [
        "#### 9.3.2 Feature Importance\n",
        "\n",
        "Compare the Random Forest’s built-in ‘feature importance’ with\n",
        "Permutation Feature Importance as [documented\n",
        "here](https://scikit-learn.org/stable/auto_examples/inspection/plot_permutation_importance.html).\n",
        "\n",
        "> **Note**\n",
        ">\n",
        ">     **&#128279; Connections**: This next section is the reason you shouldn't blindly run ML algorithms on your data. It turns out that the Random Forest is seriously affected by the scale of different variables, and of binary variables in particular. You will tend to get erroneous feature importance values back from `sklearn`'s RF implementation and should _normally_ look at Permutation Feature Importance values instead. But this little demonstration also shows (above) a more subtle issue: imbalanced data. There are far fewer hotels than there are private rooms, and far fewer of _those_ than there are entire home/apt listings in the sample. So you'll see that the RF has trouble predicting the classes correctly: that's because with a data set like this it's hard to to _better_ than just predicting entire home/apt _Every Single Time_."
      ],
      "id": "a5b59a88-da05-4b69-a745-e74cadbb140a"
    },
    {
      "cell_type": "code",
      "execution_count": 85,
      "metadata": {},
      "outputs": [],
      "source": [
        "mdi_importances = pd.Series(\n",
        "    rfc.feature_importances_, index=rfc.feature_names_in_\n",
        ").sort_values(ascending=True)\n",
        "\n",
        "ax = mdi_importances.plot.barh()\n",
        "ax.set_title(\"Random Forest Feature Importances (MDI)\")\n",
        "ax.figure.tight_layout()"
      ],
      "id": "f4039cff"
    },
    {
      "cell_type": "markdown",
      "metadata": {},
      "source": [
        "#### 9.3.3 Permutation Feature Importance"
      ],
      "id": "350f8e7a-47c9-4f13-841e-f70bd1d7ffd0"
    },
    {
      "cell_type": "code",
      "execution_count": 86,
      "metadata": {},
      "outputs": [],
      "source": [
        "result = permutation_importance(\n",
        "    rfc, X_test, y_test, n_repeats=10, random_state=42, n_jobs=2\n",
        ")"
      ],
      "id": "431479df"
    },
    {
      "cell_type": "code",
      "execution_count": 87,
      "metadata": {},
      "outputs": [],
      "source": [
        "sorted_importances_idx = result.importances_mean.argsort()\n",
        "importances = pd.DataFrame(\n",
        "    result.importances[sorted_importances_idx].T,\n",
        "    columns=X_test.columns[sorted_importances_idx],\n",
        ")\n",
        "ax = importances.plot.box(vert=False, whis=10)\n",
        "ax.set_title(\"Permutation Importances (Test Set)\")\n",
        "ax.axvline(x=0, color=\"k\", linestyle=\"--\")\n",
        "ax.set_xlabel(\"Decrease in accuracy score\")\n",
        "ax.figure.tight_layout()"
      ],
      "id": "67f9ac3c"
    },
    {
      "cell_type": "markdown",
      "metadata": {},
      "source": [
        "### 9.4 Shapely Values\n",
        "\n",
        "Shapely values are a big part of [explainable\n",
        "AI](https://shap.readthedocs.io/en/latest/example_notebooks/overviews/An%20introduction%20to%20explainable%20AI%20with%20Shapley%20values.html)\n",
        "and they work (very broadly) by permuting the data to explore how\n",
        "sensitive the predictions made by the model are to the results that you\n",
        "see. For these we need to install two libraries: `shap` (to do the heavy\n",
        "lifting) and `slicer` to deal with the data.\n",
        "\n",
        "#### 9.4.1 Install Libraries\n",
        "\n",
        "We should now have this already available in Podman, but just in case…"
      ],
      "id": "c68d9a9e-083e-4ae0-871e-76c9b95629c6"
    },
    {
      "cell_type": "code",
      "execution_count": 88,
      "metadata": {},
      "outputs": [],
      "source": [
        "try:\n",
        "    import shap\n",
        "except ModuleNotFoundError:\n",
        "    ! pip install slicer shap\n",
        "    import shap"
      ],
      "id": "8be38de9"
    },
    {
      "cell_type": "markdown",
      "metadata": {},
      "source": [
        "#### 9.4.2 Check for Data Types\n",
        "\n",
        "You are looking for anything *other* than `int64` or `float64` for the\n",
        "most part. Boolean should be fine, but pandas’ internal, nullable\n",
        "integer type will give you a `ufunc` error."
      ],
      "id": "14e9df9f-b225-428d-8c57-e67ace438a1e"
    },
    {
      "cell_type": "code",
      "execution_count": 89,
      "metadata": {},
      "outputs": [],
      "source": [
        "X_test.info() "
      ],
      "id": "c34e5aa4"
    },
    {
      "cell_type": "code",
      "execution_count": 90,
      "metadata": {},
      "outputs": [],
      "source": [
        "X_test['beds'] = X_test.beds.astype('int')"
      ],
      "id": "3bcdf96b"
    },
    {
      "cell_type": "markdown",
      "metadata": {},
      "source": [
        "#### 9.4.3 Plot Partial Dependence"
      ],
      "id": "3be16bd5-baf6-4895-bfd6-fffc6475c41e"
    },
    {
      "cell_type": "code",
      "execution_count": 91,
      "metadata": {},
      "outputs": [],
      "source": [
        "shap.partial_dependence_plot(\n",
        "    \"price\", rfc.predict, X_test, ice=False,\n",
        "    model_expected_value=True, feature_expected_value=True\n",
        ")"
      ],
      "id": "c518a0ce"
    },
    {
      "cell_type": "markdown",
      "metadata": {},
      "source": [
        "#### 9.4.4 Calculate Shapely Values\n",
        "\n",
        "This can take a *long* time: 4-5 hours (!!!) without developing a\n",
        "*strategy* for tackling it. See the [long discussion\n",
        "here](https://github.com/slundberg/shap/issues/77). I’ve taken the\n",
        "approach of subsetting the data substantially (the model is already\n",
        "trained so it won’t impact the model’s predictions) with a 20% fraction\n",
        "of the test data and an explainer sample of 5%. On my laptop the\n",
        "‘Permutation explainer’ stage took about 14 minutes, but your results\n",
        "may obviously be rather different."
      ],
      "id": "edfb1709-a8b0-43e1-906a-f9ebb00ab01d"
    },
    {
      "cell_type": "code",
      "execution_count": 92,
      "metadata": {},
      "outputs": [],
      "source": [
        "Xsample = shap.utils.sample(X_test.sample(frac=0.2, random_state=41), 10)\n",
        "explainer = shap.Explainer(rfc.predict, Xsample)"
      ],
      "id": "d0e3ec20"
    },
    {
      "cell_type": "markdown",
      "metadata": {},
      "source": [
        "Now we calculate the shap values for the 5% sample from `X_test`.\n",
        "\n",
        "> **Caution**\n",
        ">\n",
        ">     **&#9888; Warning**: This next block is the one that takes a long time to run. I got between 3mn and 4mn."
      ],
      "id": "393f9cb0-69ac-4ea8-a909-2ab629ec3dee"
    },
    {
      "cell_type": "code",
      "execution_count": 93,
      "metadata": {},
      "outputs": [],
      "source": [
        "%%time\n",
        "shap_values = explainer(X_test.sample(frac=.05, random_state=42))"
      ],
      "id": "0a8a6604"
    },
    {
      "cell_type": "markdown",
      "metadata": {},
      "source": [
        "#### 9.4.5 Single Observation\n",
        "\n",
        "Now you can take any random record (`sample_ind`) and produce a shap\n",
        "plot to show the role that each attribute played in its classification.\n",
        "Note that getting these plots to save required [some searching on\n",
        "GitHub](https://github.com/slundberg/shap/issues/153)."
      ],
      "id": "b33568ef-e1b9-4a5d-a169-088863b5f21d"
    },
    {
      "cell_type": "code",
      "execution_count": 94,
      "metadata": {},
      "outputs": [],
      "source": [
        "sample_ind=250\n",
        "shap.plots.waterfall(shap_values[sample_ind], max_display=14, show=False);\n",
        "plt.title(f\"Shapely values for observation #{sample_ind} ({X_test.sample(frac=.05, random_state=42).iloc[sample_ind].name})\")\n",
        "plt.tight_layout()\n",
        "#plt.savefig('practical-09-waterfall.png', dpi=150)"
      ],
      "id": "ec0e7384"
    },
    {
      "cell_type": "markdown",
      "metadata": {},
      "source": [
        "<figure>\n",
        "<img\n",
        "src=\"https://github.com/jreades/fsds/raw/master/practicals/img/practical-09-waterfall.png\"\n",
        "alt=\"Shapely Feature Plot for Feature 250\" />\n",
        "<figcaption aria-hidden=\"true\">Shapely Feature Plot for Feature\n",
        "250</figcaption>\n",
        "</figure>\n",
        "\n",
        "#### 9.4.6 All Observations"
      ],
      "id": "73c9cde2-382a-471e-9d3c-2f415a8b73df"
    },
    {
      "cell_type": "code",
      "execution_count": 95,
      "metadata": {},
      "outputs": [],
      "source": [
        "shap.plots.beeswarm(shap_values, show=False)\n",
        "plt.title(f\"Shapely Swarm Plot for Sample\")\n",
        "plt.tight_layout()\n",
        "plt.savefig('practical-09-swarm.png', dpi=150)"
      ],
      "id": "94429e15"
    },
    {
      "cell_type": "markdown",
      "metadata": {},
      "source": [
        "<figure>\n",
        "<img\n",
        "src=\"https://github.com/jreades/fsds/raw/master/practicals/img/practical-09-swarm.png\"\n",
        "alt=\"Shapely Swarm Plot\" />\n",
        "<figcaption aria-hidden=\"true\">Shapely Swarm Plot</figcaption>\n",
        "</figure>\n",
        "\n",
        "### 9.5 Wrap-Up\n",
        "\n",
        "-   Find the appropriate eps value: [Nearest Neighbour Distance\n",
        "    Functions](https://nbviewer.jupyter.org/github/pysal/pointpats/blob/master/notebooks/distance_statistics.ipynb#Nearest-Neighbor-Distance-Functions)\n",
        "    or [Interevent Distance\n",
        "    Functions](https://nbviewer.jupyter.org/github/pysal/pointpats/blob/master/notebooks/distance_statistics.ipynb#Interevent-Distance-Functions)\n",
        "-   [Clustering\n",
        "    Points](https://darribas.org/gds_course/content/bH/lab_H.html#clusters-of-points)\n",
        "-   [Regionalisation algorithms with Aglomerative\n",
        "    Clustering](https://darribas.org/gds_course/content/bG/lab_G.html#regionalization-algorithms)\n",
        "\n",
        "You’ve reached the end, you’re done…\n",
        "\n",
        "Er, no. This is barely scratching the surface! I’d suggest that you go\n",
        "back through the above code and do three things: 1. Add a lot more\n",
        "comments to the code to ensure that really have understood what is going\n",
        "on. 2. Try playing with some of the parameters (e.g. my thresholds for\n",
        "skew, or non-normality) and seeing how your results change. 3. Try\n",
        "outputting additional plots that will help you to understand the\n",
        "*quality* of your clustering results (e.g. what *is* the makeup of\n",
        "cluster 1? Or 6? What has it picked up? What names would I give these\n",
        "clsuters?).\n",
        "\n",
        "If all of that seems like a lot of work then why not learn a bit more\n",
        "about machine learning before calling it a day?\n",
        "\n",
        "See: [Introduction to Machine Learning with\n",
        "Scikit-Learn](http://www.slideshare.net/BenjaminBengfort/introduction-to-machine-learning-with-scikitlearn)."
      ],
      "id": "68879c30-8098-4043-bd47-823108a909a4"
    }
  ],
  "nbformat": 4,
  "nbformat_minor": 5,
  "metadata": {
    "kernelspec": {
      "name": "python3",
      "display_name": "Python 3 (ipykernel)",
      "language": "python",
      "path": "/opt/conda/share/jupyter/kernels/python3"
    },
    "language_info": {
      "name": "python",
      "codemirror_mode": {
        "name": "ipython",
        "version": "3"
      },
      "file_extension": ".py",
      "mimetype": "text/x-python",
      "nbconvert_exporter": "python",
      "pygments_lexer": "ipython3",
      "version": "3.12.11"
    }
  }
}