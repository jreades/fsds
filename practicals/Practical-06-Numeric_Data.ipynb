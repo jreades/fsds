{
  "cells": [
    {
      "cell_type": "markdown",
      "metadata": {},
      "source": [
        "## Practical 6: Numeric Data\n",
        "\n",
        "Easing into EDA with Pandas\n",
        "\n",
        "This session is a tour-de-`pandas`; since this is Python’s equivalent of\n",
        "the `tidyverse` meets `data.tables` it is fundamental to the data\n",
        "science ecosystem and is probably one of the most-widely used libraries\n",
        "in the language as a whole. I get [more than 286,000\n",
        "questions](https://stackoverflow.com/questions/tagged/pandas) tagged\n",
        "with pandas on StackOverflow.\n",
        "\n",
        "This week we are also going to start looking more closely at the\n",
        "**[InsideAirbnb](http://insideairbnb.com/)** data which forms the core\n",
        "of the work that we do over the rest of the term. The focus of *this*\n",
        "notebook is simple numeric data: no mapping or text data… yet… and\n",
        "direct manipulation of data types, derivation of summary statistics, and\n",
        "simple plotting.\n",
        "\n",
        "We hope that you will be able to draw on the past few practical sessions\n",
        "to develop a more intuitive understanding of how to interact with pandas\n",
        "since it supports both a ‘dictionary-of-lists’ style of interaction\n",
        "*and* a methods-based style of interaction with the ‘Data Frame’.\n",
        "\n",
        "> **Important**\n",
        ">\n",
        "> Conceptually, this practical links together *all* of the preceding\n",
        "> ones; you will find data structures, classes and methods, reading CSV\n",
        "> files from a remote location, `numpy`, and more than you ever wanted\n",
        "> to know about data types in Python. Making these connections will make\n",
        "> the remainder of term much, much easier, so it might be worth\n",
        "> **revising this practical** over Reading Week so make sure it all\n",
        "> makes sense! That may include rewatching the lectures on\n",
        "> [Data](https://jreades.github.io/fsds/sessions/week6.html#pre-recorded-lectures)\n",
        "> and\n",
        "> [Pandas](https://jreades.github.io/fsds/sessions/week6.html#pre-recorded-lectures)\n",
        "\n",
        "## 1. The Importance of EDA\n",
        "\n",
        "After a few weeks getting to grips with Python, we’re now going to start\n",
        "working with some real data. One of the first things that we do when\n",
        "working with any new data set is to familiarise ourselves with it. There\n",
        "are a *huge* number of ways to do this, but there are no shortcuts to:\n",
        "\n",
        "1.  Reading about the data (how it was collected, what the sample size\n",
        "    was, etc.)\n",
        "2.  Reviewing any accompanying metadata (data about the data, column\n",
        "    specs, etc.)\n",
        "3.  Looking at the data itself at the row- and column-levels\n",
        "4.  Producing descriptive statistics\n",
        "5.  Visualising the data using plots\n",
        "\n",
        "You should use *all* of these together to really understand where the\n",
        "data came from, how it was handled, and whether there are gaps or other\n",
        "problems. If you’re wondering which comes first, the concept of *start\n",
        "with a chart* is always good… though we’ve obviously not *quite* gotten\n",
        "there yet! This week we want you to get a handle on pandas itself, so\n",
        "although we will do some plotting of charts, we’ll focus on 3-4 with a\n",
        "tiny bit of 5. There will be much more on plotting charts next week, and\n",
        "you should be looking into 1 and 2 yourself based on what’s been written\n",
        "both on the [Inside Airbnb web site](http://insideairbnb.com/about.html)\n",
        "and in the [suggested\n",
        "readings](https://github.com/jreades/i2p/blob/master/ref/Bibliography.md).\n",
        "\n",
        "So although they don’t need to be done now, you probably want to add\n",
        "both those links to your reading list!\n",
        "\n",
        "## 2. Pandas, Conceptually\n",
        "\n",
        "> **🔗 Connections**\n",
        ">\n",
        "> This is why we spent time talking about\n",
        "> [Packages](https://jreades.github.io/fsds/sessions/week3.html#pre-recorded-lectures),\n",
        "> [Methods](https://jreades.github.io/fsds/sessions/week4.html#pre-recorded-lectures)\n",
        "> [Classes](https://jreades.github.io/fsds/sessions/week4.html#pre-recorded-lectures)…\n",
        "> because now we’re going to be making *intensive* use of them.\n",
        "\n",
        "Pandas can do a *lot*, and you might be feeling a little intimidated by\n",
        "this, but here’s the thing: we were already writing something like\n",
        "pandas from scratch! That’s because pandas takes a **column-view of\n",
        "data** in the same way that our **Dictionary-of-Lists** did, it’s just\n",
        "that it’s got a lot more features than our ‘simple’ tool did. That’s why\n",
        "the documentation is so much more forbidding and why pandas is so much\n",
        "more powerful.\n",
        "\n",
        "But at its heart, a pandas `Data Frame` (`df` for short) is a collection\n",
        "of `Data Series` objects (i.e. columns) with an index. Each Series is\n",
        "like one of our column-lists from the last notebook. And the `df` is\n",
        "like the dictionary that held the data together. So you’ve seen this\n",
        "before and you already *know* what’s going on… or at least you now have\n",
        "an *analogy* that you can use to make sense of pandas:\n",
        "\n",
        "``` default\n",
        "myDataFrame = {\n",
        "    '<column_name_1>': <Series_1>,\n",
        "    '<column_name_2>': <Series_2>,\n",
        "    '<column_name_3>': <Series_3>\n",
        "}\n",
        "```\n",
        "\n",
        "And pandas gives us two ways to access that data:\n",
        "\n",
        "1.  Using a method syntax: `myDataFrame.column_name_1`\n",
        "2.  Using a dictionary syntax: `myDataFrame['column_name_1']`[1]\n",
        "\n",
        "Depending on which syntax you prefer, you can use these interchangeably.\n",
        "The only times you *have* to choose one over the other are:\n",
        "\n",
        "-   Assignment (e.g. `myDataFrame['column_name_1'] = ...`);\n",
        "-   Columns with spaces in their names\n",
        "    (e.g. `myDataFrame['Column Name 1')`).\n",
        "\n",
        "There are [numerous](http://lmgtfy.com/?q=introduction+to+pandas+python)\n",
        "useful introductions; [one of our\n",
        "favourites](http://www.gregreda.com/2013/10/26/intro-to-pandas-data-structures/)\n",
        "is from Greg Reda, and there are some [good\n",
        "videos](https://youtu.be/TSsSWuhBpmY) on [our YouTube\n",
        "channel](https://www.youtube.com/playlist?list=PLJ5Y5hxm-0W7rOOYBHf6KC6QNnWOi09kh).\n",
        "And of course, there’s [TONS of\n",
        "stuff](http://stackoverflow.com/questions/tagged/pandas) on\n",
        "StackOverflow. If you want an actual physical book, you might try\n",
        "[McKinney (2017)](http://shop.oreilly.com/product/0636920050896.do).\n",
        "\n",
        "## 3. Reading Data\n",
        "\n",
        "It’s always sensible to import the packages you need at the top of the\n",
        "notebook:\n",
        "\n",
        "1.  Because it lets everyone know what they need to have installed to\n",
        "    run your code.\n",
        "2.  It’s easy to run this and then skip further down the notebook if you\n",
        "    have already done *some* of the work and saved an intermediate\n",
        "    output.\n",
        "\n",
        "So in this practical we need:\n",
        "\n",
        "[1] This is also how `[polars](https://pola.rs/)` does things"
      ],
      "id": "d7724811-c920-4e43-99a2-3b67b449e2db"
    },
    {
      "cell_type": "code",
      "execution_count": 1,
      "metadata": {},
      "outputs": [],
      "source": [
        "from pathlib import Path\n",
        "import numpy as np\n",
        "import pandas as pd"
      ],
      "id": "81184333"
    },
    {
      "cell_type": "markdown",
      "metadata": {},
      "source": [
        "One thing you will really want to bookmark is [the official\n",
        "documentation](http://pandas.pydata.org/pandas-docs/stable/) since you\n",
        "will undoubtedly need to refer to it fairly regularly. *Note*: this link\n",
        "is to the most recent release. Over time there will be updates published\n",
        "and you *may* find that you no longer have the most up-to-date version.\n",
        "If you find that you are now using an older version of pandas and the\n",
        "methods have changed then you’ll need to track down the *specific*\n",
        "version of the documentation that you need from the [home\n",
        "page](http://pandas.pydata.org).\n",
        "\n",
        "You can always check what version you have installed like this:"
      ],
      "id": "5fd8687d-a1dc-47c3-aefd-b26cab9cdab0"
    },
    {
      "cell_type": "code",
      "execution_count": 2,
      "metadata": {},
      "outputs": [
        {
          "output_type": "stream",
          "name": "stdout",
          "text": [
            "2.3.2"
          ]
        }
      ],
      "source": [
        "print(pd.__version__)"
      ],
      "id": "ba91f3e1"
    },
    {
      "cell_type": "markdown",
      "metadata": {},
      "source": [
        "> **Tip**\n",
        ">\n",
        "> The `<package_name>.__version__` approach isn’t guaranteed to work\n",
        "> with *every* package, but it will work with most of them. Remember\n",
        "> that variables and methods starting and ending with ‘`__`’ are\n",
        "> **private** and any interaction with them should be approached very,\n",
        "> very carefully.\n",
        "\n",
        "### 3.1 Reading Remote Data\n",
        "\n",
        "> **Difficulty: Low (this time around).**\n",
        "\n",
        "You will need to do several things here to read the remote, compressed\n",
        "CSV file specified by `url` into a data frame called `df`. Setting\n",
        "`low_memory=False` ensures that pandas will try to load the entire data\n",
        "set *before* guessing the data type for each column! Obviously, with\n",
        "very large files this is probably a bad idea and it’s possible to force\n",
        "a particular column type while readng in the data as well.\n",
        "\n",
        "> For larger data sets there is [Polars](https://pola.rs/),\n",
        "> [DuckDB](https://duckdb.org/), and platforms like\n",
        "> [Dask](https://dask.org/) (see, eg,\n",
        "> [this](https://towardsdatascience.com/why-and-how-to-use-dask-with-big-data-746e34dac7c3))\n",
        "> and\n",
        "> [beyond](https://towardsdatascience.com/scaling-pandas-comparing-dask-ray-modin-vaex-and-rapids-c74c85a4e59c).\n",
        "\n",
        "#### 3.1.1 Parameterising Files\n",
        "\n",
        "Anyway, here’s where to find the data:"
      ],
      "id": "072c5cb0-8fe0-4c47-88f5-107dd8c7fb20"
    },
    {
      "cell_type": "code",
      "execution_count": 3,
      "metadata": {},
      "outputs": [],
      "source": [
        "# Set download URL\n",
        "ymd  = '20250615'\n",
        "city = 'London'\n",
        "host = 'https://orca.casa.ucl.ac.uk'\n",
        "url  = f'{host}/~jreades/data/{ymd}-{city}-listings.csv.gz'"
      ],
      "id": "d446b858"
    },
    {
      "cell_type": "markdown",
      "metadata": {},
      "source": [
        "#### 3.1.2 Reading CSV with Pandas\n",
        "\n",
        "Now, what goes into the `read_csv` function below?\n",
        "\n",
        "##### 3.1.2.1 Question"
      ],
      "id": "a6c73789-651d-41c6-8e80-f13a6ead4218"
    },
    {
      "cell_type": "code",
      "execution_count": null,
      "metadata": {},
      "outputs": [],
      "source": [
        "# your code here\n",
        "df = pd.read_csv(??, compression='gzip', low_memory=False)\n",
        "print(f\"Data frame is {df.shape[0]:,} x {df.shape[1]}\")"
      ],
      "id": "483f21b1-81cf-4fbb-a869-9d3842a3acc8"
    },
    {
      "cell_type": "markdown",
      "metadata": {},
      "source": [
        "You should get a data frame containing 75 columns and 93,486 rows of\n",
        "data.\n",
        "\n",
        "## 4. Inspecting the Data Frame\n",
        "\n",
        "> **Difficulty: Low.**\n",
        "\n",
        "Let’s get a general sense of the data by printing out information\n",
        "*about* the data frame. There are several ways to do this (and we’ll see\n",
        "another futher on):\n",
        "\n",
        "-   `df.describe(percentiles=None, include=None, exclude=None, datetime_is_numeric=False)`\n",
        "    – descriptive stats for all **numeric** columns\n",
        "-   `df.info(verbose=None, buf=None, max_cols=None, memory_usage=None, show_counts=None)`\n",
        "    – summarises all columns, but without distribution information\n",
        "-   `df.memory_usage(index=True, deep=True)` – memory usage details\n",
        "    about each column (can be quite slow as it’s doing a *lot* of\n",
        "    digging)\n",
        "\n",
        "##### 4.0.0.1 Question\n",
        "\n",
        "What is another term for the 0.5 percentile?\n",
        "\n",
        "#### 4.0.1 Describing\n",
        "\n",
        "Describing a data frame provides general information about *numeric*\n",
        "columns, such as the median, IQR, or number of discrete values.\n",
        "\n",
        "So to show the 5th and 95th percentiles you need to pass an argument to\n",
        "`describe` to override the default report from pandas. Notice here how\n",
        "we can **subselect columns** using a list:\n",
        "`df[ [<names of selected columns>] ]`!\n",
        "\n",
        "##### 4.0.1.1 Question"
      ],
      "id": "c50949ed-75b6-463e-bb5b-a4383da5066d"
    },
    {
      "cell_type": "code",
      "execution_count": null,
      "metadata": {},
      "outputs": [],
      "source": [
        "df[\n",
        "    ['latitude', 'longitude', 'accommodates', 'bathrooms', 'bedrooms', 'beds']\n",
        "].describe(percentiles=[??])"
      ],
      "id": "b24608b4-24ab-4e32-bbd8-d0c1aa8e414e"
    },
    {
      "cell_type": "markdown",
      "metadata": {},
      "source": [
        "#### 4.0.2 Info\n",
        "\n",
        "The `info` method provides a more system-oriented view of the data\n",
        "frame, helping you to understand what each column is composed of, how\n",
        "many NAs there might be, and some high-level (but often incomplete) data\n",
        "on performance.\n",
        "\n",
        "``` python\n",
        "df.info(verbose=True)\n",
        "```\n",
        "\n",
        "    <class 'pandas.core.frame.DataFrame'>\n",
        "    RangeIndex: 93486 entries, 0 to 93485\n",
        "    Data columns (total 75 columns):\n",
        "     #   Column                                        Non-Null Count  Dtype  \n",
        "    ---  ------                                        --------------  -----  \n",
        "     0   id                                            93481 non-null  float64\n",
        "     1   listing_url                                   93485 non-null  object \n",
        "     2   scrape_id                                     93485 non-null  object \n",
        "     3   last_scraped                                  93485 non-null  object \n",
        "     4   source                                        93486 non-null  object \n",
        "     5   name                                          93486 non-null  object \n",
        "     6   description                                   90297 non-null  object \n",
        "     7   neighborhood_overview                         46673 non-null  object \n",
        "     8   picture_url                                   93477 non-null  object \n",
        "     9   host_id                                       93486 non-null  float64\n",
        "     10  host_url                                      93486 non-null  object \n",
        "     11  host_name                                     93480 non-null  object \n",
        "     12  host_since                                    93480 non-null  object \n",
        "     13  host_location                                 72291 non-null  object \n",
        "     14  host_about                                    47802 non-null  object \n",
        "     15  host_response_time                            62226 non-null  object \n",
        "     16  host_response_rate                            62231 non-null  object \n",
        "     17  host_acceptance_rate                          67455 non-null  object \n",
        "     18  host_is_superhost                             93022 non-null  object \n",
        "     19  host_thumbnail_url                            93475 non-null  object \n",
        "     20  host_picture_url                              93475 non-null  object \n",
        "     21  host_neighbourhood                            46906 non-null  object \n",
        "     22  host_listings_count                           93475 non-null  object \n",
        "     23  host_total_listings_count                     93475 non-null  float64\n",
        "     24  host_verifications                            93474 non-null  object \n",
        "     25  host_has_profile_pic                          93475 non-null  object \n",
        "     26  host_identity_verified                        93474 non-null  object \n",
        "     27  neighbourhood                                 46675 non-null  object \n",
        "     28  neighbourhood_cleansed                        93481 non-null  object \n",
        "     29  neighbourhood_group_cleansed                  5 non-null      float64\n",
        "     30  latitude                                      93481 non-null  float64\n",
        "     31  longitude                                     93481 non-null  float64\n",
        "     32  property_type                                 93481 non-null  object \n",
        "     33  room_type                                     93481 non-null  object \n",
        "     34  accommodates                                  93481 non-null  float64\n",
        "     35  bathrooms                                     61355 non-null  float64\n",
        "     36  bathrooms_text                                93331 non-null  object \n",
        "     37  bedrooms                                      81800 non-null  float64\n",
        "     38  beds                                          61289 non-null  float64\n",
        "     39  amenities                                     93481 non-null  object \n",
        "     40  price                                         61423 non-null  object \n",
        "     41  minimum_nights                                93481 non-null  object \n",
        "     42  maximum_nights                                93481 non-null  float64\n",
        "     43  minimum_minimum_nights                        93480 non-null  float64\n",
        "     44  maximum_minimum_nights                        93480 non-null  float64\n",
        "     45  minimum_maximum_nights                        93479 non-null  object \n",
        "     46  maximum_maximum_nights                        93479 non-null  object \n",
        "     47  minimum_nights_avg_ntm                        93479 non-null  float64\n",
        "     48  maximum_nights_avg_ntm                        93479 non-null  float64\n",
        "     49  calendar_updated                              4 non-null      float64\n",
        "     50  has_availability                              89394 non-null  object \n",
        "     51  availability_30                               93480 non-null  float64\n",
        "     52  availability_60                               93480 non-null  float64\n",
        "     53  availability_90                               93480 non-null  float64\n",
        "     54  availability_365                              93476 non-null  float64\n",
        "     55  calendar_last_scraped                         93481 non-null  object \n",
        "     56  number_of_reviews                             93481 non-null  float64\n",
        "     57  number_of_reviews_ltm                         93481 non-null  float64\n",
        "     58  number_of_reviews_l30d                        93481 non-null  float64\n",
        "     59  first_review                                  68740 non-null  object \n",
        "     60  last_review                                   68739 non-null  object \n",
        "     61  review_scores_rating                          68735 non-null  float64\n",
        "     62  review_scores_accuracy                        68657 non-null  float64\n",
        "     63  review_scores_cleanliness                     68664 non-null  float64\n",
        "     64  review_scores_checkin                         68627 non-null  float64\n",
        "     65  review_scores_communication                   68652 non-null  float64\n",
        "     66  review_scores_location                        68626 non-null  float64\n",
        "     67  review_scores_value                           68627 non-null  float64\n",
        "     68  license                                       0 non-null      float64\n",
        "     69  instant_bookable                              93476 non-null  object \n",
        "     70  calculated_host_listings_count                93476 non-null  float64\n",
        "     71  calculated_host_listings_count_entire_homes   93476 non-null  float64\n",
        "     72  calculated_host_listings_count_private_rooms  93476 non-null  float64\n",
        "     73  calculated_host_listings_count_shared_rooms   93476 non-null  float64\n",
        "     74  reviews_per_month                             68735 non-null  float64\n",
        "    dtypes: float64(36), object(39)\n",
        "    memory usage: 53.5+ MB\n",
        "\n",
        "You should get that the data frame has a mix of `float64`, `int`, and\n",
        "`object` (text) columns and that some columns contain many nulls. You\n",
        "will also get an *estimate* of memory usage that may differ\n",
        "substantially from the more complete picture provided below, which\n",
        "suggests a ‘true’ value of 373MB.\n",
        "\n",
        "#### 4.0.3 Memory Usage\n",
        "\n",
        "If you really need to get into the ‘weeds’ and profile your data frame\n",
        "because you are crashing Python and seeing messages about ‘core dumped’,\n",
        "or experiencing appallingly poor performance (allowing for the amount of\n",
        "data you’ve just loaded!), then `memory_usage` is the way to go:"
      ],
      "id": "cf871f20-e9f0-4fbe-b8da-80a880edd9b9"
    },
    {
      "cell_type": "code",
      "execution_count": 10,
      "metadata": {},
      "outputs": [],
      "source": [
        "df.memory_usage(index=True, deep=True)"
      ],
      "id": "2c21b2a5"
    },
    {
      "cell_type": "markdown",
      "metadata": {},
      "source": [
        "    Index                                               132\n",
        "    id                                               747888\n",
        "    listing_url                                     8542806\n",
        "    scrape_id                                       5889546\n",
        "    last_scraped                                    5515618\n",
        "                                                     ...   \n",
        "    calculated_host_listings_count                   747888\n",
        "    calculated_host_listings_count_entire_homes      747888\n",
        "    calculated_host_listings_count_private_rooms     747888\n",
        "    calculated_host_listings_count_shared_rooms      747888\n",
        "    reviews_per_month                                747888\n",
        "    Length: 76, dtype: int64\n",
        "\n",
        "You should see that the data frame uses 391,099,613 bytes of memory, but\n",
        "the *really* important thing to note here is the difference between\n",
        "`string` and other types of data: keeping data as raw strings (instead\n",
        "of converting to categories, for instance) uses up a *lot* more memory\n",
        "and this can have a huge impact on the performance of your code.\n",
        "\n",
        "#### 4.0.4 Printing the Columns\n",
        "\n",
        "Finally, I find it *very* useful to be able to quickly print out a list\n",
        "of the **columns** without all of the details shown above. You just need\n",
        "to *print* the *columns* as a *list*:"
      ],
      "id": "91dfc464-9f1e-4066-85c2-8d7830083aa3"
    },
    {
      "cell_type": "code",
      "execution_count": 12,
      "metadata": {},
      "outputs": [
        {
          "output_type": "stream",
          "name": "stdout",
          "text": [
            "['id', 'listing_url', 'scrape_id', 'last_scraped', 'source', 'name', 'description', 'neighborhood_overview', 'picture_url', 'host_id', 'host_url', 'host_name', 'host_since', 'host_location', 'host_about', 'host_response_time', 'host_response_rate', 'host_acceptance_rate', 'host_is_superhost', 'host_thumbnail_url', 'host_picture_url', 'host_neighbourhood', 'host_listings_count', 'host_total_listings_count', 'host_verifications', 'host_has_profile_pic', 'host_identity_verified', 'neighbourhood', 'neighbourhood_cleansed', 'neighbourhood_group_cleansed', 'latitude', 'longitude', 'property_type', 'room_type', 'accommodates', 'bathrooms', 'bathrooms_text', 'bedrooms', 'beds', 'amenities', 'price', 'minimum_nights', 'maximum_nights', 'minimum_minimum_nights', 'maximum_minimum_nights', 'minimum_maximum_nights', 'maximum_maximum_nights', 'minimum_nights_avg_ntm', 'maximum_nights_avg_ntm', 'calendar_updated', 'has_availability', 'availability_30', 'availability_60', 'availability_90', 'availability_365', 'calendar_last_scraped', 'number_of_reviews', 'number_of_reviews_ltm', 'number_of_reviews_l30d', 'first_review', 'last_review', 'review_scores_rating', 'review_scores_accuracy', 'review_scores_cleanliness', 'review_scores_checkin', 'review_scores_communication', 'review_scores_location', 'review_scores_value', 'license', 'instant_bookable', 'calculated_host_listings_count', 'calculated_host_listings_count_entire_homes', 'calculated_host_listings_count_private_rooms', 'calculated_host_listings_count_shared_rooms', 'reviews_per_month']"
          ]
        }
      ],
      "source": [
        "print(df.columns.to_list())"
      ],
      "id": "f3c169ef"
    },
    {
      "cell_type": "markdown",
      "metadata": {},
      "source": [
        "You should get a list showing every single column. If you get\n",
        "`Index(['id', 'listing_url',...], dtype='object')` then you have printed\n",
        "the column *index* object and you to need to tell the object to convert\n",
        "its output **to a list** (*hint*: Google).\n",
        "\n",
        "## 5. Managing Your Data\n",
        "\n",
        "When starting out it’s common to think in terms of there being one input\n",
        "(the raw data) and one output (the results) to an analysis. In practice,\n",
        "you typically will have many intermediate outputs used as ‘milestones’\n",
        "in the overall analysis:\n",
        "\n",
        "-   You might have a ‘canonical’ data file that has dealt with\n",
        "    formatting issues and converted the columns to appropriate data\n",
        "    types.\n",
        "-   You might have a ‘clean’ data file that has dealt with observations\n",
        "    that seem to be incomplete or otherwise improperly formatted.\n",
        "-   You might generate subsets by region or area.\n",
        "-   You might produce an ‘analytical’ or ‘final’ data set appropriate to\n",
        "    a specific analysis.\n",
        "\n",
        "The purpose of the intermediate outputs is to accelerate each cycle in\n",
        "your development work: if you are re-running the *entire* analytics\n",
        "pipeline *every* time you make a small change at the tail-end of your\n",
        "processing pipeline then you will be drinking a lot of tea because most\n",
        "of your time will be spent watching the computer churn away at the data.\n",
        "It’s also common to receive regular updates of data sets\n",
        "(e.g. InsideAirbnb data is updated rouhgly every six months, while Land\n",
        "Registry’s Price Paid Data for the UK is updated monthly) and you’ll\n",
        "need to know which release you’re working with (i.e. have I already\n",
        "processed the September data???).\n",
        "\n",
        "So we try to get ahead of all this by anticipating that files will be\n",
        "‘versioned’. I do not mean that you’ll put files in Git, but that you’ll\n",
        "need a way to track ‘provenance’ and ‘stage of analysis’ in where and\n",
        "how you save your data. But we also don’t want to mindlessly delete the\n",
        "original, ‘raw’ data: I always prefer to keep the original data set\n",
        "handy since I almost always discover that there are fields I didn’t\n",
        "realise I needed when I started my work.\n",
        "\n",
        "So my approach to coding is usually:\n",
        "\n",
        "1.  Download the raw file and save it locally in a `data/raw` directory.\n",
        "2.  Load the first `nrows` of data so that I can quickly:\n",
        "    -   Check that the specification matches the data and select\n",
        "        columns/rows accordingly.\n",
        "    -   Identify obviously invalid rows/columns and investigate further.\n",
        "    -   Check the code to fix data types and (where relevant) values\n",
        "        works.\n",
        "    -   Write this new, smaller file ($m` << m$ and $n` << n$) out to a\n",
        "        `data/clean` or `data/canonical` directory (depending on whether\n",
        "        formatting the columns is so complex or takes so long on a large\n",
        "        data set that dealing with data types needs to be separated out\n",
        "        from actual cleaning).\n",
        "    -   Test out some initial ideas for further analysis.\n",
        "3.  Re-run the code (remove the `nrows` limit) using the full data set.\n",
        "\n",
        "So you might end up with something a bit like this (or this could be\n",
        "overkill):\n",
        "\n",
        "``` default\n",
        "|\n",
        "|--project/\n",
        "|  |--code/\n",
        "|     |--extract/\n",
        "|     |--canonicalise/\n",
        "|     |--clean/\n",
        "|     |--analyse/\n",
        "|  |--data/\n",
        "|     |--raw/\n",
        "|        |--2025/\n",
        "|        |--2024/\n",
        "|     |--clean/\n",
        "|        |--2025/\n",
        "|        |--2024/\n",
        "|  |--docs/\n",
        "|     |--refs/\n",
        "|     |--code/\n",
        "|     |--data/\n",
        "|  |--conf \n",
        "```\n",
        "\n",
        "There is even a coding library called\n",
        "[cookiecutter](https://www.cookiecutter.io/) that tries to help research\n",
        "groups and companies standardise how they manage their code and data.\n",
        "\n",
        "> **Difficulty: Moderate**\n",
        ">\n",
        "> Although the code here is simple, the logic is not.\n",
        "\n",
        "### 5.1 File Names\n",
        "\n",
        "You should always be looking for ways to *avoid* hard-coding values that\n",
        "might change over time, especially those linked to the date of the data\n",
        "file.\n",
        "\n",
        "In this case you might try to work out how to make it easy to update the\n",
        "code to download the latest file. For instance, if the file looks like\n",
        "`20250910-listings.csv.gz` then I might well specify the `url` as\n",
        "`{date}-listings.csv.gz` or `{year}{month}{day}-listings.csv.gz` and set\n",
        "up the variables that I need beforehand, possibly in a separate\n",
        "‘configuration’ file that I read in at the start.\n",
        "\n",
        "Using parameters makes it easier to write robust code that doesn’t have\n",
        "unwanted side-effects. Here’s a common one: you write code to download\n",
        "and process a file named `20251111-data.csv.gz`. You save the outputs to\n",
        "`clean-data.csv.gz`.\n",
        "\n",
        "##### 5.1.0.1 Question\n",
        "\n",
        "What happens when your boss asks you to process `20251211-data.csv.gz`?\n",
        "\n",
        "### 5.2 File Saving\n",
        "\n",
        "> **Difficulty: Low**\n",
        "\n",
        "Now save the file somewhere local so that you don’t have to keep\n",
        "downloading 40MB of compressed data every time you want to start the\n",
        "practical. We’ll be using this data for the rest of term, so you might\n",
        "as well save yourself some time and bandwidth! We’ll talk more about\n",
        "data processing pipelines over the course of the term, but I’d suggest\n",
        "putting this data set into a `data/raw` folder because then you can have\n",
        "directories like `data/clean` and `data/analytical` as you move through\n",
        "the process of cleaning and prepping your data for analysis."
      ],
      "id": "60b9bf13-b9f5-4c08-a189-75db911edcbd"
    },
    {
      "cell_type": "code",
      "execution_count": 13,
      "metadata": {},
      "outputs": [
        {
          "output_type": "stream",
          "name": "stdout",
          "text": [
            "Writing to: data/raw/20250615-London-listings.csv.gz"
          ]
        }
      ],
      "source": [
        "path = Path(f'data/raw/{Path(url).name}') # What does this do?\n",
        "print(f\"Writing to: {path}\")"
      ],
      "id": "d77e7f4e"
    },
    {
      "cell_type": "code",
      "execution_count": 14,
      "metadata": {},
      "outputs": [],
      "source": [
        "if not path.parent.exists(): # And what does *this* do?\n",
        "    print(f\"Creating {path.parent}\")\n",
        "    path.parent.mkdir(parents=True, exist_ok=True)\n",
        "\n",
        "if not path.exists():  \n",
        "    df.to_csv(path, index=False)\n",
        "    print(\"Done.\")"
      ],
      "id": "c3d5df67"
    },
    {
      "cell_type": "markdown",
      "metadata": {},
      "source": [
        "### 5.3 File Loading\n",
        "\n",
        "Now let’s write something that will allow us to more quickly write our\n",
        "code and validate the results in exploratory phase. For simplicity I’ve\n",
        "called this ‘testing’, but you could also think of it as ‘dev’ mode.\n",
        "What we want is to be able to easily swap between testing and\n",
        "operational contexts using a ‘switch’ (typically, a Boolean value) and\n",
        "limit the data load in testing mode.\n",
        "\n",
        "To achieve this you could set pandas to:\n",
        "\n",
        "-   Load only the first 10,000 rows using `nrows` *if* we are testing\n",
        "-   Use the columns specified in `cols`\n",
        "-   Allow pandas to load the entire data set before deciding on the\n",
        "    column type by setting `low_memory` appropriately.\n",
        "\n",
        "#### 5.3.1 Row Subsetting\n",
        "\n",
        "Let’s tackle the *rows* problem first:\n",
        "\n",
        "##### 5.3.1.1 Question"
      ],
      "id": "96abe327-bf2e-49ba-b208-696e74ba5fa9"
    },
    {
      "cell_type": "code",
      "execution_count": null,
      "metadata": {},
      "outputs": [],
      "source": [
        "testing = True\n",
        "\n",
        "if testing:\n",
        "    df = pd.read_csv(path, \n",
        "                low_memory=??, ??)\n",
        "else:\n",
        "    df = pd.read_csv(path, \n",
        "                low_memory=??)\n",
        "\n",
        "print(f\"Data frame is {df.shape[0]:,} x {df.shape[1]}\")"
      ],
      "id": "899b0f6f-9ed8-43f0-8ac7-aeface2a9a94"
    },
    {
      "cell_type": "markdown",
      "metadata": {},
      "source": [
        "So notice how this code deliberately works the same for either testing\n",
        "*or* operational execution – we just flip between the option by changing\n",
        "the `testing` variable from `True` to `False`!\n",
        "\n",
        "To make this more robust and useful we could use this `testing` variable\n",
        "*throughout* our code if we wanted to change other behaviours based on\n",
        "development/deployment context. The state of the switch could then be\n",
        "set globally using an external configuration file (usually just called a\n",
        "‘conf file’). The easiest way to do this is to have a `conf.py` which\n",
        "contains your global parameters and then every script or notebook file\n",
        "reads in the configuration and sets these variables.\n",
        "\n",
        "Something like:"
      ],
      "id": "099fe080-fee8-441c-a2eb-b6b4bbee94b0"
    },
    {
      "cell_type": "code",
      "execution_count": 17,
      "metadata": {},
      "outputs": [],
      "source": [
        "testing = False"
      ],
      "id": "8ac15c6d"
    },
    {
      "cell_type": "markdown",
      "metadata": {},
      "source": [
        "And:"
      ],
      "id": "feaeef81-17a6-47a3-90c4-ebe42d1903c0"
    },
    {
      "cell_type": "code",
      "execution_count": 18,
      "metadata": {},
      "outputs": [],
      "source": [
        "from conf import *"
      ],
      "id": "3971c3d6"
    },
    {
      "cell_type": "markdown",
      "metadata": {},
      "source": [
        "#### 5.3.2 Column Subsetting\n",
        "\n",
        "Now let’s tackle the column problem… In order to avoid having to load\n",
        "lots of data that we aren’t sure we need yet, we can restrict the\n",
        "columns that we load. We got `cols` below by copying the output of\n",
        "(`df.columns.to_list()` and then removing the fields that we thought we\n",
        "*weren’t* interested in."
      ],
      "id": "5051fd67-e366-44d6-ac1d-3e1610e4299e"
    },
    {
      "cell_type": "code",
      "execution_count": 19,
      "metadata": {},
      "outputs": [
        {
          "output_type": "stream",
          "name": "stdout",
          "text": [
            "Cols contains 34 columns."
          ]
        }
      ],
      "source": [
        "cols = ['id', 'listing_url', 'last_scraped', 'name', \n",
        "    'description', 'host_id', 'host_name', 'host_since', \n",
        "    'host_location', 'host_about', 'host_is_superhost', \n",
        "    'host_listings_count', 'host_total_listings_count', \n",
        "    'host_verifications', 'latitude', 'longitude', \n",
        "    'property_type', 'room_type', 'accommodates', \n",
        "    'bathrooms', 'bathrooms_text', 'bedrooms', 'beds', \n",
        "    'amenities', 'price', 'minimum_nights', 'maximum_nights', \n",
        "    'availability_365', 'number_of_reviews', \n",
        "    'first_review', 'last_review', 'review_scores_rating', \n",
        "    'license', 'reviews_per_month']\n",
        "print(f\"Cols contains {len(cols)} columns.\")"
      ],
      "id": "59e3c84c"
    },
    {
      "cell_type": "markdown",
      "metadata": {},
      "source": [
        "So let’s extend our previous answer\n",
        "\n",
        "##### 5.3.2.1 Question"
      ],
      "id": "95d9ce35-dea4-4eb9-8178-4bfb2399f6aa"
    },
    {
      "cell_type": "code",
      "execution_count": null,
      "metadata": {},
      "outputs": [],
      "source": [
        "testing = True\n",
        "\n",
        "if testing:\n",
        "    df = pd.read_csv(opath, \n",
        "                low_memory=False, nrows=10000, ??)\n",
        "else:\n",
        "    df = pd.read_csv(path, \n",
        "                low_memory=False, ??)\n",
        "\n",
        "print(f\"Data frame is {df.shape[0]:,} x {df.shape[1]}\")"
      ],
      "id": "9e2958af-1fe6-4ba8-b4ad-b077617cc72a"
    },
    {
      "cell_type": "markdown",
      "metadata": {},
      "source": [
        "### 5.4 Releasing Memory\n",
        "\n",
        "Two risks when working with Jupyter notebooks are:\n",
        "\n",
        "1.  You have run code in an order *other* than the order shown in the\n",
        "    notebook; or\n",
        "2.  You have made edits to code but *not* re-run the changed code.\n",
        "\n",
        "So you’re still working from code that is no longer visible or where the\n",
        "a step (or five) has been missed/changed since you ran it! When that\n",
        "happens you can get *very* confusing issues because what you *see*\n",
        "doesn’t square with what the computer has *executed*. To resolve this\n",
        "without having to re-run the entire notebook (though that can *also* be\n",
        "a good choice!) you might want to ‘delete’ the current object and\n",
        "re-load or re-run the relevant data or code."
      ],
      "id": "9fad0d79-4645-4a7b-9bc7-6a4304b3429d"
    },
    {
      "cell_type": "code",
      "execution_count": 22,
      "metadata": {},
      "outputs": [],
      "source": [
        "del(df)"
      ],
      "id": "901810d8"
    },
    {
      "cell_type": "markdown",
      "metadata": {},
      "source": [
        "So we use `del(df)` to ensure that we aren’t accidentally using the\n",
        "‘old’ data frame. But another good reason to delete data you’re no\n",
        "longer using is to free up memory.\n",
        "\n",
        "## 6. Using Indexes\n",
        "\n",
        "So let’s start over from the saved data:"
      ],
      "id": "e25d6369-5cf1-4ad0-8370-1ca654afaf3b"
    },
    {
      "cell_type": "code",
      "execution_count": 23,
      "metadata": {},
      "outputs": [],
      "source": [
        "df = pd.read_csv(path, low_memory=False, usecols=cols)"
      ],
      "id": "1c499213"
    },
    {
      "cell_type": "markdown",
      "metadata": {},
      "source": [
        "When we use the `[[...]]` syntax we’re taking a short-cut through the\n",
        "data by column (keeping all rows). The *full* syntax is\n",
        "`df[<row_selection>,<col_selection>]`. Only when we *don’t* specify both\n",
        "does it then default to `df[<col_selection>]`.\n",
        "\n",
        "To make the most of pandas you will need to get to grips with the logic\n",
        "than underpins this syntax. This is embedded in the idea of there being\n",
        "row and column indexes. These are *like* the columns `A`..`ZZ` and the\n",
        "rows `1`..$n$ in Excel. As you’ll have seen in [the\n",
        "video](https://jreades.github.io/fsds/sessions/week6.html#pre-recorded-lectures),\n",
        "these aren’t considered *data*, they are ways to *access the data*.\n",
        "Unlike Excel, while every data frame must *have* an index, in pandas you\n",
        "can ‘promote’ or ‘demote’ any column to be used *as* an index.\n",
        "\n",
        "The **default row index** is just the row number and this will be\n",
        "created for you if you don’t specify something else when you create the\n",
        "data frame. The **default column index** is created from a file’s column\n",
        "names (works for many types of data) but you can also change these at\n",
        "any time.\n",
        "\n",
        "### 6.1 Numeric Indexing\n",
        "\n",
        "You can always access rows and columns by their **integer location** as\n",
        "if it is a 2D list and you want to access the 3rd to 5th columns and the\n",
        "9th to 425th rows. So if you remember that `iloc` means you’re using the\n",
        "index location that will help you to work out what’s going on.\n",
        "\n",
        "So can you read this:"
      ],
      "id": "7c99daba-8876-43e8-9d2c-c23437bbd6d2"
    },
    {
      "cell_type": "code",
      "execution_count": 24,
      "metadata": {},
      "outputs": [
        {
          "output_type": "display_data",
          "metadata": {},
          "data": {
            "text/html": [
              "\n",
              "</div>"
            ]
          }
        }
      ],
      "source": [
        "df.iloc[\n",
        "    4552:4557, # <- rows\n",
        "    14:19      # <- columns\n",
        "]"
      ],
      "id": "d4c740c6"
    },
    {
      "cell_type": "markdown",
      "metadata": {},
      "source": [
        "We’re accessing the 4552nd through 4556th rows, and the 14th through\n",
        "18th columns.\n",
        "\n",
        "### 6.2 Label Indexing\n",
        "\n",
        "Where it can get confusing is when you see this:"
      ],
      "id": "21e50be3-20f8-4573-ad3d-8e62c6b940cb"
    },
    {
      "cell_type": "code",
      "execution_count": 25,
      "metadata": {},
      "outputs": [
        {
          "output_type": "display_data",
          "metadata": {},
          "data": {
            "text/html": [
              "\n",
              "</div>"
            ]
          }
        }
      ],
      "source": [
        "df.loc[\n",
        "    4552:4557,\n",
        "    ['latitude','longitude','property_type','room_type','price']\n",
        "]"
      ],
      "id": "45086058"
    },
    {
      "cell_type": "markdown",
      "metadata": {},
      "source": [
        "This code *seems* similar, but why does this use `loc` and not `iloc`,\n",
        "and why doesn’t it actually return the same data??? In this case, the\n",
        "**index** (the numbers down the left-hand side in bold) is numeric, so\n",
        "we can treat it as either a *label* (which allows us to use `df.loc`)\n",
        "*or* a list-type index (which allows us to use `df.iloc`). So with `loc`\n",
        "the value `4557` is treated as a ‘key’ so it’s retrieved, whereas with\n",
        "`.iloc` it’s treated like a list index accessed with `range` and so\n",
        "*isn’t* returned. It’s a bit weird, but hopefully makes *some* sense\n",
        "now.\n",
        "\n",
        "### 6.3 Non-numeric Indexes\n",
        "\n",
        "Notice the change in indexing because ‘listing_url’ is no longer a\n",
        "column, it’s the index now!"
      ],
      "id": "53592a85-050d-49a5-9bde-a7413586192a"
    },
    {
      "cell_type": "code",
      "execution_count": 26,
      "metadata": {},
      "outputs": [
        {
          "output_type": "display_data",
          "metadata": {},
          "data": {
            "text/html": [
              "\n",
              "</div>"
            ]
          }
        }
      ],
      "source": [
        "df.set_index('listing_url').iloc[0:3,13:18] "
      ],
      "id": "5d31f570"
    },
    {
      "cell_type": "markdown",
      "metadata": {},
      "source": [
        "Notice how this works differently if we specify a **non-numeric index**:"
      ],
      "id": "cb80031e-15b8-482e-b2d8-77e4fb19b208"
    },
    {
      "cell_type": "code",
      "execution_count": 27,
      "metadata": {},
      "outputs": [
        {
          "output_type": "display_data",
          "metadata": {},
          "data": {
            "text/html": [
              "\n",
              "</div>"
            ]
          }
        }
      ],
      "source": [
        "df.set_index('listing_url').loc[\n",
        "    :, # <- Special syntax that means 'all rows' (or all columns)\n",
        "    ['latitude','longitude','property_type','room_type','accommodates']\n",
        "].head(3)"
      ],
      "id": "cd56f6cc"
    },
    {
      "cell_type": "markdown",
      "metadata": {},
      "source": [
        "> **Caution**\n",
        ">\n",
        "> It’s vital that you understand how this code *works*. By which I mean\n",
        "> *why* it does something at all, not exactly how to use `loc` and\n",
        "> `iloc` (though that is also useful).\n",
        ">\n",
        "> `df.set_index(...)` changes the index from the default row number to\n",
        "> another field in the data frame. This operation *returns* a new data\n",
        "> frame with `listing_url` as its index. Because set index returned a\n",
        "> data frame, we can simply add *another* method call (`iloc` or `loc`)\n",
        "> on to the end of that line and *it* returns a new data frame in turn!\n",
        ">\n",
        "> The fact that each operation returns a new data frame (or data series)\n",
        "> is why you can even do this:\n",
        ">\n",
        "> ``` python\n",
        ">     df.set_index('listing_url').iloc[0:3].latitude.mean()\n",
        "> ```\n",
        ">\n",
        ">     np.float64(51.500523858482154)\n",
        "\n",
        "## 7. Exploring Your Data\n",
        "\n",
        "Let’s start over *again* from the saved data:"
      ],
      "id": "b64b6a43-4611-4c90-9a69-5962921751ff"
    },
    {
      "cell_type": "code",
      "execution_count": 29,
      "metadata": {},
      "outputs": [],
      "source": [
        "df = pd.read_csv(path, low_memory=False, usecols=cols)"
      ],
      "id": "49f08982"
    },
    {
      "cell_type": "markdown",
      "metadata": {},
      "source": [
        "### 7.1 Selecting Rows\n",
        "\n",
        "> **🔗 Connections**\n",
        ">\n",
        "> You will want to refer to the\n",
        "> [Randomness](https://jreades.github.io/fsds/sessions/week5.html#pre-recorded-lectures)\n",
        "> lecture to understand how we can select the *same* random sample each\n",
        "> time and to the session on\n",
        "> [Logic](https://jreades.github.io/fsds/sessions/week5.html#pre-recorded-lectures)\n",
        "> lecture to cover `NaN`s and `NA`s.\n",
        "\n",
        "> **Difficulty: Low**\n",
        "\n",
        "I often like to start my EDA by simply printing out randomly-selected\n",
        "rows to get a feel for what’s in the data. Does what I see square with\n",
        "what I read in the documentation? What does the `name` look like? What\n",
        "do I see in `last_scraped` and is it a sensible? What’s the `id` field\n",
        "for?"
      ],
      "id": "2ac75f98-c40a-48e4-b7e3-63547ed2959f"
    },
    {
      "cell_type": "code",
      "execution_count": 30,
      "metadata": {},
      "outputs": [
        {
          "output_type": "display_data",
          "metadata": {},
          "data": {
            "text/html": [
              "\n",
              "<p>3 rows × 34 columns</p>\n",
              "</div>"
            ]
          }
        }
      ],
      "source": [
        "df.sample(3)"
      ],
      "id": "dc8081d0"
    },
    {
      "cell_type": "markdown",
      "metadata": {},
      "source": [
        "See if you can work out from the documentation (Google search time!) how\n",
        "to get the same ‘random’ sample every time you re-run this code block:\n",
        "\n",
        "##### 7.1.0.1 Question"
      ],
      "id": "a32636ee-1982-48b3-8718-1889f8eb896d"
    },
    {
      "cell_type": "code",
      "execution_count": null,
      "metadata": {},
      "outputs": [],
      "source": [
        "df.sample(3, ??)"
      ],
      "id": "9cc2ce09-8fa9-4baf-8988-4d4d3ab721d6"
    },
    {
      "cell_type": "markdown",
      "metadata": {},
      "source": [
        "### 7.2 Dealing with NaNs and Nulls\n",
        "\n",
        "> **Difficulty: Hard.**\n",
        ">\n",
        "> There is a *lot* going on here and you should be paying close\n",
        "> attention.\n",
        "\n",
        "If you really dig into the data you will see that a number of data types\n",
        "that aren’t ‘appropriate’ for their contents: the id columns are floats;\n",
        "the dates aren’t dates; there’s a boolean that’s not a boolean… It would\n",
        "be nice to fix these!\n",
        "\n",
        "> **Note**\n",
        ">\n",
        "> I had intended to ask you to fix these by combining code from previous\n",
        "> weeks with information provided in the lecture, but it turns out that\n",
        "> the InsideAirbnb data set is *dirty*. There are a lot of `NaN` values\n",
        "> and some of these are *deeply* problematic for some of the column\n",
        "> types in pandas. There are also a number of challenges with other\n",
        "> columns so, instead, I’ve opted to show you how I would clean this\n",
        "> data as a *first pass* to get it into a format where it’s tractable\n",
        "> for further cleaning.\n",
        "\n",
        "#### 7.2.1 Identifying Problem Rows\n",
        "\n",
        "The reason I’m not asking you to do this part yourselves is that it took\n",
        "me nearly an hour just to work out why I couldn’t convert some of the\n",
        "columns to the right data types; then I started finding rows like these:"
      ],
      "id": "affaf967-25e2-4fd7-b23e-6c1e0969afb6"
    },
    {
      "cell_type": "code",
      "execution_count": 33,
      "metadata": {},
      "outputs": [
        {
          "output_type": "display_data",
          "metadata": {},
          "data": {
            "text/html": [
              "\n",
              "</div>"
            ]
          }
        }
      ],
      "source": [
        "df[df.price.isna()][['id','name','price','room_type']].head(4)"
      ],
      "id": "7e798409"
    },
    {
      "cell_type": "code",
      "execution_count": 34,
      "metadata": {},
      "outputs": [
        {
          "output_type": "display_data",
          "metadata": {},
          "data": {
            "text/html": [
              "\n",
              "</div>"
            ]
          }
        }
      ],
      "source": [
        "df[df.room_type.isna()][['id','name','price','room_type']].head(4)"
      ],
      "id": "939c20f9"
    },
    {
      "cell_type": "code",
      "execution_count": 35,
      "metadata": {},
      "outputs": [
        {
          "output_type": "display_data",
          "metadata": {},
          "data": {
            "text/html": [
              "\n",
              "</div>"
            ]
          }
        }
      ],
      "source": [
        "df[~(df.price.str.startswith('$', na=False))][['id','name','price','room_type']].head(4)"
      ],
      "id": "516a4a3c"
    },
    {
      "cell_type": "markdown",
      "metadata": {},
      "source": [
        "If I had to guess, I’d say that it’s the result some kind of partial\n",
        "extract/write process because there *are* elements in some of the\n",
        "problem row(s) that look right but they are in the wrong columns. So we\n",
        "can *probably* drop some of these rows, but one thing to do is look at\n",
        "the frequency of NaNs across the data frame *first*. So we need to look\n",
        "for NaNs and Nulls, but it’s quite obvious that a `NaN` in the listing\n",
        "id is a basic problem and we should [drop\n",
        "these](https://chrisalbon.com/python/data_wrangling/pandas_dropping_column_and_rows/)."
      ],
      "id": "f8dc67d0-1bcf-48bd-8ba3-891a6fd31f08"
    },
    {
      "cell_type": "code",
      "execution_count": 36,
      "metadata": {},
      "outputs": [
        {
          "output_type": "display_data",
          "metadata": {},
          "data": {
            "text/html": [
              "\n",
              "</div>"
            ]
          }
        }
      ],
      "source": [
        "df[df.id.isna()][['id','name','price','room_type']]"
      ],
      "id": "93092459"
    },
    {
      "cell_type": "markdown",
      "metadata": {},
      "source": [
        "As always, if you don’t know that’s going on, break it down:\n",
        "\n",
        "-   You have seen how column works (`[[<column names>]]`), so that’s\n",
        "    just selecting the columns that we want to show;\n",
        "-   You know how row selection works (`df[<selection criteria>]`), so\n",
        "    that isn’t anything really new either;\n",
        "-   So the only really new part is `df.id.isna()`: `df.id` is the `id`\n",
        "    column (we could have written this `df['id']` if we wanted) and\n",
        "    `isna()` is a test for whether or not a value is NaN.\n",
        "\n",
        "So this shows that only one row in the 10,000 row sub-sample has a NaN\n",
        "for its id.\n",
        "\n",
        "If you’re not sure what the next line does, try breaking it down by\n",
        "running the inner bits before you run the `drop` command; and also try\n",
        "looking online for examples of how to use `df.drop` (e.g. just up\n",
        "above):"
      ],
      "id": "04513dc5-8597-4b97-a9bf-8d4534739369"
    },
    {
      "cell_type": "code",
      "execution_count": 37,
      "metadata": {},
      "outputs": [
        {
          "output_type": "stream",
          "name": "stdout",
          "text": [
            "Data frame contains 93,486 rows.\n",
            "Data frame contains 93,481 rows."
          ]
        }
      ],
      "source": [
        "print(f\"Data frame contains {df.shape[0]:,} rows.\")\n",
        "df.drop(df[df.id.isna()].index.array, axis=0, inplace=True)\n",
        "print(f\"Data frame contains {df.shape[0]:,} rows.\")"
      ],
      "id": "4f199572"
    },
    {
      "cell_type": "markdown",
      "metadata": {},
      "source": [
        "With that really troublesome data out of the way, you can now turn to\n",
        "[counting NaNs or\n",
        "Nulls](https://www.delftstack.com/howto/python-pandas/how-to-count-the-nan-values-in-a-column-in-pandas-dataframe/#df.isnull.sum-method-to-count-nan-occurrences)\n",
        "in the remaining data with a view to identifying other rows that can\n",
        "probably be dropped.\n",
        "\n",
        "#### 7.2.2 Counting Nulls by Column\n",
        "\n",
        "As a starting point I would look to drop the columns that contain only\n",
        "NaNs. Remember that we’ve dropped a row from the data frame so our\n",
        "maximum is now $n-1$)! Notice how this next command works:"
      ],
      "id": "0e37b4e4-7c72-4411-9771-7e9adadeee8a"
    },
    {
      "cell_type": "code",
      "execution_count": 38,
      "metadata": {},
      "outputs": [],
      "source": [
        "# returns a data frame with all values set to True/False according to Null status\n",
        "df.isnull() \n",
        "# counts these values by column (we'll see another option in a moment)\n",
        "df.isnull().sum(axis=0) \n",
        "# Sort results in descending order\n",
        "df.isnull().sum(axis=0).sort_values(ascending=False) "
      ],
      "id": "2cebac2b"
    },
    {
      "cell_type": "code",
      "execution_count": 39,
      "metadata": {},
      "outputs": [
        {
          "output_type": "display_data",
          "metadata": {},
          "data": {
            "text/plain": [
              "license                 93481\n",
              "host_about              45684\n",
              "beds                    32197\n",
              "bathrooms               32126\n",
              "price                   32063\n",
              "first_review            24746\n",
              "reviews_per_month       24746\n",
              "last_review             24746\n",
              "review_scores_rating    24746\n",
              "host_location           21192\n",
              "bedrooms                11686\n",
              "description              3189\n",
              "dtype: int64"
            ]
          }
        }
      ],
      "source": [
        "df.isnull().sum(axis=0).sort_values(ascending=False)[:12]"
      ],
      "id": "3bc05e39"
    },
    {
      "cell_type": "markdown",
      "metadata": {},
      "source": [
        "The most obvious ones here are: license, host_about, beds, bathrooms."
      ],
      "id": "2b17e03e-2e1a-4005-8743-7d7eeca89d2d"
    },
    {
      "cell_type": "code",
      "execution_count": 41,
      "metadata": {},
      "outputs": [],
      "source": [
        "df.drop(columns=['license','host_about'], inplace=True)"
      ],
      "id": "5f33b020"
    },
    {
      "cell_type": "markdown",
      "metadata": {},
      "source": [
        "Because we have dropped everything `inplace` the code simply runs and\n",
        "doesn’t return anything.\n",
        "\n",
        "#### 7.2.3 Counting Nulls by Row\n",
        "\n",
        "We now know that there *are* still quite a few problems, but we do still\n",
        "need a way to identify the rows that are causing most of the problems.\n",
        "\n",
        "Notice here that the change from `axis=0` to `axis=1` changes the\n",
        "‘direction’ of the `sum` from columns to rows. And we are getting back a\n",
        "data series because the summing operation reduces it to just one column."
      ],
      "id": "dc3b6537-a41f-4180-b883-dbb4888c8f19"
    },
    {
      "cell_type": "code",
      "execution_count": 42,
      "metadata": {},
      "outputs": [
        {
          "output_type": "display_data",
          "metadata": {},
          "data": {
            "text/plain": [
              "78240    23\n",
              "56508    23\n",
              "52260    23\n",
              "50162    23\n",
              "77222    23\n",
              "4801     14\n",
              "8322     14\n",
              "45832    14\n",
              "13539    14\n",
              "4684     14\n",
              "dtype: int64"
            ]
          }
        }
      ],
      "source": [
        "df.isnull().sum(axis=1).sort_values(ascending=False).head(10)"
      ],
      "id": "aee792e1"
    },
    {
      "cell_type": "markdown",
      "metadata": {},
      "source": [
        "So that `Series` shows how many `NaN` values there are by index value\n",
        "(i.e. the row number). The first column is the row id, the second is the\n",
        "number of NaNs in that row.\n",
        "\n",
        "If we save the results to a variable called `probs` (i.e. problems) then\n",
        "we can decide what to do next."
      ],
      "id": "0b611c12-6650-4e31-aed4-4feccf39dd4b"
    },
    {
      "cell_type": "code",
      "execution_count": 43,
      "metadata": {},
      "outputs": [
        {
          "output_type": "stream",
          "name": "stdout",
          "text": [
            "<class 'pandas.core.series.Series'>"
          ]
        },
        {
          "output_type": "display_data",
          "metadata": {},
          "data": {
            "image/png": "[encoded data removed]"
          }
        }
      ],
      "source": [
        "probs = df.isnull().sum(axis=1)\n",
        "print(type(probs))       # Note that this has returned a series!\n",
        "probs.plot.hist(bins=30) # Oooooooh, check out what we can do with a series!"
      ],
      "id": "10baa0c3"
    },
    {
      "cell_type": "markdown",
      "metadata": {},
      "source": [
        "Looking at this histogram, I would think about dropping rows missing\n",
        "more than about 5 values on the basis that they are the ones that are\n",
        "most likely be problematic. We can use the index from `probs` to select\n",
        "out the rows we want to inspect from the main data frame.\n",
        "\n",
        "Here’s another bit of code that bears unpacking:"
      ],
      "id": "abc837ef-e416-4099-9fc9-099fc1288711"
    },
    {
      "cell_type": "code",
      "execution_count": 44,
      "metadata": {},
      "outputs": [
        {
          "output_type": "stream",
          "name": "stdout",
          "text": [
            "df contains 93,481 rows.\n",
            "df contains 82,856 rows."
          ]
        }
      ],
      "source": [
        "print(f\"df contains {df.shape[0]:,} rows.\")\n",
        "cutoff = 5\n",
        "df.drop(probs[probs > cutoff].index, inplace=True)\n",
        "print(f\"df contains {df.shape[0]:,} rows.\")"
      ],
      "id": "f3e16af7"
    },
    {
      "cell_type": "markdown",
      "metadata": {},
      "source": [
        "1.  `probs > 5`: this selects only those rows in the ‘probs’ series\n",
        "    whose value is greater than 5\n",
        "2.  `probs[...].index` returns the index values from the Series, which\n",
        "    we will then pass to the `drop` command.\n",
        "3.  `df.drop(..., inplace=True)` will then drop the rows selected by\n",
        "    `probs[probs>5].index`.\n",
        "\n",
        "## 8. Fixing Data Types\n",
        "\n",
        "When we fix the data types we are undertaking a kind of data\n",
        "‘profiling’: working out what kind of data we are working with and how\n",
        "it should be represented at the level of observations and columns. There\n",
        "are *huge* benefits to computer memory and diskspace usage to profiling\n",
        "and, consequently, huge gains to be made in the speed of data analysis.\n",
        "\n",
        "If you want to challenge yourself, then I’d suggest trying to work out\n",
        "how to adapt what we saw in previous weeks using the data type\n",
        "dictionary to map column names to column types; however, a more\n",
        "straightforward way to do this is to create different for loops for\n",
        "each.\n",
        "\n",
        "### 8.1 Profiling (Not Supported)\n",
        "\n",
        "> **Difficulty: Low.**\n",
        "\n",
        "The Pandas Profiling tool (rebranded a year or so back as\n",
        "[ydata-profiling](https://github.com/ydataai/ydata-profiling)) offers an\n",
        "alternative way of understanding what’s going on in your data. The\n",
        "output [looks rather nice](https://docs.profiling.ydata.ai/) and you\n",
        "might be tempted to ask why we didn’t use this straight away on the full\n",
        "data set – well, if you really want to know, see what happens when you\n",
        "profile all 70,000-odd rows and 70-odd columns in the raw data frame… in\n",
        "effect: while it’s ‘nice to have’, the likelihood of crashing your\n",
        "computer increases significantly and it’s a bit of a tangent, so that’s\n",
        "why it’s no longer included in the Podman image.\n",
        "\n",
        "If you *do* want to explore this then you’ll need to install the\n",
        "library, and **this is a good chance to look at how to install software\n",
        "on another machine**:"
      ],
      "id": "36482090-a2d2-4a1d-9f37-13a3d8d264d9"
    },
    {
      "cell_type": "code",
      "execution_count": 45,
      "metadata": {},
      "outputs": [],
      "source": [
        "from ydata_profiling import ProfileReport"
      ],
      "id": "c72e6442"
    },
    {
      "cell_type": "markdown",
      "metadata": {},
      "source": [
        "### 8.2 Managing Memory\n",
        "\n",
        "> **Difficulty: Low.**\n",
        "\n",
        "So as to *why* you’d want to fix your data types, there are two\n",
        "reasons: 1) to ensure that you can make the *most* of your data; 2) to\n",
        "ensure that it takes up as little space as possible in memory. Some\n",
        "simple examples:\n",
        "\n",
        "-   A column containing only the strings `'True'` (4 bytes) and\n",
        "    `'False'` (5 bytes) will take up vastly more space than a column\n",
        "    containing only `True` and `False` (1 **bit** each).\n",
        "-   A column containing only `'Red'`, `'Green'`, and `'Blue'` (3, 5, and\n",
        "    4 bytes each respectively) will take up much more space that a\n",
        "    column where we use the numbers `1, 2, 3` to represent these values\n",
        "    and have a map that tells us `1==Red`, `2==Blue`, and `3==Green`.\n",
        "\n",
        "Let’s test this idea out before looking more closely at how to convert\n",
        "each type of data:"
      ],
      "id": "e69923ee-0bc8-4b4a-adbf-6f4f63a6fc84"
    },
    {
      "cell_type": "code",
      "execution_count": 46,
      "metadata": {},
      "outputs": [
        {
          "output_type": "stream",
          "name": "stdout",
          "text": [
            "The raw memory usage of `room_type` is 5,741 Kb.\n",
            "The categorical memory usage of `room_type` is 729 Kb.\n",
            "That's 13% of the original!"
          ]
        }
      ],
      "source": [
        "# String type memory usage\n",
        "rtm = df.room_type.memory_usage(deep=True) \n",
        "# Categorical type memory usage\n",
        "ctm = df.room_type.astype('category').memory_usage(deep=True) \n",
        "\n",
        "print(f\"The raw memory usage of `room_type` is {rtm/1024:,.0f} Kb.\")\n",
        "print(f\"The categorical memory usage of `room_type` is {ctm/1024:,.0f} Kb.\")\n",
        "print(f\"That's {(ctm/rtm)*100:.0f}% of the original!\")"
      ],
      "id": "f8a74821"
    },
    {
      "cell_type": "code",
      "execution_count": 47,
      "metadata": {},
      "outputs": [
        {
          "output_type": "stream",
          "name": "stdout",
          "text": [
            "The raw memory usage of `host_is_superhost` is 4,686 Kb.\n",
            "The boolean memory usage of `host_is_superhost` is 728 Kb.\n",
            "That's 16% of the original!"
          ]
        }
      ],
      "source": [
        "# String type memory usage\n",
        "shm = df.host_is_superhost.memory_usage(deep=True) \n",
        "# Boolean type memory usage\n",
        "bhm = df.host_is_superhost.replace({'f':False, 't':True}).astype('bool').memory_usage(deep=True) \n",
        "\n",
        "print(f\"The raw memory usage of `host_is_superhost` is {shm/1024:,.0f} Kb.\")\n",
        "print(f\"The boolean memory usage of `host_is_superhost` is {bhm/1024:,.0f} Kb.\")\n",
        "print(f\"That's {(bhm/shm)*100:.0f}% of the original!\")"
      ],
      "id": "9158432d"
    },
    {
      "cell_type": "markdown",
      "metadata": {},
      "source": [
        "### 8.3 Boolean Values\n",
        "\n",
        "> **Difficulty: Moderate.**\n",
        "\n",
        "Let’s start with columns that are likely to be boolean:"
      ],
      "id": "80b5f2c6-454b-45b2-9a73-3bbf887c5f85"
    },
    {
      "cell_type": "code",
      "execution_count": 48,
      "metadata": {},
      "outputs": [
        {
          "output_type": "display_data",
          "metadata": {},
          "data": {
            "text/html": [
              "\n",
              "</div>"
            ]
          }
        }
      ],
      "source": [
        "bools = ['host_is_superhost']\n",
        "df.sample(5, random_state=43)[bools]"
      ],
      "id": "0eabcb15"
    },
    {
      "cell_type": "markdown",
      "metadata": {},
      "source": [
        "Here we have to `map` ‘t’ to True and ‘f’ to False *before* converting\n",
        "the column to a boolean type. If you simply tried to replace them with\n",
        "the strings ‘True’ and ‘False’, then any string that is not `None` would\n",
        "convert to a `True` boolean."
      ],
      "id": "ceab3682-25a9-4748-a079-f1ffdca28282"
    },
    {
      "cell_type": "code",
      "execution_count": 49,
      "metadata": {},
      "outputs": [
        {
          "output_type": "stream",
          "name": "stdout",
          "text": [
            "Converting host_is_superhost"
          ]
        }
      ],
      "source": [
        "# This approach requires us to map 't' \n",
        "# and 'f' to True and False\n",
        "for b in bools:\n",
        "    print(f\"Converting {b}\")\n",
        "    df[b] = df[b].replace({'f':False, 't':True}).astype('bool')"
      ],
      "id": "dc12c636"
    },
    {
      "cell_type": "code",
      "execution_count": 50,
      "metadata": {},
      "outputs": [
        {
          "output_type": "display_data",
          "metadata": {},
          "data": {
            "text/html": [
              "\n",
              "</div>"
            ]
          }
        }
      ],
      "source": [
        "df.sample(5, random_state=43)[bools]"
      ],
      "id": "f5a6b6be"
    },
    {
      "cell_type": "markdown",
      "metadata": {},
      "source": [
        "### 8.4 Dates\n",
        "\n",
        "> **Difficulty: Hard.**\n",
        "\n",
        "I’ve found dates to be particularly challenging, though pandas has\n",
        "*tried* to make this process less painful than it was a few years ago.\n",
        "What can be particularly frustrating is if *one* row has a non-sensical\n",
        "date value (e.g. a `t`, as happened in 2019/20) then the entire type\n",
        "conversion will fail. When that happens, pandas is not great about\n",
        "communicating where the problem occurred and I had to work it out by\n",
        "trying to convert *parts* of each series (using `.iloc`) to the datetime\n",
        "type until I had a block that failed. I then knew that I could narrow\n",
        "this down further using integer location indexing."
      ],
      "id": "b68c0d41-5284-420f-98ea-cf18a34120c9"
    },
    {
      "cell_type": "code",
      "execution_count": 51,
      "metadata": {},
      "outputs": [
        {
          "output_type": "stream",
          "name": "stdout",
          "text": [
            "Currently host_since is of type 'object' \n"
          ]
        },
        {
          "output_type": "display_data",
          "metadata": {},
          "data": {
            "text/html": [
              "\n",
              "</div>"
            ]
          }
        }
      ],
      "source": [
        "dates = ['last_scraped','host_since','first_review','last_review']\n",
        "\n",
        "print(f\"Currently {dates[1]} is of type '{df[dates[1]].dtype}'\", \"\\n\")\n",
        "df.sample(5, random_state=43)[dates]"
      ],
      "id": "a493d3fd"
    },
    {
      "cell_type": "code",
      "execution_count": 52,
      "metadata": {},
      "outputs": [
        {
          "output_type": "stream",
          "name": "stdout",
          "text": [
            "Converting last_scraped\n",
            "Converting host_since\n",
            "Converting first_review\n",
            "Converting last_review"
          ]
        }
      ],
      "source": [
        "for d in dates:\n",
        "    print(\"Converting \" + d)\n",
        "    df[d] = pd.to_datetime(df[d])"
      ],
      "id": "ce19ca85"
    },
    {
      "cell_type": "code",
      "execution_count": 53,
      "metadata": {},
      "outputs": [
        {
          "output_type": "display_data",
          "metadata": {},
          "data": {
            "text/html": [
              "\n",
              "</div>"
            ]
          }
        }
      ],
      "source": [
        "df.sample(5, random_state=43)[dates]"
      ],
      "id": "7d4f22cb"
    },
    {
      "cell_type": "markdown",
      "metadata": {},
      "source": [
        "Of course, it’s not actually clear there what has changed! But if you\n",
        "dig a little more deeply:"
      ],
      "id": "48711a80-a8b3-49e1-bc4e-bebc971a2092"
    },
    {
      "cell_type": "code",
      "execution_count": 54,
      "metadata": {},
      "outputs": [
        {
          "output_type": "stream",
          "name": "stdout",
          "text": [
            "Now host_since is of type 'datetime64[ns]' \n"
          ]
        },
        {
          "output_type": "display_data",
          "metadata": {},
          "data": {
            "text/plain": [
              "90719      Tuesday August 25, 2015\n",
              "86895      Thursday April 04, 2024\n",
              "23856    Tuesday February 06, 2024\n",
              "11538      Monday October 14, 2019\n",
              "21073    Tuesday December 03, 2019\n",
              "Name: host_since, dtype: object"
            ]
          }
        }
      ],
      "source": [
        "print(f\"Now {dates[1]} is of type '{df[dates[1]].dtype}'\", \"\\n\")\n",
        "df.sample(5, random_state=45)[dates[1]].dt.strftime('%A %B %d, %Y')\n",
        "# Try some other formats!"
      ],
      "id": "8dd93202"
    },
    {
      "cell_type": "markdown",
      "metadata": {},
      "source": [
        "In that line of code we:\n",
        "\n",
        "-   Took a random sample (setting the state to 45),\n",
        "-   Took the second column from the dates list (`dates[1]`),\n",
        "-   Used the *date* ‘accessor method’ (`.dt`),\n",
        "-   And called `string format time` with the format `%A %B %d, %Y` (Full\n",
        "    Day of Week, Month Name, Date, 4-digit Year)\n",
        "\n",
        "### 8.5 Categories\n",
        "\n",
        "> **Difficulty: Moderate.**\n",
        "\n",
        "We know that these are likely to be categories because there’d be no\n",
        "other way to allow users to effectively search Airbnb."
      ],
      "id": "73c99d84-2432-440a-a445-0818dbb698ca"
    },
    {
      "cell_type": "code",
      "execution_count": 55,
      "metadata": {},
      "outputs": [
        {
          "output_type": "stream",
          "name": "stdout",
          "text": [
            "Currently room_type is of type 'object' \n"
          ]
        },
        {
          "output_type": "display_data",
          "metadata": {},
          "data": {
            "text/html": [
              "\n",
              "</div>"
            ]
          }
        }
      ],
      "source": [
        "cats = ['property_type','room_type']\n",
        "\n",
        "print(f\"Currently {cats[1]} is of type '{df[cats[1]].dtype}'\", \"\\n\")\n",
        "df.sample(5, random_state=42)[cats]"
      ],
      "id": "8c0944f0"
    },
    {
      "cell_type": "markdown",
      "metadata": {},
      "source": [
        "This next piece of code is quite useful for grouping and counting\n",
        "operations: we are counting the occurences of each unique value in part\n",
        "particular column or combination of columns:\n",
        "\n",
        "``` python\n",
        "df[cats[0]].value_counts()\n",
        "```\n",
        "\n",
        "    property_type\n",
        "    Entire rental unit              34289\n",
        "    Private room in rental unit     11681\n",
        "    Private room in home             9833\n",
        "    Entire condo                     8412\n",
        "    Entire home                      7437\n",
        "                                    ...  \n",
        "    Religious building                  1\n",
        "    Shared room in villa                1\n",
        "    Minsu                               1\n",
        "    Private room in nature lodge        1\n",
        "    Private room in floor               1\n",
        "    Name: count, Length: 94, dtype: int64\n",
        "\n",
        "``` python\n",
        "df[cats[1]].value_counts()\n",
        "```\n",
        "\n",
        "    room_type\n",
        "    Entire home/apt    54157\n",
        "    Private room       28197\n",
        "    Shared room          327\n",
        "    Hotel room           175\n",
        "    Name: count, dtype: int64\n",
        "\n",
        "> **Tip**\n",
        ">\n",
        "> One column has *many* different values (including Campers/RVs and\n",
        "> Yurts!), the other has just four. If I were looking to conduct\n",
        "> research I’d probably *start* with the `room_type` column since I may\n",
        "> not care about hotels and therefore never even need to decide whether\n",
        "> I care about boutique ones!"
      ],
      "id": "1ada8942-684c-43f0-a27c-e7242c486d45"
    },
    {
      "cell_type": "code",
      "execution_count": 58,
      "metadata": {},
      "outputs": [
        {
          "output_type": "stream",
          "name": "stdout",
          "text": [
            "Converting property_type\n",
            "Converting room_type"
          ]
        }
      ],
      "source": [
        "for c in cats:\n",
        "    print(f\"Converting {c}\")\n",
        "    df[c] = df[c].astype('category')"
      ],
      "id": "f6173582"
    },
    {
      "cell_type": "code",
      "execution_count": 59,
      "metadata": {},
      "outputs": [
        {
          "output_type": "stream",
          "name": "stdout",
          "text": [
            "Now room_type is of type 'category' \n",
            "\n",
            "['Entire home/apt' 'Hotel room' 'Private room' 'Shared room']"
          ]
        }
      ],
      "source": [
        "print(f\"Now {cats[1]} is of type '{df[cats[1]].dtype}'\", \"\\n\")\n",
        "print(df[cats[1]].cat.categories.values)"
      ],
      "id": "63fcb1f6"
    },
    {
      "cell_type": "code",
      "execution_count": 60,
      "metadata": {},
      "outputs": [
        {
          "output_type": "display_data",
          "metadata": {},
          "data": {
            "text/html": [
              "\n",
              "</div>"
            ]
          }
        }
      ],
      "source": [
        "df.sample(5, random_state=42)[cats]"
      ],
      "id": "ccdedb90"
    },
    {
      "cell_type": "markdown",
      "metadata": {},
      "source": [
        "### 8.6 Dealing with Strings\n",
        "\n",
        "> **Difficulty: Hard.**\n",
        "\n",
        "We’ll have to put some more work into dealing with the description and\n",
        "other ‘free-from’ text fields later in the term, but for now let’s just\n",
        "deal with a straightforward one: price!"
      ],
      "id": "ac3a51a5-aeaa-4d51-a148-68845c31e523"
    },
    {
      "cell_type": "code",
      "execution_count": 61,
      "metadata": {},
      "outputs": [
        {
          "output_type": "display_data",
          "metadata": {},
          "data": {
            "text/html": [
              "\n",
              "</div>"
            ]
          }
        }
      ],
      "source": [
        "money = ['price']\n",
        "df.sample(5, random_state=42)[money]"
      ],
      "id": "bf95a183"
    },
    {
      "cell_type": "markdown",
      "metadata": {},
      "source": [
        "**You will get an error when you run the next code block**, that’s\n",
        "because I want you to do a little thinking about how to extend the code\n",
        "to fix the data. You’ve already got the code you need to fix it, you\n",
        "just need to do a bit of thinking about ‘method chaining’!"
      ],
      "id": "09b63924-499a-42ad-b88d-d790b566f251"
    },
    {
      "cell_type": "code",
      "execution_count": 62,
      "metadata": {},
      "outputs": [
        {
          "output_type": "stream",
          "name": "stdout",
          "text": [
            "Converting price\n",
            "    xxxx Unable to convert price to float xxxx\n",
            "could not convert string to float: '1,000.00'"
          ]
        }
      ],
      "source": [
        "for m in money:\n",
        "    print(f\"Converting {m}\")\n",
        "    try:\n",
        "        df[m] = df[m].str.replace('$','', regex=False).astype('float')\n",
        "    except ValueError as e:\n",
        "        print(f\"    xxxx Unable to convert {m} to float xxxx\")\n",
        "        print(e)"
      ],
      "id": "207289d7"
    },
    {
      "cell_type": "markdown",
      "metadata": {},
      "source": [
        "Look closely at the error and then think about what you need to add to\n",
        "the code below:\n",
        "\n",
        "> **Note**\n",
        ">\n",
        "> For now don’t worry about what `regex=False` means. It will all make\n",
        "> sense when we get to *dealing with text*.\n",
        "\n",
        "##### 8.6.0.1 Question"
      ],
      "id": "41380fb1-c656-4d6c-aed4-ab3c989b18f8"
    },
    {
      "cell_type": "code",
      "execution_count": null,
      "metadata": {},
      "outputs": [],
      "source": [
        "for m in money:\n",
        "    print(f\"Converting {m}\")\n",
        "    df[m] = df[m].str.replace('$','', regex=False).str.replace(??).astype('float')"
      ],
      "id": "9f5e8533-d10b-4376-938d-0196786607e8"
    },
    {
      "cell_type": "code",
      "execution_count": 65,
      "metadata": {},
      "outputs": [
        {
          "output_type": "display_data",
          "metadata": {},
          "data": {
            "text/html": [
              "\n",
              "</div>"
            ]
          }
        }
      ],
      "source": [
        "df.sample(5, random_state=42)[money]"
      ],
      "id": "44c309ce"
    },
    {
      "cell_type": "markdown",
      "metadata": {},
      "source": [
        "And here’s a final thing to note that looks… a little odd:"
      ],
      "id": "c7d47a68-0545-4441-9d74-553de05dcbe6"
    },
    {
      "cell_type": "code",
      "execution_count": 66,
      "metadata": {},
      "outputs": [
        {
          "output_type": "display_data",
          "metadata": {},
          "data": {
            "text/html": [
              "\n",
              "</div>"
            ]
          }
        }
      ],
      "source": [
        "df.sort_values(by='price', ascending=False).head(5)[['id','name','price','minimum_nights']]"
      ],
      "id": "e656b30a"
    },
    {
      "cell_type": "markdown",
      "metadata": {},
      "source": [
        "### 8.7 Dealing with Integers\n",
        "\n",
        "> **Difficulty: Hard.**\n",
        "\n",
        "This is the issue that made me abandon the idea of making you clean the\n",
        "data yourselves. Although *floats* have no issues with `np.nan` in the\n",
        "Series, by default there are no numpy integer arrays that can cope with\n",
        "NaNs. This was such a major issue for Pandas that they’ve actually\n",
        "created their *own* data type that *does* support NaN values in integer\n",
        "columns. There are a lot of integer columns, but only one of them seems\n",
        "to be a problem."
      ],
      "id": "81336aa6-83a6-4dcd-885a-9f92c90d758f"
    },
    {
      "cell_type": "code",
      "execution_count": 67,
      "metadata": {},
      "outputs": [
        {
          "output_type": "stream",
          "name": "stdout",
          "text": [
            "Converting id\n",
            "Converting host_id\n",
            "Converting host_listings_count\n",
            "Converting host_total_listings_count\n",
            "Converting accommodates\n",
            "Converting beds\n",
            "  - !!!Converting to unsigned 16-bit integer!!!\n",
            "Converting minimum_nights\n",
            "Converting maximum_nights\n",
            "Converting availability_365"
          ]
        }
      ],
      "source": [
        "ints  = ['id','host_id','host_listings_count','host_total_listings_count','accommodates',\n",
        "         'beds','minimum_nights','maximum_nights','availability_365']\n",
        "for i in ints:\n",
        "    print(f\"Converting {i}\")\n",
        "    try:\n",
        "        df[i] = df[i].astype('float').astype('int')\n",
        "    except ValueError as e:\n",
        "        print(\"  - !!!Converting to unsigned 16-bit integer!!!\")\n",
        "        df[i] = df[i].astype('float').astype(pd.UInt16Dtype())"
      ],
      "id": "cf3f9a8a"
    },
    {
      "cell_type": "markdown",
      "metadata": {},
      "source": [
        "So we convert the column but using a `try / except` approach that allows\n",
        "to trap `ValueError` exceptions triggered by the presence of NaNs in the\n",
        "column. The following code tells us that there are just eight of these\n",
        "in the 10k sample, but they’re enough to cause the code to fail if you\n",
        "don’t trap them. The alternatives would be to: a) drop those rows; or b)\n",
        "leave the data as floats. For some reason the latter offends my sense of\n",
        "order, and the former feels like avoiding the problem rather than\n",
        "dealing with it."
      ],
      "id": "0c3df390-5f5e-4abf-9b18-1516005712cd"
    },
    {
      "cell_type": "code",
      "execution_count": 68,
      "metadata": {},
      "outputs": [
        {
          "output_type": "display_data",
          "metadata": {},
          "data": {
            "text/plain": [
              "beds\n",
              "False    60769\n",
              "True     22087\n",
              "Name: count, dtype: int64"
            ]
          }
        }
      ],
      "source": [
        "df.beds.isna().value_counts()"
      ],
      "id": "82a90740"
    },
    {
      "cell_type": "markdown",
      "metadata": {},
      "source": [
        "### 8.8 Validation\n",
        "\n",
        "> **Difficulty: Low.**\n",
        "\n",
        "Ordinarily, at this point I would then output information to confirm\n",
        "that all of the opeations I *think* I’ve undertaken were correctly\n",
        "applied."
      ],
      "id": "41126c1d-f766-4e1f-9f30-d541f69876f2"
    },
    {
      "cell_type": "code",
      "execution_count": 69,
      "metadata": {},
      "outputs": [],
      "source": [
        "df.info()"
      ],
      "id": "6ffc702d"
    },
    {
      "cell_type": "markdown",
      "metadata": {},
      "source": [
        "### 8.9 Saving\n",
        "\n",
        "Also at this point I would save a copy of the cleaned data, though I\n",
        "would only consider this data *partially* cleaned since we’ve not made\n",
        "it any further than just ensuring that each column is in an appropriate\n",
        "format and that some particularly problematic rows have been dropped!"
      ],
      "id": "2eee48d8-2152-419f-8cbd-fa676d03f761"
    },
    {
      "cell_type": "code",
      "execution_count": 70,
      "metadata": {},
      "outputs": [
        {
          "output_type": "stream",
          "name": "stdout",
          "text": [
            "Saved 82,856 rows of 32 columns to /home/jovyan/work/practicals/data/clean/20250615-London-listings.csv.gz\n",
            "Done."
          ]
        }
      ],
      "source": [
        "csv_out = Path(f'data/clean/{path.name}')\n",
        "pq_out  = Path(f'data/clean/{path.name.replace('.csv.gz','.parquet')}')\n",
        "\n",
        "if not csv_out.parent.exists():\n",
        "    print(f\"Creating {csv_out.parent}\")\n",
        "    csv_out.parent.mkdir(parents=True, exist_ok=True)\n",
        "    \n",
        "df.to_csv(csv_out, index=False)\n",
        "df.to_parquet(pq_out, index=False)\n",
        "print(f\"Saved {df.shape[0]:,} rows of {df.shape[1]:,} columns to {csv_out.resolve()}\")\n",
        "print(\"Done.\")"
      ],
      "id": "75d9fcd1"
    },
    {
      "cell_type": "markdown",
      "metadata": {},
      "source": [
        "We’ll shortly begin to look at the `parquet` file format because it’s\n",
        "fast, it preserves data types, it’s compressed, and it will avoid the\n",
        "kinds of the problems that come up when you move to/from CSV as a\n",
        "default; however, for now let’s keep working with what we understand.\n",
        "\n",
        "## 9. Selection using Criteria\n",
        "\n",
        "So far we’ve been taking primarily a row and column view of the data,\n",
        "now we want to think more formally about selecting ranges from within\n",
        "the data set…\n",
        "\n",
        "### 9.1 Selecting using Data Types\n",
        "\n",
        "> **Difficulty: Low.**\n",
        "\n",
        "If we wanted to filter in/out certain columns pandas can do that! Let’s\n",
        "try for floats and ints (*hint*: these are 64-bit data types).\n",
        "\n",
        "##### 9.1.0.1 Question"
      ],
      "id": "5d4cc423-c5f0-4f8d-831f-a21fde2dd05e"
    },
    {
      "cell_type": "code",
      "execution_count": null,
      "metadata": {},
      "outputs": [],
      "source": [
        "df.select_dtypes(include=[??])"
      ],
      "id": "c07e3e2e-4087-4ac7-ad67-47c2dc3d4bbc"
    },
    {
      "cell_type": "markdown",
      "metadata": {},
      "source": [
        "### 9.2 Selecting using Conditions\n",
        "\n",
        "> **Difficulty: Hard.**\n",
        "\n",
        "Conditional selection is usally done as a combination of the selection\n",
        "approaches above in combination with conditionals. So to try to select\n",
        "only the `Entire home/apt` room type we are testing for cases where the\n",
        "`room_type` equals our target term (`Entire home/apt`):\n",
        "\n",
        "##### 9.2.0.1 Question"
      ],
      "id": "c8ce0fb2-0fe7-4c8a-b442-d2065bd7be69"
    },
    {
      "cell_type": "code",
      "execution_count": null,
      "metadata": {},
      "outputs": [],
      "source": [
        "df[df.??=='??']['property_type'].value_counts().head(10)"
      ],
      "id": "0747ea60-591a-4a6d-b40a-2c9dd55fb5e3"
    },
    {
      "cell_type": "markdown",
      "metadata": {},
      "source": [
        "Your output should be:"
      ],
      "id": "1ea27218-d419-4268-92b3-09c9b3305941"
    },
    {
      "cell_type": "code",
      "execution_count": null,
      "metadata": {},
      "outputs": [],
      "source": [
        "property_type\n",
        "Entire rental unit           34289\n",
        "Entire condo                  8412\n",
        "Entire home                   7437\n",
        "Entire serviced apartment     1653\n",
        "Entire townhouse              1041\n",
        "Entire loft                    352\n",
        "Entire guesthouse              217\n",
        "Name: count, dtype: int64"
      ],
      "id": "be41f2ff-26e7-4125-9826-6b771a52ab62"
    },
    {
      "cell_type": "markdown",
      "metadata": {},
      "source": [
        "### 9.3 Arbitrary Selection Criteria\n",
        "\n",
        "> **Difficulty: Moderate, if the previous section made sense to you.**\n",
        "\n",
        "OK, now let’s look for the Entire home/apt listings that cost more than\n",
        "the average price of all listings… to do *that* let’s get a sense of\n",
        "where the mean and median value fall:\n",
        "\n",
        "##### 9.3.0.1 Question"
      ],
      "id": "303da4ad-6fb4-4727-87b0-4087aa7d638b"
    },
    {
      "cell_type": "code",
      "execution_count": null,
      "metadata": {},
      "outputs": [],
      "source": [
        "print(f\"The mean price is ${df.price.??():0.2f}\")\n",
        "print(f\"The median price is ${df.price.??():0.2f}\")"
      ],
      "id": "bbb52ac5-5ddc-410d-8dde-f592ab6241a0"
    },
    {
      "cell_type": "markdown",
      "metadata": {},
      "source": [
        "You should get:\n",
        "\n",
        "-   The mean price is \\$209.56\n",
        "-   The median price is \\$137.00\n",
        "\n",
        "You should see that the mean is higher than the median price but both\n",
        "are *very* roughly plausible values. Given your understanding of\n",
        "distributions from, say, Quantitative Methods, what can you say about\n",
        "the pricing distribution of Airbnb units?\n",
        "\n",
        "You might want to have a [look at the\n",
        "documentation](http://pandas.pydata.org/pandas-docs/stable/api.html#series):\n",
        "it’s rather a long list, but most of your descriptive stats are on that\n",
        "page in the [Cumulative / Descriptive\n",
        "Stats](http://pandas.pydata.org/pandas-docs/stable/api.html#computations-descriptive-stats)\n",
        "section, and there’s also lots of information about methods for\n",
        "[strings](http://pandas.pydata.org/pandas-docs/stable/api.html#string-handling)\n",
        "and [categorical\n",
        "data](http://pandas.pydata.org/pandas-docs/stable/api.html#categorical).\n",
        "\n",
        "#### 9.3.1 Filtering: it’s ‘logical’\n",
        "\n",
        "So we want to take `Entire home/apt` and filter the data set *together\n",
        "with* the price per night from the `price` column. For that, let’s use\n",
        "the mean price/night of \\$209.56. *Note*: this is totally arbitrary.\n",
        "\n",
        "##### 9.3.1.1 Question\n",
        "\n",
        "So here we want to filter on two values in the data set using `&`:"
      ],
      "id": "2512c004-bdf4-4f21-9c25-f096be31ac28"
    },
    {
      "cell_type": "code",
      "execution_count": null,
      "metadata": {},
      "outputs": [],
      "source": [
        "pricey = df[\n",
        "    (??) & \n",
        "    (df.price>df.price.??)\n",
        "]\n",
        "print(f\"Selected {pricey.shape[0]:,} rows\")"
      ],
      "id": "0823fd54-c617-4125-bb86-766cc5308287"
    },
    {
      "cell_type": "markdown",
      "metadata": {},
      "source": [
        "You should get 16,257 rows.\n",
        "\n",
        "In the code above we see two things:\n",
        "\n",
        "1.  The use of the bitwise `&` (it’s *not* the same as `and` and you\n",
        "    should recall our work with the `bitarray` earlier in the term).\n",
        "2.  The fact that you need parentheses around the selection in order to\n",
        "    make the the `&` work.\n",
        "\n",
        "### 9.4 Selection with an Aggregate\n",
        "\n",
        "> **Difficulty: Low.**\n",
        "\n",
        "Let’s find the cheapest and most expensive listings using `min` and\n",
        "`max` methods:\n",
        "\n",
        "##### 9.4.0.1 Question\n",
        "\n",
        "Least expensive:"
      ],
      "id": "93c1fcb2-c0e8-4ea2-9df1-025d900ef869"
    },
    {
      "cell_type": "code",
      "execution_count": null,
      "metadata": {},
      "outputs": [],
      "source": [
        "df[df.price==df.price.??()][['price','id','listing_url','room_type','description']]"
      ],
      "id": "db066574-e029-4c91-8270-90d2499d91af"
    },
    {
      "cell_type": "markdown",
      "metadata": {},
      "source": [
        "Most expensive:"
      ],
      "id": "617f5f49-0799-4f9b-98e0-b4d7fae43dd0"
    },
    {
      "cell_type": "code",
      "execution_count": null,
      "metadata": {},
      "outputs": [],
      "source": [
        "df[df.price==df.price.??()][['price','id','listing_url','room_type','description']]"
      ],
      "id": "90ed734b-a65c-4077-bd9f-1c84e6a13610"
    },
    {
      "cell_type": "markdown",
      "metadata": {},
      "source": [
        "You should see one or more units priced at exceedingly high levels… and\n",
        "here’s a way to see a few more of these budget-busting options."
      ],
      "id": "ae30cbdb-2164-46c1-a571-8205e295f94d"
    },
    {
      "cell_type": "code",
      "execution_count": 86,
      "metadata": {},
      "outputs": [
        {
          "output_type": "display_data",
          "metadata": {},
          "data": {
            "text/html": [
              "\n",
              "</div>"
            ]
          }
        }
      ],
      "source": [
        "df.sort_values(by='price', ascending=False).head(3)[\n",
        "    ['price','listing_url','room_type','description']\n",
        "]"
      ],
      "id": "4d11c9d7"
    },
    {
      "cell_type": "markdown",
      "metadata": {},
      "source": [
        "> **Stop: Ask yourself if the result is *plausible*.**\n",
        "\n",
        "##### 9.4.0.2 Question\n",
        "\n",
        "What do you make of this result?\n",
        "\n",
        "### 9.5 Selection with a Range\n",
        "\n",
        "> **Difficulty: Moderate**\n",
        "\n",
        "Perhaps we aren’t just looking for extremes… how about all of the\n",
        "properties falling within the middle of the distribution? We can ask for\n",
        "any abitrary quantile we like, so let’s go with the 25th and 75th\n",
        "percentile to get the middle 50% of the data. Google how to get\n",
        "percentiles from pandas.\n",
        "\n",
        "##### 9.5.0.1 Question"
      ],
      "id": "85e131c2-f6bf-4bb8-b240-bf077da2ed0a"
    },
    {
      "cell_type": "code",
      "execution_count": null,
      "metadata": {},
      "outputs": [],
      "source": [
        "dfr = df[ \n",
        "            (df.price > df.price.quantile(??)) & \n",
        "            (df.price < df.price.quantile(??)) ]\n",
        "\n",
        "print(f\"Lower Quartile: {df.price.quantile(??):>6.2f}\")\n",
        "print(f\"Upper Quartile: {df.price.quantile(??):>6.2f}\")\n",
        "print()\n",
        "print(f\"Range selected contains {dfr.shape[0]:,} rows.\")\n",
        "print(f\"Minimum price: {dfr.price.??():>6.2f}\")\n",
        "print(f\"Maximum price: {dfr.price.??():>6.2f}\")"
      ],
      "id": "d3b19cee-c6ef-4206-bd6f-d95bc378d144"
    },
    {
      "cell_type": "markdown",
      "metadata": {},
      "source": [
        "That example contains a few things to which you need to pay attention:\n",
        "\n",
        "1.  *Again* you can see that, with mutiple selections, we had to put\n",
        "    parentheses around each one – this forces Python to…\n",
        "2.  Process the `&` (bit-wise AND) that asks pandas to “Find all the\n",
        "    rows where condition 1 *AND* condition 2 are both `True`”. So it\n",
        "    calculates the `True`/`False` for the left side and the\n",
        "    `True`/`False` for the right side of the `&`, and then combines\n",
        "    them.\n",
        "\n",
        "I find this parentheses business annoying and frequently get an error\n",
        "when I forget to add them, but I’m guessing it’s tied to operator\n",
        "precedence and how the various operations are interpreted by Python.\n",
        "\n",
        "## 10. Deriving New Variables\n",
        "\n",
        "> **Difficulty: 🤯**\n",
        "\n",
        "Let’s try calculating several derived measures of distribution for the\n",
        "price… these deliberately demonstrate different ways of handling this\n",
        "process (and notice also the little call to `apply` that can perform\n",
        "additional tasks).\n",
        "\n",
        "#### 10.0.1 The *z*-Score\n",
        "\n",
        "The z-score is given by $z = (x - \\bar{x})/\\sigma$.\n",
        "\n",
        "##### 10.0.1.1 Question"
      ],
      "id": "5c62ff72-b36a-49db-b548-e23529cfa3b4"
    },
    {
      "cell_type": "code",
      "execution_count": null,
      "metadata": {},
      "outputs": [],
      "source": [
        "df['z'] = (df.?? - df.??.??()) / df.??.??()\n",
        "df.z.describe().apply(lambda x: f\"{x:5.5f}\")"
      ],
      "id": "47f00763-8681-4ff3-827f-82c94d255a7d"
    },
    {
      "cell_type": "markdown",
      "metadata": {},
      "source": [
        "#### 10.0.2 Inter-Quartile Standardisation\n",
        "\n",
        "The IQR-standardised score is given by $i = (x - Q_{1})/(Q_{3} - Q_{1})$\n",
        "\n",
        "##### 10.0.2.1 Question"
      ],
      "id": "ecb1ffbc-968a-44ce-8752-3347bd05b7f4"
    },
    {
      "cell_type": "code",
      "execution_count": null,
      "metadata": {},
      "outputs": [],
      "source": [
        "df['iqs'] = (df.price - ??)/(??-??)\n",
        "df.iqs.describe().apply(lambda x: f\"{x:5.5f}\")"
      ],
      "id": "4f73bcd5-9c7a-4ad9-8656-ffd46e07032c"
    },
    {
      "cell_type": "markdown",
      "metadata": {},
      "source": [
        "#### 10.0.3 Log-Normalisation\n",
        "\n",
        "The natural log of the price is gven by $ln(x)$\n",
        "\n",
        "##### 10.0.3.1 Question"
      ],
      "id": "e837905b-87ae-4cb3-a29e-74e924bc09ee"
    },
    {
      "cell_type": "code",
      "execution_count": null,
      "metadata": {},
      "outputs": [],
      "source": [
        "df['lnprice'] = np.log(??)\n",
        "df.lnprice.describe().apply(lambda x: f\"{x:5.5f}\")"
      ],
      "id": "d318279e-a07f-42eb-8bbf-9588145823a4"
    },
    {
      "cell_type": "markdown",
      "metadata": {},
      "source": [
        "## 11. Quick (and Dirty) Plotting\n",
        "\n",
        "Although we’ve spent a lot of time grappling with pandas code and\n",
        "cleaning/filtering/selecting data, one of the first things we should\n",
        "really do when exploring a new dataset is plot (aka graph) the data.\n",
        "We’ve left plotting until late in this practical so that we could see\n",
        "some other basic attributes of how pandas stores data. We’ll look at\n",
        "plotting and exploratory data analyses in much more detail across the\n",
        "following weeks, including using packages other than pandas.\n",
        "\n",
        "For now, let’s look at the basic plotting functionality pandas\n",
        "provides - in conjunctions with the online documentation for both\n",
        "[DataFrames](https://pandas.pydata.org/pandas-docs/stable/reference/index.html)\n",
        "and\n",
        "[Series](https://pandas.pydata.org/pandas-docs/stable/reference/index.html).\n",
        "There are also examples of all [the different types of plots pandas can\n",
        "produce](https://pandas.pydata.org/pandas-docs/stable/user_guide/visualization.html).\n",
        "\n",
        "> **MacOS plotting *without* Podman**\n",
        ">\n",
        "> MacOS users who are *not* using Podman will need to do certain things\n",
        "> in a specific order at the start of any notebook in order to show maps\n",
        "> or graphs. Please make a copy of the following code for any notebook\n",
        "> that you create and make it the *first* code that you run in the\n",
        "> notebook…\n",
        ">\n",
        "> ``` python\n",
        "> # Needed on a Mac\n",
        "> import matplotlib as mpl\n",
        "> mpl.use('TkAgg')\n",
        "> %matplotlib inline\n",
        "> import matplotlib.pyplot as plt\n",
        "> ```\n",
        "\n",
        "#### 11.0.1 Histograms\n",
        "\n",
        "> **Difficulty: Low**\n",
        "\n",
        "First, let’s see some of the ways we could visualise the distribution of\n",
        "the `Series` in the dataset:"
      ],
      "id": "30eb8367-f80e-438c-89ac-24da3634c4d2"
    },
    {
      "cell_type": "code",
      "execution_count": 96,
      "metadata": {},
      "outputs": [],
      "source": [
        "df.price.plot.hist() # histogram"
      ],
      "id": "5cdc832b"
    },
    {
      "cell_type": "markdown",
      "metadata": {},
      "source": [
        "If the code worked properly you should have just created a standard\n",
        "[histogram](https://pandas.pydata.org/pandas-docs/stable/reference/api/pandas.Series.plot.hist.html)\n",
        "plot (if you can’t see one, ask for help). However, a basic problem here\n",
        "may be the range of the data: if your maximum price is much more than\n",
        "£5,000 then you’ll find the majority of your data plotted in one bar,\n",
        "which isn’t very helpful.\n",
        "\n",
        "You can filter the data *and* pass in some simple options to improve the\n",
        "plotting:"
      ],
      "id": "2233a0f0-11bc-4463-92ec-8d505cccb9ee"
    },
    {
      "cell_type": "code",
      "execution_count": 97,
      "metadata": {},
      "outputs": [],
      "source": [
        "# Notice the ';' here to suppress `<AxesSubplot...>`\n",
        "# That information doesn't *always* appear, but whenever\n",
        "# you have unwanted textual output above your plot just\n",
        "# add a ';' on the end of the line of code!\n",
        "df[df.price < 1000].price.plot.hist(bins=50); "
      ],
      "id": "ce250504"
    },
    {
      "cell_type": "markdown",
      "metadata": {},
      "source": [
        "#### 11.0.2 KDE Plots\n",
        "\n",
        "> **Difficulty: Low**\n",
        "\n",
        "Similarly, we can produce a [Kernel Density Estimate\n",
        "plot](https://pandas.pydata.org/pandas-docs/stable/reference/api/pandas.Series.plot.kde.html).\n",
        "This time, instead of dropping data just before calling `plot` we’re\n",
        "going to modify the *limits* of the x-axis using `xlim`:\n",
        "\n",
        "##### 11.0.2.1 Question\n",
        "\n",
        "Look for information about using `xlim`:"
      ],
      "id": "2f49a1df-5cce-49fe-9b1c-a128e7763779"
    },
    {
      "cell_type": "code",
      "execution_count": null,
      "metadata": {},
      "outputs": [],
      "source": [
        "df.price.plot.kde(xlim=(??)); #kernel density estimate plot"
      ],
      "id": "9dda5cca-576b-4438-ba12-8022e3f75182"
    },
    {
      "cell_type": "markdown",
      "metadata": {},
      "source": [
        "Kind of handy, no? These aren’t the *best* looking plots, but they are\n",
        "all being generated on-the-fly for you by pandas with no more than a\n",
        "cheery `DataFrame.Series.plot.<plot type>`! Since those plots are all\n",
        "just method calls, many of them take optional parameters to change the\n",
        "colour, the notation (scientific or not), and other options. For\n",
        "example, many of the documentation pages linked to above are rather\n",
        "brief, but include a link to [the general options that can be applied to\n",
        "all\n",
        "`Series.plot`](https://pandas.pydata.org/pandas-docs/stable/reference/api/pandas.Series.plot.html)\n",
        "calls.\n",
        "\n",
        "This is why we like pandas: it allows us to be *constructively lazy*. We\n",
        "don’t need to know *how* a draw a KDE plot (though it always helps if\n",
        "you don’t see what you expected), we just need to know that pandas\n",
        "provides a method that will do it for you. And *that* is why it’s always\n",
        "worth having a [look at the\n",
        "documentation](https://pandas.pydata.org/pandas-docs/stable/reference/index.html).\n",
        "\n",
        "#### 11.0.3 A Slight Case of Over-Plotting\n",
        "\n",
        "Generally, Jupyter is clever enough to overlay plots one on top of the\n",
        "other if you call them all in the same cell. We’ll see ways to gain more\n",
        "control later, but this is still a good start! Note that here we also\n",
        "need to get rid of the `-inf` values from rows that had a price of £0.\n",
        "\n",
        "> **Bug Alert**\n",
        ">\n",
        "> The more we use pandas to sort and filter data the more you will start\n",
        "> to see a `SettingWithCopyWarning`. This happens because of an\n",
        "> interaction between how Pandas works and how Python works: when you\n",
        "> are working with a very large data set you don’t want to make a ‘deep\n",
        "> copy’ of the data structure every time you make a change to the data.\n",
        "> Instead, you get a ‘view’ into the data using a reference, which is a\n",
        "> just a lightweight shortcut. So what happens when you try to modify\n",
        "> that lightweight copy? Well, if you want to drop rows or columns then\n",
        "> you either want to make a `copy()` at that point, or you will have to\n",
        "> accept the warning *and* the computational risks that go with it."
      ],
      "id": "fc3ca1bc-0fee-425d-a9d9-cfe7865788f1"
    },
    {
      "cell_type": "code",
      "execution_count": 100,
      "metadata": {},
      "outputs": [],
      "source": [
        "# Calling copy() ensures the index is updated\n",
        "# and note that all subsequent plots will have\n",
        "# these £0 rows removed!\n",
        "df = df[df.price > 0].copy() \n",
        "df.z.plot.kde(xlim=[-2, 10])\n",
        "df.iqs.plot.kde(xlim=[-2, 10])\n",
        "df.lnprice.plot.kde();"
      ],
      "id": "f09c3762"
    },
    {
      "cell_type": "markdown",
      "metadata": {},
      "source": [
        "#### 11.0.4 Boxplots\n",
        "\n",
        "> **Difficulty: Low**\n",
        "\n",
        "A standard\n",
        "[boxplot](https://pandas.pydata.org/pandas-docs/stable/reference/api/pandas.Series.plot.box.html):"
      ],
      "id": "addef4c7-f324-47dd-b3d6-beb26310322a"
    },
    {
      "cell_type": "code",
      "execution_count": 101,
      "metadata": {},
      "outputs": [],
      "source": [
        "df.lnprice.plot.box(figsize=(4, 8));"
      ],
      "id": "3eb95cc7"
    },
    {
      "cell_type": "markdown",
      "metadata": {},
      "source": [
        "#### 11.0.5 Scatterplots\n",
        "\n",
        "> **Difficulty: Low**\n",
        "\n",
        "We can also plot two variables in a [scatter\n",
        "plot](http://pandas.pydata.org/pandas-docs/stable/generated/pandas.DataFrame.plot.scatter.html#pandas.DataFrame.plot.scatter)\n",
        "by applying a plot method to the `DataFrame` (not an individual\n",
        "`Series`):"
      ],
      "id": "e47d0194-3859-48cb-81b3-732fabb148a0"
    },
    {
      "cell_type": "code",
      "execution_count": 102,
      "metadata": {},
      "outputs": [],
      "source": [
        "df.plot.scatter(x='longitude', y='latitude', c='price', s=2, cmap='viridis', figsize=(15,10))"
      ],
      "id": "4ada8b17"
    },
    {
      "cell_type": "markdown",
      "metadata": {},
      "source": [
        "Note how the code above has the form `DataFrame.plot.<plot type>`, not\n",
        "`DataFrame.Series.plot.<plot type>` as in the prior plots. Think about\n",
        "why this then means we need the `x` and `y` arguments.\n",
        "\n",
        "Looking at the plot produced, it’s hard to see where the high values\n",
        "are, so we might want to think about ways that we could make it easier\n",
        "to spot the big numbers… We could, for instance, also vary the size of\n",
        "the point in a plot by some variable, but why does the following not\n",
        "really work?"
      ],
      "id": "522503c9-6b06-48eb-b22f-a37af71ede3c"
    },
    {
      "cell_type": "code",
      "execution_count": 103,
      "metadata": {},
      "outputs": [],
      "source": [
        "df.plot.scatter(x='longitude', y='latitude', c='price', s=(df.price/df.price.min()), cmap='viridis', figsize=(15,10))"
      ],
      "id": "a577a827"
    },
    {
      "cell_type": "markdown",
      "metadata": {},
      "source": [
        "And we can plot subsets of our data without creating a new object. See\n",
        "if you can work out what the following code is doing that is different\n",
        "from the last plot:"
      ],
      "id": "459c8692-7409-418a-9a5f-476641dedb66"
    },
    {
      "cell_type": "code",
      "execution_count": 104,
      "metadata": {},
      "outputs": [],
      "source": [
        "df[df.price > df.price.quantile(0.90)].plot.scatter(x='longitude', y='latitude', c='price', cmap='viridis', s=8)"
      ],
      "id": "2f1bb744"
    },
    {
      "cell_type": "markdown",
      "metadata": {},
      "source": [
        "#### 11.0.6 Hex Bin Plots\n",
        "\n",
        "> **Difficulty: Low**\n",
        "\n",
        "And pandas allows us to create ‘less standard’ plots, like a [hex bin\n",
        "plot](http://pandas.pydata.org/pandas-docs/stable/generated/pandas.DataFrame.plot.hexbin.html#pandas.DataFrame.plot.hexbin):"
      ],
      "id": "4829758f-483f-45a0-ae92-ee3704334e85"
    },
    {
      "cell_type": "code",
      "execution_count": 105,
      "metadata": {},
      "outputs": [],
      "source": [
        "df.plot.hexbin(x='longitude', y='latitude', gridsize=50, figsize=(10,7))"
      ],
      "id": "cdb9c75a"
    },
    {
      "cell_type": "markdown",
      "metadata": {},
      "source": [
        "That’s just a taste of what the basic plotting functionality of pandas\n",
        "can do. Feel free to explore more yourself and we’ll also see [the\n",
        "seaborn package](http://seaborn.pydata.org/index.html) later.\n",
        "\n",
        "## 12. Credits!\n",
        "\n",
        "##### 12.0.0.1 License\n",
        "\n",
        "These teaching materials are licensed under a mix of [The MIT\n",
        "License](https://opensource.org/licenses/mit-license.php) and the\n",
        "[Creative Commons Attribution-NonCommercial-ShareAlike 4.0\n",
        "license](https://creativecommons.org/licenses/by-nc-sa/4.0/).\n",
        "\n",
        "##### 12.0.0.2 Acknowledgements:\n",
        "\n",
        "Supported by the [Royal Geographical\n",
        "Society](https://www.rgs.org/HomePage.htm) (with the Institute of\n",
        "British Geographers) with a Ray Y Gildea Jr Award.\n",
        "\n",
        "##### 12.0.0.3 Potential Dependencies:\n",
        "\n",
        "This notebook may depend on the following libraries: pandas, matplotlib"
      ],
      "id": "4a3c195e-68e3-4c8d-93e4-8ad7d7a6d895"
    }
  ],
  "nbformat": 4,
  "nbformat_minor": 5,
  "metadata": {
    "kernelspec": {
      "name": "python3",
      "display_name": "Python 3 (ipykernel)",
      "language": "python",
      "path": "/opt/conda/share/jupyter/kernels/python3"
    },
    "language_info": {
      "name": "python",
      "codemirror_mode": {
        "name": "ipython",
        "version": "3"
      },
      "file_extension": ".py",
      "mimetype": "text/x-python",
      "nbconvert_exporter": "python",
      "pygments_lexer": "ipython3",
      "version": "3.12.11"
    }
  }
}