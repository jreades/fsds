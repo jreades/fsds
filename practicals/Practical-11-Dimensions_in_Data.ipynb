{
  "cells": [
    {
      "cell_type": "markdown",
      "metadata": {},
      "source": [
        "## Practical 11: Dimensions in Data\n",
        "\n",
        "Transformation & Dimensionality Reduction\n",
        "\n",
        "In this session the focus is on MSOA-level Census data from 2011. We’re\n",
        "going to explore this as a *possible* complement to the InsideAirbnb\n",
        "data. Although it’s not ideal to use 2011 data with scraped from Airbnb\n",
        "this year, we:\n",
        "\n",
        "1.  Have little choice as the 2021 data is only just starting to come\n",
        "    through from the Census and the London Data Store hasn’t been\n",
        "    updated (still!); and\n",
        "2.  Could usefully do a bit of thinking about whether the situation in\n",
        "    2011 might in some way help us to ‘predict’ the situation now…\n",
        "\n",
        "Ultimately, however, you don’t *need* to use this for your analysis,\n",
        "this practical is intended as a demonstration of how transformation and\n",
        "dimensionality reduction work in practice and the kinds of issues that\n",
        "come up.\n",
        "\n",
        "> **🔗 Connections**\n",
        ">\n",
        "> There are a *lot* of links across sessions now, as well as some\n",
        "> *forward links* to stuff we’ve not yet covered (see: `pandas.merge`).\n",
        "> We’ll pick these up as we move through the notebook.\n",
        "\n",
        "## 1. Preamble\n",
        "\n",
        "Let’s start with the usual bits of code to ensure plotting works, to\n",
        "import packages and load the data into memory."
      ],
      "id": "0385b65d-32d0-425a-b9e5-23966af13397"
    },
    {
      "cell_type": "code",
      "execution_count": 1,
      "metadata": {},
      "outputs": [],
      "source": [
        "ymd  = '20250615'\n",
        "city = 'London'\n",
        "host = 'https://orca.casa.ucl.ac.uk'\n",
        "url  = f'{host}/~jreades/data/{ymd}-{city}-listings.geoparquet'"
      ],
      "id": "89be6aae"
    },
    {
      "cell_type": "code",
      "execution_count": 2,
      "metadata": {},
      "outputs": [],
      "source": [
        "import re\n",
        "import numpy as np\n",
        "import pandas as pd\n",
        "import geopandas as gpd\n",
        "import seaborn as sns\n",
        "\n",
        "import matplotlib.cm as cm\n",
        "import matplotlib.pyplot as plt\n",
        "\n",
        "from sklearn.preprocessing import StandardScaler\n",
        "from sklearn.preprocessing import RobustScaler\n",
        "from sklearn.preprocessing import PowerTransformer\n",
        "\n",
        "try:\n",
        "    import umap\n",
        "except:\n",
        "    ! pip install umap-learn\n",
        "    import umap\n",
        "try:\n",
        "    from kneed import knee_locator\n",
        "except:\n",
        "    ! pip install kneed\n",
        "    from kneed import knee_locator"
      ],
      "id": "7c3a8d82"
    },
    {
      "cell_type": "code",
      "execution_count": 3,
      "metadata": {},
      "outputs": [],
      "source": [
        "from pathlib import Path\n",
        "from requests import get\n",
        "from functools import wraps\n",
        "\n",
        "def check_cache(f):\n",
        "    @wraps(f)\n",
        "    def wrapper(src:str, dst:str, min_size=100) -> Path:\n",
        "        if src.find('?') == -1:\n",
        "            url = Path(src)\n",
        "        else:\n",
        "            url = Path(src[:src.find('?')])\n",
        "        fn  = url.name  # Extract the filename\n",
        "        dsn = Path(f\"{dst}/{fn}\") # Destination filename\n",
        "        if dsn.is_file() and dsn.stat().st_size > min_size:\n",
        "            print(f\"+ {dsn} found locally!\")\n",
        "            return(dsn)\n",
        "        else:\n",
        "            print(f\"+ {dsn} not found, downloading!\")\n",
        "            return(f(src, dsn))\n",
        "    return wrapper\n",
        "\n",
        "@check_cache\n",
        "def cache_data(src:Path, dst:Path) -> str:\n",
        "    \"\"\"Downloads a remote file.\n",
        "    \n",
        "    The function sits between the 'read' step of a pandas or geopandas\n",
        "    data frame and downloading the file from a remote location. The idea\n",
        "    is that it will save it locally so that you don't need to remember to\n",
        "    do so yourself. Subsequent re-reads of the file will return instantly\n",
        "    rather than downloading the entire file for a second or n-th itme.\n",
        "    \n",
        "    Parameters\n",
        "    ----------\n",
        "    src : str\n",
        "        The remote *source* for the file, any valid URL should work.\n",
        "    dst : str\n",
        "        The *destination* location to save the downloaded file.\n",
        "        \n",
        "    Returns\n",
        "    -------\n",
        "    str\n",
        "        A string representing the local location of the file.\n",
        "    \"\"\"\n",
        "      \n",
        "    # Create any missing directories in dest(ination) path\n",
        "    # -- os.path.join is the reverse of split (as you saw above)\n",
        "    # but it doesn't work with lists... so I had to google how\n",
        "    # to use the 'splat' operator! os.makedirs creates missing\n",
        "    # directories in a path automatically.\n",
        "    if not dst.parent.exists():\n",
        "        dst.parent.mkdir(parents=True, exist_ok=True)\n",
        "        \n",
        "    # Download and write the file\n",
        "    with dst.open(mode='wb') as file:\n",
        "        response = get(src)\n",
        "        file.write(response.content)\n",
        "        \n",
        "    print(' + Done downloading...')\n",
        "\n",
        "    return dst.resolve()"
      ],
      "id": "2c415a44"
    },
    {
      "cell_type": "markdown",
      "metadata": {},
      "source": [
        "## 2. Loading MSOA Census Data\n",
        "\n",
        "> **🔗 Connections**\n",
        ">\n",
        "> By this point you should be fairly familiar with the UK’s census\n",
        "> geographies as you’ll have encountered them in your GIS module. But in\n",
        "> case you need a refresher, here’s what the [Office for National\n",
        "> Statistics](https://www.ons.gov.uk/methodology/geography/ukgeographies/censusgeographies/census2021geographies)\n",
        "> says.\n",
        "\n",
        "> **Tip**\n",
        ">\n",
        "> We’re going to mix in the London’s MSOA ‘Atlas’ from the [London Data\n",
        "> Store](https://data.london.gov.uk/dataset). I would *strongly* suggest\n",
        "> that you have a look around the London Data Store as you develop your\n",
        "> thinking for the group assessment – you will likely find useful\n",
        "> additional data there!\n",
        "\n",
        "Once you see how we deal with this MSOA Atlas data you will be in a\n",
        "position to work with any other similarly complex (in terms of the\n",
        "headings and indexes) data set. If you’re feeling particularly ambitious\n",
        "you can actually do this *same* work at the LSOA scale using the [LSOA\n",
        "Atlas](https://data.london.gov.uk/dataset/lsoa-atlas) and LSOA\n",
        "boundaries… the process should be the same, though you will have smaller\n",
        "samples in each LSOA than you do in the MSOAs and calculations will take\n",
        "a bit longer to complete. You could also search on the ONS Census web\n",
        "site for data from 2021.\n",
        "\n",
        "There is a CSV file for the MSOA Atlas that would be easier to work\n",
        "with; however, the Excel file is useful for demonstrating how to work\n",
        "with multi-level indexes (an extension of last week’s work). Notice that\n",
        "below we do two new things when reading the XLS file:\n",
        "\n",
        "1.  We have to specify a sheet name because the file contains multiple\n",
        "    sheets.\n",
        "2.  We have to specify not just *one* header, we actually have to\n",
        "    specify three of them which generates a multi-level index (row 0 is\n",
        "    the top-level, row 1 is the second-level, etc.).\n",
        "\n",
        "### 2.1 Load MSOA Excel File\n",
        "\n",
        "> **Difficulty level: Low.**\n",
        "\n",
        "You might like to load the cached copy of the file into Excel so that\n",
        "you can see how the next bit works. You can find the rest of the MSOA\n",
        "Atlas [here](https://data.london.gov.uk/dataset/msoa-atlas)."
      ],
      "id": "b9dee1f6-5c02-431d-9003-b9fbd771edf0"
    },
    {
      "cell_type": "code",
      "execution_count": 4,
      "metadata": {},
      "outputs": [],
      "source": [
        "src_url   = 'https://data.london.gov.uk/download/msoa-atlas/39fdd8eb-e977-4d32-85a4-f65b92f29dcb/msoa-data.xls'\n",
        "dest_path = Path('data/msoa')"
      ],
      "id": "a4e72ef6"
    },
    {
      "cell_type": "markdown",
      "metadata": {},
      "source": [
        "You will want to manually download the data to have a look *in* Excel\n",
        "while you sort out the answer below. We’re mainly doing this so that you\n",
        "use and make sense of documentation for handling more complex data\n",
        "structures in Excel.\n",
        "\n",
        "##### 2.1.0.1 Question"
      ],
      "id": "dbe66a2a-0607-43f9-9d39-a2c5908322cf"
    },
    {
      "cell_type": "code",
      "execution_count": null,
      "metadata": {},
      "outputs": [],
      "source": [
        "excel_atlas = pd.read_excel(\n",
        "    cache_data(src_url, dest_path), \n",
        "    ???, # Which sheet is the data in?\n",
        "    header=[0,1,2])            # Where are the column names... there's three of them!"
      ],
      "id": "27ebb633-d663-48a1-91a0-b7b6ce49f9d7"
    },
    {
      "cell_type": "markdown",
      "metadata": {},
      "source": [
        "Notice the format of the output and notice that all of the empty cells\n",
        "in the Excel sheet have come through as\n",
        "`Unnamed: <col_no>_level_<level_no>`:"
      ],
      "id": "02da220e-0a17-4e0e-ab0f-62403692cd65"
    },
    {
      "cell_type": "code",
      "execution_count": 7,
      "metadata": {},
      "outputs": [],
      "source": [
        "excel_atlas.head(1)"
      ],
      "id": "bd8c086d"
    },
    {
      "cell_type": "code",
      "execution_count": 8,
      "metadata": {},
      "outputs": [],
      "source": [
        "print(f\"Shape of the MSOA Atlas data frame is: {excel_atlas.shape[0]:,} x {excel_atlas.shape[1]:,}\")"
      ],
      "id": "80c4556d"
    },
    {
      "cell_type": "markdown",
      "metadata": {},
      "source": [
        "You should get: `Shape of the MSOA Atlas data frame is: 984 x 207`, but\n",
        "how on earth are you going to access the data?\n",
        "\n",
        "### 2.2 Accessing MultiIndexes\n",
        "\n",
        "> **Difficulty: Moderate.**\n",
        ">\n",
        "> The difficulty is conceptual, not technical.\n",
        "\n",
        "Until now we have understood the pandas index as a single column-like\n",
        "‘thing’ in a data frame, but pandas also supports hierarchical and\n",
        "grouped indexes that allow us to interact with data in more complex\n",
        "ways… should we need it. Generally:\n",
        "\n",
        "-   MultiIndex == hierarchical index on *columns*\n",
        "-   DataFrameGroupBy == iterable pseudo-hierarchical index on *rows*\n",
        "\n",
        "> **🔗 Connections**\n",
        ">\n",
        "> We’ll be looking at **Grouping Data** in much more detail in [next\n",
        "> week](https://jreades.github.io/fsds/sessions/week9.html#lectures), so\n",
        "> the main thing to remember is that grouping is for rows,\n",
        "> multi-indexing is about columns.\n",
        "\n",
        "#### 2.2.1 Direct Access\n",
        "\n",
        "Of course, one way to get at the data is to use `.iloc[...]` since that\n",
        "refers to columns by *position* and ignores the complexity of the index.\n",
        "Try printing out the the first five rows of the first column using\n",
        "`iloc`:"
      ],
      "id": "3dab8065-22d0-4cd9-b76b-26f9ef7ce64d"
    },
    {
      "cell_type": "code",
      "execution_count": 10,
      "metadata": {},
      "outputs": [],
      "source": [
        "excel_atlas.iloc[???]"
      ],
      "id": "1a9cc012"
    },
    {
      "cell_type": "markdown",
      "metadata": {},
      "source": [
        "You should get:\n",
        "\n",
        "    0    E02000001\n",
        "    1    E02000002\n",
        "    2    E02000003\n",
        "    3    E02000004\n",
        "    4    E02000005\n",
        "    Name: (Unnamed: 0_level_0, Unnamed: 0_level_1, MSOA Code), dtype: object\n",
        "\n",
        "#### 2.2.2 Named Access\n",
        "\n",
        "But to do it by name is a little trickier:"
      ],
      "id": "0622bafc-d741-4c44-a312-d6dda75cdd5c"
    },
    {
      "cell_type": "code",
      "execution_count": 12,
      "metadata": {},
      "outputs": [],
      "source": [
        "excel_atlas.columns.tolist()[:5]"
      ],
      "id": "e38e3d3a"
    },
    {
      "cell_type": "markdown",
      "metadata": {},
      "source": [
        "Notice how asking for the first five columns has given us a list of…\n",
        "what exactly?\n",
        "\n",
        "##### 2.2.2.1 Question\n",
        "\n",
        "So to get the **same output** by column *name* what do you need to copy\n",
        "from above:"
      ],
      "id": "ca9f5cfb-70e8-44d5-8054-1e2703459ac2"
    },
    {
      "cell_type": "code",
      "execution_count": null,
      "metadata": {},
      "outputs": [],
      "source": [
        "excel_atlas.loc[0:5, ???]"
      ],
      "id": "33beae77-7e89-45b3-9f81-60c1133d2a4b"
    },
    {
      "cell_type": "markdown",
      "metadata": {},
      "source": [
        "The answer is *really* awkward, so we’re going to look for a better way…\n",
        "\n",
        "#### 2.2.3 Grouped Access\n",
        "\n",
        "Despite this, *one* way that MultiIndexes can be useful is for accessing\n",
        "column-slices from a ‘wide’ dataframe. We can, for instance, select all\n",
        "of the Age Structure columns in one go and it will be *simpler* than\n",
        "what we did above."
      ],
      "id": "566c9f97-c344-468b-ac23-af6f6871074d"
    },
    {
      "cell_type": "code",
      "execution_count": 15,
      "metadata": {},
      "outputs": [],
      "source": [
        "excel_atlas.loc[0:5, ('Age Structure (2011 Census)')]"
      ],
      "id": "0bc8f8d6"
    },
    {
      "cell_type": "markdown",
      "metadata": {},
      "source": [
        "#### 2.2.4 Understanding Levels\n",
        "\n",
        "This works because the MultiIndex tracks the columns using *levels*,\n",
        "with level 0 at the ‘top’ and level 2 (in our case) at the bottom. These\n",
        "are the unique *values* for the top level (‘row 0’):"
      ],
      "id": "da39e681-d071-43f6-b279-dfa173cdbc36"
    },
    {
      "cell_type": "code",
      "execution_count": 16,
      "metadata": {},
      "outputs": [],
      "source": [
        "excel_atlas.columns.levels[0]"
      ],
      "id": "db40cd55"
    },
    {
      "cell_type": "markdown",
      "metadata": {},
      "source": [
        "These are the *values* for those levels across the actual columns in the\n",
        "data frame, notice the repeated ‘Age Structure (2011 Census)’:"
      ],
      "id": "bab041cb-a015-4966-9ec2-ee10b3f5704a"
    },
    {
      "cell_type": "code",
      "execution_count": 17,
      "metadata": {},
      "outputs": [],
      "source": [
        "excel_atlas.columns.get_level_values(0)[:10]"
      ],
      "id": "6850321b"
    },
    {
      "cell_type": "markdown",
      "metadata": {},
      "source": [
        "And here are the *values* for the second level of the index (‘row 1’ in\n",
        "the Excel file):"
      ],
      "id": "8f773a61-c107-440d-8cac-1b43623e73d0"
    },
    {
      "cell_type": "code",
      "execution_count": 18,
      "metadata": {},
      "outputs": [],
      "source": [
        "excel_atlas.columns.get_level_values(1)[:10]"
      ],
      "id": "496686fb"
    },
    {
      "cell_type": "markdown",
      "metadata": {},
      "source": [
        "By extension, if we drop a level 0 index then *all* of the columns that\n",
        "it supports at levels 1 and 2 are *also* dropped: so when we drop\n",
        "`Mid-year Estimate totals` from level 0 then all 11 of the ‘Mid-year\n",
        "Estimate totals (2002…2012)’ columns are dropped in one go."
      ],
      "id": "b3999390-01b3-4876-a70c-bd56117323a8"
    },
    {
      "cell_type": "code",
      "execution_count": 19,
      "metadata": {},
      "outputs": [],
      "source": [
        "excel_atlas[['Mid-year Estimate totals']].head(3)"
      ],
      "id": "5088c7fc"
    },
    {
      "cell_type": "code",
      "execution_count": 20,
      "metadata": {},
      "outputs": [],
      "source": [
        "test = excel_atlas.drop(columns=['Mid-year Estimate totals'], axis=1, level=0)\n",
        "\n",
        "print(f\"Excel source had {excel_atlas.shape[1]} columns.\")\n",
        "print(f\"Test now has {test.shape[1]} columns.\")"
      ],
      "id": "0ec8e138"
    },
    {
      "cell_type": "code",
      "execution_count": 21,
      "metadata": {},
      "outputs": [],
      "source": [
        "# Tidy up if the variable exists\n",
        "if 'test' in locals():\n",
        "    del(test)"
      ],
      "id": "8cfda70d"
    },
    {
      "cell_type": "markdown",
      "metadata": {},
      "source": [
        "#### 2.2.5 Questions\n",
        "\n",
        "-   What data type is used for storing/accessing MultiIndexes?\n",
        "-   *Why* is this is the appropriate data type?\n",
        "-   How (conceptually) are the header rows in Excel are mapped on to\n",
        "    levels in pandas?\n",
        "\n",
        "### 2.3 Tidying Up\n",
        "\n",
        "> **Difficulty level: Low**\n",
        ">\n",
        "> Although there’s a lot of dealing with column names.\n",
        "\n",
        "#### 2.3.1 Dropping Named Levels\n",
        "\n",
        "There’s a *lot* of data in the data frame that we don’t need for our\n",
        "Airbnb work, so let’s go a bit further with the dropping of\n",
        "column-groups using the MultiIndex."
      ],
      "id": "007bea4e-cb9d-4353-9fac-0cebcc284fac"
    },
    {
      "cell_type": "code",
      "execution_count": 22,
      "metadata": {},
      "outputs": [
        {
          "output_type": "stream",
          "name": "stdout",
          "text": [
            "Shape of the MSOA Atlas data frame is now: 984 x 111"
          ]
        }
      ],
      "source": [
        "to_drop = ['Mid-year Estimate totals','Mid-year Estimates 2012, by age','Religion (2011)',\n",
        "           'Land Area','Lone Parents (2011 Census)','Central Heating (2011 Census)','Health (2011 Census)',\n",
        "           'Low Birth Weight Births (2007-2011)','Obesity','Incidence of Cancer','Life Expectancy',\n",
        "           'Road Casualties']\n",
        "tidy = excel_atlas.drop(to_drop, axis=1, level=0)\n",
        "print(f\"Shape of the MSOA Atlas data frame is now: {tidy.shape[0]} x {tidy.shape[1]}\")"
      ],
      "id": "4c026aba"
    },
    {
      "cell_type": "markdown",
      "metadata": {},
      "source": [
        "This should drop you down to 984 x 111. Notice below that the\n",
        "multi-level *index* has not changed but the multi-level *values*\n",
        "remaining have!"
      ],
      "id": "5978b359-243e-4e37-b4af-735601ecb58a"
    },
    {
      "cell_type": "code",
      "execution_count": 23,
      "metadata": {},
      "outputs": [],
      "source": [
        "print(f\"There are {len(tidy.columns.levels[0].unique())} categories.\") # The categories\n",
        "print(f\"But only {len(tidy.columns.get_level_values(0).unique())} values.\") # The actual values"
      ],
      "id": "152b6633"
    },
    {
      "cell_type": "markdown",
      "metadata": {},
      "source": [
        "#### 2.3.2 Selecting Columns using a List Comprehension\n",
        "\n",
        "Now we need to drop all of the percentages from the data set. These can\n",
        "be found at level 1, though they are specified in a number of different\n",
        "ways so you’ll need to come up with a way to find them in the level 1\n",
        "values using a list comprehension…\n",
        "\n",
        "I’d suggest looking for: “(%)”, “%”, and “Percentages”. You may need to\n",
        "check both start and end of the string. You could also use a regular\n",
        "expression here instead of multiple tests. Either way *works*, but have\n",
        "a think about the tradeoffs between intelligibility, speed, and what\n",
        "*you* understand…\n",
        "\n",
        "##### 2.3.2.1 Question\n",
        "\n",
        "Selection using multiple logical tests:"
      ],
      "id": "11cd0a63-2a5d-4d1a-95fb-1d2393e7732f"
    },
    {
      "cell_type": "code",
      "execution_count": null,
      "metadata": {},
      "outputs": [],
      "source": [
        "to_drop = [x for x in tidy.columns.get_level_values(1) if (???)]\n",
        "print(to_drop)"
      ],
      "id": "46530dfc-7eb5-4019-b967-7932489e9a41"
    },
    {
      "cell_type": "markdown",
      "metadata": {},
      "source": [
        "Selection using a regular expression:"
      ],
      "id": "54fc20a2-4d40-443b-bf99-4e03c1623dc9"
    },
    {
      "cell_type": "code",
      "execution_count": null,
      "metadata": {},
      "outputs": [],
      "source": [
        "print([x for x in tidy.columns.get_level_values(1) if re.search(???, x)])"
      ],
      "id": "ca2b5ae7-790d-40ce-9739-769fa4cb34aa"
    },
    {
      "cell_type": "markdown",
      "metadata": {},
      "source": [
        "Either way you should get a set of columns that ‘look’ like duplicates\n",
        "because we’re unpacking the top level of the hierarchical index: (only\n",
        "the first 10 are shown here):\n",
        "\n",
        "-   1: Percentages\n",
        "-   2: Percentages\n",
        "-   3: Percentages\n",
        "-   4: Percentages\n",
        "-   5: Percentages\n",
        "-   6: White (%)\n",
        "-   7: Mixed/multiple ethnic groups (%)\n",
        "-   8: Asian/Asian British (%)\n",
        "-   9: Black/African/Caribbean/Black British (%)\n",
        "-   10: Other ethnic group (%)\n",
        "\n",
        "> **🔗 Connections**\n",
        ">\n",
        "> See how regular expressions keep coming\n",
        "> [baaaaaaaaack](https://jreades.github.io/fsds/sessions/week7.html#lectures)?\n",
        "> That said, you can also often make use of simple string functions like\n",
        "> `startswith` and `endswith` for this problem.\n",
        "\n",
        "#### 2.3.3 Drop by Level\n",
        "\n",
        "You now need to drop these columns using the `level` keyword as part of\n",
        "your drop command. You have plenty of examples of how to drop values in\n",
        "place, but I’d suggest *first* getting the command correct (maybe\n",
        "duplicate the cell below and change the code so that the result is saved\n",
        "to a dataframe called `test` before overwriting `tidy`?) and *then*\n",
        "saving the change.\n",
        "\n",
        "##### 2.3.3.1 Question"
      ],
      "id": "bf4f397f-be0d-4b75-abfe-db7e949aab1a"
    },
    {
      "cell_type": "code",
      "execution_count": null,
      "metadata": {},
      "outputs": [],
      "source": [
        "tidy = tidy.drop(to_drop, axis=1, level=???)\n",
        "print(f\"Shape of the MSOA Atlas data frame is now: {tidy.shape[0]} x {tidy.shape[1]}\")"
      ],
      "id": "02feba1f-22cd-4124-ac62-febaf06d1c89"
    },
    {
      "cell_type": "markdown",
      "metadata": {},
      "source": [
        "The data frame should now be <code>984 x 76</code>. This is a *bit* more\n",
        "manageable though still a *lot* of data columns. Depending on what you\n",
        "decide to do for your final project you might want to revisit some of\n",
        "the columns that we dropped above…\n",
        "\n",
        "#### 2.3.4 Flattening the Index\n",
        "\n",
        "Although this ia big improvement, you’ll have trouble saving or linking\n",
        "this data to other inputs. The problem is that Level 2 of the\n",
        "multi-index is mainly composed of ‘Unnamed’ values and so we need to\n",
        "merge it with Level 1 to simplify our data frame, and then merge *that*\n",
        "with level 0…"
      ],
      "id": "8fbc88f4-ef29-4005-8e81-e20705f816ea"
    },
    {
      "cell_type": "code",
      "execution_count": 31,
      "metadata": {},
      "outputs": [],
      "source": [
        "tidy.columns.values[:3]"
      ],
      "id": "3071e324"
    },
    {
      "cell_type": "markdown",
      "metadata": {},
      "source": [
        "Let’s use code to sort this out!"
      ],
      "id": "2694234f-ad4c-464e-991d-361f5836dc4e"
    },
    {
      "cell_type": "code",
      "execution_count": 32,
      "metadata": {},
      "outputs": [],
      "source": [
        "new_cols = []\n",
        "for c in tidy.columns.values:\n",
        "    \n",
        "    #print(f\"Column label: {c}\")\n",
        "    l1 = f\"{c[0]}\"\n",
        "    l2 = f\"{c[1]}\"\n",
        "    l3 = f\"{c[2]}\"\n",
        "    \n",
        "    # The new column label\n",
        "    clabel = ''\n",
        "    \n",
        "    # Assemble new label from the levels\n",
        "    if not l1.startswith(\"Unnamed\"):\n",
        "        l1 = l1.replace(\" (2011 Census)\",'').replace(\" (2011)\",'').replace(\"Household \",'').replace(\"House Prices\",'').replace(\"Car or van availability\",'Vehicles').replace(' (2011/12)','')\n",
        "        l1 = l1.replace('Age Structure','Age').replace(\"Ethnic Group\",'').replace('Dwelling type','').replace('Income Estimates','')\n",
        "        clabel += l1\n",
        "    if not l2.startswith(\"Unnamed\"):\n",
        "        l2 = l2.replace(\"Numbers\",'').replace(\" House Price (£)\",'').replace(\"Highest level of qualification: \",'').replace(\"Annual Household Income (£)\",'hh Income').replace('Whole house or bungalow: ','').replace(' qualifications','')\n",
        "        l2 = l2.replace('At least one person aged 16 and over in household has English as a main language',\"1+ English as a main language\").replace(\"No people in household have English as a main language\",\"None have English as main language\")\n",
        "        clabel += ('-' if clabel != '' else '') + l2\n",
        "    if not l3.startswith(\"Unnamed\"):\n",
        "        clabel += ('-' if clabel != '' else '') + l3\n",
        "    \n",
        "    # Replace other commonly-occuring verbiage that inflates column name width\n",
        "    clabel = clabel.replace('--','-').replace(\" household\",' hh').replace('Owned: ','')\n",
        "    \n",
        "    #clabel = clabel.replace(' (2011 Census)','').replace(' (2011)','').replace('Sales - 2011.1','Sales - 2012')\n",
        "    #clabel = clabel.replace('Numbers - ','').replace(' (£)','').replace('Car or van availability','Vehicles')\n",
        "    #clabel = clabel.replace('Household Income Estimates (2011/12) - ','').replace('Age Structure','Age')\n",
        "    \n",
        "    new_cols.append(clabel)"
      ],
      "id": "3d238359"
    },
    {
      "cell_type": "markdown",
      "metadata": {},
      "source": [
        "The new columns should be:\n",
        "\n",
        "MSOA Code, MSOA Name, Age-All Ages, Age-0-15, Age-16-29, Age-30-44,\n",
        "Age-45-64, Age-65+, Age-Working-age, Households-All Households,\n",
        "Composition-Couple hh with dependent children, Composition-Couple hh\n",
        "without dependent children, Composition-Lone parent hh, Composition-One\n",
        "person hh, Composition-Other hh Types, White, Mixed/multiple ethnic\n",
        "groups, Asian/Asian British, Black/African/Caribbean/Black British,\n",
        "Other ethnic group, BAME, Country of Birth-United Kingdom, Country of\n",
        "Birth-Not United Kingdom, Language-1+ English as a main language,\n",
        "Language-None have English as main language, Tenure-Owned outright,\n",
        "Tenure-Owned with a mortgage or loan, Tenure-Social rented,\n",
        "Tenure-Private rented, Household spaces with at least one usual\n",
        "resident, Household spaces with no usual residents, Detached,\n",
        "Semi-detached, Terraced (including end-terrace), Flat, maisonette or\n",
        "apartment, Population Density-Persons per hectare (2012), Median-2005,\n",
        "Median-2006, Median-2007, Median-2008, Median-2009, Median-2010,\n",
        "Median-2011, Median-2012, Median-2013 (p), Sales-2005, Sales-2006,\n",
        "Sales-2007, Sales-2008, Sales-2009, Sales-2010, Sales-2011,\n",
        "Sales-2011.1, Sales-2013(p), Qualifications-No, Qualifications-Level 1,\n",
        "Qualifications-Level 2, Qualifications-Apprenticeship,\n",
        "Qualifications-Level 3, Qualifications-Level 4 and above,\n",
        "Qualifications-Other, Qualifications-Schoolchildren and full-time\n",
        "students: Age 18 and over, Economic Activity-Economically active: Total,\n",
        "Economic Activity-Economically active: Unemployed, Economic\n",
        "Activity-Economically inactive: Total, Economic Activity-Unemployment\n",
        "Rate, Adults in Employment-No adults in employment in hh: With dependent\n",
        "children, Total Mean hh Income, Total Median hh Income, Vehicles-No cars\n",
        "or vans in hh, Vehicles-1 car or van in hh, Vehicles-2 cars or vans in\n",
        "hh, Vehicles-3 cars or vans in hh, Vehicles-4 or more cars or vans in\n",
        "hh, Vehicles-Sum of all cars or vans in the area, Vehicles-Cars per hh\n",
        "\n",
        "> **Stop**\n",
        ">\n",
        "> Make sure you understand what is happening here before just moving on\n",
        "> to the next thing. Try adding `print()` statements if it will help it\n",
        "> to make sense. This sort of code comes up a *lot* in the real world."
      ],
      "id": "85da98d8-9475-431a-86d7-7d673dc078ca"
    },
    {
      "cell_type": "code",
      "execution_count": 34,
      "metadata": {},
      "outputs": [],
      "source": [
        "tidy.columns = new_cols  # <- Blow away complex index, replace with simple\n",
        "tidy.head()"
      ],
      "id": "44755e16"
    },
    {
      "cell_type": "markdown",
      "metadata": {},
      "source": [
        "You might want to have a look at *what* the code below drops first\n",
        "before just running it… remember that you can pull apart any complex\n",
        "code into pieces:"
      ],
      "id": "ed7a0107-5248-4a93-aebb-31f59d5b9a21"
    },
    {
      "cell_type": "code",
      "execution_count": 36,
      "metadata": {},
      "outputs": [],
      "source": [
        "tidy['MSOA Code'].isna()\n",
        "tidy[tidy['MSOA Code'].isna()].index"
      ],
      "id": "4b6f594a"
    },
    {
      "cell_type": "code",
      "execution_count": 37,
      "metadata": {},
      "outputs": [],
      "source": [
        "tidy.drop(index=tidy[tidy['MSOA Code'].isna()].index, inplace=True)"
      ],
      "id": "3ff2b237"
    },
    {
      "cell_type": "markdown",
      "metadata": {},
      "source": [
        "### 2.4 Add Inner/Outer London Mapping\n",
        "\n",
        "> **Difficulty: Moderate, since I’m not giving you many clues.**\n",
        "\n",
        "> **🔗 Connections**\n",
        ">\n",
        "> We touched on `lambda` functions last week; it’s a ‘trivial’ function\n",
        "> that we don’t even want to bother defining with `def`. We also used\n",
        "> the lambda function in the context of `apply` so this is just another\n",
        "> chance to remind yourself how this works. This is quite advanced\n",
        "> Python, so don’t panic if you don’t get it right away and have to do\n",
        "> some Googling…\n",
        "\n",
        "We want to add the borough name and a ‘subregion’ name. We already have\n",
        "the borough name buried in a *separate* column, so step 1 is to extract\n",
        "that from the MSOA Name. Step 2 is to use the borough name as a lookup\n",
        "to the subregion name using a **lambda** function. The format for a\n",
        "lambda function is usually\n",
        "`lambda x: <code that does something with x and returns a value>`. Hint:\n",
        "you’ve got a dictionary and you know how to use it!\n",
        "\n",
        "#### 2.4.1 Add Boroughs\n",
        "\n",
        "We first need to extract the borough names from one of the existing\n",
        "fields in the data frame… a *regex* that does *replacement* would be\n",
        "fastest and easiest: focus on what you *don’t* need from the MSOA Name\n",
        "**string** and **replacing** that using a **regex**…\n",
        "\n",
        "##### 2.4.1.1 Question"
      ],
      "id": "e1efcc73-51ef-40af-8233-bee9c3fb57fe"
    },
    {
      "cell_type": "code",
      "execution_count": null,
      "metadata": {},
      "outputs": [],
      "source": [
        "tidy['Borough'] = tidy['MSOA Name'].???\n",
        "tidy.Borough.unique()"
      ],
      "id": "a447c4dc-e99c-4859-92bd-0a6f4241d665"
    },
    {
      "cell_type": "markdown",
      "metadata": {},
      "source": [
        "You should get:\n",
        "\n",
        "    array(['City of London', 'Barking and Dagenham', 'Barnet', 'Bexley',\n",
        "           'Brent', 'Bromley', 'Camden', 'Croydon', 'Ealing', 'Enfield',\n",
        "           'Greenwich', 'Hackney', 'Hammersmith and Fulham', 'Haringey',\n",
        "           'Harrow', 'Havering', 'Hillingdon', 'Hounslow', 'Islington',\n",
        "           'Kensington and Chelsea', 'Kingston upon Thames', 'Lambeth',\n",
        "           'Lewisham', 'Merton', 'Newham', 'Redbridge',\n",
        "           'Richmond upon Thames', 'Southwark', 'Sutton', 'Tower Hamlets',\n",
        "           'Waltham Forest', 'Wandsworth', 'Westminster'], dtype=object)\n",
        "\n",
        "#### 2.4.2 Map Boroughs to Subregions\n",
        "\n",
        "And now you need to understand how to *apply* the mapping ot the Borough\n",
        "field using a `lambda` function. It’s fairly straightforward once you\n",
        "know the syntax: just a dictionary lookup. But as usual, you might want\n",
        "to first create a new cell and experiment with the output from the apply\n",
        "function before using it to write the `Subregion` field of the data\n",
        "frame…"
      ],
      "id": "5a31edcc-89e0-4aca-9014-c2c8f0e43e4a"
    },
    {
      "cell_type": "code",
      "execution_count": 41,
      "metadata": {},
      "outputs": [],
      "source": [
        "mapping = {}\n",
        "for b in ['Enfield','Waltham Forest','Redbridge','Barking and Dagenham','Havering','Greenwich','Bexley']:\n",
        "    mapping[b]='Outer East and North East'\n",
        "for b in ['Haringey','Islington','Hackney','Tower Hamlets','Newham','Lambeth','Southwark','Lewisham']:\n",
        "    mapping[b]='Inner East'\n",
        "for b in ['Bromley','Croydon','Sutton','Merton','Kingston upon Thames']:\n",
        "    mapping[b]='Outer South'\n",
        "for b in ['Wandsworth','Kensington and Chelsea','Hammersmith and Fulham','Westminster','Camden','City of London']:\n",
        "    mapping[b]='Inner West'\n",
        "for b in ['Richmond upon Thames','Hounslow','Ealing','Hillingdon','Brent','Harrow','Barnet']:\n",
        "    mapping[b]='Outer West and North West'"
      ],
      "id": "a243fa97"
    },
    {
      "cell_type": "markdown",
      "metadata": {},
      "source": [
        "##### 2.4.2.1 Question"
      ],
      "id": "2b4616be-ac5c-432e-94f4-9d44a87d34e5"
    },
    {
      "cell_type": "code",
      "execution_count": null,
      "metadata": {},
      "outputs": [],
      "source": [
        "tidy['Subregion'] = tidy.Borough.apply(???)"
      ],
      "id": "27f9f52f-98c3-4833-92a1-f7e67c3801f9"
    },
    {
      "cell_type": "markdown",
      "metadata": {},
      "source": [
        "#### 2.4.3 And Save\n",
        "\n",
        "There’s a little snipped of useful code to work out here: we need to\n",
        "check if the `clean` directory exists in the `data` directory; if we\n",
        "don’t then the `tidy.to_parquet()` call will fail."
      ],
      "id": "e89021ae-e900-45c8-a919-23a5c8a55f7e"
    },
    {
      "cell_type": "code",
      "execution_count": 44,
      "metadata": {},
      "outputs": [
        {
          "output_type": "stream",
          "name": "stdout",
          "text": [
            "Done."
          ]
        }
      ],
      "source": [
        "msoas = Path('data/clean/MSOA_Atlas.parquet')\n",
        "if not msoas.parent.exists():\n",
        "    msoas.parent.mkdir()\n",
        "tidy.to_parquet(msoas.resolve())\n",
        "print(\"Done.\")"
      ],
      "id": "f190d061"
    },
    {
      "cell_type": "markdown",
      "metadata": {},
      "source": [
        "#### 2.4.4 Questions\n",
        "\n",
        "-   What are the advantages to `apply` and `lambda` functions over\n",
        "    looping and named functions?\n",
        "-   When might you choose a named function over a lambda function?\n",
        "\n",
        "### 2.5 Merge Data & Geography\n",
        "\n",
        "> **Difficulty: Low, except for plotting.**\n",
        "\n",
        "> **🔗 Connections**\n",
        ">\n",
        "> We’ll cover joins (of which a `merge` is just one type) in the [final\n",
        "> week’s\n",
        "> lectures](https://jreades.github.io/fsds/sessions/week10.html#lectures),\n",
        "> but between what you’d done in GIS and what we have here there should\n",
        "> be enough here for you to start being able to make sense of how they\n",
        "> work so that you don’t have to wait until Week 10 to think about how\n",
        "> this could help you with your Group Assessment.\n",
        "\n",
        "First, we need to download the MSOA source file, which is a zipped\n",
        "archive of a Shapefile:"
      ],
      "id": "2d706e2e-4079-411d-a25e-af1fbf7a966a"
    },
    {
      "cell_type": "code",
      "execution_count": 45,
      "metadata": {},
      "outputs": [
        {
          "output_type": "stream",
          "name": "stdout",
          "text": [
            "+ data/clean/Middle_Layer_Super_Output_Areas__December_2011__EW_BGC_V2-shp.zip found locally!"
          ]
        },
        {
          "output_type": "stream",
          "name": "stderr",
          "text": [
            "/opt/conda/lib/python3.12/site-packages/pyogrio/raw.py:198: RuntimeWarning:\n",
            "\n",
            "driver ESRI Shapefile does not support open option DRIVER\n"
          ]
        }
      ],
      "source": [
        "# Oh look, we can read a Shapefile without needing to unzip it!\n",
        "msoas = gpd.read_file(\n",
        "    cache_data('https://github.com/jreades/fsds/blob/master/data/src/Middle_Layer_Super_Output_Areas__December_2011__EW_BGC_V2-shp.zip?raw=true', \n",
        "               msoas.parent), driver='ESRI Shapefile')"
      ],
      "id": "3a6f518b"
    },
    {
      "cell_type": "markdown",
      "metadata": {},
      "source": [
        "#### 2.5.1 Identifying Matching Columns\n",
        "\n",
        "Looking at the first few columns of each data frame, which one might\n",
        "allow us to link the two files together? You’ve done this in GIS.\n",
        "*Remember*: the column *names* don’t need to match for us to use them in\n",
        "a join, it’s the *values* that matter."
      ],
      "id": "908c4e8b-bf5c-4900-b0cd-20745d9bebce"
    },
    {
      "cell_type": "code",
      "execution_count": 46,
      "metadata": {},
      "outputs": [
        {
          "output_type": "stream",
          "name": "stdout",
          "text": [
            "Column names: MSOA Code, MSOA Name, Age-All Ages, Age-0-15, Age-16-29"
          ]
        },
        {
          "output_type": "display_data",
          "metadata": {},
          "data": {
            "text/html": [
              "\n",
              "</div>"
            ]
          }
        }
      ],
      "source": [
        "print(f\"Column names: {', '.join(tidy.columns.tolist()[:5])}\")\n",
        "tidy.iloc[:3,:5]"
      ],
      "id": "a75144de"
    },
    {
      "cell_type": "markdown",
      "metadata": {},
      "source": [
        "#### 2.5.2 Merge\n",
        "\n",
        "One more thing: if you’ve got more than one choice I’d *always* go with\n",
        "a code over a name because one is intended for matching and other is\n",
        "not…\n",
        "\n",
        "##### 2.5.2.1 Question"
      ],
      "id": "9b4de6f7-1edd-4ba5-bc7f-10face3c35a2"
    },
    {
      "cell_type": "code",
      "execution_count": null,
      "metadata": {},
      "outputs": [],
      "source": [
        "gdf = pd.merge(msoas, tidy, left_on=???, right_on=???, how='inner')\n",
        "gdf = gdf.drop(columns=['MSOA11CD','MSOA11NM','OBJECTID'])\n",
        "\n",
        "print(f\"Final MSOA Atlas data frame has shape {gdf.shape[0]:,} x {gdf.shape[1]}\")"
      ],
      "id": "d4657f23-0b17-4070-a0db-64bf9c413129"
    },
    {
      "cell_type": "markdown",
      "metadata": {},
      "source": [
        "You should get <code>Final data frame has shape 983 x 86</code>.\n",
        "\n",
        "#### 2.5.3 Plot Choropleth\n",
        "\n",
        "Let’s plot the median income in 2011 column using the `plasma` colour\n",
        "ramp… The rest is to show you how to customise a legend."
      ],
      "id": "415de851-3ed3-4079-8f09-9af57218923d"
    },
    {
      "cell_type": "code",
      "execution_count": 49,
      "metadata": {},
      "outputs": [],
      "source": [
        "col = 'Median-2011'\n",
        "fig = gdf.plot(column=???, cmap='???', \n",
        "         scheme='FisherJenks', k=7, edgecolor='None', \n",
        "         legend=True, legend_kwds={'frameon':False, 'fontsize':8},\n",
        "         figsize=(8,7));\n",
        "plt.title(col.replace('-',' '));\n",
        "\n",
        "# Now to modify the legend: googling \"geopandas format legend\"\n",
        "# brings me to: https://stackoverflow.com/a/56591102/4041902\n",
        "leg = fig.get_legend()\n",
        "leg._loc = 3\n",
        "\n",
        "for lbl in leg.get_texts():\n",
        "    label_text = lbl.get_text()\n",
        "    [low, hi] = label_text.split(', ')\n",
        "    new_text = f'£{float(low):,.0f} - £{float(hi):,.0f}'\n",
        "    lbl.set_text(new_text)\n",
        "\n",
        "plt.show();"
      ],
      "id": "091e6c50"
    },
    {
      "cell_type": "markdown",
      "metadata": {},
      "source": [
        "#### 2.5.4 Save"
      ],
      "id": "a40274ba-0c1c-4e80-80f4-4f6f361e8cca"
    },
    {
      "cell_type": "code",
      "execution_count": 50,
      "metadata": {},
      "outputs": [],
      "source": [
        "gdf.to_geoparquet(msoa.parent / 'MSOA_Atlas.geoparquet'))"
      ],
      "id": "29deae66"
    },
    {
      "cell_type": "markdown",
      "metadata": {},
      "source": [
        "#### 2.5.5 Questions\n",
        "\n",
        "-   Try changing the colour scheme, classification scheme, and number of\n",
        "    classes to see if you feel there’s a *better* opeion than the one\n",
        "    shown above… Copy the cell (click on anywhere outside the code and\n",
        "    then hit `C` to copy. Then click on this cell *once*, and hit `V` to\n",
        "    paste.\n",
        "\n",
        "## 3. Splitting into Test & Train\n",
        "\n",
        "> **Note**\n",
        ">\n",
        ">     **&#128279; Connections**: Here you will be using a standard approach in Machine Learningknown as _test/train  split_, although we _won't_ be doing any actual ML (&#128517;). Here we are just going to use it to explore some issues raised by normalisation and standardisation in [this week's lectures](https://jreades.github.io/fsds/sessions/week8.html#lectures).\n",
        "\n",
        "A standard approach to Machine Learning, and something that is becoming\n",
        "more widely used elsewhere, is the splitting of a large data into set\n",
        "into testing and training components. Typically, you would take 80-90%\n",
        "of your data to ‘train’ your algorithm and withold between 10-20% for\n",
        "validation (‘testing’). An even ‘stricter’ approach, in the sense of\n",
        "trying to ensure the robustness of your model against outlier effects,\n",
        "is [cross\n",
        "validation](https://scikit-learn.org/stable/modules/generated/sklearn.model_selection.cross_validate.html)\n",
        "such as [k-folds\n",
        "cross-validation](https://scikit-learn.org/stable/modules/generated/sklearn.model_selection.KFold.html).\n",
        "\n",
        "Sci-Kit Learn is probably *the* most important reason Python has become\n",
        "the *de fact* language of data science. Test/train-split is used when to\n",
        "avoid over-fitting when we are trying to **predict** something; so here\n",
        "Sci-Kit Learn *expects* that you’ll have an `X` which is your\n",
        "**predictors** (the inputs to your model) and a `y` which is the thing\n",
        "you’re **trying to predict** (because: $y = \\beta X + \\epsilon$).\n",
        "\n",
        "We’re not building a model here (that’s for Term 2!) so we’ll just\n",
        "‘pretend’ that we’re trying to predict the price of a listing and will\n",
        "set that up as our `y` data set *so that* we can see how the choice of\n",
        "normalisation/standardisation technique affects the robustness of the\n",
        "model against ‘new’ data. Notice too that you can pass a data frame\n",
        "directly to Sci-Kit Learn and it will split it for you.\n",
        "\n",
        "### 3.1 Reload\n",
        "\n",
        "> **Tip**\n",
        ">\n",
        ">     In future 'runs' of this notebook you can now just pick up here and skip all of Task 1.\n",
        "\n",
        "On subsequent runs of this notebook you might just want to start here!"
      ],
      "id": "ff5a7388-b4a0-406e-9d6f-5abdf0b75e8c"
    },
    {
      "cell_type": "code",
      "execution_count": 51,
      "metadata": {},
      "outputs": [],
      "source": [
        "# Notice this handy code: we check if the data is already\n",
        "# in memory. And notice this is just a list comprehension\n",
        "# to see what is locally loaded.\n",
        "if 'gdf' not in locals():\n",
        "    gdf = gpd.read_parquet(msoa.parent / 'MSOA_Atlas.geoparquet')\n",
        "print(gdf.shape)"
      ],
      "id": "fb4f6969"
    },
    {
      "cell_type": "code",
      "execution_count": 52,
      "metadata": {},
      "outputs": [],
      "source": [
        "categoricals = ['Borough','Subregion']\n",
        "for c in categoricals:\n",
        "    gdf[c] = gdf[c].astype('category')"
      ],
      "id": "262628fc"
    },
    {
      "cell_type": "markdown",
      "metadata": {},
      "source": [
        "### 3.2 Split\n",
        "\n",
        "> **Difficulty: Low!**\n",
        "\n",
        "For our purposes this is a little bit overkill as you could also use\n",
        "pandas’ `sample(frac=0.2)` and the indexes, but it’s useful to see how\n",
        "this works. You use test/train split to get **four** data sets out: the\n",
        "training data gives you two (predictors + target as separate data sets)\n",
        "and the testing data gives you two as well (predictors + target as\n",
        "separate data sets). These are sized accoridng to the `test_size`\n",
        "specfied in the `test_train_split` parameters."
      ],
      "id": "7cce4fe9-1788-4e03-8817-9d71b63cc2d8"
    },
    {
      "cell_type": "code",
      "execution_count": 53,
      "metadata": {},
      "outputs": [],
      "source": [
        "from sklearn.model_selection import train_test_split \n",
        "\n",
        "pdf = gdf['Median-2011'].copy() # pdf for Median *P*rice b/c we need *something*\n",
        "\n",
        "# df == *data* frame (a.k.a. predictors or independent variables)\n",
        "# pr == *predicted* value (a.k.a. dependent variable)\n",
        "# Notice we don't want the median price included in our training data\n",
        "df_train, df_test, pr_train, pr_test = train_test_split(\n",
        "                gdf.drop(columns=['Median-2011']), pdf, test_size=0.2, random_state=44)"
      ],
      "id": "c35add9f"
    },
    {
      "cell_type": "markdown",
      "metadata": {},
      "source": [
        "Below you should see that the data has been split roughly on the basis\n",
        "of the `test_size` parameter."
      ],
      "id": "96994368-a89c-4510-b76b-bd240c1e9cd9"
    },
    {
      "cell_type": "code",
      "execution_count": 54,
      "metadata": {},
      "outputs": [],
      "source": [
        "print(f\"Original data size: {gdf.shape[0]:,} x {gdf.shape[1]}\")\n",
        "print(f\"  Training data size: {df_train.shape[0]:,} x {df_train.shape[1]} ({(df_train.shape[0]/gdf.shape[0])*100:.0f}%)\")\n",
        "print(f\"  Testing data size:  {df_test.shape[0]:,} x {df_test.shape[1]} ({(df_test.shape[0]/gdf.shape[0])*100:.0f}%)\")"
      ],
      "id": "6e03733a"
    },
    {
      "cell_type": "markdown",
      "metadata": {},
      "source": [
        "Also notice the indexes of each pair of data sets match:"
      ],
      "id": "2196f1f6-05d4-4d30-b7ea-b3aa0eec5d4b"
    },
    {
      "cell_type": "code",
      "execution_count": 55,
      "metadata": {},
      "outputs": [],
      "source": [
        "print(\", \".join([str(x) for x in df_train.index[:10]]))\n",
        "print(\", \".join([str(x) for x in pr_train.index[:10]]))"
      ],
      "id": "5b535289"
    },
    {
      "cell_type": "markdown",
      "metadata": {},
      "source": [
        "### 3.3 Plot Test/Train Data\n",
        "\n",
        "> **Difficulty: Low, but important!**"
      ],
      "id": "8533d2ff-e2fc-4efa-a27f-643ce89e3963"
    },
    {
      "cell_type": "code",
      "execution_count": 56,
      "metadata": {},
      "outputs": [],
      "source": [
        "boros = gpd.read_file(os.path.join('data','geo','Boroughs.gpkg'))"
      ],
      "id": "4d4075c9"
    },
    {
      "cell_type": "code",
      "execution_count": 57,
      "metadata": {},
      "outputs": [],
      "source": [
        "f,axes = plt.subplots(1,2, figsize=(12,5))\n",
        "df_train.plot(ax=???)\n",
        "df_test.plot(ax=???)\n",
        "boros.plot(ax=???, facecolor='none', edgecolor='r', linewidth=.5, alpha=0.4)\n",
        "boros.plot(ax=???, facecolor='none', edgecolor='r', linewidth=.5, alpha=0.4)\n",
        "axes[0].set_title('Training Data')\n",
        "axes[1].set_title('Testing Data');\n",
        "axes[0].set_ylim(150000,210000)\n",
        "axes[1].set_ylim(150000,210000)\n",
        "axes[0].set_xlim(500000,565000)\n",
        "axes[1].set_xlim(500000,565000)\n",
        "axes[1].set_yticks([]);"
      ],
      "id": "8a5dc9f0"
    },
    {
      "cell_type": "markdown",
      "metadata": {},
      "source": [
        "#### 3.3.1 Questions\n",
        "\n",
        "-   Why might it be useful to produce a *map* of a test/train split?\n",
        "-   Why might it matter *more* if you were dealing with user locations\n",
        "    or behaviours?\n",
        "\n",
        "## 4. Normalisation\n",
        "\n",
        "The developers of [SciKit-Learn](https://scikit-learn.org/) define\n",
        "[normalisation](https://scikit-learn.org/stable/modules/preprocessing.html#normalization)\n",
        "as “scaling individual samples to have **unit norm**.” There are a *lot*\n",
        "of subtleties to this when you start dealing with ‘sparse’ data, but for\n",
        "the most part it’s worthwhile to think of this as a rescaling of the raw\n",
        "data to have similar ranges in order achieve some kind of comparison.\n",
        "This is such a common problem that sklearn offers a range of such\n",
        "(re)scalers including: `MinMaxScaler`.\n",
        "\n",
        "Let’s see what effect this has on the data!"
      ],
      "id": "9417a8ca-73d2-4d5b-8429-f7b6b61f4fd3"
    },
    {
      "cell_type": "code",
      "execution_count": 58,
      "metadata": {},
      "outputs": [],
      "source": [
        "# Sets some handy 'keywords' to tweak the Seaborn plot\n",
        "kwds = dict(s=7,alpha=0.95,edgecolor=\"none\")\n",
        "\n",
        "# Set the *hue order* so that all plots have the *same*\n",
        "# colour on the Subregion\n",
        "ho = ['Inner East','Inner West','Outer West and North West','Outer South','Outer East and North East']"
      ],
      "id": "b6077e2e"
    },
    {
      "cell_type": "markdown",
      "metadata": {},
      "source": [
        "### 4.1 Select Columns\n",
        "\n",
        "> **Difficulty: Low.**\n",
        "\n",
        "One thing you’ll need to explain is why I keep writing\n",
        "`df[cols+['Subregion']` and why I don’t just add it to the `cols`\n",
        "variable at the start? Don’t try to answer this now, get through the\n",
        "rest of Tasks 3 and 4 and see what you think."
      ],
      "id": "d0b402a6-9879-4de7-a7d2-7d6f0ccaf6e7"
    },
    {
      "cell_type": "code",
      "execution_count": 59,
      "metadata": {},
      "outputs": [],
      "source": [
        "cols = ['Tenure-Owned outright', 'Tenure-Owned with a mortgage or loan',\n",
        "        'Tenure-Social rented', 'Tenure-Private rented']"
      ],
      "id": "c5219887"
    },
    {
      "cell_type": "markdown",
      "metadata": {},
      "source": [
        "*Answer*: one part of the answer is that it makes it easy to change the\n",
        "columns we select without having to remember to keep `Subregion`, but\n",
        "the more important reason is that it allows us to re-use *this*\n",
        "‘definition’ of `cols` elsewhere throughout the rest of this practical\n",
        "without needing to remember to *remove* `Subregion`."
      ],
      "id": "f90deaeb-6fc9-4e66-81b8-8a40fe2381ae"
    },
    {
      "cell_type": "code",
      "execution_count": 60,
      "metadata": {},
      "outputs": [],
      "source": [
        "tr_raw  = df_train[cols+['Subregion']].copy() # train raw\n",
        "tst_raw = df_test[cols+['Subregion']].copy()  # test raw"
      ],
      "id": "446faba8"
    },
    {
      "cell_type": "markdown",
      "metadata": {},
      "source": [
        "### 4.2 Fit to Data\n",
        "\n",
        "> **Difficulty: Moderate if you want to understand what `reshape` is\n",
        "> doing.**\n",
        "\n",
        "Fit the training data:"
      ],
      "id": "d4837550-090a-46a1-ab8f-89b191d47b8d"
    },
    {
      "cell_type": "code",
      "execution_count": 61,
      "metadata": {},
      "outputs": [],
      "source": [
        "from sklearn.preprocessing import MinMaxScaler\n",
        "\n",
        "# Notice what this is doing! See if you can explain it clearly.\n",
        "scalers = [???.fit(???[x].values.reshape(-1,1)) for x in cols]"
      ],
      "id": "5911214b"
    },
    {
      "cell_type": "markdown",
      "metadata": {},
      "source": [
        "### 4.3 Apply Transformations\n",
        "\n",
        "> **Difficulty: Moderate.**\n",
        "\n",
        "Train:"
      ],
      "id": "3e1a8b1e-4395-4690-bef8-33617d8aa942"
    },
    {
      "cell_type": "code",
      "execution_count": 62,
      "metadata": {},
      "outputs": [],
      "source": [
        "tr_normed = tr_raw.copy()\n",
        "\n",
        "for i, sc in enumerate(scalers):\n",
        "    # Ditto this -- can you explain what this code is doing\n",
        "    tr_normed[cols[i]] = sc.transform(df_???[cols[i]].values.reshape(-1,1))"
      ],
      "id": "b6c3009e"
    },
    {
      "cell_type": "markdown",
      "metadata": {},
      "source": [
        "Test:"
      ],
      "id": "c00141d5-923b-4b30-a2f9-baa164f70e02"
    },
    {
      "cell_type": "code",
      "execution_count": 63,
      "metadata": {},
      "outputs": [],
      "source": [
        "tst_normed = tst_raw.copy()\n",
        "\n",
        "for i, sc in enumerate(scalers):\n",
        "    tst_normed[cols[i]] = sc.transform(df_???[cols[i]].values.reshape(-1,1))"
      ],
      "id": "449bd6ed"
    },
    {
      "cell_type": "markdown",
      "metadata": {},
      "source": [
        "> **Note**\n",
        ">\n",
        ">     **&#128279; Connections**: You don't _have_ to fully understand the next section, but if you are able to get your head around it then this will seriously help you to prepare for the use of more advanced techniques in modelling and programming.\n",
        "\n",
        "Check out the properties of `tst_normed` below. If you’ve understood\n",
        "what the `MinMaxScaler` is doing then you should be able to spot\n",
        "something unexpected in the transformed *test* outputs. If you’ve\n",
        "*really* understood this, you’ll see why this result is problematic for\n",
        "*models*. *Hint*: one way to think of it is an issue of\n",
        "**extrapolation**."
      ],
      "id": "9667a968-95a7-4253-9315-3a7674255451"
    },
    {
      "cell_type": "code",
      "execution_count": 64,
      "metadata": {},
      "outputs": [],
      "source": [
        "for c in cols:\n",
        "    print(f\"  Minimum: {tst_normed[c].min():.4f}\")\n",
        "    ???"
      ],
      "id": "9cb30a52"
    },
    {
      "cell_type": "markdown",
      "metadata": {},
      "source": [
        "### 4.4 Plot Distributions\n",
        "\n",
        "> **Difficulty: Moderate.**"
      ],
      "id": "ea36a98f-94a6-4af3-a36a-67d41696e2ae"
    },
    {
      "cell_type": "code",
      "execution_count": 65,
      "metadata": {},
      "outputs": [],
      "source": [
        "tr_raw.columns     = [re.sub('(-|/)',\"\\n\",x) for x in tr_raw.columns.values]\n",
        "tst_raw.columns    = [re.sub('(-|/)',\"\\n\",x) for x in tst_raw.columns.values]\n",
        "tr_normed.columns  = [re.sub('(-|/)',\"\\n\",x) for x in tr_normed.columns.values]\n",
        "tst_normed.columns = [re.sub('(-|/)',\"\\n\",x) for x in tst_normed.columns.values]"
      ],
      "id": "73111a79"
    },
    {
      "cell_type": "code",
      "execution_count": 66,
      "metadata": {},
      "outputs": [],
      "source": [
        "sns.pairplot(data=tr_raw, hue='Subregion', diag_kind='kde', corner=True, plot_kws=kwds, hue_order=ho);"
      ],
      "id": "646ce9d5"
    },
    {
      "cell_type": "code",
      "execution_count": 67,
      "metadata": {},
      "outputs": [],
      "source": [
        "sns.pairplot(data=tr_normed, hue='Subregion', diag_kind='kde', corner=True, plot_kws=kwds, hue_order=ho);"
      ],
      "id": "69285799"
    },
    {
      "cell_type": "markdown",
      "metadata": {},
      "source": [
        "#### 4.4.1 Questions\n",
        "\n",
        "-   Why do I keep writing `df[cols+['Subregion']`? Why I don’t just add\n",
        "    Subregions to the `cols` variable at the start?\n",
        "-   What has changed between the two plots (of `tr_raw` and\n",
        "    `tr_normed`)?\n",
        "-   What is the *potential* problem that the use of the transformer\n",
        "    fitted on `tr_normed` to data from `tst_normed` might cause? *Hint*:\n",
        "    this is why I asked you to investigate the data in the empty code\n",
        "    cell above.\n",
        "-   Can you explain what this is doing:\n",
        "    `[MinMaxScaler().fit(df_train[x].values.reshape(-1,1)) for x in cols]`?\n",
        "-   Can you explain what *this* is doing:\n",
        "    `sc.transform(df_test[cols[i]].values.reshape(-1,1))`?\n",
        "\n",
        "## 5. Standardisation\n",
        "\n",
        "Standardisation is typically focussed on rescaling data to have a mean\n",
        "(or median) of 0 and standard deviation or IQR of 1. That these\n",
        "approaches are conceptually tied to the idea of symmetric, unimodal data\n",
        "such as that encountered in the standard normal distribution. Rather\n",
        "confusingly, many data scientists will use standardisation and\n",
        "normalisation largely interchangeably!"
      ],
      "id": "57835d8d-f437-42bf-96c0-ac9cfc4089a5"
    },
    {
      "cell_type": "code",
      "execution_count": 68,
      "metadata": {},
      "outputs": [],
      "source": [
        "col = 'Vehicles-No cars or vans in hh'\n",
        "tr  = df_train[[col]].copy()\n",
        "tst = df_test[[col]].copy()"
      ],
      "id": "252e7637"
    },
    {
      "cell_type": "markdown",
      "metadata": {},
      "source": [
        "### 5.1 Z-Score Standardisation\n",
        "\n",
        "> **Difficulty: Low.**"
      ],
      "id": "08b1ae96-55cc-4e89-8926-af330108cf54"
    },
    {
      "cell_type": "code",
      "execution_count": 69,
      "metadata": {},
      "outputs": [],
      "source": [
        "stsc = StandardScaler().fit(tr[col].values.reshape(-1,1))\n",
        "\n",
        "tr[f\"Z. {col}\"]  = stsc.transform(???)\n",
        "tst[f\"Z. {col}\"] = stsc.transform(???)"
      ],
      "id": "8791ca12"
    },
    {
      "cell_type": "markdown",
      "metadata": {},
      "source": [
        "### 5.2 Inter-Quartile Standardisation\n",
        "\n",
        "> **Difficulty: Low.**"
      ],
      "id": "0ff857fe-b5ae-4a6b-8a6a-6b3d63aa87f2"
    },
    {
      "cell_type": "code",
      "execution_count": 70,
      "metadata": {},
      "outputs": [],
      "source": [
        "rs = ???(quantile_range=(25.0, 75.0)).fit(???)\n",
        "\n",
        "tr[f\"IQR. {col}\"] = rs.transform(???)\n",
        "tst[f\"IQR. {col}\"] = rs.transform(???)"
      ],
      "id": "0309c700"
    },
    {
      "cell_type": "markdown",
      "metadata": {},
      "source": [
        "### 5.3 Plot Distributions\n",
        "\n",
        "> **Note**\n",
        ">\n",
        ">     **&#128279; Connections**: The point of these next plots is simply to show that *linear* transformations (which are 'reversible') is about changing things like the magnitude/scale of our data but doesn't fundamentally change relationships *between* observations.\n",
        "\n",
        "> **Difficulty: Low.**"
      ],
      "id": "ef5858a0-a000-445f-bd2f-43552d68d75f"
    },
    {
      "cell_type": "code",
      "execution_count": 71,
      "metadata": {},
      "outputs": [],
      "source": [
        "sns.jointplot(data=tr, x=f\"{col}\", y=f\"Z. {col}\", kind='kde'); # hex probably not the best choice"
      ],
      "id": "09bf68ad"
    },
    {
      "cell_type": "code",
      "execution_count": 72,
      "metadata": {},
      "outputs": [],
      "source": [
        "sns.jointplot(data=tr, x=f\"{col}\", y=f\"IQR. {col}\", kind='kde'); # hex probably not the best choice"
      ],
      "id": "ba5e3cfb"
    },
    {
      "cell_type": "code",
      "execution_count": 73,
      "metadata": {},
      "outputs": [],
      "source": [
        "sns.jointplot(data=tr, x=f\"Z. {col}\", y=f\"IQR. {col}\", kind='hex'); # hex probably not the best choice"
      ],
      "id": "7a6c8d7b"
    },
    {
      "cell_type": "markdown",
      "metadata": {},
      "source": [
        "Perhaps a little more useful…"
      ],
      "id": "8ed61f20-b52e-4a71-93cd-6432b0cfa29f"
    },
    {
      "cell_type": "code",
      "execution_count": 74,
      "metadata": {},
      "outputs": [],
      "source": [
        "ax = sns.kdeplot(tr[f\"Z. {col}\"])\n",
        "sns.kdeplot(tr[f\"IQR. {col}\"], color='r', ax=ax)\n",
        "plt.legend(loc='upper right', labels=['Standard', 'Robust']) # title='Foo'\n",
        "ax.ticklabel_format(useOffset=False, style='plain')\n",
        "ax.set_xlabel(\"Standardised Value for No cars or vans in hh\")"
      ],
      "id": "4a4f25fe"
    },
    {
      "cell_type": "markdown",
      "metadata": {},
      "source": [
        "#### 5.3.1 Questions?\n",
        "\n",
        "-   Can you see the differences between these two rescalers?\n",
        "-   Can you explain why you might want to choose one over the other?\n",
        "\n",
        "## 6. Non-Linear Transformations\n",
        "\n",
        "> **Note**\n",
        ">\n",
        ">     **&#128279; Connections**: Now *these* transformations are not directly revsersible because they change the actual relationships between observations in the data. We use these when we need to achieve particular 'behaviours' from our data in order to improve our model's 'predictive' ability. Even a simple regression is doing a kind of prediction ($y = \\beta X + \\epsilon$). You covered these concepts in [this week's lectures](https://jreades.github.io/fsds/sessions/week8.html#lectures).\n",
        "\n",
        "So transformations are useful when a data series has features that make\n",
        "comparisons or analysis difficult, or that affect our ability to intuit\n",
        "meaningful difference. By manipulating the data using one or more\n",
        "mathematical operations we can sometimes make it more *tractable* for\n",
        "subsequent analysis. In other words, it’s all about the *context* of our\n",
        "data.\n",
        "\n",
        "<figure>\n",
        "<a href=\"http://www.youtube.com/watch?v=-VjcCr4uM6w\"><img\n",
        "src=\"http://img.youtube.com/vi/-VjcCr4uM6w/0.jpg\" /></a>\n",
        "<figcaption>How tall is tall?</figcaption>\n",
        "</figure>\n",
        "\n",
        "From above, we know the *Median Income* data are *not* normally\n",
        "distributed, but can we work out what distribution best represents\n",
        "*Median Income*? This can be done by comparing the shape of the\n",
        "histogram to the shapes of theoretical distributitions. For example:\n",
        "\n",
        "-   the\n",
        "    [log-normal](https://en.wikipedia.org/wiki/Log-normal_distribution)\n",
        "    distribution\n",
        "-   the\n",
        "    [exponential](https://en.wikipedia.org/wiki/Exponential_distribution)\n",
        "    distribution\n",
        "-   the [Poisson](https://en.wikipedia.org/wiki/Poisson_distribution)\n",
        "    distribution (for non-continuous data)\n",
        "\n",
        "From looking at those theoretical distributions, we might make an\n",
        "initial guess as to the type of distribution. There are actually *many*\n",
        "other distributions encountered in real life data, but these ones are\n",
        "particuarly common. A wider view of this would be that [quantile and\n",
        "power\n",
        "transformations](https://scikit-learn.org/stable/modules/preprocessing.html#non-linear-transformation)\n",
        "are ways of preserving the rank of values but lose many of the other\n",
        "features of the relationships that might be preserved by, for instance,\n",
        "the standard scaler.\n",
        "\n",
        "In the case of Median Income, taking a log-transform of the data might\n",
        "make it *appear* more normal: you do **not** say that a transformation\n",
        "*makes* data more normal, you say either that ‘it allows us to treat the\n",
        "data as normally distributed’ or that ‘the transformed data follows a\n",
        "log-normal distribution’.\n",
        "\n",
        "### 6.1 The Normal Distribution\n",
        "\n",
        "> **Difficulty: Moderate.**\n",
        "\n",
        "Z-scores are often associated with the normal distribution because their\n",
        "interpretation implicitly assumes a normal distribution. Or to put it\n",
        "another way… You can always calculate z-scores for your data (it’s just\n",
        "a formula applied to data points), but their *intuitive meaning* is lost\n",
        "if your data don’t have something like a normal distribution (or follow\n",
        "the [68-95-99.7 rule](https://en.wikipedia.org/wiki/68–95–99.7_rule)).\n",
        "\n",
        "But… what if our data are non-normal? Well, Just because data are\n",
        "non-normal doesn’t mean z-scores can’t be calculated (we already did\n",
        "that above); we just have to be careful what we do with them… and\n",
        "sometimes we should just avoid them entirely.\n",
        "\n",
        "#### 6.1.1 Creating a Normal Distribution\n",
        "\n",
        "Below is a function to create that theoretical normal distribution. See\n",
        "if you can understand what’s going and add comments to the code to\n",
        "explain what each line does."
      ],
      "id": "f9b90a49-1e69-44a9-bee6-f1667877cedb"
    },
    {
      "cell_type": "code",
      "execution_count": 75,
      "metadata": {},
      "outputs": [],
      "source": [
        "def normal_from_dist(series): \n",
        "    mu = ???          # mean of our data\n",
        "    sd = ???          # standard deviation of our data\n",
        "    n  = ???          # count how many observations are in our data\n",
        "    s = np.random.normal(???, ???, ???)   #use the parameters of the data just calculated to generate n random numbers, drawn from a normal distributions \n",
        "    return s                   #return this set of random numbers"
      ],
      "id": "e83f482d"
    },
    {
      "cell_type": "markdown",
      "metadata": {},
      "source": [
        "To make it easier to understand what the function above is doing, let’s\n",
        "use it! We’ll use the function to plot both a distribution plot with\n",
        "both histogram and KDE for our data, and then add a *second* overplot\n",
        "distplot to the same fig showing the theoretical normal distribution (in\n",
        "red). We’ll do this in a loop for each of the three variables we want to\n",
        "examine.\n",
        "\n",
        "#### 6.1.2 Visual Comparisons\n",
        "\n",
        "Looking at the output, which of the variables has a roughly normal\n",
        "distribution? Another way to think about this question is, for which of\n",
        "the variables are the mean and standard deviation *most* appropriate as\n",
        "measures of centrality and spread?\n",
        "\n",
        "*Also*, how would you determine the *meaning* of some of the departures\n",
        "from the normal distribution?"
      ],
      "id": "42502721-639b-41bf-8b4b-3d95375ef586"
    },
    {
      "cell_type": "code",
      "execution_count": 76,
      "metadata": {},
      "outputs": [],
      "source": [
        "selection = [x for x in df_train.columns.values if x.startswith('Composition')]\n",
        "\n",
        "for c in selection:\n",
        "    ax = sns.kdeplot(df_train[c])\n",
        "    sns.kdeplot(normal_from_dist(df_train[c]), color='r', fill=True, ax=ax)\n",
        "    plt.legend(loc='upper right', labels=['Observed', 'Normal']) # title='Foo'\n",
        "    ax.ticklabel_format(useOffset=False, style='plain')\n",
        "    if ax.get_xlim()[1] > 999999:\n",
        "        plt.xticks(rotation=45)\n",
        "    plt.show()"
      ],
      "id": "c63d5ce4"
    },
    {
      "cell_type": "markdown",
      "metadata": {},
      "source": [
        "#### 6.1.3 Questions\n",
        "\n",
        "-   Which, if any, of the variables has a roughly normal distribution?\n",
        "    Another way to think about this question is, for which of the\n",
        "    variables are the mean and standard deviation *most* appropriate as\n",
        "    measures of centrality and spread?\n",
        "-   How might you determine the *significance* of some of the departures\n",
        "    from the normal distribution?\n",
        "\n",
        "### 6.2 Logarithmic Transformations\n",
        "\n",
        "> **Difficulty: Moderate.**\n",
        "\n",
        "To create a new series in the data frame containing the natural log of\n",
        "the original value it’s a similar process to what we’ve done before, but\n",
        "since pandas doesn’t provide a log-transform operator (i.e. you can’t\n",
        "call `df['MedianIncome'].log()` ) we need to use the `numpy` package\n",
        "since pandas data series are just numpy arrays with some fancy window\n",
        "dressing that makes them even *more* useful.\n",
        "\n",
        "Let’s perform the transform then compare to the un-transformed data.\n",
        "Comment the code below to ensure that you understand what it is doing.\n",
        "\n",
        "#### 6.2.1 Apply and Plot"
      ],
      "id": "1b0a8a18-ea1f-4be1-8ca8-995b7e7ff6ef"
    },
    {
      "cell_type": "code",
      "execution_count": 77,
      "metadata": {},
      "outputs": [],
      "source": [
        "cols = ['Median-2012','Total Mean hh Income']\n",
        "\n",
        "for m in cols:\n",
        "    s  = df_train[m] # s == series\n",
        "    ts = ???.???(s)   # ts == transformed series\n",
        "    \n",
        "    ax = sns.kdeplot(s)\n",
        "    sns.kdeplot(normal_from_dist(s), color='r', fill=True, ax=ax)\n",
        "    plt.legend(loc='upper right', labels=['Observed', 'Normal']) # title also an option\n",
        "    plt.title(\"Original Data\")\n",
        "    \n",
        "    ### USEFUL FORMATTING TRICKS ###\n",
        "    # This turns off scientific notation in the ticklabels\n",
        "    ax.ticklabel_format(useOffset=False, style='plain')\n",
        "    # Notice this snippet of code\n",
        "    ax.set_xlabel(ax.get_xlabel() + \" (Raw Distribution)\")\n",
        "    # Notice this little code snippet too\n",
        "    if ax.get_xlim()[1] > 999999:\n",
        "        plt.xticks(rotation=45)\n",
        "    \n",
        "    plt.show()\n",
        "    \n",
        "    ax = sns.kdeplot(ts)\n",
        "    sns.kdeplot(normal_from_dist(ts), color='r', fill=True, ax=ax)\n",
        "    plt.legend(loc='upper right', labels=['Observed', 'Normal'])\n",
        "    ax.ticklabel_format(useOffset=False, style='plain')\n",
        "    ax.set_xlabel(ax.get_xlabel() + \" (Logged Distribution)\")\n",
        "    if ax.get_xlim()[1] > 999999:\n",
        "        plt.xticks(rotation=45)\n",
        "    plt.title(\"Log-Transformed Data\")\n",
        "    plt.show()"
      ],
      "id": "f81ed8a1"
    },
    {
      "cell_type": "markdown",
      "metadata": {},
      "source": [
        "Hopefully, you can see that the transformed data do indeed look ‘more\n",
        "normal’; the peak of the red and blue lines are closer together and the\n",
        "blue line at the lower extreme is also closer to the red line, but we\n",
        "can check this by seeing what has happened to the z-scores.\n",
        "\n",
        "### 6.3 Power Transformations\n",
        "\n",
        "> **Difficulty: Moderate.**"
      ],
      "id": "b39629db-1cae-4ce6-9c6e-4c769fab7b79"
    },
    {
      "cell_type": "code",
      "execution_count": 78,
      "metadata": {},
      "outputs": [],
      "source": [
        "cols = ['Median-2012','Total Mean hh Income']\n",
        "pt = ???(method='yeo-johnson')\n",
        "\n",
        "for m in cols:\n",
        "    s  = df_train[m] # s == series\n",
        "    ts = pt.fit_transform(s.values.reshape(-1,1))\n",
        "    print(f\"Using lambda (transform 'exponent') of {pt.lambdas_[0]:0.5f}\")\n",
        "    \n",
        "    ax = sns.kdeplot(ts.reshape(-1,))\n",
        "    \n",
        "    sns.kdeplot(normal_from_dist(???), color='r', fill=True, ax=ax)\n",
        "    plt.legend(loc='upper right', labels=['Observed', 'Normal'])\n",
        "    ax.ticklabel_format(useOffset=False, style='plain')\n",
        "    ax.set_xlabel(m + \" (Transformed Distribution)\")\n",
        "    if ax.get_xlim()[1] > 999999: # <-- What does this do?\n",
        "        plt.xticks(rotation=45)\n",
        "    plt.title(\"Power-Transformed Data\")\n",
        "    plt.show();"
      ],
      "id": "dd03bdf0"
    },
    {
      "cell_type": "markdown",
      "metadata": {},
      "source": [
        "## 7. Principal Components Analysis\n",
        "\n",
        "> **Note**\n",
        ">\n",
        ">     **&#128279; Connections**: This is all about _dimensionality_ and the different ways that we can reduce dimensionality in our data in order to improve our models' robustness and gain a better understanding of whether (or not) there is structure in our data. We'll start with linear decomposition and then look at non-linear decomposition, which we also demonstrated with UMAP last week.\n",
        "\n",
        "Now we’re going to ask the question: how can we represent our data using\n",
        "a smaller number of components that capture the variance in the original\n",
        "data. You should have covered PCA in Quantitative Methods.\n",
        "\n",
        "#### 7.0.1 Optional Reload\n",
        "\n",
        "Use this is your data gets messy…"
      ],
      "id": "bbba5a42-3d96-4842-a8c0-242f4753c94c"
    },
    {
      "cell_type": "code",
      "execution_count": 79,
      "metadata": {},
      "outputs": [],
      "source": [
        "gdf = gpd.read_parquet(os.path.join('data','geo','MSOA_Atlas.geoparquet')).set_index('MSOA Code')\n",
        "print(gdf.shape)"
      ],
      "id": "e01445d5"
    },
    {
      "cell_type": "code",
      "execution_count": 80,
      "metadata": {},
      "outputs": [],
      "source": [
        "categoricals = ['Borough','Subregion']\n",
        "for c in categoricals:\n",
        "    gdf[c] = gdf[c].astype('category')"
      ],
      "id": "79bf9e1e"
    },
    {
      "cell_type": "markdown",
      "metadata": {},
      "source": [
        "### 7.1 Calculating Shares\n",
        "\n",
        "> **Difficulty: Hard.**\n",
        "\n",
        "Sadly, there’s no transformer to work this out for you automatically,\n",
        "but let’s start by converting the raw population and household figures\n",
        "to shares so that our later dimensionality reduction steps aren’t\n",
        "impacted by the size of the MSOA."
      ],
      "id": "42e2c549-6fa8-4c53-b5c3-9e84f6e19e83"
    },
    {
      "cell_type": "code",
      "execution_count": 81,
      "metadata": {},
      "outputs": [],
      "source": [
        "gdf[['Age-All Ages','Households-All Households']].head(5)"
      ],
      "id": "9f9fa8df"
    },
    {
      "cell_type": "markdown",
      "metadata": {},
      "source": [
        "#### 7.1.1 Specify Totals Columns"
      ],
      "id": "6a56f949-ab1a-477d-b3f2-2293d43ee861"
    },
    {
      "cell_type": "code",
      "execution_count": 82,
      "metadata": {},
      "outputs": [],
      "source": [
        "total_pop = gdf['Age-All Ages']\n",
        "total_hh  = gdf['Households-All Households']\n",
        "total_vec = gdf['Vehicles-Sum of all cars or vans in the area']"
      ],
      "id": "e7286fd4"
    },
    {
      "cell_type": "markdown",
      "metadata": {},
      "source": [
        "#### 7.1.2 Specify Columns for Pop or HH Normalisation"
      ],
      "id": "23841903-e2c4-4886-aa02-e5174c2765cb"
    },
    {
      "cell_type": "code",
      "execution_count": 83,
      "metadata": {},
      "outputs": [],
      "source": [
        "pop_cols  = ['Age-', 'Composition-', 'Qualifications-', 'Economic Activity-', 'White', 'Mixed/multiple',\n",
        "             'Asian/Asian British', 'Black/African', 'BAME', 'Other ethnic',\n",
        "             'Country of Birth-']\n",
        "hh_cols   = [???, ???, ???, 'Detached', 'Semi-detached', 'Terraced', 'Flat, ']"
      ],
      "id": "061ef14b"
    },
    {
      "cell_type": "code",
      "execution_count": 84,
      "metadata": {},
      "outputs": [],
      "source": [
        "popre = re.compile(r'^(?:' + \"|\".join(pop_cols) + r')')\n",
        "hhre  = re.compile(r'^(?:' + \"|\".join(???) + r')')"
      ],
      "id": "8e676ad7"
    },
    {
      "cell_type": "markdown",
      "metadata": {},
      "source": [
        "#### 7.1.3 Apply to Columns"
      ],
      "id": "546d789c-b40e-4464-abca-550595e3e508"
    },
    {
      "cell_type": "code",
      "execution_count": 85,
      "metadata": {},
      "outputs": [],
      "source": [
        "tr_gdf = gdf.copy()\n",
        "tr_gdf['Mean hh size'] = tr_gdf['Age-All Ages']/tr_gdf['Households-All Households']\n",
        "\n",
        "for c in gdf.columns:\n",
        "    print(c)\n",
        "    if popre.match(c):\n",
        "        print(\"  Normalising by total population.\")\n",
        "        tr_gdf[c] = gdf[c]/???\n",
        "    elif ???.match(???):\n",
        "        print(\"  Normalising by total households.\")\n",
        "        tr_gdf[c] = gdf[c]/???\n",
        "    elif c.startswith('Vehicles-') and not c.startswith('Vehicles-Cars per hh'):\n",
        "        print(\"  Normalising by total vehicles.\")\n",
        "        tr_gdf[c] = gdf[c]/???\n",
        "    else:\n",
        "        print(\"  Passing through.\")"
      ],
      "id": "25a93f8f"
    },
    {
      "cell_type": "markdown",
      "metadata": {},
      "source": [
        "### 7.2 Removing Columns\n",
        "\n",
        "> **Difficulty: Moderate.**\n",
        "\n",
        "To perform dimensionality we can only have numeric data. In theory,\n",
        "categorical data can be converted to numeric and retained, but there are\n",
        "two issues:\n",
        "\n",
        "1.  Nominal data has no *innate* order so we *can’t* convert \\> 2\n",
        "    categories to numbers and have to convert them to One-Hot Encoded\n",
        "    values.\n",
        "2.  A binary (i.e. One-Hot Encoded) variable will account for a *lot* of\n",
        "    variance in the data because it’s only two values they are 0 and 1!\n",
        "\n",
        "So in practice, it’s probably a good idea to drop categorical data if\n",
        "you’re planning to use PCA.\n",
        "\n",
        "#### 7.2.1 Drop Totals Columns"
      ],
      "id": "45bdfd00-8a03-45f4-91ca-8e68dede7111"
    },
    {
      "cell_type": "code",
      "execution_count": 86,
      "metadata": {},
      "outputs": [],
      "source": [
        "pcadf = tr_gdf.drop(columns=['Age-All Ages', 'Households-All Households',\n",
        "                             'Vehicles-Sum of all cars or vans in the area'])\n",
        "pcadf = pcadf.set_index('MSOA Code')"
      ],
      "id": "f09082aa"
    },
    {
      "cell_type": "markdown",
      "metadata": {},
      "source": [
        "#### 7.2.2 Drop Non-Numeric Columns"
      ],
      "id": "8e5ddc14-87dd-42fb-810a-2ce99b7ba366"
    },
    {
      "cell_type": "code",
      "execution_count": 87,
      "metadata": {},
      "outputs": [],
      "source": [
        "pcadf.select_dtypes(['category','object']).columns"
      ],
      "id": "e383b94c"
    },
    {
      "cell_type": "code",
      "execution_count": 88,
      "metadata": {},
      "outputs": [],
      "source": [
        "pcadf.drop(columns=pcadf.select_dtypes(['category','object']).columns.to_list(), inplace=True)\n",
        "pcadf.drop(columns=['BNG_E','BNG_N','geometry', 'LONG', 'LAT','Shape__Are', 'Shape__Len'], inplace=True)"
      ],
      "id": "7536bdbd"
    },
    {
      "cell_type": "code",
      "execution_count": 89,
      "metadata": {},
      "outputs": [],
      "source": [
        "pcadf.columns"
      ],
      "id": "d09ba296"
    },
    {
      "cell_type": "markdown",
      "metadata": {},
      "source": [
        "### 7.3 Rescale & Reduce\n",
        "\n",
        "> **Difficulty: Moderate.**\n",
        "\n",
        "In order to ensure that our results aren’t dominated by a single scale\n",
        "(e.g. House Prices!) we need to rescale all of our data. You could\n",
        "easily try different scalers as well as a different parameters to see\n",
        "what effect this has on your results.\n",
        "\n",
        "#### 7.3.1 Robustly Rescale\n",
        "\n",
        "Set up the Robust Rescaler for inter-decile standardisation: 10th and\n",
        "90th quantiles."
      ],
      "id": "3575f49c-9401-4b4f-a693-006542555ed8"
    },
    {
      "cell_type": "code",
      "execution_count": 90,
      "metadata": {},
      "outputs": [],
      "source": [
        "rs = ???\n",
        "\n",
        "for c in pcadf.columns.values:\n",
        "    pcadf[c] = rs.fit_transform(pcadf[c].values.reshape(-1, 1))"
      ],
      "id": "6724e962"
    },
    {
      "cell_type": "markdown",
      "metadata": {},
      "source": [
        "#### 7.3.2 PCA Reduce"
      ],
      "id": "51c38001-60aa-41ff-9cf9-1b0bf741436c"
    },
    {
      "cell_type": "code",
      "execution_count": 91,
      "metadata": {},
      "outputs": [],
      "source": [
        "from sklearn.decomposition import PCA \n",
        "\n",
        "pca = PCA(n_components=50, whiten=True) \n",
        "\n",
        "pca.fit(pcadf)\n",
        "\n",
        "explained_variance = pca.explained_variance_ratio_\n",
        "singular_values = pca.singular_values_"
      ],
      "id": "00e4bdc3"
    },
    {
      "cell_type": "markdown",
      "metadata": {},
      "source": [
        "#### 7.3.3 Examine Explained Variance"
      ],
      "id": "8ff1ccfd-1698-43c7-b037-5a018d6388d9"
    },
    {
      "cell_type": "code",
      "execution_count": 92,
      "metadata": {},
      "outputs": [],
      "source": [
        "x = np.arange(1,???)\n",
        "plt.plot(x, explained_variance)\n",
        "plt.ylabel('Share of Variance Explained')\n",
        "plt.show()"
      ],
      "id": "69d5948d"
    },
    {
      "cell_type": "code",
      "execution_count": 93,
      "metadata": {},
      "outputs": [],
      "source": [
        "for i in range(0, 20):\n",
        "    print(f\"Component {i:>2} accounts for {explained_variance[i]*100:>2.2f}% of variance\")"
      ],
      "id": "5e687b18"
    },
    {
      "cell_type": "markdown",
      "metadata": {},
      "source": [
        "You should get that Component 0 accounts for 31.35% of the variance and\n",
        "Component 19 accounts for 0.37%.\n",
        "\n",
        "###: How Many Components?\n",
        "\n",
        "There are a number of ways that we could set a threshold for\n",
        "dimensionality reduction: - The most common is to look for the ‘knee’ in\n",
        "the Explained Variance plot above. That would put us at about 5 retained\n",
        "components. - Another is to just keep all components contributing more\n",
        "than 1% of the variance. That would put us at about 10 components. - You\n",
        "can also ([I\n",
        "discovered](https://medium.com/@nikolay.oskolkov/hi-jon-reades-my-sincere-apologies-for-this-very-late-reply-444f57054d14))\n",
        "look to shuffle the data and repeatedly perform PCA to build confidence\n",
        "intervals. I have not implemented this (yet).\n",
        "\n",
        "In order to *do* anything with these components we need to somehow\n",
        "reattach them to the MSOAs. So that entails taking the transformed\n",
        "results (`X_train` and `X_test`)"
      ],
      "id": "7f52b780-42c6-41ab-8e4c-9f260202a5a5"
    },
    {
      "cell_type": "code",
      "execution_count": 94,
      "metadata": {},
      "outputs": [],
      "source": [
        "kn = knee_locator.KneeLocator(x, explained_variance, \n",
        "                              curve='convex', direction='decreasing', \n",
        "                              interp_method='interp1d')\n",
        "print(f\"Knee detected at: {kn.knee}\")\n",
        "kn.plot_knee()"
      ],
      "id": "c0916fc9"
    },
    {
      "cell_type": "code",
      "execution_count": 95,
      "metadata": {},
      "outputs": [],
      "source": [
        "keep_n_components = 7\n",
        "\n",
        "# If we weren't changing the number of components we\n",
        "# could re-use the pca object created above. \n",
        "pca = PCA(n_components=keep_n_components, whiten=True)\n",
        "\n",
        "X_train = pca.fit_transform(???)\n",
        "\n",
        "# Notice that we get the _same_ values out,\n",
        "# so this is a *deterministic* process that\n",
        "# is fully replicable (allowing for algorithmic\n",
        "# and programming language differences).\n",
        "print(f\"Total explained variance: {pca.explained_variance_ratio_.sum()*100:2.2f}%\")\n",
        "for i in range(0, keep_n_components):\n",
        "    print(f\"  Component {i:>2} accounts for {pca.explained_variance_ratio_[i]*100:>5.2f}% of variance\")\n",
        "\n",
        "# Notice...\n",
        "print(f\"X-train shape: {len(X_train)}\")\n",
        "print(f\"PCA df shape: {pcadf.shape[0]}\")\n",
        "# So each observation has a row in X_train and there is \n",
        "# 1 column for each component. This defines the mapping\n",
        "# of the original data space into the reduced one\n",
        "print(f\"Row 0 of X-train contains {len(X_train[0])} elements.\") "
      ],
      "id": "d4e4dbfe"
    },
    {
      "cell_type": "markdown",
      "metadata": {},
      "source": [
        "### 7.4 Components to Columns\n",
        "\n",
        "> **Difficulty: Moderate.**\n",
        "\n",
        "You could actually do this more quickly (but less clearly) using\n",
        "`X_train.T` to transpose the matrix!"
      ],
      "id": "1ef6b376-bb51-4eab-a78e-f68c9d2c8b8a"
    },
    {
      "cell_type": "code",
      "execution_count": 96,
      "metadata": {},
      "outputs": [],
      "source": [
        "for i in range(0,keep_n_components):\n",
        "    s = pd.Series(X_train[:,???], index=pcadf.???)\n",
        "    pcadf[f\"Component {i+1}\"] = s"
      ],
      "id": "677bd3ca"
    },
    {
      "cell_type": "code",
      "execution_count": 97,
      "metadata": {},
      "outputs": [],
      "source": [
        "pcadf.sample(3).iloc[:,-10:-4]"
      ],
      "id": "32f3cab0"
    },
    {
      "cell_type": "markdown",
      "metadata": {},
      "source": [
        "### 7.5 (Re)Attaching GeoData\n",
        "\n",
        "> **Difficulty: Moderate.**"
      ],
      "id": "861ff921-bbe6-40ad-9f63-b1a7986f9515"
    },
    {
      "cell_type": "code",
      "execution_count": 98,
      "metadata": {},
      "outputs": [],
      "source": [
        "msoas = gpd.read_file(os.path.join('data','geo','Middle_Layer_Super_Output_Areas__December_2011__EW_BGC_V2-shp.zip'), driver='ESRI Shapefile')\n",
        "msoas = msoas.set_index('MSOA11CD')\n",
        "print(msoas.columns)"
      ],
      "id": "32c8515b"
    },
    {
      "cell_type": "code",
      "execution_count": 99,
      "metadata": {},
      "outputs": [],
      "source": [
        "msoas.head(1)"
      ],
      "id": "ed9cb529"
    },
    {
      "cell_type": "code",
      "execution_count": 100,
      "metadata": {},
      "outputs": [],
      "source": [
        "pcadf.head(1)"
      ],
      "id": "57fc2d62"
    },
    {
      "cell_type": "code",
      "execution_count": 101,
      "metadata": {},
      "outputs": [],
      "source": [
        "gpcadf = pd.merge(msoas.set_index(['MSOA11CD'], drop=True), pcadf, left_index=True, right_index=True, how='inner')\n",
        "print(f\"Geo-PCA df has shape {gpcadf.shape[0]} x {gpcadf.shape[1]}\")"
      ],
      "id": "4a857d05"
    },
    {
      "cell_type": "markdown",
      "metadata": {},
      "source": [
        "You should get `PCA df has shape 983 x 89`."
      ],
      "id": "94273297-ef02-4c71-ad03-53647ab6953d"
    },
    {
      "cell_type": "code",
      "execution_count": 102,
      "metadata": {},
      "outputs": [],
      "source": [
        "gpcadf['Borough'] = gpcadf.MSOA11NM.apply(???)"
      ],
      "id": "d3309eea"
    },
    {
      "cell_type": "markdown",
      "metadata": {},
      "source": [
        "### 7.6 Map the First *n* Components\n",
        "\n",
        "> **Difficulty: Moderate.**\n",
        "\n",
        "How would you automate this so that the loop creates one plot for each\n",
        "of the first 3 components? How do you interpret these?"
      ],
      "id": "13a53b5b-8792-4d53-b528-74e5701a4df8"
    },
    {
      "cell_type": "code",
      "execution_count": 103,
      "metadata": {},
      "outputs": [],
      "source": [
        "for comp in [f\"Component {x}\" for x in range(1,3)]:\n",
        "    ax = gpcadf.plot(column=???, cmap='plasma', \n",
        "         scheme='FisherJenks', k=7, edgecolor='None', legend=True, figsize=(9,7));\n",
        "    boros.plot(ax=ax, edgecolor='w', facecolor='none', linewidth=1, alpha=0.7)\n",
        "    ax.set_title(f'PCA {comp}')"
      ],
      "id": "e302a976"
    },
    {
      "cell_type": "markdown",
      "metadata": {},
      "source": [
        "Your first component map should look something like this:\n",
        "\n",
        "<figure>\n",
        "<img\n",
        "src=\"https://github.com/jreades/fsds/raw/master/practicals/img/PCA-Component-1.png\"\n",
        "alt=\"PCA Component 1\" />\n",
        "<figcaption aria-hidden=\"true\">PCA Component 1</figcaption>\n",
        "</figure>\n",
        "\n",
        "## 8. UMAP\n",
        "\n",
        "UMAP is a non-linear dimensionality reduction technique. Technically,\n",
        "it’s called *manifold* learning: imagine being able to roll a piece of\n",
        "paper up in more than just the 3rd dimension…). As a way to see if there\n",
        "is structure in your data this is a *much* better technique than one you\n",
        "might encounter in many tutorials: *t-SNE*. It has to do with how the\n",
        "two techniques ‘learn’ the manifold to use with your data.\n",
        "\n",
        "### 8.1 UMAP on Raw Data\n",
        "\n",
        "> **Difficulty: Hard.**"
      ],
      "id": "397574a8-3163-45a0-b419-ab9d03e71d18"
    },
    {
      "cell_type": "code",
      "execution_count": 104,
      "metadata": {},
      "outputs": [],
      "source": [
        "from umap import UMAP\n",
        "\n",
        "# You might want to experiment with all\n",
        "# 3 of these values -- it may make sense \n",
        "# to package a lot of this up into a function!\n",
        "keep_dims=2\n",
        "rs=42\n",
        "\n",
        "u = UMAP(\n",
        "    n_neighbors=25,\n",
        "    min_dist=0.01,\n",
        "    n_components=keep_dims,\n",
        "    random_state=rs)\n",
        "\n",
        "X_embedded = u.fit_transform(???)\n",
        "print(X_embedded.shape)"
      ],
      "id": "41706447"
    },
    {
      "cell_type": "markdown",
      "metadata": {},
      "source": [
        "### 8.2 Write to Data Frame\n",
        "\n",
        "> **Difficulty: Low.**\n",
        "\n",
        "Can probably also be solved using `X_embedded.T`."
      ],
      "id": "a3f54cf2-912d-495b-bf96-127dd553374a"
    },
    {
      "cell_type": "code",
      "execution_count": 105,
      "metadata": {},
      "outputs": [],
      "source": [
        "for ix in range(0,X_embedded.shape[1]):\n",
        "    print(ix)\n",
        "    s = pd.Series(X_embedded[:,???], index=pcadf.???)\n",
        "    gpcadf[f\"Dimension {ix+1}\"] = s"
      ],
      "id": "0b9bcb02"
    },
    {
      "cell_type": "markdown",
      "metadata": {},
      "source": [
        "### 8.3 Visualise!\n",
        "\n",
        "> **Difficulty: Low.**"
      ],
      "id": "3beb378b-54f4-4a35-8457-d5afc4e9fb6a"
    },
    {
      "cell_type": "code",
      "execution_count": 106,
      "metadata": {},
      "outputs": [],
      "source": [
        "rddf = gpcadf.copy() # Reduced Dimension Data Frame"
      ],
      "id": "d4345d59"
    },
    {
      "cell_type": "markdown",
      "metadata": {},
      "source": [
        "#### 8.3.1 Simple Scatter"
      ],
      "id": "8cd35f14-5e3c-4de1-b863-360633b2b1c8"
    },
    {
      "cell_type": "code",
      "execution_count": 107,
      "metadata": {},
      "outputs": [],
      "source": [
        "f,ax = plt.subplots(1,1,figsize=(8,6))\n",
        "sns.scatterplot(x=rddf[???], y=rddf[???], hue=rddf['Borough'], legend=False, ax=ax)"
      ],
      "id": "2ceff29f"
    },
    {
      "cell_type": "markdown",
      "metadata": {},
      "source": [
        "#### 8.3.2 Seaborn Jointplot\n",
        "\n",
        "That is *suggestive* of there being struccture in the data, but with 983\n",
        "data points and 33 colours it’s hard to make sense of what the structure\n",
        "*might* imply. Let’s try this again using the Subregion instead and\n",
        "taking advantage of the Seaborn visualisation library’s `jointplot`\n",
        "(joint distribution plot):"
      ],
      "id": "01a0fd1f-535e-4270-b8cf-16b11d4630f3"
    },
    {
      "cell_type": "code",
      "execution_count": 108,
      "metadata": {},
      "outputs": [],
      "source": [
        "rddf['Subregion'] = rddf.Borough.apply(lambda x: mapping[x])"
      ],
      "id": "02afa781"
    },
    {
      "cell_type": "code",
      "execution_count": 109,
      "metadata": {},
      "outputs": [],
      "source": [
        "# Sets some handy 'keywords' to tweak the Seaborn plot\n",
        "kwds = dict(s=7,alpha=0.95,edgecolor=\"none\")\n",
        "# Set the *hue order* so that all plots have some colouring by Subregion\n",
        "ho = ['Inner East','Inner West','Outer West and North West','Outer South','Outer East and North East']"
      ],
      "id": "999e7490"
    },
    {
      "cell_type": "code",
      "execution_count": 110,
      "metadata": {},
      "outputs": [],
      "source": [
        "g = sns.jointplot(data=rddf, x=???, y=???, height=8, \n",
        "                  hue=???, hue_order=ho, joint_kws=kwds)\n",
        "g.ax_joint.legend(loc='upper right', prop={'size': 8});"
      ],
      "id": "65af1ba5"
    },
    {
      "cell_type": "markdown",
      "metadata": {},
      "source": [
        "Your jointplot should look like this:\n",
        "\n",
        "<figure>\n",
        "<img\n",
        "src=\"https://github.com/jreades/fsds/raw/master/practicals/img/UMAP-Jointplot.png\"\n",
        "alt=\"UMAP Jointplot\" />\n",
        "<figcaption aria-hidden=\"true\">UMAP Jointplot</figcaption>\n",
        "</figure>\n",
        "\n",
        "What do you make of this?\n",
        "\n",
        "Maybe let’s give this one last go splitting the plot out by subregion so\n",
        "that we can see how these vary:"
      ],
      "id": "5eaf1320-0ab8-4ba4-8266-fe08e968d6fa"
    },
    {
      "cell_type": "code",
      "execution_count": 111,
      "metadata": {},
      "outputs": [],
      "source": [
        "for r in rddf.Subregion.unique():\n",
        "    g = sns.jointplot(data=rddf[rddf.Subregion==r], x='Dimension 1', y='Dimension 2', \n",
        "                  hue='Borough', joint_kws=kwds)\n",
        "    g.ax_joint.legend(loc='upper right', prop={'size': 8});\n",
        "    g.ax_joint.set_ylim(0,15)\n",
        "    g.ax_joint.set_xlim(0,15)\n",
        "    plt.suptitle(r)"
      ],
      "id": "32114eb2"
    },
    {
      "cell_type": "markdown",
      "metadata": {},
      "source": [
        "We can’t unfortunately do any clustering at this point to create groups\n",
        "from the data (that’s next week!) so for now note that there are several\n",
        "large-ish groups (in terms of membership) and few small ones picked up\n",
        "by t-SNE. Alos note that there is strong evidence of some incipient\n",
        "structure: Inner East and West largely clump together, while Outher East\n",
        "and Outer South also seem to group together, with Outer West being more\n",
        "distinctive. If you look back at the PCA Components (especially #1) you\n",
        "might be able to speculate about some reasons for this! Please note:\n",
        "this is *only* speculation at this time!\n",
        "\n",
        "Next week we’ll also add the listings data back in as part of the\n",
        "picture!\n",
        "\n",
        "### 8.4 Map the *n* Dimensions\n",
        "\n",
        "> **Difficulty: Low.**"
      ],
      "id": "3f1a57e6-a139-4860-bfb1-f50190ecc238"
    },
    {
      "cell_type": "code",
      "execution_count": 112,
      "metadata": {},
      "outputs": [],
      "source": [
        "for comp in [f\"Dimension {x}\" for x in range(1,3)]:\n",
        "    f, ax = plt.subplots(1,1,figsize=(12,8))\n",
        "    rddf.plot(???);\n",
        "    boros.plot(edgecolor='w', facecolor='none', linewidth=1, alpha=0.7, ax=ax)\n",
        "    ax.set_title(f'UMAP {comp}')"
      ],
      "id": "f5c9a98d"
    },
    {
      "cell_type": "markdown",
      "metadata": {},
      "source": [
        "Your first dimension map should look something like this:\n",
        "\n",
        "<figure>\n",
        "<img\n",
        "src=\"https://github.com/jreades/fsds/raw/master/practicals/img/UMAP-Dimension-1.png\"\n",
        "alt=\"UMAP Dimension 1\" />\n",
        "<figcaption aria-hidden=\"true\">UMAP Dimension 1</figcaption>\n",
        "</figure>\n",
        "\n",
        "### 8.5 And Save"
      ],
      "id": "5aa6da15-9d10-4b02-8356-68b1386a708b"
    },
    {
      "cell_type": "code",
      "execution_count": 113,
      "metadata": {},
      "outputs": [],
      "source": [
        "rddf.to_parquet(os.path.join('data','clean','Reduced_Dimension_Data.geoparquet'))"
      ],
      "id": "3422d15c"
    },
    {
      "cell_type": "markdown",
      "metadata": {},
      "source": [
        "#### 8.5.1 Questions\n",
        "\n",
        "-   How would you compare/contrast PCA components with UMAP dimensions?\n",
        "    Why do they not seem to show the same thing even though *both* seem\n",
        "    to show *something*?\n",
        "-   What might you do with the output of either the PCA or UMAP\n",
        "    processes?\n",
        "\n",
        "### 8.6 Credits!\n",
        "\n",
        "##### 8.6.0.1 Contributors:\n",
        "\n",
        "The following individuals have contributed to these teaching materials:\n",
        "Jon Reades (j.reades@ucl.ac.uk).\n",
        "\n",
        "##### 8.6.0.2 License\n",
        "\n",
        "These teaching materials are licensed under a mix of [The MIT\n",
        "License](https://opensource.org/licenses/mit-license.php) and the\n",
        "[Creative Commons Attribution-NonCommercial-ShareAlike 4.0\n",
        "license](https://creativecommons.org/licenses/by-nc-sa/4.0/).\n",
        "\n",
        "##### 8.6.0.3 Potential Dependencies:\n",
        "\n",
        "This notebook may depend on the following libraries: pandas, geopandas,\n",
        "sklearn, matplotlib, seaborn"
      ],
      "id": "694e4c09-5b46-41cd-86f3-5b99dacd1a45"
    }
  ],
  "nbformat": 4,
  "nbformat_minor": 5,
  "metadata": {
    "kernelspec": {
      "name": "python3",
      "display_name": "Python 3 (ipykernel)",
      "language": "python",
      "path": "/opt/conda/share/jupyter/kernels/python3"
    },
    "language_info": {
      "name": "python",
      "codemirror_mode": {
        "name": "ipython",
        "version": "3"
      },
      "file_extension": ".py",
      "mimetype": "text/x-python",
      "nbconvert_exporter": "python",
      "pygments_lexer": "ipython3",
      "version": "3.12.11"
    }
  }
}