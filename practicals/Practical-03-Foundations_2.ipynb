{
  "cells": [
    {
      "cell_type": "markdown",
      "metadata": {},
      "source": [
        "## Practical 3: Foundations (Part 2)\n",
        "\n",
        "Getting to grips with Dictionaries, LOLs and DOLs\n",
        "\n",
        "In this notebook we are exploring basic (in the sense of fundamental)\n",
        "data structures so that you understand both how to manage more complex\n",
        "types of data and are prepared for what we will encounter when we start\n",
        "using `pandas` to perform data analysis. To achieve that, you will need\n",
        "to be ‘fluent’ in “nested” lists and dictionaries; we will focus\n",
        "primarily on lists-of-lists and dictionaries-of-lists, but note that\n",
        "file formats like JSON can be understood as\n",
        "dictionaries-of-dictionaries-of-lists-of-… so this is just a *taster* of\n",
        "real-world data structures.\n",
        "\n",
        "> **Tip**\n",
        ">\n",
        "> You should download this notebook from GitHub and then save it to your\n",
        "> own copy of the repository. I’d suggest adding it (`git add ...`)\n",
        "> right away and then committing (e.g. `git commit -m \"Just added.\"`).\n",
        "> Do this again at the end of the class (`git add ...`,\n",
        "> `git commit -m ...`) and you’ll have a record of everything you did.\n",
        "> Then you can `git push` everything to GitHub.\n",
        "\n",
        "> **Group Sign-Up**\n",
        ">\n",
        "> While there’s no benefit to signing up early, if you’ve already formed\n",
        "> a group then you can now [Sign\n",
        "> Up](https://forms.office.com/e/2ij0sWHnpR)!\n",
        "\n",
        "## 1. From Lists to Data (Little Steps)\n",
        "\n",
        "We’re going to start off using lists and dictionaries that *we* define\n",
        "right at the start of the ‘program’, but the *real* value of these data\n",
        "structures comes when we build a list or dictionary *from* data such as\n",
        "a file or a web page… and that’s what we’re going to do below!\n",
        "\n",
        "First, here’s a reminder of some useful methods (*i.e.* functions) that\n",
        "apply to lists which we covered in the\n",
        "[lecture](https://jreades.github.io/fsds/sessions/week2.html#lectures)\n",
        "and\n",
        "[practical](https://jreades.github.io/fsds/sessions/week2.html#practical)\n",
        "in Week 2:\n",
        "\n",
        "| Method | Action |\n",
        "|--------------------|----------------------------------------------------|\n",
        "| `list.count(x)` | Return the number of times x appears in the list |\n",
        "| `list.insert(i, x)` | Insert value `x` at a given position `i` |\n",
        "| `list.pop([i])` | Remove and return the value at position `i` (`i` is optional) |\n",
        "| `list.remove(x)` | Remove the first element from the list whose value is `x` |\n",
        "| `list.reverse()` | Reverse the elements of the list in place |\n",
        "| `list.sort()` | Sort the items of the list in place |\n",
        "| `list.index(x)` | Find the first occurence of `x` in the list |\n",
        "| `list[x:y]` | Slice the list from index `x` to `y-1` |\n",
        "\n",
        "This should all be revision… because it’s how we finished things up\n",
        "*last week*. But I want to go over it *briefly* again because we’re\n",
        "going to build on it this week.\n",
        "\n",
        "> **Hint**\n",
        ">\n",
        "> As before, `??` will highlight where one or more bit of code are\n",
        "> missing and need to be filled in…\n",
        "\n",
        "### 1.1 List Refresher\n",
        "\n",
        "> **Difficulty: Low.**\n",
        "\n",
        "To complete these tasks, all of the methods that you need are listed\n",
        "above, so this is about testing yourself on your understanding *both* of\n",
        "how to read the help *and* how to index elements in a list.\n",
        "\n",
        "The next line creates a list of city names (each element is a string):"
      ],
      "id": "041c8118-148b-416d-93f7-4070d93b4ebe"
    },
    {
      "cell_type": "code",
      "execution_count": 1,
      "metadata": {},
      "outputs": [],
      "source": [
        "cities = [\"Bristol\", \"London\", \"Manchester\", \"Edinburgh\", \"Belfast\", \"York\"]"
      ],
      "id": "5e269317"
    },
    {
      "cell_type": "markdown",
      "metadata": {},
      "source": [
        "#### 1.1.1 List Arithmetic\n",
        "\n",
        "Replace the `??` so that it prints `Belfast`.\n",
        "\n",
        "##### 1.1.1.1 Question"
      ],
      "id": "a29a8229-b66d-4e44-9680-91f80ace5842"
    },
    {
      "cell_type": "code",
      "execution_count": null,
      "metadata": {},
      "outputs": [],
      "source": [
        "print(cities[?? + 2])"
      ],
      "id": "f0b81b6d-b9d1-4868-9e84-17d2a6c8f908"
    },
    {
      "cell_type": "markdown",
      "metadata": {},
      "source": [
        "#### 1.1.2 Negative List Arithmetic\n",
        "\n",
        "Use a **negative** index to print `Belfast`:\n",
        "\n",
        "##### 1.1.2.1 Question"
      ],
      "id": "007204f9-9e38-4077-9cd1-8cee5dc9e959"
    },
    {
      "cell_type": "code",
      "execution_count": null,
      "metadata": {},
      "outputs": [],
      "source": [
        "print(cities[??])"
      ],
      "id": "f318e4b3-eda1-4dbd-81da-355d9c01370f"
    },
    {
      "cell_type": "markdown",
      "metadata": {},
      "source": [
        "#### 1.1.3 Finding a Position in a List\n",
        "\n",
        "Replace the `??` so that it prints the *index* for Manchester in the\n",
        "list.\n",
        "\n",
        "##### 1.1.3.1 Question"
      ],
      "id": "c953f18e-7c7c-413d-a3bc-1cb62ee3fbb1"
    },
    {
      "cell_type": "code",
      "execution_count": null,
      "metadata": {},
      "outputs": [],
      "source": [
        "print(\"The position of Manchester in the list is: \" + str( ?? ))"
      ],
      "id": "6117ac0b-ed9a-43a7-b095-2556e81e6435"
    },
    {
      "cell_type": "markdown",
      "metadata": {},
      "source": [
        "### 1.2 Looking Across Lists\n",
        "\n",
        "> **Connections**\n",
        ">\n",
        "> This section draws on the\n",
        "> [LOLs](https://jreades.github.io/fsds/sessions/week3.html#lectures)\n",
        "> lecture and you will also find Code Camp’s\n",
        "> [Loops](https://jreades.github.io/code-camp/lessons/Loops.html)\n",
        "> session useful here.\n",
        "\n",
        "> **Difficulty: Medium.**\n",
        "\n",
        "Notice that the list of `temperatures` below is the same length as the\n",
        "list of `cities`, that’s because these are (roughly) the average\n",
        "temperatures for each city."
      ],
      "id": "739119bf-8553-403a-b8d6-e6847b888465"
    },
    {
      "cell_type": "code",
      "execution_count": 5,
      "metadata": {},
      "outputs": [],
      "source": [
        "cities = [\"Bristol\", \"London\", \"Manchester\", \"Edinburgh\", \"Belfast\", \"York\"]\n",
        "temperatures = [15.6, 16.5, 13.4, 14.0, 15.2, 14.8]"
      ],
      "id": "6a56a6a2"
    },
    {
      "cell_type": "markdown",
      "metadata": {},
      "source": [
        "#### 1.2.1 Lateral Thinking\n",
        "\n",
        "Given what you know about `cities` and `temperatures`, how do you print:\n",
        "\n",
        "> “The average temperature in Manchester is 13.4 degrees”\n",
        "\n",
        "But you have to do this *without* doing any of the following:\n",
        "\n",
        "1.  Using a list index directly (*i.e.* `cities[2]` and\n",
        "    `temperatures[2]`) or\n",
        "2.  Hard-coding the name of the city?\n",
        "\n",
        "To put it another way, **neither** of these solutions is the answer:\n",
        "\n",
        "``` python\n",
        "print(\"The average temperature in Manchester is \" + str(temperatures[2]) + \" degrees.\")\n",
        "# ...OR...\n",
        "city=2\n",
        "print(\"The average temperature in \" + cities[city] + \" is \" + str(temperatures[city]) + \" degrees.\")\n",
        "```\n",
        "\n",
        "> **Tip**\n",
        ">\n",
        "> You will need to combine some of the ideas above and also think about\n",
        "> the fact that the list index is that we need is the same in both\n",
        "> lists… Also, remember that you’ll need to wrap a `str(...)` around\n",
        "> your temperature to make it into a string.\n",
        "\n",
        "##### 1.2.1.1 Question"
      ],
      "id": "02e3ed79-3a9b-4440-b113-93d75c8bab66"
    },
    {
      "cell_type": "code",
      "execution_count": null,
      "metadata": {},
      "outputs": [],
      "source": [
        "city=\"Manchester\" # Use this to get the solution...\n",
        "\n",
        "# This way is perfectly fine\n",
        "print(\"The average temperature in \" + ?? + \" is \" + str(??))\n",
        "\n",
        "# This way is more Python 3 and a bit easier to read\n",
        "print(f\"The average temperature in {??} is {??}\")"
      ],
      "id": "d4696cef-621a-49af-b7bd-c504bc77aefd"
    },
    {
      "cell_type": "markdown",
      "metadata": {},
      "source": [
        "#### 1.2.2 Double-Checking Your Solution\n",
        "\n",
        "You’ll know that you got the ‘right’ answer to the question above if you\n",
        "can copy+paste your code and change only **one** thing in order to print\n",
        "out: “The average temperature in Belfast is 15.2 degrees”\n",
        "\n",
        "##### 1.2.2.1 Question"
      ],
      "id": "b3979aa5-a877-4785-8993-290889f57d58"
    },
    {
      "cell_type": "code",
      "execution_count": null,
      "metadata": {},
      "outputs": [],
      "source": [
        "city=\"Belfast\"\n",
        "print(??)"
      ],
      "id": "fad9075e-2742-46ec-af6a-2bfc41a3d79f"
    },
    {
      "cell_type": "markdown",
      "metadata": {},
      "source": [
        "#### 1.2.3 Loops\n",
        "\n",
        "Now use a `for` loop over the cities to print out the average\n",
        "temperature in each city:\n",
        "\n",
        "##### 1.2.3.1 Question"
      ],
      "id": "1db196f4-e370-45e5-894d-f7fad5feb5b8"
    },
    {
      "cell_type": "code",
      "execution_count": null,
      "metadata": {},
      "outputs": [],
      "source": [
        "for c in cities:\n",
        "    ??"
      ],
      "id": "936f0e73-8c90-4a45-a0b6-8d3a4a56ded4"
    },
    {
      "cell_type": "markdown",
      "metadata": {},
      "source": [
        "The output should be:"
      ],
      "id": "e0748986-e6e4-4050-9868-f691cc7d2568"
    },
    {
      "cell_type": "code",
      "execution_count": null,
      "metadata": {},
      "outputs": [],
      "source": [
        "The average temperature in Bristol is 15.6\n",
        "The average temperature in London is 16.5\n",
        "The average temperature in Manchester is 13.4\n",
        "The average temperature in Edinburgh is 14.0\n",
        "The average temperature in Belfast is 15.2\n",
        "The average temperature in York is 14.8"
      ],
      "id": "e687c63c-6771-4394-a8dc-13ff4e2a3526"
    },
    {
      "cell_type": "markdown",
      "metadata": {},
      "source": [
        "## 2. Dictionaries\n",
        "\n",
        "> **Connections**\n",
        ">\n",
        "> This section draws on the\n",
        "> [Dictionaries](https://jreades.github.io/fsds/sessions/week3.html#lectures)\n",
        "> lecture and Code Camp\n",
        "> [Dictonaries](https://jreades.github.io/code-camp/lessons/Dicts.html)\n",
        "> session.\n",
        "\n",
        "> **Difficulty: Low.**\n",
        "\n",
        "Remember that dictionaries (a.k.a. dicts) are like lists in that they\n",
        "are [data\n",
        "structures](https://docs.python.org/2/tutorial/datastructures.html)\n",
        "containing multiple elements. A key difference between\n",
        "[dictionaries](https://docs.python.org/2/tutorial/datastructures.html#dictionaries)\n",
        "and [lists](https://docs.python.org/2/tutorial/introduction.html#lists)\n",
        "is that while elements in lists are ordered, dicts (in most programming\n",
        "languages, though not Python) are unordered. This means that whereas for\n",
        "lists we use integers as indexes to access elements, in dictonaries we\n",
        "use ‘keys’ (which can multiple different types; strings, integers,\n",
        "etc.). Consequently, an important concept for dicts is that of key-value\n",
        "pairs.\n",
        "\n",
        "### 2.1 Creating an Atlas\n",
        "\n",
        "The code below creates an Atlas using a dictionary. The dictionary `key`\n",
        "is a city name, and the `value` is the latitude, longitude, and main\n",
        "airport code."
      ],
      "id": "1d7962ea-447e-4ff3-b26a-54f51d4e255c"
    },
    {
      "cell_type": "code",
      "execution_count": 11,
      "metadata": {},
      "outputs": [],
      "source": [
        "cities = {\n",
        "    'San Francisco': [37.77, -122.43, 'SFO'],\n",
        "    'London': [51.51, -0.08, 'LDN'],\n",
        "    'Paris': [48.86,2.29, 'PAR'],\n",
        "    'Beijing': [39.92,116.40 ,'BEI'],\n",
        "}"
      ],
      "id": "c6fdcb5d"
    },
    {
      "cell_type": "markdown",
      "metadata": {},
      "source": [
        "#### 2.1.1 Adding to a Dict\n",
        "\n",
        "Add a record to the dictionary for Chennai ([data\n",
        "here](https://en.wikipedia.org/wiki/Chennai))\n",
        "\n",
        "##### 2.1.1.1 Question"
      ],
      "id": "39b50e9b-3818-4ae9-8769-87c368c5b103"
    },
    {
      "cell_type": "code",
      "execution_count": null,
      "metadata": {},
      "outputs": [],
      "source": [
        "??"
      ],
      "id": "ddc6978d-c04b-4eb4-a330-f9fa0ea17b33"
    },
    {
      "cell_type": "markdown",
      "metadata": {},
      "source": [
        "#### 2.1.2 Accessing a Dict\n",
        "\n",
        "In *one* line of code, print out the airport code for Chennai (`MAA`):\n",
        "\n",
        "##### 2.1.2.1 Question"
      ],
      "id": "e502a7ce-ab94-494c-a3e0-5c64c435192d"
    },
    {
      "cell_type": "code",
      "execution_count": null,
      "metadata": {},
      "outputs": [],
      "source": [
        "??"
      ],
      "id": "1dc24870-2fa0-4da3-a143-2fb30a3e3139"
    },
    {
      "cell_type": "markdown",
      "metadata": {},
      "source": [
        "### 2.2 Dealing With Errors\n",
        "\n",
        "Check you understand the difference between the following two blocks of\n",
        "code by running them."
      ],
      "id": "8b7456d7-1635-4d10-a7aa-f56097a14f12"
    },
    {
      "cell_type": "code",
      "execution_count": 14,
      "metadata": {},
      "outputs": [
        {
          "output_type": "stream",
          "name": "stdout",
          "text": [
            "Error found\n",
            "'Berlin'"
          ]
        }
      ],
      "source": [
        "try:\n",
        "    print(cities['Berlin'])\n",
        "except KeyError as e:\n",
        "    print(\"Error found\")\n",
        "    print(e)"
      ],
      "id": "f4d244f5"
    },
    {
      "cell_type": "code",
      "execution_count": 15,
      "metadata": {},
      "outputs": [
        {
          "output_type": "stream",
          "name": "stdout",
          "text": [
            "Not Found"
          ]
        }
      ],
      "source": [
        "try:\n",
        "    print(cities.get('Berlin','Not Found'))\n",
        "except KeyError as e:\n",
        "    print(\"Error found\")\n",
        "    print(e)"
      ],
      "id": "662cdc48"
    },
    {
      "cell_type": "markdown",
      "metadata": {},
      "source": [
        "Notice that trying to access a non-existent element of a dict triggers a\n",
        "`KeyError`, while asking the dict to `get` the *same element* does not,\n",
        "it simply returns `None`. Can you think why, depending on the\n",
        "situtation, *either* of these might be the ‘correct’ answer?\n",
        "\n",
        "### 2.3 Thinking Data\n",
        "\n",
        "This section makes use of both the\n",
        "[Dictionaries](https://jreades.github.io/fsds/sessions/week3.html#lectures)\n",
        "lecture and the [DOLs to\n",
        "Data](https://jreades.github.io/fsds/sessions/week3.html#lectures)\n",
        "lecture.\n",
        "\n",
        "> **Tip**\n",
        ">\n",
        "> In this section you’ll need to look up (i.e. Google) and make use of a\n",
        "> few new functions that apply to dictionaries: `<dictionary>.items()`,\n",
        "> `<dictionary>.keys()`. *Remember*: if in doubt, add `print(...)`\n",
        "> statements to see what is going on!\n",
        "\n",
        "#### 2.3.1 Iterating over a Dict\n",
        "\n",
        "Adapting the code below, print out the city name and airport code for\n",
        "every city in our Atlas.\n",
        "\n",
        "##### 2.3.1.1 Question"
      ],
      "id": "6246ad64-2966-4863-bdc0-65967e2ac946"
    },
    {
      "cell_type": "code",
      "execution_count": null,
      "metadata": {},
      "outputs": [],
      "source": [
        "for c in cities.keys():\n",
        "    print(??)"
      ],
      "id": "6b82c068-9618-479c-a4dd-a4db7351ba25"
    },
    {
      "cell_type": "markdown",
      "metadata": {},
      "source": [
        "The output should look something like this:"
      ],
      "id": "dbc2dac2-7eb8-4953-9dd9-0b3ac9fa3011"
    },
    {
      "cell_type": "code",
      "execution_count": null,
      "metadata": {},
      "outputs": [],
      "source": [
        "San Francisco -> SFO\n",
        "London -> LDN\n",
        "Paris -> PAR\n",
        "Beijing -> BEI\n",
        "Chennai -> MAA"
      ],
      "id": "e7e87408-b74d-4ec6-92bc-78d588e779c1"
    },
    {
      "cell_type": "markdown",
      "metadata": {},
      "source": [
        "#### 2.3.2 More Complex Dicts\n",
        "\n",
        "How would your code need to change to produce the *same output* from\n",
        "this data structure:"
      ],
      "id": "71efc6ff-b790-45ab-ac00-92f6a1f6e94b"
    },
    {
      "cell_type": "code",
      "execution_count": 17,
      "metadata": {},
      "outputs": [],
      "source": [
        "cities = {\n",
        "    'San Francisco': {\n",
        "        'lat': 37.77, \n",
        "        'lon': -122.43,\n",
        "        'airport': 'SFO'},\n",
        "    'London': {\n",
        "        'lat': 51.51, \n",
        "        'lon': -0.08, \n",
        "        'airport': 'LDN'},\n",
        "    'Paris': {\n",
        "        'lat': 48.86,\n",
        "        'lon': 2.29, \n",
        "        'airport': 'PAR'},\n",
        "    'Beijing': {\n",
        "        'lat': 39.92,\n",
        "        'lon': 116.40,\n",
        "        'airport': 'BEI'},\n",
        "    'Chennai': { \n",
        "        'lat': 13.08, \n",
        "        'lon': 80.28, \n",
        "        'airport': 'MAA'}\n",
        "}"
      ],
      "id": "d799eb30"
    },
    {
      "cell_type": "markdown",
      "metadata": {},
      "source": [
        "##### 2.3.2.1 Question"
      ],
      "id": "c2140043-6f68-4731-ab11-3bf855e8d631"
    },
    {
      "cell_type": "code",
      "execution_count": null,
      "metadata": {},
      "outputs": [],
      "source": [
        "for c in cities.keys():\n",
        "    print(??)"
      ],
      "id": "2e23d721-816d-438e-9416-18f1966fbfcc"
    },
    {
      "cell_type": "markdown",
      "metadata": {},
      "source": [
        "#### 2.3.3 More Dictionary Action!\n",
        "\n",
        "And how would it need to change to print out the name and latitude of\n",
        "every city?\n",
        "\n",
        "##### 2.3.3.1 Question"
      ],
      "id": "384eaf79-50c1-434b-a113-ede984b614e4"
    },
    {
      "cell_type": "code",
      "execution_count": null,
      "metadata": {},
      "outputs": [],
      "source": [
        "for c in cities.keys():\n",
        "    print(??)"
      ],
      "id": "65727457-178d-446e-817d-9c37205f3b40"
    },
    {
      "cell_type": "markdown",
      "metadata": {},
      "source": [
        "The output should be something like this:"
      ],
      "id": "9481ae54-68d5-43b1-ad54-7cd70c75463b"
    },
    {
      "cell_type": "code",
      "execution_count": null,
      "metadata": {},
      "outputs": [],
      "source": [
        "San Francisco is at latitude 37.77\n",
        "London is at latitude 51.51\n",
        "Paris is at latitude 48.86\n",
        "Beijing is at latitude 39.92\n",
        "Chennai is at latitude 13.08"
      ],
      "id": "1db5aed8-1f00-4dda-b0c4-c80e37c75a90"
    },
    {
      "cell_type": "markdown",
      "metadata": {},
      "source": [
        "#### 2.3.4 And Another Way to Use a Dict\n",
        "\n",
        "Now produce the *same output* using this new data structure:"
      ],
      "id": "213ce2c5-b5fb-47fd-ad11-49e647f02441"
    },
    {
      "cell_type": "code",
      "execution_count": 21,
      "metadata": {},
      "outputs": [],
      "source": [
        "cities_alt = [\n",
        "    {'name':     'San Francisco',\n",
        "     'position': [37.77, -122.43],\n",
        "     'airport':  'SFO'},\n",
        "    {'name':     'London',\n",
        "     'position': [51.51, -0.08],\n",
        "     'airport':  'LDN'},\n",
        "    {'name':     'Paris',\n",
        "     'position': [48.86, 2.29],\n",
        "     'airport':  'PAR'},\n",
        "    {'name':     'Beijing',\n",
        "     'position': [39.92, 116.40],\n",
        "     'airport':  'BEI'},\n",
        "    {'name':     'Chennai', \n",
        "     'position': [13.08, 80.28],\n",
        "      'airport': 'MAA'}\n",
        "]"
      ],
      "id": "e7c81186"
    },
    {
      "cell_type": "markdown",
      "metadata": {},
      "source": [
        "##### Question\n",
        "\n",
        "``` python\n",
        "for c in cities_alt:\n",
        "    print(??)\n",
        "```\n",
        "\n",
        "The output should be something like this:\n",
        "\n",
        "    San Francisco is at latitude 37.77\n",
        "    London is at latitude 51.51\n",
        "    Paris is at latitude 48.86\n",
        "    Beijing is at latitude 39.92\n",
        "    Chennai is at latitude 13.08\n",
        "\n",
        "##### Answer\n",
        "\n",
        "``` python\n",
        "for c in cities_alt:\n",
        "    print(f\"{c['name']} is at latitude {c['position'][0]}\")\n",
        "```\n",
        "\n",
        "    San Francisco is at latitude 37.77\n",
        "    London is at latitude 51.51\n",
        "    Paris is at latitude 48.86\n",
        "    Beijing is at latitude 39.92\n",
        "    Chennai is at latitude 13.08\n",
        "\n",
        "#### 2.3.5 Think Data!\n",
        "\n",
        "What are some of the main differences that you can think of between\n",
        "`cities` and `cities_alt` *as* data? There is no right answer.\n",
        "\n",
        "> **Tip**\n",
        ">\n",
        "> I just want you to think about these *as data*! If you were trying to\n",
        "> use `cities` and `cities_alt` as data what differences would you find\n",
        "> when accessing one or more ‘records’?\n",
        "\n",
        "-   Point 1 here.\n",
        "-   Point 2 here.\n",
        "-   Point 3 here."
      ],
      "id": "33864775-1d71-45a4-bf5c-933d9d9b5396"
    }
  ],
  "nbformat": 4,
  "nbformat_minor": 5,
  "metadata": {
    "kernelspec": {
      "name": "python3",
      "display_name": "Python 3 (ipykernel)",
      "language": "python",
      "path": "/Users/jreades/anaconda3/envs/sds/share/jupyter/kernels/python3"
    },
    "language_info": {
      "name": "python",
      "codemirror_mode": {
        "name": "ipython",
        "version": "3"
      },
      "file_extension": ".py",
      "mimetype": "text/x-python",
      "nbconvert_exporter": "python",
      "pygments_lexer": "ipython3",
      "version": "3.12.2"
    }
  }
}