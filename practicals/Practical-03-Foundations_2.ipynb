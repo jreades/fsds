{
  "cells": [
    {
      "cell_type": "markdown",
      "metadata": {},
      "source": [
        "## Practical 3: Foundations (Part 2)\n",
        "\n",
        "Getting to grips with Dictionaries, LOLs and DOLs\n",
        "\n",
        "In this notebook we are exploring basic (in the sense of fundamental)\n",
        "data structures so that you understand both how to manage more complex\n",
        "types of data and are prepared for what we will encounter when we start\n",
        "using `pandas` to perform data analysis. To achieve that, you will need\n",
        "to be ‘fluent’ in nested lists and dictionaries; we will focus primarily\n",
        "on lists-of-lists and dictionaries-of-lists, but note that file formats\n",
        "like JSON can be understood as\n",
        "dictionaries-of-dictionaries-of-lists-of-… so this is just a *taster* of\n",
        "real-world data structures.\n",
        "\n",
        "> **Tip**\n",
        ">\n",
        "> You should download this notebook and then save it to your own copy of\n",
        "> the repository. Follow the process used *last* week\n",
        "> (i.e. `git add ...`, `git commit -m \"...\"`, `git push`) right away and\n",
        "> then do this again at the end of the class and you’ll have a record of\n",
        "> everything you did.\n",
        "\n",
        "## 1. From Lists to Data (Little Steps)\n",
        "\n",
        "We’re going to start off using lists and dictionaries that *we* define\n",
        "right at the start of the ‘program’, but the *real* value of these data\n",
        "structures comes when we build a list or dictionary *from* data such as\n",
        "a file or a web page… and that’s what we’re going to do below!\n",
        "\n",
        "First, here’s a reminder of some useful methods (*i.e.* functions) that\n",
        "apply to lists which we covered in the\n",
        "[lecture](https://jreades.github.io/fsds/sessions/week2.html#pre-recorded-lectures)\n",
        "and\n",
        "[practical](https://jreades.github.io/fsds/sessions/week2.html#practical)\n",
        "in Week 2:\n",
        "\n",
        "| Method | Action |\n",
        "|--------------------|----------------------------------------------------|\n",
        "| `list.count(x)` | Return the number of times x appears in the list |\n",
        "| `list.insert(i, x)` | Insert value `x` at a given position `i` |\n",
        "| `list.pop([i])` | Remove and return the value at position `i` (`i` is optional) |\n",
        "| `list.remove(x)` | Remove the first element from the list whose value is `x` |\n",
        "| `list.reverse()` | Reverse the elements of the list in place |\n",
        "| `list.sort()` | Sort the items of the list in place |\n",
        "| `list.index(x)` | Find the first occurence of `x` in the list |\n",
        "| `list[x:y]` | Slice the list from index `x` to `y-1` |\n",
        "\n",
        "This should all be revision… because it’s how we finished things up\n",
        "*last week*. But I want to go over it *briefly* again because we’re\n",
        "going to build on it this week.\n",
        "\n",
        "> **Hint**\n",
        ">\n",
        "> As before, `??` will highlight where one or more bit of code are\n",
        "> missing and need to be filled in…\n",
        "\n",
        "### 1.1 List Refresher\n",
        "\n",
        "> **Difficulty: Low.**\n",
        "\n",
        "To complete these tasks, all of the methods that you need are listed\n",
        "above, so this is about testing yourself on your understanding *both* of\n",
        "how to read the help *and* how to index elements in a list.\n",
        "\n",
        "The next line creates a list of (made up) Airbnb property names where\n",
        "each element is a string:"
      ],
      "id": "40879e23-ea07-457b-9459-c42a35f5f6cf"
    },
    {
      "cell_type": "code",
      "execution_count": 1,
      "metadata": {},
      "outputs": [],
      "source": [
        "listings = [\"Sunny 1-Bed\", \"Fantastic Dbl\",\n",
        "    \"Home-Away-From-Home\", \"Sunny Single\", \n",
        "    \"Whole House\", \"Trendy Terrace\"]"
      ],
      "id": "79942fcd"
    },
    {
      "cell_type": "markdown",
      "metadata": {},
      "source": [
        "#### 1.1.1 List Arithmetic\n",
        "\n",
        "Replace the `??` so that it prints <code>Sunny Single</code>.\n",
        "\n",
        "##### 1.1.1.1 Question"
      ],
      "id": "5b80ba22-8d4d-45ef-a445-321b227111f0"
    },
    {
      "cell_type": "code",
      "execution_count": null,
      "metadata": {},
      "outputs": [],
      "source": [
        "print(listings[?? + 1])"
      ],
      "id": "369b85ba-da21-4161-8010-455379aa6cb1"
    },
    {
      "cell_type": "markdown",
      "metadata": {},
      "source": [
        "#### 1.1.2 Negative List Arithmetic\n",
        "\n",
        "Now use a **negative** index to print <code>Whole House</code>:\n",
        "\n",
        "##### 1.1.2.1 Question"
      ],
      "id": "0db86dfe-cc65-4df3-a999-33d97a246326"
    },
    {
      "cell_type": "code",
      "execution_count": null,
      "metadata": {},
      "outputs": [],
      "source": [
        "print(listings[??])"
      ],
      "id": "3955b129-519c-4fb7-ac05-fe35504b01e4"
    },
    {
      "cell_type": "markdown",
      "metadata": {},
      "source": [
        "#### 1.1.3 Finding a Position in a List\n",
        "\n",
        "Replace the `??` so that it prints the *index* for <code>Fantastic\n",
        "Dbl</code> in the list.\n",
        "\n",
        "##### 1.1.3.1 Question"
      ],
      "id": "e3e8a362-667c-474c-862e-dd0f27d38108"
    },
    {
      "cell_type": "code",
      "execution_count": null,
      "metadata": {},
      "outputs": [],
      "source": [
        "print(\"The position of 'Fantastic Dbl' in the list is: \" + str( ?? ))"
      ],
      "id": "c6b552c9-1402-4be5-a73e-b540d5c8a316"
    },
    {
      "cell_type": "markdown",
      "metadata": {},
      "source": [
        "### 1.2 Looking Across Lists\n",
        "\n",
        "> **Connections**\n",
        ">\n",
        "> This section draws on the\n",
        "> [LOLs](https://jreades.github.io/fsds/sessions/week3.html#pre-recorded-lectures)\n",
        "> lecture and you will also find Code Camp’s\n",
        "> [Loops](https://jreades.github.io/code-camp/lessons/Loops.html)\n",
        "> session useful here.\n",
        "\n",
        "> **Difficulty: Medium.**\n",
        "\n",
        "Notice that the list of `prices` is the same length as the list of\n",
        "`listings`, that’s because these are (made-up) prices for each listing."
      ],
      "id": "6a4d4373-9beb-4dc2-8565-b79a4d2f8670"
    },
    {
      "cell_type": "code",
      "execution_count": 8,
      "metadata": {},
      "outputs": [],
      "source": [
        "listings = [\"Sunny 1-Bed\", \"Fantastic Dbl\", \"Home-Away-From-Home\", \"Sunny Single\", \"Whole House\", \"Trendy Terrace\"]\n",
        "prices = [37.50, 46.00, 125.00, 45.00, 299.99, 175.00]"
      ],
      "id": "faf5e1e2"
    },
    {
      "cell_type": "markdown",
      "metadata": {},
      "source": [
        "#### 1.2.1 Lateral Thinking\n",
        "\n",
        "Given what you know about `listings` and `prices`, how do you print:\n",
        "\n",
        "> `\"The nightly price for Home-Away-From-Home is £125.0.\"`\n",
        "\n",
        "But you have to do this *without* doing any of the following:\n",
        "\n",
        "1.  Using a list index directly (*i.e.* `listings[2]` and `prices[2]`)\n",
        "    or\n",
        "2.  Hard-coding the name of the listing?\n",
        "\n",
        "To put it another way, **neither** of these solutions is the answer:"
      ],
      "id": "032bb195-d201-4673-887c-ca9f01c9c428"
    },
    {
      "cell_type": "code",
      "execution_count": 10,
      "metadata": {},
      "outputs": [],
      "source": [
        "print(\"The nightly price for `Home-Away-From-Home` is £\" + str(prices[2]) + \".\")\n",
        "# ...OR...\n",
        "listing=2\n",
        "print(\"The nightly price for `Home-Away-From-Home` is £\" + str(prices[listings[listing]]) + \".\")"
      ],
      "id": "c6e3afde"
    },
    {
      "cell_type": "markdown",
      "metadata": {},
      "source": [
        "> **Tip**\n",
        ">\n",
        "> You will need to combine some of the ideas above and also think about\n",
        "> the fact that the list index is that we need is the same in both\n",
        "> lists… Also, remember that you’ll need to wrap a `str(...)` around\n",
        "> your temperature to make it into a string.\n",
        "\n",
        "##### 1.2.1.1 Question"
      ],
      "id": "02d3c017-f0d9-48a5-8b97-e86886689435"
    },
    {
      "cell_type": "code",
      "execution_count": null,
      "metadata": {},
      "outputs": [],
      "source": [
        "listing=\"Home-Away-From-Home\" # Use this to get the solution...\n",
        "\n",
        "# This way is perfectly fine\n",
        "print(\"The nightly price of \" + ?? + \" is \" + str(??))\n",
        "\n",
        "# This way is more Python 3 and a bit easier to read\n",
        "print(f\"The nightly price of {??} is {??}\")"
      ],
      "id": "bc8b6219-894c-4e8d-b2d6-5babf9ba2d41"
    },
    {
      "cell_type": "markdown",
      "metadata": {},
      "source": [
        "#### 1.2.2 Double-Checking Your Solution"
      ],
      "id": "63aa3fe4-ca0b-483d-9a99-870d518e3d42"
    },
    {
      "cell_type": "code",
      "execution_count": 13,
      "metadata": {},
      "outputs": [],
      "source": [
        "listing = 'Sunny Single'"
      ],
      "id": "7114246f"
    },
    {
      "cell_type": "markdown",
      "metadata": {},
      "source": [
        "You’ll know that you got the ‘right’ answer to the question above if you\n",
        "can copy+paste your code and change only **one** thing in order to print\n",
        "out: “The nightly price of Sunny Single is £45.0”\n",
        "\n",
        "##### 1.2.2.1 Question"
      ],
      "id": "6761ce13-d593-44a1-9679-d15e96dd27e0"
    },
    {
      "cell_type": "code",
      "execution_count": null,
      "metadata": {},
      "outputs": [],
      "source": [
        "listing = 'Sunny Single'\n",
        "print(??)"
      ],
      "id": "0bf997c7-5a7f-40d7-9b40-8327e0cd6e91"
    },
    {
      "cell_type": "markdown",
      "metadata": {},
      "source": [
        "#### 1.2.3 Loops\n",
        "\n",
        "Now use a `for` loop over the listings to print out the price of each.\n",
        "But first, some information about formatting number in Python…\n",
        "\n",
        "> **Formatting Numbers**\n",
        ">\n",
        "> We often want to format numbers in a particular way to make the more\n",
        "> readable. Commonly, in English we use commas for thousands separators\n",
        "> and a full-stop for the decimal. Other countries follow other\n",
        "> standards, but by default Python goes the English way. So:\n",
        ">\n",
        "> ``` python\n",
        "> print(f\"{1234567.25:.0f}\")\n",
        "> print(f\"{1234567.25:.1f}\")\n",
        "> print(f\"{1234567.25:.2f}\")\n",
        "> print(f\"{1234567:.2f}\")\n",
        "> print(f\"{1234567:,.2f}\")\n",
        "> ```\n",
        ">\n",
        ">     1234567\n",
        ">     1234567.2\n",
        ">     1234567.25\n",
        ">     1234567.00\n",
        ">     1,234,567.00\n",
        "\n",
        "That should then help you with the output of the following block of\n",
        "code!\n",
        "\n",
        "##### 1.2.3.1 Question"
      ],
      "id": "fa8b8e24-9b99-4c2e-9b58-5d9737adc7f7"
    },
    {
      "cell_type": "code",
      "execution_count": null,
      "metadata": {},
      "outputs": [],
      "source": [
        "for l in listings:\n",
        "    ??"
      ],
      "id": "45bbbd5d-a688-42b4-815e-f0546f18de50"
    },
    {
      "cell_type": "markdown",
      "metadata": {},
      "source": [
        "The output should be:"
      ],
      "id": "61a52392-d45a-466d-855b-fa425cb3fcfd"
    },
    {
      "cell_type": "code",
      "execution_count": null,
      "metadata": {},
      "outputs": [],
      "source": [
        "The nightly price of Sunny 1-Bed is £37.50\n",
        "The nightly price of Fantastic Dbl is £46.00\n",
        "The nightly price of Home-Away-From-Home is £125.00\n",
        "The nightly price of Sunny Single is £45.00\n",
        "The nightly price of Whole House is £299.99\n",
        "The nightly price of Trendy Terrace is £175.00"
      ],
      "id": "d51f7e28-5fef-40b2-8d8a-78cb6d85bf7d"
    },
    {
      "cell_type": "markdown",
      "metadata": {},
      "source": [
        "## 2. Dictionaries\n",
        "\n",
        "> **Connections**\n",
        ">\n",
        "> This section draws on the\n",
        "> [Dictionaries](https://jreades.github.io/fsds/sessions/week3.html#pre-recorded-lectures)\n",
        "> lecture and Code Camp\n",
        "> [Dictionaries](https://jreades.github.io/code-camp/lessons/Dicts.html)\n",
        "> session.\n",
        "\n",
        "> **Difficulty: Low.**\n",
        "\n",
        "Remember that dictionaries (a.k.a. dicts) are like lists in that they\n",
        "are [data\n",
        "structures](https://docs.python.org/2/tutorial/datastructures.html)\n",
        "containing multiple elements. A key difference between\n",
        "[dictionaries](https://docs.python.org/2/tutorial/datastructures.html#dictionaries)\n",
        "and [lists](https://docs.python.org/2/tutorial/introduction.html#lists)\n",
        "is that while elements in lists are ordered, dicts (in most programming\n",
        "languages, though not Python) are unordered. This means that whereas for\n",
        "lists we use integers as indexes to access elements, in dictonaries we\n",
        "use ‘keys’ (which can multiple different types; strings, integers,\n",
        "etc.). Consequently, the important term here is key-value pairs.\n",
        "\n",
        "### 2.1 Creating an Atlas\n",
        "\n",
        "The code below creates an atlas using a dictionary. The dictionary `key`\n",
        "is a listing, and the `value` is the latitude, longitude, and price."
      ],
      "id": "267b5172-c2eb-4f50-afdc-c3bd2ddae7fd"
    },
    {
      "cell_type": "code",
      "execution_count": 20,
      "metadata": {},
      "outputs": [],
      "source": [
        "listings = {\n",
        "    'Sunny 1-Bed': [37.77, -122.43, '£37.50'],\n",
        "    'Fantastic Dbl': [51.51, -0.08, '£46.00'],\n",
        "    'Home-Away-From-Home': [48.86, 2.29, '£125.00'],\n",
        "    'Sunny Single': [39.92, 116.40 ,'£45.00'],\n",
        "}"
      ],
      "id": "d61b2340"
    },
    {
      "cell_type": "markdown",
      "metadata": {},
      "source": [
        "#### 2.1.1 Adding to a Dict\n",
        "\n",
        "Add a record to the dictionary for “Whole House” following the same\n",
        "format.\n",
        "\n",
        "##### 2.1.1.1 Question"
      ],
      "id": "c03d14fa-fba5-499f-89f0-e1cba475f091"
    },
    {
      "cell_type": "code",
      "execution_count": null,
      "metadata": {},
      "outputs": [],
      "source": [
        "??"
      ],
      "id": "e0af3a19-d1a6-4bb5-968f-76fd339e0e9f"
    },
    {
      "cell_type": "markdown",
      "metadata": {},
      "source": [
        "#### 2.1.2 Accessing a Dict\n",
        "\n",
        "In *one* line of code, print out the price for ‘Whole House’:\n",
        "\n",
        "##### 2.1.2.1 Question"
      ],
      "id": "80c9ac98-0e4d-4764-81ee-8b001c5dce0b"
    },
    {
      "cell_type": "code",
      "execution_count": null,
      "metadata": {},
      "outputs": [],
      "source": [
        "??"
      ],
      "id": "223e9967-586b-4dc3-b6fc-031be3975a8b"
    },
    {
      "cell_type": "markdown",
      "metadata": {},
      "source": [
        "### 2.2 Dealing With Errors\n",
        "\n",
        "Check you understand the difference between the following two blocks of\n",
        "code by running them."
      ],
      "id": "d55a5ac3-a31c-4d20-8b2a-55fe11f23480"
    },
    {
      "cell_type": "code",
      "execution_count": 25,
      "metadata": {},
      "outputs": [],
      "source": [
        "try:\n",
        "    print(listings['Trendy Terrace'])\n",
        "except KeyError as e:\n",
        "    print(\"Error found\")\n",
        "    print(e)"
      ],
      "id": "9f463920"
    },
    {
      "cell_type": "code",
      "execution_count": 26,
      "metadata": {},
      "outputs": [],
      "source": [
        "try:\n",
        "    print(listings.get('Trendy Terrace','Not Found'))\n",
        "except KeyError as e:\n",
        "    print(\"Error found\")\n",
        "    print(e)"
      ],
      "id": "7524824c"
    },
    {
      "cell_type": "markdown",
      "metadata": {},
      "source": [
        "Notice that trying to access a non-existent element of a dict triggers a\n",
        "`KeyError`, while asking the dict to `get` the *same element* does not,\n",
        "it simply returns `None`. Can you think why, depending on the\n",
        "situtation, *either* of these might be the ‘correct’ answer?\n",
        "\n",
        "### 2.3 Thinking Data\n",
        "\n",
        "This section makes use of both the\n",
        "[Dictionaries](https://jreades.github.io/fsds//sessions/week3.html#pre-recorded-lectures)\n",
        "lecture and the [DOLs to\n",
        "Data](https://jreades.github.io/fsds/sessions/week3.html#pre-recorded-lectures)\n",
        "lecture.\n",
        "\n",
        "> **Tip**\n",
        ">\n",
        "> In this section you’ll need to look up (i.e. Google) and make use of a\n",
        "> few new functions that apply to dictionaries: `<dictionary>.items()`,\n",
        "> `<dictionary>.keys()`. *Remember*: if in doubt, add `print(...)`\n",
        "> statements to see what is going on!\n",
        "\n",
        "#### 2.3.1 Iterating over a Dict\n",
        "\n",
        "Adapting the code below, print out the listing name and price.\n",
        "\n",
        "##### 2.3.1.1 Question"
      ],
      "id": "f34e9171-6ac8-4cc0-b47a-b4214407c41b"
    },
    {
      "cell_type": "code",
      "execution_count": null,
      "metadata": {},
      "outputs": [],
      "source": [
        "for l in listings.keys():\n",
        "    print(??)"
      ],
      "id": "32def3eb-3a14-459a-a695-5a3737152921"
    },
    {
      "cell_type": "markdown",
      "metadata": {},
      "source": [
        "The output should look something like this:"
      ],
      "id": "b39d7d80-62b9-4f28-8ed0-c88bd4262f55"
    },
    {
      "cell_type": "code",
      "execution_count": null,
      "metadata": {},
      "outputs": [],
      "source": [
        "Sunny 1-Bed -> £37.50</code>\n",
        "Fantastic Dbl -> £46.00</code>\n",
        "Home-Away-From-Home -> £125.00</code>\n",
        "Sunny Single -> £45.00</code>\n",
        "Whole House -> £299.99</code>"
      ],
      "id": "0f55a4f2-21ba-4743-895e-0078a8aae60b"
    },
    {
      "cell_type": "markdown",
      "metadata": {},
      "source": [
        "#### 2.3.2 More Complex Dicts\n",
        "\n",
        "How would your code need to change to produce the *same output* from\n",
        "this data structure:"
      ],
      "id": "20991ed7-6596-4d5c-a3ca-29a0cda2a779"
    },
    {
      "cell_type": "code",
      "execution_count": 30,
      "metadata": {},
      "outputs": [],
      "source": [
        "listings = {\n",
        "    'Sunny 1-Bed': {\n",
        "        'lat': 37.77, \n",
        "        'lon': -122.43, \n",
        "        'price': '£37.50'},\n",
        "    'Fantastic Dbl': {\n",
        "        'lat': 51.51, \n",
        "        'lon': -0.08, \n",
        "        'price': '£46.00'},\n",
        "    'Home-Away-From-Home': {\n",
        "        'lat': 48.86, \n",
        "        'lon': 2.29, \n",
        "        'price': '£125.00'},\n",
        "    'Sunny Single': {\n",
        "        'lat': 39.92, \n",
        "        'lon': 116.40, \n",
        "        'price': '£45.00'},\n",
        "}"
      ],
      "id": "60ffe654"
    },
    {
      "cell_type": "markdown",
      "metadata": {},
      "source": [
        "##### 2.3.2.1 Question\n",
        "\n",
        "So to print out the below for each listing it’s…"
      ],
      "id": "73041f83-d04d-4d29-9ef7-d0f7871f8d4f"
    },
    {
      "cell_type": "code",
      "execution_count": null,
      "metadata": {},
      "outputs": [],
      "source": [
        "for l in listings.keys():\n",
        "    print(??)"
      ],
      "id": "fd7f8586-136c-4500-9d22-56a0765afae4"
    },
    {
      "cell_type": "markdown",
      "metadata": {},
      "source": [
        "Your output should be:"
      ],
      "id": "ba7dac1d-6412-4bc0-b829-14713ffa9bec"
    },
    {
      "cell_type": "code",
      "execution_count": null,
      "metadata": {},
      "outputs": [],
      "source": [
        "Sunny 1-Bed -> £37.50\n",
        "Fantastic Dbl -> £46.00\n",
        "Home-Away-From-Home -> £125.00\n",
        "Sunny Single -> £45.00"
      ],
      "id": "79720221-0ecb-4813-9a89-31c43e3f5052"
    },
    {
      "cell_type": "markdown",
      "metadata": {},
      "source": [
        "#### 2.3.3 More Dictionary Action!\n",
        "\n",
        "And how would it need to change to print out the name and latitude of\n",
        "every listing?\n",
        "\n",
        "##### 2.3.3.1 Question"
      ],
      "id": "d982b819-8c0c-463e-b843-34d0fef31259"
    },
    {
      "cell_type": "code",
      "execution_count": null,
      "metadata": {},
      "outputs": [],
      "source": [
        "for l in listings.keys():\n",
        "    print(??)"
      ],
      "id": "217e253d-baf4-4e3c-9f3f-46279f2ea09b"
    },
    {
      "cell_type": "markdown",
      "metadata": {},
      "source": [
        "The output should be something like this:"
      ],
      "id": "76100aa5-6853-4164-86e0-df3fe57df3e7"
    },
    {
      "cell_type": "code",
      "execution_count": null,
      "metadata": {},
      "outputs": [],
      "source": [
        "Sunny 1-Bed is at latitude 37.77\n",
        "Fantastic Dbl is at latitude 51.51\n",
        "Home-Away-From-Home is at latitude 48.86\n",
        "Sunny Single is at latitude 39.92"
      ],
      "id": "86d278e7-d210-4b76-ac23-394a53a1ce02"
    },
    {
      "cell_type": "markdown",
      "metadata": {},
      "source": [
        "#### 2.3.4 And Another Way to Use a Dict\n",
        "\n",
        "Now produce the *same output* using this new data structure:"
      ],
      "id": "2b163d1c-79a6-4f2e-b867-5b40d3a8514c"
    },
    {
      "cell_type": "code",
      "execution_count": 37,
      "metadata": {},
      "outputs": [],
      "source": [
        "listings_alt = [\n",
        "    {'name':     'Sunny 1-Bed',\n",
        "     'position': [37.77, -122.43],\n",
        "     'price':    '£37.50'},\n",
        "    {'name':     'Fantastic Dbl',\n",
        "     'position': [51.51, -0.08],\n",
        "     'price':    '£46.00'},\n",
        "    {'name':     'Home-Away-From-Home',\n",
        "     'position': [48.86, 2.29],\n",
        "     'price':    '£125.00'},\n",
        "    {'name':     'Sunny Single',\n",
        "     'position': [39.92, 116.40],\n",
        "     'price':    '£45.00'},\n",
        "    {'name':     'Whole House', \n",
        "     'position': [13.08, 80.28],\n",
        "     'price':    '£299.99'}\n",
        "]"
      ],
      "id": "29b1120e"
    },
    {
      "cell_type": "markdown",
      "metadata": {},
      "source": [
        "##### 2.3.4.1 Question"
      ],
      "id": "8b52680e-db8c-4219-a85e-c3507ee495c6"
    },
    {
      "cell_type": "code",
      "execution_count": null,
      "metadata": {},
      "outputs": [],
      "source": [
        "for l in listings_alt:\n",
        "    print(??)"
      ],
      "id": "33c8ed0f-fbaf-4d49-ae06-9321445125e3"
    },
    {
      "cell_type": "markdown",
      "metadata": {},
      "source": [
        "The output should be something like this:"
      ],
      "id": "892856a4-b3cb-4af1-b5a6-d510503f5fb0"
    },
    {
      "cell_type": "code",
      "execution_count": null,
      "metadata": {},
      "outputs": [],
      "source": [
        "Sunny 1-Bed is at latitude 37.77\n",
        "Fantastic Dbl is at latitude 51.51\n",
        "Home-Away-From-Home is at latitude 48.86\n",
        "Sunny Single is at latitude 39.92\n",
        "Whole House is at latitude 13.08"
      ],
      "id": "6729d003-6387-42bd-8b96-8d5b69891ce9"
    },
    {
      "cell_type": "markdown",
      "metadata": {},
      "source": [
        "#### 2.3.5 Think Data!\n",
        "\n",
        "What are some of the main differences that you can think of between\n",
        "these data structures? There is no right answer.\n",
        "\n",
        "-   Point 1 here.\n",
        "-   Point 2 here.\n",
        "-   Point 3 here.\n",
        "\n",
        "### 2.4 Add to Git/GitHub\n",
        "\n",
        "Now follow the same process that you used last week to ensure that your\n",
        "edited notebook is updated in Git and then synchronised with GitHub."
      ],
      "id": "ee65de99-17bb-4f43-909c-d559a8b76716"
    }
  ],
  "nbformat": 4,
  "nbformat_minor": 5,
  "metadata": {
    "kernelspec": {
      "name": "python3",
      "display_name": "Python 3 (ipykernel)",
      "language": "python",
      "path": "/opt/conda/share/jupyter/kernels/python3"
    },
    "language_info": {
      "name": "python",
      "codemirror_mode": {
        "name": "ipython",
        "version": "3"
      },
      "file_extension": ".py",
      "mimetype": "text/x-python",
      "nbconvert_exporter": "python",
      "pygments_lexer": "ipython3",
      "version": "3.12.11"
    }
  }
}