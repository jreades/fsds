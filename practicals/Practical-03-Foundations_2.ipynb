{
  "cells": [
    {
      "cell_type": "markdown",
      "metadata": {},
      "source": [
        "## Practical 3: Foundations (Part 2)\n",
        "\n",
        "Getting to grips with Dictionaries, LOLs and DOLs\n",
        "\n",
        "In this notebook we are exploring basic (in the sense of fundamental)\n",
        "data structures so that you understand both how to manage more complex\n",
        "types of data and are prepared for what we will encounter when we start\n",
        "using `pandas` to perform data analysis. To achieve that, you will need\n",
        "to be ‘fluent’ in “nested” lists and dictionaries; we will focus\n",
        "primarily on lists-of-lists and dictionaries-of-lists, but note that\n",
        "file formats like JSON can be understood as\n",
        "dictionaries-of-dictionaries-of-lists-of-… so this is just a *taster* of\n",
        "real-world data structures.\n",
        "\n",
        "> **Tip**\n",
        ">\n",
        "> You should download this notebook and then save it to your own copy of\n",
        "> the repository. Follow the process used *last* week\n",
        "> (i.e. `git add ...`, `git commit -m \"...\"`, `git push`) right away and\n",
        "> then do this again at the end of the class and you’ll have a record of\n",
        "> everything you did.\n",
        "\n",
        "## 1. From Lists to Data (Little Steps)\n",
        "\n",
        "We’re going to start off using lists and dictionaries that *we* define\n",
        "right at the start of the ‘program’, but the *real* value of these data\n",
        "structures comes when we build a list or dictionary *from* data such as\n",
        "a file or a web page… and that’s what we’re going to do below!\n",
        "\n",
        "First, here’s a reminder of some useful methods (*i.e.* functions) that\n",
        "apply to lists which we covered in the\n",
        "[lecture](https://jreades.github.io/fsds/sessions/week2.html#lectures)\n",
        "and\n",
        "[practical](https://jreades.github.io/fsds/sessions/week2.html#practical)\n",
        "in Week 2:\n",
        "\n",
        "| Method | Action |\n",
        "|--------------------|----------------------------------------------------|\n",
        "| `list.count(x)` | Return the number of times x appears in the list |\n",
        "| `list.insert(i, x)` | Insert value `x` at a given position `i` |\n",
        "| `list.pop([i])` | Remove and return the value at position `i` (`i` is optional) |\n",
        "| `list.remove(x)` | Remove the first element from the list whose value is `x` |\n",
        "| `list.reverse()` | Reverse the elements of the list in place |\n",
        "| `list.sort()` | Sort the items of the list in place |\n",
        "| `list.index(x)` | Find the first occurence of `x` in the list |\n",
        "| `list[x:y]` | Slice the list from index `x` to `y-1` |\n",
        "\n",
        "This should all be revision… because it’s how we finished things up\n",
        "*last week*. But I want to go over it *briefly* again because we’re\n",
        "going to build on it this week.\n",
        "\n",
        "> **Hint**\n",
        ">\n",
        "> As before, `??` will highlight where one or more bit of code are\n",
        "> missing and need to be filled in…\n",
        "\n",
        "### 1.1 List Refresher\n",
        "\n",
        "> **Difficulty: Low.**\n",
        "\n",
        "To complete these tasks, all of the methods that you need are listed\n",
        "above, so this is about testing yourself on your understanding *both* of\n",
        "how to read the help *and* how to index elements in a list.\n",
        "\n",
        "The next line creates a list of city names (each element is a string):"
      ],
      "id": "9525aea7-fec5-47f8-8124-bff161a97600"
    },
    {
      "cell_type": "code",
      "execution_count": 1,
      "metadata": {},
      "outputs": [],
      "source": [
        "cities = [\"Bristol\", \"London\", \"Manchester\", \"Edinburgh\", \"Belfast\", \"York\"]"
      ],
      "id": "c301ee1f"
    },
    {
      "cell_type": "markdown",
      "metadata": {},
      "source": [
        "#### 1.1.1 List Arithmetic\n",
        "\n",
        "Replace the `??` so that it prints `Belfast`.\n",
        "\n",
        "##### 1.1.1.1 Question"
      ],
      "id": "4ec8d9d1-0e9c-4442-93fd-054b8037164a"
    },
    {
      "cell_type": "code",
      "execution_count": null,
      "metadata": {},
      "outputs": [],
      "source": [
        "print(cities[?? + 2])"
      ],
      "id": "73f34711-241f-4e3c-b55d-d7eea2d8c690"
    },
    {
      "cell_type": "markdown",
      "metadata": {},
      "source": [
        "#### 1.1.2 Negative List Arithmetic\n",
        "\n",
        "Use a **negative** index to print `Belfast`:\n",
        "\n",
        "##### 1.1.2.1 Question"
      ],
      "id": "f56f96ce-8aa3-405c-b95b-5b13fd053670"
    },
    {
      "cell_type": "code",
      "execution_count": null,
      "metadata": {},
      "outputs": [],
      "source": [
        "print(cities[??])"
      ],
      "id": "cbf2048c-3904-486a-9a9e-1ca15060c9dc"
    },
    {
      "cell_type": "markdown",
      "metadata": {},
      "source": [
        "#### 1.1.3 Finding a Position in a List\n",
        "\n",
        "Replace the `??` so that it prints the *index* for Manchester in the\n",
        "list.\n",
        "\n",
        "##### 1.1.3.1 Question"
      ],
      "id": "f5ef64bb-95fd-49cd-a554-9bde532f8434"
    },
    {
      "cell_type": "code",
      "execution_count": null,
      "metadata": {},
      "outputs": [],
      "source": [
        "print(\"The position of Manchester in the list is: \" + str( ?? ))"
      ],
      "id": "381fdd30-b7df-4dbb-9a8c-b9e6a68ba93b"
    },
    {
      "cell_type": "markdown",
      "metadata": {},
      "source": [
        "### 1.2 Looking Across Lists\n",
        "\n",
        "> **Connections**\n",
        ">\n",
        "> This section draws on the\n",
        "> [LOLs](https://jreades.github.io/fsds/sessions/week3.html#lectures)\n",
        "> lecture and you will also find Code Camp’s\n",
        "> [Loops](https://jreades.github.io/code-camp/lessons/Loops.html)\n",
        "> session useful here.\n",
        "\n",
        "> **Difficulty: Medium.**\n",
        "\n",
        "Notice that the list of `temperatures` below is the same length as the\n",
        "list of `cities`, that’s because these are (roughly) the average\n",
        "temperatures for each city."
      ],
      "id": "68a3f8e8-198f-4aa3-a856-5cf12452b0a3"
    },
    {
      "cell_type": "code",
      "execution_count": 5,
      "metadata": {},
      "outputs": [],
      "source": [
        "cities = [\"Bristol\", \"London\", \"Manchester\", \"Edinburgh\", \"Belfast\", \"York\"]\n",
        "temperatures = [15.6, 16.5, 13.4, 14.0, 15.2, 14.8]"
      ],
      "id": "09f9d1bc"
    },
    {
      "cell_type": "markdown",
      "metadata": {},
      "source": [
        "#### 1.2.1 Lateral Thinking\n",
        "\n",
        "Given what you know about `cities` and `temperatures`, how do you print:\n",
        "\n",
        "> “The average temperature in Manchester is 13.4 degrees”\n",
        "\n",
        "But you have to do this *without* doing any of the following:\n",
        "\n",
        "1.  Using a list index directly (*i.e.* `cities[2]` and\n",
        "    `temperatures[2]`) or\n",
        "2.  Hard-coding the name of the city?\n",
        "\n",
        "To put it another way, **neither** of these solutions is the answer:\n",
        "\n",
        "``` python\n",
        "print(\"The average temperature in Manchester is \" + str(temperatures[2]) + \" degrees.\")\n",
        "# ...OR...\n",
        "city=2\n",
        "print(\"The average temperature in \" + cities[city] + \" is \" + str(temperatures[city]) + \" degrees.\")\n",
        "```\n",
        "\n",
        "> **Tip**\n",
        ">\n",
        "> You will need to combine some of the ideas above and also think about\n",
        "> the fact that the list index is that we need is the same in both\n",
        "> lists… Also, remember that you’ll need to wrap a `str(...)` around\n",
        "> your temperature to make it into a string.\n",
        "\n",
        "##### 1.2.1.1 Question"
      ],
      "id": "c3102d1d-a01f-4860-a135-752fbd68b421"
    },
    {
      "cell_type": "code",
      "execution_count": null,
      "metadata": {},
      "outputs": [],
      "source": [
        "city=\"Manchester\" # Use this to get the solution...\n",
        "\n",
        "# This way is perfectly fine\n",
        "print(\"The average temperature in \" + ?? + \" is \" + str(??))\n",
        "\n",
        "# This way is more Python 3 and a bit easier to read\n",
        "print(f\"The average temperature in {??} is {??}\")"
      ],
      "id": "bcb086ec-919d-4029-aa25-b4a62a08cfdc"
    },
    {
      "cell_type": "markdown",
      "metadata": {},
      "source": [
        "#### 1.2.2 Double-Checking Your Solution\n",
        "\n",
        "You’ll know that you got the ‘right’ answer to the question above if you\n",
        "can copy+paste your code and change only **one** thing in order to print\n",
        "out: “The average temperature in Belfast is 15.2 degrees”\n",
        "\n",
        "##### 1.2.2.1 Question"
      ],
      "id": "8cdf9bc7-0d79-4d5a-85d0-c7b92a8ff82f"
    },
    {
      "cell_type": "code",
      "execution_count": null,
      "metadata": {},
      "outputs": [],
      "source": [
        "city=\"Belfast\"\n",
        "print(??)"
      ],
      "id": "dd5c8700-882b-4bd4-9454-96a2453e3fa6"
    },
    {
      "cell_type": "markdown",
      "metadata": {},
      "source": [
        "#### 1.2.3 Loops\n",
        "\n",
        "Now use a `for` loop over the cities to print out the average\n",
        "temperature in each city:\n",
        "\n",
        "##### 1.2.3.1 Question"
      ],
      "id": "fe74105d-1e47-4761-9845-ec4543616c99"
    },
    {
      "cell_type": "code",
      "execution_count": null,
      "metadata": {},
      "outputs": [],
      "source": [
        "for c in cities:\n",
        "    ??"
      ],
      "id": "7d941f2a-df40-4e0e-ba14-84f556ecbe6b"
    },
    {
      "cell_type": "markdown",
      "metadata": {},
      "source": [
        "The output should be:"
      ],
      "id": "c259fbe3-0198-419e-b734-12e30b2ca7f9"
    },
    {
      "cell_type": "code",
      "execution_count": null,
      "metadata": {},
      "outputs": [],
      "source": [
        "The average temperature in Bristol is 15.6\n",
        "The average temperature in London is 16.5\n",
        "The average temperature in Manchester is 13.4\n",
        "The average temperature in Edinburgh is 14.0\n",
        "The average temperature in Belfast is 15.2\n",
        "The average temperature in York is 14.8"
      ],
      "id": "9590e168-8217-4563-b950-454a923a313d"
    },
    {
      "cell_type": "markdown",
      "metadata": {},
      "source": [
        "## 2. Dictionaries\n",
        "\n",
        "> **Connections**\n",
        ">\n",
        "> This section draws on the\n",
        "> [Dictionaries](https://jreades.github.io/fsds/sessions/week3.html#lectures)\n",
        "> lecture and Code Camp\n",
        "> [Dictonaries](https://jreades.github.io/code-camp/lessons/Dicts.html)\n",
        "> session.\n",
        "\n",
        "> **Difficulty: Low.**\n",
        "\n",
        "Remember that dictionaries (a.k.a. dicts) are like lists in that they\n",
        "are [data\n",
        "structures](https://docs.python.org/2/tutorial/datastructures.html)\n",
        "containing multiple elements. A key difference between\n",
        "[dictionaries](https://docs.python.org/2/tutorial/datastructures.html#dictionaries)\n",
        "and [lists](https://docs.python.org/2/tutorial/introduction.html#lists)\n",
        "is that while elements in lists are ordered, dicts (in most programming\n",
        "languages, though not Python) are unordered. This means that whereas for\n",
        "lists we use integers as indexes to access elements, in dictonaries we\n",
        "use ‘keys’ (which can multiple different types; strings, integers,\n",
        "etc.). Consequently, an important concept for dicts is that of key-value\n",
        "pairs.\n",
        "\n",
        "### 2.1 Creating an Atlas\n",
        "\n",
        "The code below creates an Atlas using a dictionary. The dictionary `key`\n",
        "is a city name, and the `value` is the latitude, longitude, and main\n",
        "airport code."
      ],
      "id": "071bd4e9-0ba7-4f26-8253-fd91c47a336a"
    },
    {
      "cell_type": "code",
      "execution_count": 11,
      "metadata": {},
      "outputs": [],
      "source": [
        "cities = {\n",
        "    'San Francisco': [37.77, -122.43, 'SFO'],\n",
        "    'London': [51.51, -0.08, 'LDN'],\n",
        "    'Paris': [48.86,2.29, 'PAR'],\n",
        "    'Beijing': [39.92,116.40 ,'BEI'],\n",
        "}"
      ],
      "id": "3d1d0aa5"
    },
    {
      "cell_type": "markdown",
      "metadata": {},
      "source": [
        "#### 2.1.1 Adding to a Dict\n",
        "\n",
        "Add a record to the dictionary for Chennai ([data\n",
        "here](https://en.wikipedia.org/wiki/Chennai))\n",
        "\n",
        "##### 2.1.1.1 Question"
      ],
      "id": "dbdb45e2-e05c-403f-9993-d5a635949887"
    },
    {
      "cell_type": "code",
      "execution_count": null,
      "metadata": {},
      "outputs": [],
      "source": [
        "??"
      ],
      "id": "8f5364e5-9677-46c5-9caa-379d9b57e366"
    },
    {
      "cell_type": "markdown",
      "metadata": {},
      "source": [
        "#### 2.1.2 Accessing a Dict\n",
        "\n",
        "In *one* line of code, print out the airport code for Chennai (`MAA`):\n",
        "\n",
        "##### 2.1.2.1 Question"
      ],
      "id": "c96b5bf6-308e-476e-9bf0-f1136eed5a0a"
    },
    {
      "cell_type": "code",
      "execution_count": null,
      "metadata": {},
      "outputs": [],
      "source": [
        "??"
      ],
      "id": "eaa6d332-93df-4cda-b48f-b07ad3bfd39b"
    },
    {
      "cell_type": "markdown",
      "metadata": {},
      "source": [
        "### 2.2 Dealing With Errors\n",
        "\n",
        "Check you understand the difference between the following two blocks of\n",
        "code by running them."
      ],
      "id": "e2e8a969-9124-4c6e-8738-e2ae8cab1bbc"
    },
    {
      "cell_type": "code",
      "execution_count": 14,
      "metadata": {},
      "outputs": [
        {
          "output_type": "stream",
          "name": "stdout",
          "text": [
            "Error found\n",
            "'Berlin'"
          ]
        }
      ],
      "source": [
        "try:\n",
        "    print(cities['Berlin'])\n",
        "except KeyError as e:\n",
        "    print(\"Error found\")\n",
        "    print(e)"
      ],
      "id": "b3f94f50"
    },
    {
      "cell_type": "code",
      "execution_count": 15,
      "metadata": {},
      "outputs": [
        {
          "output_type": "stream",
          "name": "stdout",
          "text": [
            "Not Found"
          ]
        }
      ],
      "source": [
        "try:\n",
        "    print(cities.get('Berlin','Not Found'))\n",
        "except KeyError as e:\n",
        "    print(\"Error found\")\n",
        "    print(e)"
      ],
      "id": "d526320d"
    },
    {
      "cell_type": "markdown",
      "metadata": {},
      "source": [
        "Notice that trying to access a non-existent element of a dict triggers a\n",
        "`KeyError`, while asking the dict to `get` the *same element* does not,\n",
        "it simply returns `None`. Can you think why, depending on the\n",
        "situtation, *either* of these might be the ‘correct’ answer?\n",
        "\n",
        "### 2.3 Thinking Data\n",
        "\n",
        "This section makes use of both the\n",
        "[Dictionaries](https://jreades.github.io/fsds/sessions/week3.html#lectures)\n",
        "lecture and the [DOLs to\n",
        "Data](https://jreades.github.io/fsds/sessions/week3.html#lectures)\n",
        "lecture.\n",
        "\n",
        "> **Tip**\n",
        ">\n",
        "> In this section you’ll need to look up (i.e. Google) and make use of a\n",
        "> few new functions that apply to dictionaries: `<dictionary>.items()`,\n",
        "> `<dictionary>.keys()`. *Remember*: if in doubt, add `print(...)`\n",
        "> statements to see what is going on!\n",
        "\n",
        "#### 2.3.1 Iterating over a Dict\n",
        "\n",
        "Adapting the code below, print out the city name and airport code for\n",
        "every city in our Atlas.\n",
        "\n",
        "##### 2.3.1.1 Question"
      ],
      "id": "823c00c7-3319-4fa3-8a23-95b6b02dcf35"
    },
    {
      "cell_type": "code",
      "execution_count": null,
      "metadata": {},
      "outputs": [],
      "source": [
        "for c in cities.keys():\n",
        "    print(??)"
      ],
      "id": "6d1caf17-bb1d-44ac-81be-57fffb162ba9"
    },
    {
      "cell_type": "markdown",
      "metadata": {},
      "source": [
        "The output should look something like this:"
      ],
      "id": "02b9a0e1-6ca5-4418-89fb-4f6455f48f33"
    },
    {
      "cell_type": "code",
      "execution_count": null,
      "metadata": {},
      "outputs": [],
      "source": [
        "San Francisco -> SFO\n",
        "London -> LDN\n",
        "Paris -> PAR\n",
        "Beijing -> BEI\n",
        "Chennai -> MAA"
      ],
      "id": "d7f32803-161b-42df-bd3d-043a0d5afdbd"
    },
    {
      "cell_type": "markdown",
      "metadata": {},
      "source": [
        "#### 2.3.2 More Complex Dicts\n",
        "\n",
        "How would your code need to change to produce the *same output* from\n",
        "this data structure:"
      ],
      "id": "17919091-ac36-4efe-b2dc-32f7c2876ef0"
    },
    {
      "cell_type": "code",
      "execution_count": 17,
      "metadata": {},
      "outputs": [],
      "source": [
        "cities = {\n",
        "    'San Francisco': {\n",
        "        'lat': 37.77, \n",
        "        'lon': -122.43,\n",
        "        'airport': 'SFO'},\n",
        "    'London': {\n",
        "        'lat': 51.51, \n",
        "        'lon': -0.08, \n",
        "        'airport': 'LDN'},\n",
        "    'Paris': {\n",
        "        'lat': 48.86,\n",
        "        'lon': 2.29, \n",
        "        'airport': 'PAR'},\n",
        "    'Beijing': {\n",
        "        'lat': 39.92,\n",
        "        'lon': 116.40,\n",
        "        'airport': 'BEI'},\n",
        "    'Chennai': { \n",
        "        'lat': 13.08, \n",
        "        'lon': 80.28, \n",
        "        'airport': 'MAA'}\n",
        "}"
      ],
      "id": "42e94a52"
    },
    {
      "cell_type": "markdown",
      "metadata": {},
      "source": [
        "##### 2.3.2.1 Question"
      ],
      "id": "561ef2cc-8105-4482-bcc7-6b24ec057c6e"
    },
    {
      "cell_type": "code",
      "execution_count": null,
      "metadata": {},
      "outputs": [],
      "source": [
        "for c in cities.keys():\n",
        "    print(??)"
      ],
      "id": "846a1206-ffd5-41d3-944b-9015e8c10b91"
    },
    {
      "cell_type": "markdown",
      "metadata": {},
      "source": [
        "#### 2.3.3 More Dictionary Action!\n",
        "\n",
        "And how would it need to change to print out the name and latitude of\n",
        "every city?\n",
        "\n",
        "##### 2.3.3.1 Question"
      ],
      "id": "dbb87473-2483-4fea-929d-e91276813411"
    },
    {
      "cell_type": "code",
      "execution_count": null,
      "metadata": {},
      "outputs": [],
      "source": [
        "for c in cities.keys():\n",
        "    print(??)"
      ],
      "id": "48e37ef8-5837-4eb6-ade9-5a7f577dee61"
    },
    {
      "cell_type": "markdown",
      "metadata": {},
      "source": [
        "The output should be something like this:"
      ],
      "id": "ee478089-7cc9-47b4-a4f7-2c9f1b74062a"
    },
    {
      "cell_type": "code",
      "execution_count": null,
      "metadata": {},
      "outputs": [],
      "source": [
        "San Francisco is at latitude 37.77\n",
        "London is at latitude 51.51\n",
        "Paris is at latitude 48.86\n",
        "Beijing is at latitude 39.92\n",
        "Chennai is at latitude 13.08"
      ],
      "id": "d6d1db8c-4e7e-4743-a1ec-debbedddab2a"
    },
    {
      "cell_type": "markdown",
      "metadata": {},
      "source": [
        "#### 2.3.4 And Another Way to Use a Dict\n",
        "\n",
        "Now produce the *same output* using this new data structure:"
      ],
      "id": "52d04c75-c7ab-475c-9e6d-db8d34a08e22"
    },
    {
      "cell_type": "code",
      "execution_count": 21,
      "metadata": {},
      "outputs": [],
      "source": [
        "cities_alt = [\n",
        "    {'name':     'San Francisco',\n",
        "     'position': [37.77, -122.43],\n",
        "     'airport':  'SFO'},\n",
        "    {'name':     'London',\n",
        "     'position': [51.51, -0.08],\n",
        "     'airport':  'LDN'},\n",
        "    {'name':     'Paris',\n",
        "     'position': [48.86, 2.29],\n",
        "     'airport':  'PAR'},\n",
        "    {'name':     'Beijing',\n",
        "     'position': [39.92, 116.40],\n",
        "     'airport':  'BEI'},\n",
        "    {'name':     'Chennai', \n",
        "     'position': [13.08, 80.28],\n",
        "      'airport': 'MAA'}\n",
        "]"
      ],
      "id": "cd6b3b5e"
    },
    {
      "cell_type": "markdown",
      "metadata": {},
      "source": [
        "##### 2.3.4.1 Question"
      ],
      "id": "d3cdabfd-37da-4e6c-964a-a21a0b0e6c51"
    },
    {
      "cell_type": "code",
      "execution_count": null,
      "metadata": {},
      "outputs": [],
      "source": [
        "for c in cities_alt:\n",
        "    print(??)"
      ],
      "id": "9c635fa6-6c07-4f23-82fc-79407b8c0102"
    },
    {
      "cell_type": "markdown",
      "metadata": {},
      "source": [
        "The output should be something like this:"
      ],
      "id": "85eeef4b-e44c-4108-b0f0-b9e2d80d4a45"
    },
    {
      "cell_type": "code",
      "execution_count": null,
      "metadata": {},
      "outputs": [],
      "source": [
        "San Francisco is at latitude 37.77\n",
        "London is at latitude 51.51\n",
        "Paris is at latitude 48.86\n",
        "Beijing is at latitude 39.92\n",
        "Chennai is at latitude 13.08"
      ],
      "id": "3c9fc700-572c-40eb-88af-a615fba7e34e"
    },
    {
      "cell_type": "markdown",
      "metadata": {},
      "source": [
        "#### 2.3.5 Think Data!\n",
        "\n",
        "What are some of the main differences that you can think of between\n",
        "`cities` and `cities_alt` *as* data? There is no right answer.\n",
        "\n",
        "> **Tip**\n",
        ">\n",
        "> I just want you to think about these *as data*! If you were trying to\n",
        "> use `cities` and `cities_alt` as data what differences would you find\n",
        "> when accessing one or more ‘records’?\n",
        "\n",
        "-   Point 1 here.\n",
        "-   Point 2 here.\n",
        "-   Point 3 here.\n",
        "\n",
        "### 2.4 Add to Git/GitHub\n",
        "\n",
        "Now follow the same process that you used last week to ensure that your\n",
        "edited notebook is updated in Git and then synchronised with GitHub."
      ],
      "id": "093bde40-9332-4523-951a-32f0b92149a2"
    }
  ],
  "nbformat": 4,
  "nbformat_minor": 5,
  "metadata": {
    "kernelspec": {
      "name": "python3",
      "display_name": "Python 3 (ipykernel)",
      "language": "python",
      "path": "/opt/conda/share/jupyter/kernels/python3"
    },
    "language_info": {
      "name": "python",
      "codemirror_mode": {
        "name": "ipython",
        "version": "3"
      },
      "file_extension": ".py",
      "mimetype": "text/x-python",
      "nbconvert_exporter": "python",
      "pygments_lexer": "ipython3",
      "version": "3.11.9"
    }
  }
}