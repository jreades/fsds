{
  "cells": [
    {
      "cell_type": "markdown",
      "metadata": {},
      "source": [
        "## Practical 3: Foundations (Part 2)\n",
        "\n",
        "Getting to grips with Dictionaries, LOLs and DOLs\n",
        "\n",
        "In this notebook we are exploring basic (in the sense of fundamental)\n",
        "data structures so that you understand both how to manage more complex\n",
        "types of data and are prepared for what we will encounter when we start\n",
        "using `pandas` to perform data analysis. To achieve that, you will need\n",
        "to be ‘fluent’ in “nested” lists and dictionaries; we will focus\n",
        "primarily on lists-of-lists and dictionaries-of-lists, but note that\n",
        "file formats like JSON can be understood as\n",
        "dictionaries-of-dictionaries-of-lists-of-… so this is just a *taster* of\n",
        "real-world data structures.\n",
        "\n",
        "> **Tip**\n",
        ">\n",
        "> You should download this notebook and then save it to your own copy of\n",
        "> the repository. Follow the process used *last* week\n",
        "> (i.e. `git add ...`, `git commit -m \"...\"`, `git push`) right away and\n",
        "> then do this again at the end of the class and you’ll have a record of\n",
        "> everything you did.\n",
        "\n",
        "## 1. From Lists to Data (Little Steps)\n",
        "\n",
        "We’re going to start off using lists and dictionaries that *we* define\n",
        "right at the start of the ‘program’, but the *real* value of these data\n",
        "structures comes when we build a list or dictionary *from* data such as\n",
        "a file or a web page… and that’s what we’re going to do below!\n",
        "\n",
        "First, here’s a reminder of some useful methods (*i.e.* functions) that\n",
        "apply to lists which we covered in the\n",
        "[lecture](https://jreades.github.io/fsds/sessions/week2.html#lectures)\n",
        "and\n",
        "[practical](https://jreades.github.io/fsds/sessions/week2.html#practical)\n",
        "in Week 2:\n",
        "\n",
        "| Method | Action |\n",
        "|--------------------|----------------------------------------------------|\n",
        "| `list.count(x)` | Return the number of times x appears in the list |\n",
        "| `list.insert(i, x)` | Insert value `x` at a given position `i` |\n",
        "| `list.pop([i])` | Remove and return the value at position `i` (`i` is optional) |\n",
        "| `list.remove(x)` | Remove the first element from the list whose value is `x` |\n",
        "| `list.reverse()` | Reverse the elements of the list in place |\n",
        "| `list.sort()` | Sort the items of the list in place |\n",
        "| `list.index(x)` | Find the first occurence of `x` in the list |\n",
        "| `list[x:y]` | Slice the list from index `x` to `y-1` |\n",
        "\n",
        "This should all be revision… because it’s how we finished things up\n",
        "*last week*. But I want to go over it *briefly* again because we’re\n",
        "going to build on it this week.\n",
        "\n",
        "> **Hint**\n",
        ">\n",
        "> As before, `??` will highlight where one or more bit of code are\n",
        "> missing and need to be filled in…\n",
        "\n",
        "### 1.1 List Refresher\n",
        "\n",
        "> **Difficulty: Low.**\n",
        "\n",
        "To complete these tasks, all of the methods that you need are listed\n",
        "above, so this is about testing yourself on your understanding *both* of\n",
        "how to read the help *and* how to index elements in a list.\n",
        "\n",
        "The next line creates a list of city names (each element is a string):"
      ],
      "id": "bb79aad1-d86f-4f4c-8ce6-4845f68d6474"
    },
    {
      "cell_type": "code",
      "execution_count": 1,
      "metadata": {},
      "outputs": [],
      "source": [
        "cities = [\"Bristol\", \"London\", \"Manchester\", \"Edinburgh\", \"Belfast\", \"York\"]"
      ],
      "id": "84fb0ac6"
    },
    {
      "cell_type": "markdown",
      "metadata": {},
      "source": [
        "#### 1.1.1 List Arithmetic\n",
        "\n",
        "Replace the `??` so that it prints `Belfast`.\n",
        "\n",
        "##### 1.1.1.1 Question"
      ],
      "id": "cd19b123-13b3-4eee-8953-a01060773802"
    },
    {
      "cell_type": "code",
      "execution_count": null,
      "metadata": {},
      "outputs": [],
      "source": [
        "print(cities[?? + 2])"
      ],
      "id": "83326d83-515c-4ff4-8991-c49a7bb7d23c"
    },
    {
      "cell_type": "markdown",
      "metadata": {},
      "source": [
        "#### 1.1.2 Negative List Arithmetic\n",
        "\n",
        "Use a **negative** index to print `Belfast`:\n",
        "\n",
        "##### 1.1.2.1 Question"
      ],
      "id": "cb0bc429-16c7-4a1e-8a62-d7f3e4781c9c"
    },
    {
      "cell_type": "code",
      "execution_count": null,
      "metadata": {},
      "outputs": [],
      "source": [
        "print(cities[??])"
      ],
      "id": "b6aafa93-dcae-475f-b6c6-f5eec8db1c35"
    },
    {
      "cell_type": "markdown",
      "metadata": {},
      "source": [
        "#### 1.1.3 Finding a Position in a List\n",
        "\n",
        "Replace the `??` so that it prints the *index* for Manchester in the\n",
        "list.\n",
        "\n",
        "##### 1.1.3.1 Question"
      ],
      "id": "7948da93-b9b9-42de-a057-7cf3a1b09ff4"
    },
    {
      "cell_type": "code",
      "execution_count": null,
      "metadata": {},
      "outputs": [],
      "source": [
        "print(\"The position of Manchester in the list is: \" + str( ?? ))"
      ],
      "id": "6b0da4fb-deea-45f2-a491-0eb35ff47376"
    },
    {
      "cell_type": "markdown",
      "metadata": {},
      "source": [
        "### 1.2 Looking Across Lists\n",
        "\n",
        "> **Connections**\n",
        ">\n",
        "> This section draws on the\n",
        "> [LOLs](https://jreades.github.io/fsds/sessions/week3.html#lectures)\n",
        "> lecture and you will also find Code Camp’s\n",
        "> [Loops](https://jreades.github.io/code-camp/lessons/Loops.html)\n",
        "> session useful here.\n",
        "\n",
        "> **Difficulty: Medium.**\n",
        "\n",
        "Notice that the list of `temperatures` below is the same length as the\n",
        "list of `cities`, that’s because these are (roughly) the average\n",
        "temperatures for each city."
      ],
      "id": "c43abdee-ab69-49e3-9d29-f0e47cdc1cb8"
    },
    {
      "cell_type": "code",
      "execution_count": 5,
      "metadata": {},
      "outputs": [],
      "source": [
        "cities = [\"Bristol\", \"London\", \"Manchester\", \"Edinburgh\", \"Belfast\", \"York\"]\n",
        "temperatures = [15.6, 16.5, 13.4, 14.0, 15.2, 14.8]"
      ],
      "id": "8cb50326"
    },
    {
      "cell_type": "markdown",
      "metadata": {},
      "source": [
        "#### 1.2.1 Lateral Thinking\n",
        "\n",
        "Given what you know about `cities` and `temperatures`, how do you print:\n",
        "\n",
        "> “The average temperature in Manchester is 13.4 degrees”\n",
        "\n",
        "But you have to do this *without* doing any of the following:\n",
        "\n",
        "1.  Using a list index directly (*i.e.* `cities[2]` and\n",
        "    `temperatures[2]`) or\n",
        "2.  Hard-coding the name of the city?\n",
        "\n",
        "To put it another way, **neither** of these solutions is the answer:\n",
        "\n",
        "``` python\n",
        "print(\"The average temperature in Manchester is \" + str(temperatures[2]) + \" degrees.\")\n",
        "# ...OR...\n",
        "city=2\n",
        "print(\"The average temperature in \" + cities[city] + \" is \" + str(temperatures[city]) + \" degrees.\")\n",
        "```\n",
        "\n",
        "> **Tip**\n",
        ">\n",
        "> You will need to combine some of the ideas above and also think about\n",
        "> the fact that the list index is that we need is the same in both\n",
        "> lists… Also, remember that you’ll need to wrap a `str(...)` around\n",
        "> your temperature to make it into a string.\n",
        "\n",
        "##### 1.2.1.1 Question"
      ],
      "id": "f9c7a780-d5fa-4493-a446-5d40529b3e55"
    },
    {
      "cell_type": "code",
      "execution_count": null,
      "metadata": {},
      "outputs": [],
      "source": [
        "city=\"Manchester\" # Use this to get the solution...\n",
        "\n",
        "# This way is perfectly fine\n",
        "print(\"The average temperature in \" + ?? + \" is \" + str(??))\n",
        "\n",
        "# This way is more Python 3 and a bit easier to read\n",
        "print(f\"The average temperature in {??} is {??}\")"
      ],
      "id": "6c3d4caf-e086-453b-bb20-367485854fc4"
    },
    {
      "cell_type": "markdown",
      "metadata": {},
      "source": [
        "#### 1.2.2 Double-Checking Your Solution\n",
        "\n",
        "You’ll know that you got the ‘right’ answer to the question above if you\n",
        "can copy+paste your code and change only **one** thing in order to print\n",
        "out: “The average temperature in Belfast is 15.2 degrees”\n",
        "\n",
        "##### 1.2.2.1 Question"
      ],
      "id": "7167a37d-a7e4-4d53-9e15-7707df36e99f"
    },
    {
      "cell_type": "code",
      "execution_count": null,
      "metadata": {},
      "outputs": [],
      "source": [
        "city=\"Belfast\"\n",
        "print(??)"
      ],
      "id": "8fb222ed-318c-48d6-91b1-d32d31728f5b"
    },
    {
      "cell_type": "markdown",
      "metadata": {},
      "source": [
        "#### 1.2.3 Loops\n",
        "\n",
        "Now use a `for` loop over the cities to print out the average\n",
        "temperature in each city:\n",
        "\n",
        "##### 1.2.3.1 Question"
      ],
      "id": "2a1ce905-5d0f-43c3-9c62-a5bb5d1b6b16"
    },
    {
      "cell_type": "code",
      "execution_count": null,
      "metadata": {},
      "outputs": [],
      "source": [
        "for c in cities:\n",
        "    ??"
      ],
      "id": "483d09da-22af-4671-b411-7473b019b40a"
    },
    {
      "cell_type": "markdown",
      "metadata": {},
      "source": [
        "The output should be:"
      ],
      "id": "ed993852-0583-415e-8aa3-f2be88fdd8dc"
    },
    {
      "cell_type": "code",
      "execution_count": null,
      "metadata": {},
      "outputs": [],
      "source": [
        "The average temperature in Bristol is 15.6\n",
        "The average temperature in London is 16.5\n",
        "The average temperature in Manchester is 13.4\n",
        "The average temperature in Edinburgh is 14.0\n",
        "The average temperature in Belfast is 15.2\n",
        "The average temperature in York is 14.8"
      ],
      "id": "05912224-7dae-49fd-bb51-5ca7090724a2"
    },
    {
      "cell_type": "markdown",
      "metadata": {},
      "source": [
        "## 2. Dictionaries\n",
        "\n",
        "> **Connections**\n",
        ">\n",
        "> This section draws on the\n",
        "> [Dictionaries](https://jreades.github.io/fsds/sessions/week3.html#lectures)\n",
        "> lecture and Code Camp\n",
        "> [Dictonaries](https://jreades.github.io/code-camp/lessons/Dicts.html)\n",
        "> session.\n",
        "\n",
        "> **Difficulty: Low.**\n",
        "\n",
        "Remember that dictionaries (a.k.a. dicts) are like lists in that they\n",
        "are [data\n",
        "structures](https://docs.python.org/2/tutorial/datastructures.html)\n",
        "containing multiple elements. A key difference between\n",
        "[dictionaries](https://docs.python.org/2/tutorial/datastructures.html#dictionaries)\n",
        "and [lists](https://docs.python.org/2/tutorial/introduction.html#lists)\n",
        "is that while elements in lists are ordered, dicts (in most programming\n",
        "languages, though not Python) are unordered. This means that whereas for\n",
        "lists we use integers as indexes to access elements, in dictonaries we\n",
        "use ‘keys’ (which can multiple different types; strings, integers,\n",
        "etc.). Consequently, an important concept for dicts is that of key-value\n",
        "pairs.\n",
        "\n",
        "### 2.1 Creating an Atlas\n",
        "\n",
        "The code below creates an Atlas using a dictionary. The dictionary `key`\n",
        "is a city name, and the `value` is the latitude, longitude, and main\n",
        "airport code."
      ],
      "id": "b4b700c0-3b98-4e67-8f9c-b3b493832b9e"
    },
    {
      "cell_type": "code",
      "execution_count": 11,
      "metadata": {},
      "outputs": [],
      "source": [
        "cities = {\n",
        "    'San Francisco': [37.77, -122.43, 'SFO'],\n",
        "    'London': [51.51, -0.08, 'LDN'],\n",
        "    'Paris': [48.86,2.29, 'PAR'],\n",
        "    'Beijing': [39.92,116.40 ,'BEI'],\n",
        "}"
      ],
      "id": "4249b83e"
    },
    {
      "cell_type": "markdown",
      "metadata": {},
      "source": [
        "#### 2.1.1 Adding to a Dict\n",
        "\n",
        "Add a record to the dictionary for Chennai ([data\n",
        "here](https://en.wikipedia.org/wiki/Chennai))\n",
        "\n",
        "##### 2.1.1.1 Question"
      ],
      "id": "31cc9bfd-b2c8-4903-aa8c-f8c57ed99dbf"
    },
    {
      "cell_type": "code",
      "execution_count": null,
      "metadata": {},
      "outputs": [],
      "source": [
        "??"
      ],
      "id": "fbd6742a-862d-40d8-848e-153c04d178e5"
    },
    {
      "cell_type": "markdown",
      "metadata": {},
      "source": [
        "#### 2.1.2 Accessing a Dict\n",
        "\n",
        "In *one* line of code, print out the airport code for Chennai (`MAA`):\n",
        "\n",
        "##### 2.1.2.1 Question"
      ],
      "id": "8370a634-3f61-4ea5-8301-45f4e79489b5"
    },
    {
      "cell_type": "code",
      "execution_count": null,
      "metadata": {},
      "outputs": [],
      "source": [
        "??"
      ],
      "id": "fac408ce-a47a-4113-9fef-eb52c90e69d7"
    },
    {
      "cell_type": "markdown",
      "metadata": {},
      "source": [
        "### 2.2 Dealing With Errors\n",
        "\n",
        "Check you understand the difference between the following two blocks of\n",
        "code by running them."
      ],
      "id": "7dbff36e-3a09-47fe-a5c1-2c37cb8ffa2a"
    },
    {
      "cell_type": "code",
      "execution_count": 14,
      "metadata": {},
      "outputs": [
        {
          "output_type": "stream",
          "name": "stdout",
          "text": [
            "Error found\n",
            "'Berlin'"
          ]
        }
      ],
      "source": [
        "try:\n",
        "    print(cities['Berlin'])\n",
        "except KeyError as e:\n",
        "    print(\"Error found\")\n",
        "    print(e)"
      ],
      "id": "fe69f104"
    },
    {
      "cell_type": "code",
      "execution_count": 15,
      "metadata": {},
      "outputs": [
        {
          "output_type": "stream",
          "name": "stdout",
          "text": [
            "Not Found"
          ]
        }
      ],
      "source": [
        "try:\n",
        "    print(cities.get('Berlin','Not Found'))\n",
        "except KeyError as e:\n",
        "    print(\"Error found\")\n",
        "    print(e)"
      ],
      "id": "f3d0a79d"
    },
    {
      "cell_type": "markdown",
      "metadata": {},
      "source": [
        "Notice that trying to access a non-existent element of a dict triggers a\n",
        "`KeyError`, while asking the dict to `get` the *same element* does not,\n",
        "it simply returns `None`. Can you think why, depending on the\n",
        "situtation, *either* of these might be the ‘correct’ answer?\n",
        "\n",
        "### 2.3 Thinking Data\n",
        "\n",
        "This section makes use of both the\n",
        "[Dictionaries](https://jreades.github.io/fsds/sessions/week3.html#lectures)\n",
        "lecture and the [DOLs to\n",
        "Data](https://jreades.github.io/fsds/sessions/week3.html#lectures)\n",
        "lecture.\n",
        "\n",
        "> **Tip**\n",
        ">\n",
        "> In this section you’ll need to look up (i.e. Google) and make use of a\n",
        "> few new functions that apply to dictionaries: `<dictionary>.items()`,\n",
        "> `<dictionary>.keys()`. *Remember*: if in doubt, add `print(...)`\n",
        "> statements to see what is going on!\n",
        "\n",
        "#### 2.3.1 Iterating over a Dict\n",
        "\n",
        "Adapting the code below, print out the city name and airport code for\n",
        "every city in our Atlas.\n",
        "\n",
        "##### 2.3.1.1 Question"
      ],
      "id": "f8793c54-90a6-4900-ac36-648a136b3294"
    },
    {
      "cell_type": "code",
      "execution_count": null,
      "metadata": {},
      "outputs": [],
      "source": [
        "for c in cities.keys():\n",
        "    print(??)"
      ],
      "id": "5b61dec2-6aa2-4e0d-a372-bf33c8a0260f"
    },
    {
      "cell_type": "markdown",
      "metadata": {},
      "source": [
        "The output should look something like this:"
      ],
      "id": "a02597f3-5a0b-4319-a43c-c5c2018ceae6"
    },
    {
      "cell_type": "code",
      "execution_count": null,
      "metadata": {},
      "outputs": [],
      "source": [
        "San Francisco -> SFO\n",
        "London -> LDN\n",
        "Paris -> PAR\n",
        "Beijing -> BEI\n",
        "Chennai -> MAA"
      ],
      "id": "fa563b39-9b0c-45ce-820e-80e736b8838d"
    },
    {
      "cell_type": "markdown",
      "metadata": {},
      "source": [
        "#### 2.3.2 More Complex Dicts\n",
        "\n",
        "How would your code need to change to produce the *same output* from\n",
        "this data structure:"
      ],
      "id": "f79df1d6-17e4-42c3-b4a6-fcc6f63e5894"
    },
    {
      "cell_type": "code",
      "execution_count": 17,
      "metadata": {},
      "outputs": [],
      "source": [
        "cities = {\n",
        "    'San Francisco': {\n",
        "        'lat': 37.77, \n",
        "        'lon': -122.43,\n",
        "        'airport': 'SFO'},\n",
        "    'London': {\n",
        "        'lat': 51.51, \n",
        "        'lon': -0.08, \n",
        "        'airport': 'LDN'},\n",
        "    'Paris': {\n",
        "        'lat': 48.86,\n",
        "        'lon': 2.29, \n",
        "        'airport': 'PAR'},\n",
        "    'Beijing': {\n",
        "        'lat': 39.92,\n",
        "        'lon': 116.40,\n",
        "        'airport': 'BEI'},\n",
        "    'Chennai': { \n",
        "        'lat': 13.08, \n",
        "        'lon': 80.28, \n",
        "        'airport': 'MAA'}\n",
        "}"
      ],
      "id": "1854edb2"
    },
    {
      "cell_type": "markdown",
      "metadata": {},
      "source": [
        "##### 2.3.2.1 Question"
      ],
      "id": "2ad56dfe-413d-4224-8976-0faf1f94a406"
    },
    {
      "cell_type": "code",
      "execution_count": null,
      "metadata": {},
      "outputs": [],
      "source": [
        "for c in cities.keys():\n",
        "    print(??)"
      ],
      "id": "ddacbdfa-eef5-43cf-aedb-c2323d6ee4d2"
    },
    {
      "cell_type": "markdown",
      "metadata": {},
      "source": [
        "#### 2.3.3 More Dictionary Action!\n",
        "\n",
        "And how would it need to change to print out the name and latitude of\n",
        "every city?\n",
        "\n",
        "##### 2.3.3.1 Question"
      ],
      "id": "bcf1d8b0-8ca1-41b6-af01-b5ec39a97701"
    },
    {
      "cell_type": "code",
      "execution_count": null,
      "metadata": {},
      "outputs": [],
      "source": [
        "for c in cities.keys():\n",
        "    print(??)"
      ],
      "id": "ee831a00-f4f5-42f9-a627-186e54a196ba"
    },
    {
      "cell_type": "markdown",
      "metadata": {},
      "source": [
        "The output should be something like this:"
      ],
      "id": "e5199fe3-018e-4d29-8b5a-97f42ccded2c"
    },
    {
      "cell_type": "code",
      "execution_count": null,
      "metadata": {},
      "outputs": [],
      "source": [
        "San Francisco is at latitude 37.77\n",
        "London is at latitude 51.51\n",
        "Paris is at latitude 48.86\n",
        "Beijing is at latitude 39.92\n",
        "Chennai is at latitude 13.08"
      ],
      "id": "c8acd1c9-9610-4e91-ab4a-fb4d90fc5ff2"
    },
    {
      "cell_type": "markdown",
      "metadata": {},
      "source": [
        "#### 2.3.4 And Another Way to Use a Dict\n",
        "\n",
        "Now produce the *same output* using this new data structure:"
      ],
      "id": "a4f9463f-5f09-4155-abad-b2a78ec47da7"
    },
    {
      "cell_type": "code",
      "execution_count": 21,
      "metadata": {},
      "outputs": [],
      "source": [
        "cities_alt = [\n",
        "    {'name':     'San Francisco',\n",
        "     'position': [37.77, -122.43],\n",
        "     'airport':  'SFO'},\n",
        "    {'name':     'London',\n",
        "     'position': [51.51, -0.08],\n",
        "     'airport':  'LDN'},\n",
        "    {'name':     'Paris',\n",
        "     'position': [48.86, 2.29],\n",
        "     'airport':  'PAR'},\n",
        "    {'name':     'Beijing',\n",
        "     'position': [39.92, 116.40],\n",
        "     'airport':  'BEI'},\n",
        "    {'name':     'Chennai', \n",
        "     'position': [13.08, 80.28],\n",
        "      'airport': 'MAA'}\n",
        "]"
      ],
      "id": "6f44ee63"
    },
    {
      "cell_type": "markdown",
      "metadata": {},
      "source": [
        "##### 2.3.4.1 Question"
      ],
      "id": "34fad31e-111a-43a7-ba3e-60ff601cc1a1"
    },
    {
      "cell_type": "code",
      "execution_count": null,
      "metadata": {},
      "outputs": [],
      "source": [
        "for c in cities_alt:\n",
        "    print(??)"
      ],
      "id": "bc56678e-5e50-46b1-aa02-221c16ecbd69"
    },
    {
      "cell_type": "markdown",
      "metadata": {},
      "source": [
        "The output should be something like this:"
      ],
      "id": "9fea60c6-4d8d-46b4-a950-966484e3b51b"
    },
    {
      "cell_type": "code",
      "execution_count": null,
      "metadata": {},
      "outputs": [],
      "source": [
        "San Francisco is at latitude 37.77\n",
        "London is at latitude 51.51\n",
        "Paris is at latitude 48.86\n",
        "Beijing is at latitude 39.92\n",
        "Chennai is at latitude 13.08"
      ],
      "id": "268475df-00bc-4cd1-959a-f35652326082"
    },
    {
      "cell_type": "markdown",
      "metadata": {},
      "source": [
        "#### 2.3.5 Think Data!\n",
        "\n",
        "What are some of the main differences that you can think of between\n",
        "`cities` and `cities_alt` *as* data? There is no right answer.\n",
        "\n",
        "> **Tip**\n",
        ">\n",
        "> I just want you to think about these *as data*! If you were trying to\n",
        "> use `cities` and `cities_alt` as data what differences would you find\n",
        "> when accessing one or more ‘records’?\n",
        "\n",
        "-   Point 1 here.\n",
        "-   Point 2 here.\n",
        "-   Point 3 here.\n",
        "\n",
        "### 2.4 Add to Git/GitHub\n",
        "\n",
        "Now follow the same process that you used last week to ensure that your\n",
        "edited notebook is updated in Git and then synchronised with GitHub."
      ],
      "id": "6747cb4a-2704-45c6-8319-d0a70b4efca8"
    }
  ],
  "nbformat": 4,
  "nbformat_minor": 5,
  "metadata": {
    "kernelspec": {
      "name": "python3",
      "display_name": "Python 3 (ipykernel)",
      "language": "python",
      "path": "/Users/jreades/anaconda3/envs/sds/share/jupyter/kernels/python3"
    },
    "language_info": {
      "name": "python",
      "codemirror_mode": {
        "name": "ipython",
        "version": "3"
      },
      "file_extension": ".py",
      "mimetype": "text/x-python",
      "nbconvert_exporter": "python",
      "pygments_lexer": "ipython3",
      "version": "3.12.2"
    }
  }
}