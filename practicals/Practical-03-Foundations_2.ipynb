{
  "cells": [
    {
      "cell_type": "markdown",
      "metadata": {},
      "source": [
        "## Practical 3: Foundations (Part 2)\n",
        "\n",
        "Getting to grips with Dictionaries, LOLs and DOLs, Packages and\n",
        "Functions\n",
        "\n",
        "| Complete | Part 1: Foundations | Part 2: Data | Part 3: Analysis |      |\n",
        "|:---------|:--------------------|:-------------|:-----------------|-----:|\n",
        "| 20%      | ▓▓▓▓▓░░░            | ░░░░░░       | ░░░░░░           | 3/10 |\n",
        "\n",
        "In this notebook we are exploring basic (in the sense of fundamental)\n",
        "data structures so that you understand both how to manage more complex\n",
        "types of data and are prepared for what we will encounter when we start\n",
        "using `pandas` to perform data analysis. To achieve that, you will need\n",
        "to be ‘fluent’ in “nested” lists and dictionaries; we will focus\n",
        "primarily on lists-of-lists and dictionaries-of-lists, but note that\n",
        "file formats like JSON can be understood as\n",
        "dictionaries-of-dictionaries-of-lists-of-… so this is just a *taster* of\n",
        "real-world data structures.\n",
        "\n",
        "> **Tip**\n",
        ">\n",
        "> You should download this notebook from GitHub and then save it to your\n",
        "> own copy of the repository. I’d suggest adding it (`git add ...`)\n",
        "> right away and then committing (e.g. `git commit -m \"Just added.\"`).\n",
        "> Do this again at the end of the class (`git add ...`,\n",
        "> `git commit -m ...`) and you’ll have a record of everything you did.\n",
        "> Then you can `git push` everything to GitHub.\n",
        "\n",
        "> **Group Sign-Up**\n",
        ">\n",
        "> While there’s no benefit to signing up early, if you’ve already formed\n",
        "> a group then you can now [Sign\n",
        "> Up](https://forms.office.com/e/2ij0sWHnpR)!\n",
        "\n",
        "## 1. From Lists to Data (Little Steps)\n",
        "\n",
        "We’re going to start off using lists and dictionaries that *we* define\n",
        "right at the start of the ‘program’, but the *real* value of these data\n",
        "structures comes when we build a list or dictionary *from* data such as\n",
        "a file or a web page… and that’s what we’re going to do below!\n",
        "\n",
        "First, here’s a reminder of some useful methods (*i.e.* functions) that\n",
        "apply to lists which we covered in the\n",
        "[lecture](https://jreades.github.io/fsds/sessions/week2.html#lectures)\n",
        "and\n",
        "[practical](https://jreades.github.io/fsds/sessions/week2.html#practical)\n",
        "in Week 2:\n",
        "\n",
        "| Method | Action |\n",
        "|--------------------|----------------------------------------------------|\n",
        "| `list.count(x)` | Return the number of times x appears in the list |\n",
        "| `list.insert(i, x)` | Insert value `x` at a given position `i` |\n",
        "| `list.pop([i])` | Remove and return the value at position `i` (`i` is optional) |\n",
        "| `list.remove(x)` | Remove the first element from the list whose value is `x` |\n",
        "| `list.reverse()` | Reverse the elements of the list in place |\n",
        "| `list.sort()` | Sort the items of the list in place |\n",
        "| `list.index(x)` | Find the first occurence of `x` in the list |\n",
        "| `list[x:y]` | Slice the list from index `x` to `y-1` |\n",
        "\n",
        "This should all be revision… because it’s how we finished things up\n",
        "*last week*. But I want to go over it *briefly* again because we’re\n",
        "going to build on it this week.\n",
        "\n",
        "> **Hint**\n",
        ">\n",
        "> As before, `??` will highlight where one or more bit of code are\n",
        "> missing and need to be filled in…\n",
        "\n",
        "### 1.1 List Refresher\n",
        "\n",
        "> **Difficulty: Low.**\n",
        "\n",
        "To complete these tasks, all of the methods that you need are listed\n",
        "above, so this is about testing yourself on your understanding *both* of\n",
        "how to read the help *and* how to index elements in a list.\n",
        "\n",
        "The next line creates a list of city names (each element is a string):"
      ],
      "id": "c57e9c9b-5ba4-408b-902d-0ca17eda0836"
    },
    {
      "cell_type": "code",
      "execution_count": 1,
      "metadata": {},
      "outputs": [],
      "source": [
        "cities = [\"Bristol\", \"London\", \"Manchester\", \"Edinburgh\", \"Belfast\", \"York\"]"
      ],
      "id": "d37e6266"
    },
    {
      "cell_type": "markdown",
      "metadata": {},
      "source": [
        "#### 1.1.1 List Arithmetic\n",
        "\n",
        "Replace the `??` so that it prints `Belfast`.\n",
        "\n",
        "##### 1.1.1.1 Question"
      ],
      "id": "0fbbcb45-f1fb-4640-b140-ca148ccf4586"
    },
    {
      "cell_type": "code",
      "execution_count": null,
      "metadata": {},
      "outputs": [],
      "source": [
        "print(cities[?? + 2])"
      ],
      "id": "8cd00a19-ec2b-4fab-a203-f891e3ac80ab"
    },
    {
      "cell_type": "markdown",
      "metadata": {},
      "source": [
        "#### 1.1.2 Negative List Arithmetic\n",
        "\n",
        "Use a **negative** index to print `Belfast`:\n",
        "\n",
        "##### 1.1.2.1 Question"
      ],
      "id": "b1323852-82bb-4bc0-9877-a9782feaff72"
    },
    {
      "cell_type": "code",
      "execution_count": null,
      "metadata": {},
      "outputs": [],
      "source": [
        "print(cities[??])"
      ],
      "id": "f65344ff-f9c9-4747-be58-919f19181045"
    },
    {
      "cell_type": "markdown",
      "metadata": {},
      "source": [
        "#### 1.1.3 Finding a Position in a List\n",
        "\n",
        "Replace the `??` so that it prints the *index* for Manchester in the\n",
        "list.\n",
        "\n",
        "##### 1.1.3.1 Question"
      ],
      "id": "7e72092d-0a16-4f9b-ba33-2e1d368431e9"
    },
    {
      "cell_type": "code",
      "execution_count": null,
      "metadata": {},
      "outputs": [],
      "source": [
        "print(\"The position of Manchester in the list is: \" + str( ?? ))"
      ],
      "id": "25965c0f-a6a7-4483-bc77-d43bbf4d7523"
    },
    {
      "cell_type": "markdown",
      "metadata": {},
      "source": [
        "### 1.2 Looking Across Lists\n",
        "\n",
        "> **Connections**\n",
        ">\n",
        "> This section draws on the\n",
        "> [LOLs](https://jreades.github.io/fsds/sessions/week3.html#lectures)\n",
        "> lecture and you will also find Code Camp’s\n",
        "> [Loops](https://jreades.github.io/code-camp/lessons/Loops.html)\n",
        "> session useful here.\n",
        "\n",
        "> **Difficulty: Medium.**\n",
        "\n",
        "Notice that the list of `temperatures` below is the same length as the\n",
        "list of `cities`, that’s because these are (roughly) the average\n",
        "temperatures for each city."
      ],
      "id": "cbc26ec6-55e0-4137-976c-5e953b028422"
    },
    {
      "cell_type": "code",
      "execution_count": 5,
      "metadata": {},
      "outputs": [],
      "source": [
        "cities = [\"Bristol\", \"London\", \"Manchester\", \"Edinburgh\", \"Belfast\", \"York\"]\n",
        "temperatures = [15.6, 16.5, 13.4, 14.0, 15.2, 14.8]"
      ],
      "id": "cd596787"
    },
    {
      "cell_type": "markdown",
      "metadata": {},
      "source": [
        "#### 1.2.1 Lateral Thinking\n",
        "\n",
        "Given what you know about `cities` and `temperatures`, how do you print:\n",
        "\n",
        "“\\> The average temperature in Manchester is 13.4 degrees”\n",
        "\n",
        "But you have to do this *without* doing any of the following:\n",
        "\n",
        "1.  Using a list index directly (*i.e.* `cities[2]` and\n",
        "    `temperatures[2]`) or\n",
        "2.  Hard-coding the name of the city?\n",
        "\n",
        "To put it another way, **neither** of these solutions is the answer:\n",
        "\n",
        "``` python\n",
        "print(\"The average temperature in Manchester is \" + str(temperatures[2]) + \" degrees.\")\n",
        "# ...OR...\n",
        "city=2\n",
        "print(\"The average temperature in \" + cities[city] + \" is \" + str(temperatures[city]) + \" degrees.\")\n",
        "```\n",
        "\n",
        "> **Tip**\n",
        ">\n",
        "> You will need to combine some of the ideas above and also think about\n",
        "> the fact that the list index is that we need is the same in both\n",
        "> lists… Also, remember that you’ll need to wrap a `str(...)` around\n",
        "> your temperature to make it into a string.\n",
        "\n",
        "##### 1.2.1.1 Question"
      ],
      "id": "009f9373-4665-46c2-aed5-cf89a23c11b8"
    },
    {
      "cell_type": "code",
      "execution_count": null,
      "metadata": {},
      "outputs": [],
      "source": [
        "city=\"Manchester\" # Use this to get the solution...\n",
        "\n",
        "# This way is perfectly fine\n",
        "print(\"The average temperature in \" + ?? + \" is \" + str(??))\n",
        "\n",
        "# This way is more Python 3 and a bit easier to read\n",
        "print(f\"The average temperature in {??} is {??}\")"
      ],
      "id": "4458a6b1-5397-4a33-9602-4d2c23429f2a"
    },
    {
      "cell_type": "markdown",
      "metadata": {},
      "source": [
        "#### 1.2.2 Double-Checking Your Solution\n",
        "\n",
        "You’ll know that you got the ‘right’ answer to the question above if you\n",
        "can copy+paste your code and change only **one** thing in order to print\n",
        "out: “The average temperature in Belfast is 15.2 degrees”\n",
        "\n",
        "##### 1.2.2.1 Question"
      ],
      "id": "3865b0dd-8bdf-46bf-af60-93956d51263f"
    },
    {
      "cell_type": "code",
      "execution_count": null,
      "metadata": {},
      "outputs": [],
      "source": [
        "city=\"Belfast\"\n",
        "print(??)"
      ],
      "id": "6ab23cc4-5245-4c9c-8d05-80f4afbe115a"
    },
    {
      "cell_type": "markdown",
      "metadata": {},
      "source": [
        "#### 1.2.3 A Functional Solution\n",
        "\n",
        "Can you convert this to a simple function called `avg_tmp` with two\n",
        "inputs and then use this to print the average temperature for Edinburgh?\n",
        "\n",
        "##### 1.2.3.1 Question"
      ],
      "id": "6643dda5-4796-439a-b746-36521f521f7b"
    },
    {
      "cell_type": "code",
      "execution_count": null,
      "metadata": {},
      "outputs": [],
      "source": [
        "def ??(??, temp):\n",
        "    print(f\"The average temperature in {??} is {temp}\")\n",
        "\n",
        "city=\"Edinburgh\"\n",
        "avg_tmp(city, ??)"
      ],
      "id": "4f157ef3-8e0f-4dd1-9d34-1211e4749c09"
    },
    {
      "cell_type": "markdown",
      "metadata": {},
      "source": [
        "The output should be: <code>The average temperature in Edinburgh is\n",
        "14.0</code>\n",
        "\n",
        "#### 1.2.4 Loops and Functions\n",
        "\n",
        "Now use a `for` loop over the cities to print out the average\n",
        "temperature in each city using the function that we just created:\n",
        "\n",
        "##### 1.2.4.1 Question"
      ],
      "id": "17e8dacd-ee19-4a98-88da-058980c4998d"
    },
    {
      "cell_type": "code",
      "execution_count": null,
      "metadata": {},
      "outputs": [],
      "source": [
        "for c in cities:\n",
        "    avg_tmp(??, ??)"
      ],
      "id": "671c5dda-08a5-43fa-a49c-701edb308572"
    },
    {
      "cell_type": "markdown",
      "metadata": {},
      "source": [
        "The output should be:"
      ],
      "id": "dc71e365-8282-4457-aead-412c0f4ed3b1"
    },
    {
      "cell_type": "code",
      "execution_count": null,
      "metadata": {},
      "outputs": [],
      "source": [
        "The average temperature in Bristol is 15.6\n",
        "The average temperature in London is 16.5\n",
        "The average temperature in Manchester is 13.4\n",
        "The average temperature in Edinburgh is 14.0\n",
        "The average temperature in Belfast is 15.2\n",
        "The average temperature in York is 14.8"
      ],
      "id": "b64752bb-407a-4cbb-9a1c-617ffe74f34f"
    },
    {
      "cell_type": "markdown",
      "metadata": {},
      "source": [
        "## 2. Dictionaries\n",
        "\n",
        "> **Connections**\n",
        ">\n",
        "> This section draws on the\n",
        "> [Dictionaries](https://jreades.github.io/fsds/sessions/week3.html#lectures)\n",
        "> lecture and Code Camp\n",
        "> [Dictonaries](https://jreades.github.io/code-camp/lessons/Dicts.html)\n",
        "> session.\n",
        "\n",
        "> **Difficulty: Low.**\n",
        "\n",
        "Remember that dictionaries (a.k.a. dicts) are like lists in that they\n",
        "are [data\n",
        "structures](https://docs.python.org/2/tutorial/datastructures.html)\n",
        "containing multiple elements. A key difference between\n",
        "[dictionaries](https://docs.python.org/2/tutorial/datastructures.html#dictionaries)\n",
        "and [lists](https://docs.python.org/2/tutorial/introduction.html#lists)\n",
        "is that while elements in lists are ordered, dicts (in most programming\n",
        "languages, though not Python) are unordered. This means that whereas for\n",
        "lists we use integers as indexes to access elements, in dictonaries we\n",
        "use ‘keys’ (which can multiple different types; strings, integers,\n",
        "etc.). Consequently, an important concept for dicts is that of key-value\n",
        "pairs.\n",
        "\n",
        "### 2.1 Creating an Atlas\n",
        "\n",
        "The code below creates an Atlas using a dictionary. The dictionary `key`\n",
        "is a city name, and the `value` is the latitude, longitude, and main\n",
        "airport code."
      ],
      "id": "20770806-9c5b-4b0b-a7eb-8b5461bc2868"
    },
    {
      "cell_type": "code",
      "execution_count": 13,
      "metadata": {},
      "outputs": [],
      "source": [
        "cities = {\n",
        "    'San Francisco': [37.77, -122.43, 'SFO'],\n",
        "    'London': [51.51, -0.08, 'LDN'],\n",
        "    'Paris': [48.86,2.29, 'PAR'],\n",
        "    'Beijing': [39.92,116.40 ,'BEI'],\n",
        "}"
      ],
      "id": "53755cbf"
    },
    {
      "cell_type": "markdown",
      "metadata": {},
      "source": [
        "#### 2.1.1 Adding to a Dict\n",
        "\n",
        "Add a record to the dictionary for Chennai ([data\n",
        "here](https://en.wikipedia.org/wiki/Chennai))\n",
        "\n",
        "##### 2.1.1.1 Question"
      ],
      "id": "6733d0c2-e161-4e25-8f1b-83bd53c9d58a"
    },
    {
      "cell_type": "code",
      "execution_count": null,
      "metadata": {},
      "outputs": [],
      "source": [
        "??"
      ],
      "id": "46287ba2-8f63-4089-b603-b8b4eef8871d"
    },
    {
      "cell_type": "markdown",
      "metadata": {},
      "source": [
        "#### 2.1.2 Accessing a Dict\n",
        "\n",
        "In *one* line of code, print out the airport code for Chennai (`MAA`):\n",
        "\n",
        "##### 2.1.2.1 Question"
      ],
      "id": "6e12ede0-6a38-4267-86cb-9cb5dee6e555"
    },
    {
      "cell_type": "code",
      "execution_count": null,
      "metadata": {},
      "outputs": [],
      "source": [
        "??"
      ],
      "id": "e242b600-9ac3-4cd6-a64f-a7daee3e773e"
    },
    {
      "cell_type": "markdown",
      "metadata": {},
      "source": [
        "### 2.2 Dealing With Errors\n",
        "\n",
        "Check you understand the difference between the following two blocks of\n",
        "code by running them."
      ],
      "id": "6298b995-bc66-481e-8b4d-b93824f23e93"
    },
    {
      "cell_type": "code",
      "execution_count": 16,
      "metadata": {},
      "outputs": [
        {
          "output_type": "stream",
          "name": "stdout",
          "text": [
            "Error found\n",
            "'Berlin'"
          ]
        }
      ],
      "source": [
        "try:\n",
        "    print(cities['Berlin'])\n",
        "except KeyError as e:\n",
        "    print(\"Error found\")\n",
        "    print(e)"
      ],
      "id": "f7b2c6f5"
    },
    {
      "cell_type": "code",
      "execution_count": 17,
      "metadata": {},
      "outputs": [
        {
          "output_type": "stream",
          "name": "stdout",
          "text": [
            "Not Found"
          ]
        }
      ],
      "source": [
        "try:\n",
        "    print(cities.get('Berlin','Not Found'))\n",
        "except KeyError as e:\n",
        "    print(\"Error found\")\n",
        "    print(e)"
      ],
      "id": "5df0992a"
    },
    {
      "cell_type": "markdown",
      "metadata": {},
      "source": [
        "Notice that trying to access a non-existent element of a dict triggers a\n",
        "`KeyError`, while asking the dict to `get` the *same element* does not,\n",
        "it simply returns `None`. Can you think why, depending on the\n",
        "situtation, *either* of these might be the ‘correct’ answer?\n",
        "\n",
        "### 2.3 Thinking Data\n",
        "\n",
        "This section makes use of both the\n",
        "[Dictionaries](https://jreades.github.io/fsds/sessions/week3.html#lectures)\n",
        "lecture and the [DOLs to\n",
        "Data](https://jreades.github.io/fsds/sessions/week3.html#lectures)\n",
        "lecture.\n",
        "\n",
        "> **Tip**\n",
        ">\n",
        "> In this section you’ll need to look up (i.e. Google) and make use of a\n",
        "> few new functions that apply to dictionaries: `<dictionary>.items()`,\n",
        "> `<dictionary>.keys()`. *Remember*: if in doubt, add `print(...)`\n",
        "> statements to see what is going on!\n",
        "\n",
        "#### 2.3.1 Iterating over a Dict\n",
        "\n",
        "Adapting the code below, print out the city name and airport code for\n",
        "every city in our Atlas.\n",
        "\n",
        "##### 2.3.1.1 Question"
      ],
      "id": "350bac21-0034-410d-8970-1cacc9c56e7b"
    },
    {
      "cell_type": "code",
      "execution_count": null,
      "metadata": {},
      "outputs": [],
      "source": [
        "for c in cities.keys():\n",
        "    print(??)"
      ],
      "id": "ba931dcb-3b15-4d86-9d58-2391a8ee9bef"
    },
    {
      "cell_type": "markdown",
      "metadata": {},
      "source": [
        "The output should look something like this:"
      ],
      "id": "b6aff1c1-234b-48e3-a6d3-c358fd6ebb10"
    },
    {
      "cell_type": "code",
      "execution_count": null,
      "metadata": {},
      "outputs": [],
      "source": [
        "San Francisco -> SFO\n",
        "London -> LDN\n",
        "Paris -> PAR\n",
        "Beijing -> BEI\n",
        "Chennai -> MAA"
      ],
      "id": "ae114708-3f1a-44e8-9b13-aecc70a4b347"
    },
    {
      "cell_type": "markdown",
      "metadata": {},
      "source": [
        "#### 2.3.2 More Complex Dicts\n",
        "\n",
        "How would your code need to change to produce the *same output* from\n",
        "this data structure:"
      ],
      "id": "2cd681ec-ee25-4b1f-aefe-8e28259476b1"
    },
    {
      "cell_type": "code",
      "execution_count": 19,
      "metadata": {},
      "outputs": [],
      "source": [
        "cities = {\n",
        "    'San Francisco': {\n",
        "        'lat': 37.77, \n",
        "        'lon': -122.43,\n",
        "        'airport': 'SFO'},\n",
        "    'London': {\n",
        "        'lat': 51.51, \n",
        "        'lon': -0.08, \n",
        "        'airport': 'LDN'},\n",
        "    'Paris': {\n",
        "        'lat': 48.86,\n",
        "        'lon': 2.29, \n",
        "        'airport': 'PAR'},\n",
        "    'Beijing': {\n",
        "        'lat': 39.92,\n",
        "        'lon': 116.40,\n",
        "        'airport': 'BEI'},\n",
        "    'Chennai': { \n",
        "        'lat': 13.08, \n",
        "        'lon': 80.28, \n",
        "        'airport': 'MAA'}\n",
        "}"
      ],
      "id": "c5460d03"
    },
    {
      "cell_type": "markdown",
      "metadata": {},
      "source": [
        "##### 2.3.2.1 Question"
      ],
      "id": "7344bf14-4ac1-4c7d-988f-4dbb79bd4404"
    },
    {
      "cell_type": "code",
      "execution_count": null,
      "metadata": {},
      "outputs": [],
      "source": [
        "for c in cities.keys():\n",
        "    print(??)"
      ],
      "id": "12c2cd8d-014c-42ba-83f0-40c7384e1267"
    },
    {
      "cell_type": "markdown",
      "metadata": {},
      "source": [
        "#### 2.3.3 More Dictionary Action!\n",
        "\n",
        "And how would it need to change to print out the name and latitude of\n",
        "every city?\n",
        "\n",
        "##### 2.3.3.1 Question"
      ],
      "id": "c1141ae3-39e9-4fb5-9eee-77f15188d6d6"
    },
    {
      "cell_type": "code",
      "execution_count": null,
      "metadata": {},
      "outputs": [],
      "source": [
        "for c in cities.keys():\n",
        "    print(??)"
      ],
      "id": "0cd86e37-cc5c-48bd-a584-06100be85ddb"
    },
    {
      "cell_type": "markdown",
      "metadata": {},
      "source": [
        "The output should be something like this:"
      ],
      "id": "b4e39077-1047-4dd4-a726-6145366aa8b5"
    },
    {
      "cell_type": "code",
      "execution_count": null,
      "metadata": {},
      "outputs": [],
      "source": [
        "San Francisco is at latitude 37.77\n",
        "London is at latitude 51.51\n",
        "Paris is at latitude 48.86\n",
        "Beijing is at latitude 39.92\n",
        "Chennai is at latitude 13.08"
      ],
      "id": "3e3b9385-92a3-4bf6-97dd-c29a5c8c80ba"
    },
    {
      "cell_type": "markdown",
      "metadata": {},
      "source": [
        "#### 2.3.4 And Another Way to Use a Dict\n",
        "\n",
        "Now produce the *same output* using this new data structure:"
      ],
      "id": "cc921d43-3d5d-4630-a898-2e69c58ade63"
    },
    {
      "cell_type": "code",
      "execution_count": 23,
      "metadata": {},
      "outputs": [],
      "source": [
        "cities_alt = [\n",
        "    {'name':     'San Francisco',\n",
        "     'position': [37.77, -122.43],\n",
        "     'airport':  'SFO'},\n",
        "    {'name':     'London',\n",
        "     'position': [51.51, -0.08],\n",
        "     'airport':  'LDN'},\n",
        "    {'name':     'Paris',\n",
        "     'position': [48.86, 2.29],\n",
        "     'airport':  'PAR'},\n",
        "    {'name':     'Beijing',\n",
        "     'position': [39.92, 116.40],\n",
        "     'airport':  'BEI'},\n",
        "    {'name':     'Chennai', \n",
        "     'position': [13.08, 80.28],\n",
        "      'airport': 'MAA'}\n",
        "]"
      ],
      "id": "02d7c2f7"
    },
    {
      "cell_type": "markdown",
      "metadata": {},
      "source": [
        "##### Question\n",
        "\n",
        "``` python\n",
        "for c in cities_alt:\n",
        "    print(??)\n",
        "```\n",
        "\n",
        "The output should be something like this:\n",
        "\n",
        "    San Francisco is at latitude 37.77\n",
        "    London is at latitude 51.51\n",
        "    Paris is at latitude 48.86\n",
        "    Beijing is at latitude 39.92\n",
        "    Chennai is at latitude 13.08\n",
        "\n",
        "##### Answer\n",
        "\n",
        "``` python\n",
        "for c in cities_alt:\n",
        "    print(f\"{c['name']} is at latitude {c['position'][0]}\")\n",
        "```\n",
        "\n",
        "    San Francisco is at latitude 37.77\n",
        "    London is at latitude 51.51\n",
        "    Paris is at latitude 48.86\n",
        "    Beijing is at latitude 39.92\n",
        "    Chennai is at latitude 13.08\n",
        "\n",
        "#### 2.3.5 Think Data!\n",
        "\n",
        "What are some of the main differences that you can think of between\n",
        "`cities` and `cities_alt` *as* data? There is no right answer.\n",
        "\n",
        "> **Tip**\n",
        ">\n",
        "> I just want you to think about these *as data*! If you were trying to\n",
        "> use `cities` and `cities_alt` as data what differences would you find\n",
        "> when accessing one or more ‘records’?\n",
        "\n",
        "-   Point 1 here.\n",
        "-   Point 2 here.\n",
        "-   Point 3 here.\n",
        "\n",
        "## 3. Tackling Programming Problems\n",
        "\n",
        "> **Connections**\n",
        ">\n",
        "> You will find links here to the Code Camp sessions on\n",
        "> [Functions](https://jreades.github.io/code-camp/lessons/Functions.html)\n",
        "> and\n",
        "> [Packages](https://jreades.github.io/code-camp/lessons/Packages.html),\n",
        "> as well as to this week’s lectures on\n",
        "> [Functions](https://jreades.github.io/fsds/sessions/week3.html#lectures)\n",
        "> and\n",
        "> [Packages](https://jreades.github.io/fsds/sessions/week3.html#lectures).\n",
        "\n",
        "> **Difficulty: Medium.**\n",
        "\n",
        "Let’s now think about how to approach problems in programming (with\n",
        "code) and how that might differ from other ways of thinking.\n",
        "\n",
        "The problem we will use here as an example is: *download a data file\n",
        "that we know is hosted on a web site and output some information about\n",
        "those data*. This sounds hard. It *is* hard when you’re just starting\n",
        "out in programming. But it is *not* hard for a computer… *iff* we can\n",
        "figure out what to tell it to do *and* make use of work that other\n",
        "people have done for us!\n",
        "\n",
        "#### 3.0.1 What Do We Do? Break It Down!\n",
        "\n",
        "##### 3.0.1.1 Step 1. Analyse the Problem\n",
        "\n",
        "The first step to writing a program is thinking about your goal and the\n",
        "steps required to achieve that. We ***don’t*** write programs like we\n",
        "write essays: all at once by writing a whole lot of code and then hoping\n",
        "for the best when we hit ‘submit’. \n",
        "\n",
        "When you’re tackling a programming problem you break it down into\n",
        "separate, simpler steps, and then tick them off one by one. Doing this\n",
        "gets easier as you become more familiar with programming, but it remains\n",
        "crucial and, in many cases, good programmers in large companies spend\n",
        "more time on *design* than they do on actual *coding*.\n",
        "\n",
        "##### 3.0.1.2 Step 2. Functions & Packages\n",
        "\n",
        "We have discussed how *functions* are a useful programming tool to\n",
        "enable us to re-use chunks of code. Basically, a function is a way to do\n",
        "something to something in a portable, easy-to-use little bundle of code.\n",
        "\n",
        "Some steps in a program are done so many times by so many people that,\n",
        "eventually, someone writes a *package* that bundles up those operations\n",
        "into something easy to use that saves *you* having to figure out the\n",
        "gory details. Reading a file (even one on a computer halfway round the\n",
        "world) is one of those things. Making sense of the data *in* that file\n",
        "for you is probably not.\n",
        "\n",
        "<figure>\n",
        "<img src=\"https://imgs.xkcd.com/comics/tasks.png\"\n",
        "alt=\"xkcd: Easy vs. Hard\" />\n",
        "<figcaption aria-hidden=\"true\">xkcd: Easy vs. Hard</figcaption>\n",
        "</figure>\n",
        "\n",
        "To a computer, reading data from a remote location (e.g. a web site\n",
        "halfway around the world) is not really any different from reading one\n",
        "that’s sitting on your your local hard drive (e.g. on your desktop). To\n",
        "simplify things a great deal: the computer really just needs to know the\n",
        "location of the file and an appropriate *protocol* for accessing that\n",
        "file (*e.g.* http, https, ftp, local…) and then a clever programming\n",
        "language like Python will typically have packages that can kind of take\n",
        "of the rest.\n",
        "\n",
        "In all cases – local and remote – you use the package to handle the hard\n",
        "bit of knowing how to actually ‘read’ data (because all files are just\n",
        "`1`s and `0`s of data) at the *device* level and then Python gives you\n",
        "back a ‘file handle’ that helps you to achieve things like ‘read a line’\n",
        "or ‘close an open file’. You can think of a filehandle as something that\n",
        "gives you a ‘grip’ on a file-like object no matter where or what it is,\n",
        "and the package is the way that this magic is achieved.\n",
        "\n",
        "##### 3.0.1.3 Step 3. Look for Ways to Recycle\n",
        "\n",
        "**Always** look for ways to avoid reinventing the wheel. This is where\n",
        "Python’s packages (or R’s for that matter) come into their own. If it’s\n",
        "something that programmers often need to do, then chances are that\n",
        "someone has written a package to do it!\n",
        "\n",
        "The point of packages is that they can help us to achieve quite a lot\n",
        "very quickly since we can just make use of someone else’s code. In the\n",
        "same way that we won’t mark you down for Googling the answer to a coding\n",
        "question, we *also* won’t mark you down for using someone else’s package\n",
        "to help you get going with your programming. ***That’s the whole\n",
        "point!***\n",
        "\n",
        "Often, if you’re not sure where to start, Google (or StackOverflow) is\n",
        "the place to go:\n",
        "\n",
        "[`how to read text file on web server python`](https://www.google.co.uk/search?q=how+to+read+text+file+on+web+server+python&oq=how+to+read+text+file+on+web+server+python&aqs=chrome..69i57.629j0j7&sourceid=chrome&ie=UTF-8)\n",
        "\n",
        "Boom!\n",
        "\n",
        "##### 3.0.1.4 Step 4. Make a Plan\n",
        "\n",
        "OK, so we need to break this *hard* problem down into something simpler.\n",
        "We can do this by thinking about it as three separate steps:\n",
        "\n",
        "1.  We want to read a remote file (i.e. a text file somewhere the\n",
        "    planet),\n",
        "2.  We want to turn it into a local data structure (i.e a list or a\n",
        "    dictionary),\n",
        "3.  We want to perform some calculations on the data (e.g. calculate the\n",
        "    mean, find the easternmost city, etc.).\n",
        "\n",
        "We can tackle each of those in turn, getting the first bit working, then\n",
        "adding the second bit, etc. It’s just like using lego to build\n",
        "something: you take the same pieces and assemble them in different ways\n",
        "to produce different things.\n",
        "\n",
        "### 3.1 Reading a Remote File\n",
        "\n",
        "So, we are going to [download a file from\n",
        "GitHub](https://github.com/jreades/fsds/blob/master/data/src/Wikipedia-Cities-simple.csv),\n",
        "but we **aren’t going to to try to turn it into data** or otherwise make\n",
        "‘sense’ of it yet, we just want to **read** it. We are then going to\n",
        "build from this first step towards the rest of the steps!\n",
        "\n",
        "Because we’re accessing data from a ‘URL’ we need to use the `urlopen`\n",
        "[function](https://docs.python.org/3.0/library/urllib.request.html?highlight=urlopen#urllib.request.urlopen)\n",
        "from the `urllib.request`\n",
        "[package](https://docs.python.org/3.0/library/urllib.request.html). If\n",
        "you’re wondering how we know to use this function and package, you might\n",
        "google something like: *read remote csv file python 3* which in turn\n",
        "might get you to a StackOverflow question and answer like\n",
        "[this](https://stackoverflow.com/questions/36965864/opening-a-url-with-urllib-in-python-3)."
      ],
      "id": "89f46218-7ff7-4e36-aed6-5f9eb59bae86"
    },
    {
      "cell_type": "raw",
      "metadata": {
        "raw_mimetype": "text/html"
      },
      "source": [
        "<style type=\"text/css\">\n",
        ".longform {\n",
        "    max-height: 500px;\n",
        "    overflow-y: scroll;\n",
        "}\n",
        "</style>"
      ],
      "id": "0d29debd-75da-4b29-a55e-51420166af95"
    },
    {
      "cell_type": "markdown",
      "metadata": {},
      "source": [
        "``` python\n",
        "from urllib.request import urlopen\n",
        "help(urlopen)\n",
        "```\n",
        "\n",
        "    Help on function urlopen in module urllib.request:\n",
        "\n",
        "    urlopen(url, data=None, timeout=<object object at 0x105154b70>, *, cafile=None, capath=None, cadefault=False, context=None)\n",
        "        Open the URL url, which can be either a string or a Request object.\n",
        "\n",
        "        *data* must be an object specifying additional data to be sent to\n",
        "        the server, or None if no such data is needed.  See Request for\n",
        "        details.\n",
        "\n",
        "        urllib.request module uses HTTP/1.1 and includes a \"Connection:close\"\n",
        "        header in its HTTP requests.\n",
        "\n",
        "        The optional *timeout* parameter specifies a timeout in seconds for\n",
        "        blocking operations like the connection attempt (if not specified, the\n",
        "        global default timeout setting will be used). This only works for HTTP,\n",
        "        HTTPS and FTP connections.\n",
        "\n",
        "        If *context* is specified, it must be a ssl.SSLContext instance describing\n",
        "        the various SSL options. See HTTPSConnection for more details.\n",
        "\n",
        "        The optional *cafile* and *capath* parameters specify a set of trusted CA\n",
        "        certificates for HTTPS requests. cafile should point to a single file\n",
        "        containing a bundle of CA certificates, whereas capath should point to a\n",
        "        directory of hashed certificate files. More information can be found in\n",
        "        ssl.SSLContext.load_verify_locations().\n",
        "\n",
        "        The *cadefault* parameter is ignored.\n",
        "\n",
        "\n",
        "        This function always returns an object which can work as a\n",
        "        context manager and has the properties url, headers, and status.\n",
        "        See urllib.response.addinfourl for more detail on these properties.\n",
        "\n",
        "        For HTTP and HTTPS URLs, this function returns a http.client.HTTPResponse\n",
        "        object slightly modified. In addition to the three new methods above, the\n",
        "        msg attribute contains the same information as the reason attribute ---\n",
        "        the reason phrase returned by the server --- instead of the response\n",
        "        headers as it is specified in the documentation for HTTPResponse.\n",
        "\n",
        "        For FTP, file, and data URLs and requests explicitly handled by legacy\n",
        "        URLopener and FancyURLopener classes, this function returns a\n",
        "        urllib.response.addinfourl object.\n",
        "\n",
        "        Note that None may be returned if no handler handles the request (though\n",
        "        the default installed global OpenerDirector uses UnknownHandler to ensure\n",
        "        this never happens).\n",
        "\n",
        "        In addition, if proxy settings are detected (for example, when a *_proxy\n",
        "        environment variable like http_proxy is set), ProxyHandler is default\n",
        "        installed and makes sure the requests are handled through the proxy.\n",
        "\n",
        "As you can see, there is *lot* of information here about how things\n",
        "work. A *lot* of it won’t make much sense at the moment. That’s ok.\n",
        "*Some* of this doesn’t make much sense to me, but that’s because this is\n",
        "the *full* documentation from Python so it’s trying to cover *all* the\n",
        "bases. You don’t need to read every line of this, what you are looking\n",
        "is information about things like the ‘signature’ (what parameters the\n",
        "function accepts) and its output. Of course, you can also *just Google\n",
        "it*!\n",
        "\n",
        "> **Tip**\n",
        ">\n",
        "> Remember that you can use `dir(...)` and `help(...)` to investigate\n",
        "> what a package offers. You can also get help in Jupyter by typing `?`\n",
        "> before the function that you want to call.\n",
        "\n",
        "> **URLError?**\n",
        ">\n",
        "> If you are working behind a firewall (esp. if working on this\n",
        "> practical in, say, China) then there is a *chance* you will get a\n",
        "> `URLError` (`<urlopen error [Errno 110044] getaddrinfo failed>`). This\n",
        "> is a ‘[proxy\n",
        "> error](https://stackoverflow.com/questions/7334199/getaddrinfo-failed-what-does-that-mean)’\n",
        "> and in this case you may need to [configure your\n",
        "> environment](https://stackoverflow.com/a/28153935) as follows:\n",
        ">\n",
        ">     import os\n",
        ">     os.environ['HTTP_PROXY'] = 'http://127.0.0.1:10809'\n",
        ">     os.environ['HTTPS_PROXY'] = 'http://127.0.0.1:10809'\n",
        "\n",
        "Before you start working on the code, why not open the data file\n",
        "[directly in your\n",
        "browser](https://raw.githubusercontent.com/jreades/fsds/master/data/src/Wikipedia-Cities-simple.csv)?\n",
        "It’s pretty small, and it will give you a sense of what is going on.\n",
        "\n",
        "``` python\n",
        "from urllib.request import URLError\n",
        "from urllib.request import urlopen\n",
        "\n",
        "# Given the info you were given above, what do you \n",
        "# think the value of 'url' should be? What\n",
        "# type of variable is it? int or string? \n",
        "url = 'https://raw.githubusercontent.com/jreades/fsds/master/data/src/Wikipedia-Cities-simple.csv'\n",
        "\n",
        "# Read the URL stream into variable called 'response'\n",
        "# using the function that we imported above\n",
        "try:\n",
        "    response = urlopen(url)\n",
        "except URLError as e:\n",
        "    print(\"Unable to connect to URL!\")\n",
        "    print(e)\n",
        "\n",
        "# You might want to explore what `__class__` and `__name__`\n",
        "# are doing, but basically the give us a way of finding out what\n",
        "# is 'behind' more complex variables\n",
        "\n",
        "# Now read from the stream, decoding so that we get actual text\n",
        "raw = response.read()\n",
        "\n",
        "print(f\"'raw' variable is of type: '{raw.__class__.__name__}'.\")\n",
        "print(f\"Raw content is:\\n{raw[:75]}...\\n\")\n",
        "\n",
        "data = raw.decode('utf-8')\n",
        "\n",
        "print(f\"'data' variable is of type: '{data.__class__.__name__}'.\")\n",
        "print(f\"Decoded content is:\\n{data[:75]}...\")\n",
        "```\n",
        "\n",
        "> **Note**\n",
        ">\n",
        "> Notice that the `raw` data has the format `b'...'` with all of the\n",
        "> data seemingly on one line, while the *decoded* version in `data` is\n",
        "> ‘correctly’ structured with lines! The ‘raw’ data is in *bytecode*\n",
        "> format which is not, strictly, a `string`. It only becomes a string\n",
        "> when we ‘decode it’ to `utf-8` (which is the ‘encoding’ of text that\n",
        "> supports most human languages). While the computer doesn’t\n",
        "> particularly care, we do!\n",
        "\n",
        "Remember that you can treat strings *as lists*, so when we `print` below\n",
        "we cut off the output using the `list[:<Some Number>]` syntax."
      ],
      "id": "7e690568-991d-4a7a-99a7-9ad40b27edb8"
    },
    {
      "cell_type": "code",
      "execution_count": 27,
      "metadata": {},
      "outputs": [
        {
          "output_type": "stream",
          "name": "stdout",
          "text": [
            "There are 352 characters in the data variable.\n",
            "The first 125 characters are: 'City,Population,Latitude,Longitude\n",
            "Perth,45770,56.39583,-3.43333\n",
            "Armagh,14777,54.3499,-6.6546\n",
            "Dundee,147268,56.462,-2.9707'"
          ]
        }
      ],
      "source": [
        "print(f\"There are {len(data)} characters in the data variable.\")\n",
        "print(f\"The first 125 characters are: '{data[:125]}'\") # Notice that '\\n' count here!"
      ],
      "id": "3594aeee"
    },
    {
      "cell_type": "markdown",
      "metadata": {},
      "source": [
        "So this is definitely text, but it doesn’t (yet) look entirely like the\n",
        "data *we* see because it’s still just one long string, and not *data*\n",
        "which has individual records on each line. To split the text into\n",
        "individual lines, we can use the handily named `.splitlines()` method\n",
        "(more on methods below):\n",
        "\n",
        "##### 3.1.0.1 Question"
      ],
      "id": "dcc7ad8b-16df-4878-bcbb-6f39b71be4a1"
    },
    {
      "cell_type": "code",
      "execution_count": null,
      "metadata": {},
      "outputs": [],
      "source": [
        "rows = ??.splitlines()\n",
        "print(f\"'rows' variable is of type: {rows.__class__.__name__}'.\")"
      ],
      "id": "ba0e655d-8f57-4691-8540-cc7a6a9ba781"
    },
    {
      "cell_type": "markdown",
      "metadata": {},
      "source": [
        "Note now, how the *data* variable has type `list`. So to view the data\n",
        "as we see them in the original online file, we can now use a `for` loop\n",
        "to print out each element of the `list` (each element being a row of the\n",
        "original online file):\n",
        "\n",
        "##### 3.1.0.2 Question"
      ],
      "id": "100497ea-4d0a-47df-bccd-8721a32cdfc4"
    },
    {
      "cell_type": "code",
      "execution_count": null,
      "metadata": {},
      "outputs": [],
      "source": [
        "print(f\"There are {??} rows of data.\")\n",
        "print(\"\\n\".join(??[0:2])) # New syntax alert! notice we can *join* list elements"
      ],
      "id": "9fc8c6bc-c7f6-41d3-9a60-1a2225a740b6"
    },
    {
      "cell_type": "markdown",
      "metadata": {},
      "source": [
        "That’s a little hard to read, though something has clearly changed.\n",
        "Let’s try printing the last row:"
      ],
      "id": "402f1b55-c742-4edc-9ba1-c7b14ad991d7"
    },
    {
      "cell_type": "code",
      "execution_count": 30,
      "metadata": {},
      "outputs": [
        {
          "output_type": "stream",
          "name": "stdout",
          "text": [
            "Bangor,18808,53.228,-4.128"
          ]
        }
      ],
      "source": [
        "print(rows[-1])"
      ],
      "id": "6db33a62"
    },
    {
      "cell_type": "markdown",
      "metadata": {},
      "source": [
        "**Congratulations!** You’ve now read a text file sitting on a server in,\n",
        "I think, Canada and Python *didn’t care*. You’ve also converted a\n",
        "plain-text file to a row-formatted list.\n",
        "\n",
        "### 3.2 Text into Data\n",
        "\n",
        "We now need to work on turning the response into useful data. We got\n",
        "partway there by splitting on line-breaks (`splitlines()`), but now we\n",
        "need to get columns for each line. You’ll notice that we are dealing\n",
        "with a *CSV* (Comma-Separated Value) file and that the format *looks*\n",
        "quite simple… So, in theory, to turn this into data we ‘just’ need to\n",
        "*split* each row into separate fields using the commas.\n",
        "\n",
        "There’s a handy function associated with strings called `split`:"
      ],
      "id": "6a5dd4b8-9c1c-42a0-a80b-b752b6617112"
    },
    {
      "cell_type": "code",
      "execution_count": 31,
      "metadata": {},
      "outputs": [
        {
          "output_type": "stream",
          "name": "stdout",
          "text": [
            "['abc', 'efgh']"
          ]
        }
      ],
      "source": [
        "print('abcdefgh'.split('d'))"
      ],
      "id": "24c15b1e"
    },
    {
      "cell_type": "markdown",
      "metadata": {},
      "source": [
        "You can also investigate further how the split function works using:"
      ],
      "id": "7669c960-597e-415a-ba5c-f3fd99aa2e1f"
    },
    {
      "cell_type": "code",
      "execution_count": 32,
      "metadata": {},
      "outputs": [
        {
          "output_type": "stream",
          "name": "stdout",
          "text": [
            "Help on built-in function split:\n",
            "\n",
            "split(sep=None, maxsplit=-1) method of builtins.str instance\n",
            "    Return a list of the substrings in the string, using sep as the separator string.\n",
            "\n",
            "      sep\n",
            "        The separator used to split the string.\n",
            "\n",
            "        When set to None (the default value), will split on any whitespace\n",
            "        character (including \\n \\r \\t \\f and spaces) and will discard\n",
            "        empty strings from the result.\n",
            "      maxsplit\n",
            "        Maximum number of splits.\n",
            "        -1 (the default value) means no limit.\n",
            "\n",
            "    Splitting starts at the front of the string and works to the end.\n",
            "\n",
            "    Note, str.split() is mainly useful for data that has been intentionally\n",
            "    delimited.  With natural text that includes punctuation, consider using\n",
            "    the regular expression module.\n"
          ]
        }
      ],
      "source": [
        "help('abcdefgh'.split)"
      ],
      "id": "1c7a30a4"
    },
    {
      "cell_type": "markdown",
      "metadata": {},
      "source": [
        "So this seems like a good solution to turn our text into *data*:"
      ],
      "id": "fe55dc52-ea79-4767-9134-6316de861a33"
    },
    {
      "cell_type": "code",
      "execution_count": 33,
      "metadata": {},
      "outputs": [
        {
          "output_type": "stream",
          "name": "stdout",
          "text": [
            "['Bangor', '18808', '53.228', '-4.128']\n",
            "The population of Bangor is 18,808"
          ]
        }
      ],
      "source": [
        "test = rows[-1].split(',')\n",
        "print(test)\n",
        "print(f\"The population of {test[0]} is {int(test[1]):,}\")"
      ],
      "id": "1fe5aea0"
    },
    {
      "cell_type": "markdown",
      "metadata": {},
      "source": [
        "I’d say that we’re now getting quite close to something that looks like\n",
        "‘real data’: I know how to convert a raw response from a web server into\n",
        "a string, to split that string into rows, and can even access individual\n",
        "elements from a row!\n",
        "\n",
        "### 3.3 The Advantages of a Package\n",
        "\n",
        "> **Caution**\n",
        ">\n",
        "> There are two problems to the `data.splitlines()` and `row.split(',')`\n",
        "> approach! One of them is visible (though not obvious) in the examples\n",
        "> above, the other is not.\n",
        "\n",
        "1.  Remember that `10` and `'10'` are *not* the same thing. To\n",
        "    comma-format the population of Sheffield you’ll see that I had to do\n",
        "    `int(...)` in order to turn `'685368'` into a number. So our\n",
        "    approach so far doesn’t know anything about the *type* of data we’re\n",
        "    working with.\n",
        "2.  We are also implicitly *assuming* that commas can only appear at\n",
        "    field boundaries (i.e. that they can only appear to separate one\n",
        "    column of data from the next). In other words, just using\n",
        "    `split(',')` doesn’t work if *any* of the fields can themselves\n",
        "    contain a comma!\n",
        "3.  There’s actually a *third* potential issue, but it’s so rare that we\n",
        "    would need to take a completely different approach to deal with it:\n",
        "    we are also assuming that newlines (`\\n`) can only appear at record\n",
        "    boundaries (i.e. that the can only appear to separate one row of\n",
        "    data from the next). In those cases, using `splitlines()` also\n",
        "    doesn’t work, but this situation is (thankfully) very rare indeed.\n",
        "\n",
        "This is where using code that someone *else* who is much more interested\n",
        "(and knowledgeable) has written and contributed is helpful: we don’t\n",
        "need to think through how to deal with this sort of thing ourselves, we\n",
        "can just find a library that does what we need and make use of *its*\n",
        "functionality. I’ve given you the skeleton of the answer below, but\n",
        "you’ll need to do a little Googling to find out how to\n",
        "`\"read csv python\"`.\n",
        "\n",
        "**Note:** For now just focus on problem #2.\n",
        "\n",
        "``` python\n",
        "from urllib.request import urlopen\n",
        "import csv\n",
        "\n",
        "url = 'https://raw.githubusercontent.com/jreades/fsds/master/data/src/Wikipedia-Cities-simple.csv'\n",
        "response = urlopen(url)\n",
        "raw = response.read()\n",
        "\n",
        "# Now take the raw data, decode it, and then\n",
        "# pass it over to the CSV reader function\n",
        "csvfile  = csv.reader(raw.decode('utf-8').splitlines()) \n",
        "\n",
        "urlData = [] # Somewhere to store the data\n",
        "for row in csvfile:              \n",
        "    urlData.append( row )\n",
        "\n",
        "print(\"urlData has \" + str(len(urlData)) + \" rows and \" + str(len(urlData[0])) + \" columns.\")\n",
        "print(urlData[-1]) # Check it worked!\n",
        "```\n",
        "\n",
        "If it worked, then you should have this output:"
      ],
      "id": "806824a8-f892-4bba-88f0-5d1e95d9a232"
    },
    {
      "cell_type": "code",
      "execution_count": 35,
      "metadata": {},
      "outputs": [
        {
          "output_type": "stream",
          "name": "stdout",
          "text": [
            "urlData has 11 rows and 4 columns.\n",
            "['Bangor', '18808', '53.228', '-4.128']"
          ]
        }
      ],
      "source": [],
      "id": "700295b7"
    },
    {
      "cell_type": "markdown",
      "metadata": {},
      "source": [
        "To you that might look a lot *worse* that the data that you originally\n",
        "had, but to a computer that list-of-lists is something it can work with;\n",
        "check it out:"
      ],
      "id": "0faadd57-2009-48fb-9b3c-1cbe574b0199"
    },
    {
      "cell_type": "code",
      "execution_count": 36,
      "metadata": {},
      "outputs": [
        {
          "output_type": "stream",
          "name": "stdout",
          "text": [
            "The city of 'Perth' has a population of 45,770\n",
            "The city of 'Armagh' has a population of 14,777\n",
            "The city of 'Dundee' has a population of 147,268\n",
            "The city of 'Colchester' has a population of 194,706\n",
            "The city of 'Salisbury' has a population of 40,302"
          ]
        }
      ],
      "source": [
        "for u in urlData[1:6]: # For each row in the first 5 items in list\n",
        "    print(f\"The city of '{u[0]}' has a population of {int(u[1]):,}\") # Print out the name and pop"
      ],
      "id": "0fbf52d7"
    },
    {
      "cell_type": "markdown",
      "metadata": {},
      "source": [
        "> **Note**\n",
        ">\n",
        "> Why did I use `urlData[1:]` instead of `urlData`?\n",
        ">\n",
        "> If you print `urlData[0]` you’ll see that this is the ‘header’ row\n",
        "> that tells us what each column contains! So if we try to convert the\n",
        "> column name to an integer (`int(u[1])`) we will get an error!\n",
        ">\n",
        "> The advantage of using the `csv` library over plain old `string.split`\n",
        "> is that the csv library knows how to deal with fields that contain\n",
        "> commas (*e.g.* `\"Cardfiff, Caerdydd\"` or\n",
        "> `\"An Amazing 4 Bedroom Home, Central London, Sleeps 12\"`) and so is\n",
        "> much more flexible and consistent that our naive `split` approach. The\n",
        "> vast majority of *common* tasks (reading certain types of files,\n",
        "> getting remote files, etc.) have libraries that do exactly what you\n",
        "> want without you needing to write much code yourself to take advantage\n",
        "> of it. You should always have a look around online to see if a library\n",
        "> exists before thinking that you need to write everything/anything from\n",
        "> scratch. The tricky part is knowing what words to use for your search\n",
        "> and how to read the answers that you find…\n",
        "\n",
        "Let’s try this with a ‘bigger’ data set… In an ideal world, the ‘power’\n",
        "of code is that once we’ve solved the problem *once*, we’ve solved it\n",
        "more generally as well. So let’s try with the ‘scaled-up’ data set and\n",
        "see waht happens!\n",
        "\n",
        "``` python\n",
        "from urllib.request import urlopen\n",
        "import csv\n",
        "\n",
        "url = \"https://raw.githubusercontent.com/jreades/fsds/master/data/src/Wikipedia-Cities.csv\"\n",
        "response = urlopen(url)\n",
        "raw = response.read()\n",
        "\n",
        "csvfile = csv.reader(raw.decode('utf-8').splitlines())\n",
        "\n",
        "urlData = [] # Somewhere to store the data\n",
        "\n",
        "for row in csvfile:              \n",
        "    urlData.append( row )\n",
        "\n",
        "print(f\"urlData has {len(urlData)} rows and {len(urlData[0])} columns.\")\n",
        "\n",
        "for u in urlData[70:]:  # For each row in the list\n",
        "    print(f\"The city of '{u[0]}' has a population of {u[1]}\") # Print out the name and pop\n",
        "```\n",
        "\n",
        "> **What mistake have I made here?**\n",
        ">\n",
        "> I have assumed that, just because the files have similar names, they\n",
        "> must also have similar layouts!\n",
        ">\n",
        "> ``` python\n",
        "> print(f\"The URL's data labels are: {', '.join(urlData[0])}\")\n",
        "> ```\n",
        ">\n",
        ">     The URL's data labels are: City, Population, Latitude, Longitude\n",
        "\n",
        "### 3.4 Insight!\n",
        "\n",
        "So, although the code was basically the same for both of these files\n",
        "(good), we would need to change quite a bit in order to print out the\n",
        "*same* information from different versions of the *same data*. So our\n",
        "code is rather **brittle**.\n",
        "\n",
        "One of the issues is that our *instincts* about how to manage data\n",
        "doesn’t align with how the computer can most *efficiently* manage it. We\n",
        "make the mistake of thinking that the computer needs to do things that\n",
        "same way that we do when reading text and so assume that we need to:\n",
        "\n",
        "1.  Represent the rows as a list.\n",
        "2.  Represent the columns as a list for each row.\n",
        "\n",
        "This thinking suggests that the ‘right’ data structure would clearly be\n",
        "a list-of-lists (LoLs!), but if you understand what happened here then\n",
        "the next section will make a *lot* more sense!\n",
        "\n",
        "## 4. Why ‘Obvious’ is Not Always ‘Right’\n",
        "\n",
        "> **🔗 Connections**\n",
        ">\n",
        "> This section builds on the material covered by the [DOLs to\n",
        "> Data](https://jreades.github.io/fsds/sessions/week3.html#lectures)\n",
        "> lecture.\n",
        "\n",
        "> **Difficulty: Hard.**\n",
        "\n",
        "But you need to be careful assuming that, just because something is hard\n",
        "for you to read, it’s also hard for a computer to read! The way a\n",
        "computer ‘thinks’ and the way that we think doesn’t always line up\n",
        "naturally. Experienced programmers can think their way *around* a\n",
        "problem by working *with* the computer, rather than against it.\n",
        "\n",
        "Some issues to consider:\n",
        "\n",
        "-   Is the first row of data *actually* data, or is it *about* data?\n",
        "-   Do we really care about column *order*, or do we just care about\n",
        "    being able to pick the *correct* column?\n",
        "\n",
        "Let’s apply this approach to the parsing of our data…\n",
        "\n",
        "### 4.1 Understanding What’s an ‘Appropriate’ Data Structure\n",
        "\n",
        "If you stop to think about it, then our list-of-lists approach to the\n",
        "data isn’t very easy to navigate. Notice that if the position or name of\n",
        "a column changes then we need to change our program *every* time we\n",
        "re-run it! It’s not very easy to read *either* since we don’t really\n",
        "know what `u[5]` is supposed to be. That way lies all kinds of potential\n",
        "errors!\n",
        "\n",
        "Also consider that, in order to calculate out even a simple aggregate\n",
        "such as the `sum` of a field for all rows we need to step through a lot\n",
        "of irrelevant data as well: we have to write a `for` loop and then step\n",
        "through each row with an ‘accumulator’ (somewhere to store the total).\n",
        "That’s slow.\n",
        "\n",
        "That doesn’t make much sense since this should all be *easier* and\n",
        "*faster* in Python than in Excel, but right now it’s *harder*, and quite\n",
        "possibly *slower* as well! So how does the experienced programmer get\n",
        "around this? ‘Simple’ (i.e. neither simple, nor obvious, until you know\n",
        "the answer): she realises that the data is organised the wrong way! We\n",
        "humans tend to think in rows of data: this apartment has the following\n",
        "*attributes* (price, location, etc.), or that city has the following\n",
        "*attributes* (population, location). We read across the row because\n",
        "that’s the easiest way for *us* to think about it. But, in short, a\n",
        "list-of-lists does *not* seem to be the right way to store this data!\n",
        "\n",
        "Crucially, a computer doesn’t have to work that way. For a computer,\n",
        "it’s as easy to read *down* a column as it is to read *across* a row.\n",
        "**In fact, it’s easier**, because each column has the same *type* of\n",
        "data: one column contains names (strings), another column contains\n",
        "prices (integers), and other columns contain other types of data\n",
        "(floats, etc.). Better still, the order of the columns often doesn’t\n",
        "matter as long as we know what the columns are called: it’s easier to\n",
        "ask for the ‘description column’ than it is to ask for the 6th column\n",
        "since, for all we know, the description column might be in a different\n",
        "place for different files but they are all (relatively) likely to use\n",
        "the ‘description’ label for the column itself.\n",
        "\n",
        "#### 4.1.1 A Dictionary of Lists to the Rescue\n",
        "\n",
        "So, if we don’t care about column order, only row order, then a\n",
        "dictionary of lists would be a nice way to handle things. And why should\n",
        "we care about column order? With our CSV files above we already saw what\n",
        "a pain it was to fix things when the layout of the columns changed from\n",
        "one data set to the next. If, instead, we can just reference the\n",
        "‘description’ column then it doesn’t matter where that column actually\n",
        "is. Why is that?\n",
        "\n",
        "Well, here are the first four rows of data from a list-of-lists for city\n",
        "sizes:\n",
        "\n",
        "``` python\n",
        "myData = [\n",
        "  ['id', 'Name', 'Rank', 'Longitude', 'Latitude', 'Population'], \n",
        "  ['1', 'Greater London', '1', '-18162.92767', '6711153.709', '9787426'], \n",
        "  ['2', 'Greater Manchester', '2', '-251761.802', '7073067.458', '2553379'], \n",
        "  ['3', 'West Midlands', '3', '-210635.2396', '6878950.083', '2440986']\n",
        "]\n",
        "```\n",
        "\n",
        "Now, here’s how it would look as a dictionary of lists organised by\n",
        "*column*, and *not* by row:"
      ],
      "id": "bfe87eea-e607-416c-9302-69b3d90ee1f5"
    },
    {
      "cell_type": "code",
      "execution_count": 38,
      "metadata": {},
      "outputs": [
        {
          "output_type": "stream",
          "name": "stdout",
          "text": [
            "['London', 'Manchester', 'Birmingham', 'Edinburgh', 'Inverness', 'Lerwick']\n",
            "[9787426, 2705000, 1141816, 901455, 70000, 6958]"
          ]
        }
      ],
      "source": [
        "myData = {\n",
        "    'id'         : [0, 1, 2, 3, 4, 5],\n",
        "    'Name'       : ['London', 'Manchester', 'Birmingham','Edinburgh','Inverness','Lerwick'],\n",
        "    'Rank'       : [1, 2, 3, 4, 5, 6],\n",
        "    'Longitude'  : [-0.128, -2.245, -1.903, -3.189, -4.223, -1.145],\n",
        "    'Latitude'   : [51.507, 53.479, 52.480, 55.953, 57.478, 60.155],\n",
        "    'Population' : [9787426, 2705000, 1141816, 901455, 70000, 6958],\n",
        "}\n",
        "\n",
        "print(myData['Name'])\n",
        "print(myData['Population'])"
      ],
      "id": "7f0b4124"
    },
    {
      "cell_type": "markdown",
      "metadata": {},
      "source": [
        "What does this do better? Well, for starters, we know that everything in\n",
        "the ‘Name’ column will be a string, and that everything in the\n",
        "‘Longitude’ column is a float, while the ‘Population’ column contains\n",
        "integers. So that’s made life easier already, but the real benefit is\n",
        "coming up…\n",
        "\n",
        "#### 4.1.2 Behold the Power of the DoL\n",
        "\n",
        "Now let’s look at what you can do with this… but first we need to import\n",
        "one *more* package that you’re going to see a *lot* over the rest of\n",
        "term: `numpy` (Numerical Python), which is used *so* much that most\n",
        "people simply refer to it as `np`. This is a *huge* package in terms of\n",
        "features, but right now we’re interested only in the basic arithmatic\n",
        "functions: `mean`, `max`, and `min`.\n",
        "\n",
        "> **We’ll step through most of these in detail below.**\n",
        "\n",
        "Find the latitude of Manchester:"
      ],
      "id": "606a3395-25d7-47c1-9d11-998f22dba6e0"
    },
    {
      "cell_type": "code",
      "execution_count": 39,
      "metadata": {},
      "outputs": [
        {
          "output_type": "stream",
          "name": "stdout",
          "text": [
            "Manchester's latitude is 53.479"
          ]
        }
      ],
      "source": [
        "city = \"Manchester\"\n",
        "lat = myData['Latitude'][ myData['Name'].index(city) ]\n",
        "print(f\"{city}'s latitude is {lat}\")"
      ],
      "id": "6ab94a3a"
    },
    {
      "cell_type": "markdown",
      "metadata": {},
      "source": [
        "Print the location of Lerwick:\n",
        "\n",
        "##### 4.1.2.1 Question"
      ],
      "id": "0a6671c9-09ba-4d44-9f11-68fa9ec44ed8"
    },
    {
      "cell_type": "code",
      "execution_count": null,
      "metadata": {},
      "outputs": [],
      "source": [
        "city = \"Lerwick\"\n",
        "print(f\"The town of {city} can be found at \" + \n",
        "      f\"{abs(myData[??][ ?? ])}ºW, {myData['Latitude'][ ?? ]}ºN\")"
      ],
      "id": "e07155c3-c6bf-47b7-a2d4-ed37217a5fec"
    },
    {
      "cell_type": "markdown",
      "metadata": {},
      "source": [
        "Find the easternmost city:\n",
        "\n",
        "##### 4.1.2.2 Question"
      ],
      "id": "93b944c6-ea27-49cc-b5b9-57dbf9ec9301"
    },
    {
      "cell_type": "code",
      "execution_count": null,
      "metadata": {},
      "outputs": [],
      "source": [
        "city = myData['Name'][ myData[??].index( max(myData[??]) ) ]\n",
        "print(f\"The easternmost city is: {city}\")"
      ],
      "id": "8421e38e-fa06-4148-96bb-5342e1f7da9e"
    },
    {
      "cell_type": "markdown",
      "metadata": {},
      "source": [
        "Find the `mean` population of the cities using a handy package called\n",
        "numpy:\n",
        "\n",
        "##### 4.1.2.3 Question"
      ],
      "id": "6d048870-ac72-46fb-97eb-51268682bff0"
    },
    {
      "cell_type": "code",
      "execution_count": null,
      "metadata": {},
      "outputs": [],
      "source": [
        "import numpy as np\n",
        "mean = np.??(myData['Population'])\n",
        "print(f\"The mean population is: {mean}\")"
      ],
      "id": "bb9b2128-59f6-4c62-b7d2-dd2d43e05465"
    },
    {
      "cell_type": "markdown",
      "metadata": {},
      "source": [
        "> **Warning**\n",
        ">\n",
        "> **Stop!** Look closely at what is going on. There’s a *lot* of content\n",
        "> to process in the code above, so do *not* rush blindly on if this is\n",
        "> confusing. Try pulling it apart into pieces and then reassemble it.\n",
        "> Start with the bits that you understand and then *add* complexity.\n",
        "\n",
        "We’ll go through each one in turn, but they nearly all work in the same\n",
        "way and the really key thing is that you’ll notice that we no longer\n",
        "have any loops (which are slow) just `index` or `np.<function>` (which\n",
        "is *very* fast).\n",
        "\n",
        "#### 4.1.3 The Population of Manchester\n",
        "\n",
        "The code can look pretty daunting, so let’s break it down into two\n",
        "parts. What would you get if you ran just this code?"
      ],
      "id": "6f226130-43af-461e-a6d3-d0359e3bf73d"
    },
    {
      "cell_type": "code",
      "execution_count": 43,
      "metadata": {},
      "outputs": [
        {
          "output_type": "display_data",
          "metadata": {},
          "data": {
            "text/plain": [
              "2705000"
            ]
          }
        }
      ],
      "source": [
        "myData['Population'][1]"
      ],
      "id": "60d4e4c2"
    },
    {
      "cell_type": "markdown",
      "metadata": {},
      "source": [
        "Remember that this is a dictionary-of-lists (DoL). So, Python first\n",
        "looks for a key named `Population` in the myData dictionary. It finds\n",
        "out that the value associated with this key is a *list* and in this\n",
        "example, it just pulls out the second value (index `1`). Does **that\n",
        "part** make sense?\n",
        "\n",
        "Now, to the second part:"
      ],
      "id": "216a525f-5fa6-488a-b185-c1dc7d666a16"
    },
    {
      "cell_type": "code",
      "execution_count": 45,
      "metadata": {},
      "outputs": [
        {
          "output_type": "display_data",
          "metadata": {},
          "data": {
            "text/plain": [
              "1"
            ]
          }
        }
      ],
      "source": [
        "myData['Name'].index('Manchester')"
      ],
      "id": "9029e846"
    },
    {
      "cell_type": "markdown",
      "metadata": {},
      "source": [
        "Here we look in the dictionary for the key `Name` and find that that’s\n",
        "*also* a list. All we’re doing here is asking Python to find the index\n",
        "of ‘Manchester’ for us in that list. And\n",
        "`myData['Name'].index('Manchester')` gives us back a `1`, so *instead*\n",
        "of just writing `myData['Population'][1]` we can replace the `1` with\n",
        "`myData['Name'].index('Manchester')`! Crucially, notice the complete\n",
        "*absence* of a for loop?\n",
        "\n",
        "Does that make sense? If it does then you should be having a kind of an\n",
        "🤯 moment because what we’ve done by taking a column view, rather than a\n",
        "row view, is to make Python’s `index()` command do the work for us.\n",
        "Instead of having to look through each row for a field that matches\n",
        "‘Name’ and then check to see if it’s ‘Manchester’, we’ve pointed Python\n",
        "at the right column immediately and asked it to find the match (which it\n",
        "can do very quickly). Once we have a match then we *also* have the row\n",
        "number to go and do the lookup in the ‘Population’ column because the\n",
        "index *is* the row number!\n",
        "\n",
        "#### 4.1.4 The Easternmost City\n",
        "\n",
        "Where this approach really comes into its own is on problems that\n",
        "involve maths. To figure out the easternmost city in this list we need\n",
        "to find the *maximum* Longitude and then use *that* value to look up the\n",
        "city name. So let’s do the same process of pulling this apart into two\n",
        "steps. Let start with the easier bit:"
      ],
      "id": "c9a2a5d3-4ec5-4ff1-872e-96ed55b735d1"
    },
    {
      "cell_type": "code",
      "execution_count": 46,
      "metadata": {},
      "outputs": [
        {
          "output_type": "display_data",
          "metadata": {},
          "data": {
            "text/plain": [
              "'London'"
            ]
          }
        }
      ],
      "source": [
        "myData['Name'][0]"
      ],
      "id": "09c996b8"
    },
    {
      "cell_type": "markdown",
      "metadata": {},
      "source": [
        "That would give us the name of a city, but we don’t just want the first\n",
        "city in the list, we want the one with the maximum longitude. To achieve\n",
        "*that* we need to somehow replace the `0` with the ***index of the\n",
        "maximum longitude***. Let’s break this down further:\n",
        "\n",
        "1.  We first need to *find* the maximum longitude.\n",
        "2.  We then need to *find* the **index** of that maximum longitude.\n",
        "\n",
        "So Step 1 would be:"
      ],
      "id": "52de1cf9-927e-4058-af91-e970a8b21b24"
    },
    {
      "cell_type": "code",
      "execution_count": 47,
      "metadata": {},
      "outputs": [],
      "source": [
        "max_lon = max(myData['Longitude'])"
      ],
      "id": "b5897740"
    },
    {
      "cell_type": "markdown",
      "metadata": {},
      "source": [
        "Because the `max(...)` helps us to find the maximum longitude in the\n",
        "Longitude list. Now that we have that we can proceed to Step 2:"
      ],
      "id": "a234f129-e9b3-4e5e-9187-a07eb4b497d1"
    },
    {
      "cell_type": "code",
      "execution_count": 48,
      "metadata": {},
      "outputs": [
        {
          "output_type": "display_data",
          "metadata": {},
          "data": {
            "text/plain": [
              "0"
            ]
          }
        }
      ],
      "source": [
        "myData['Longitude'].index(max_lon)"
      ],
      "id": "2255b4cb"
    },
    {
      "cell_type": "markdown",
      "metadata": {},
      "source": [
        "So now we ask Python to find the position of `max_lon` in the list. But\n",
        "rather than doing this in two steps we can combine into one if we write\n",
        "it down to make it easier to read:"
      ],
      "id": "b7989614-dee6-47ce-94a6-fffe8c5cc64a"
    },
    {
      "cell_type": "code",
      "execution_count": 49,
      "metadata": {},
      "outputs": [
        {
          "output_type": "display_data",
          "metadata": {},
          "data": {
            "text/plain": [
              "0"
            ]
          }
        }
      ],
      "source": [
        "myData['Longitude'].index(\n",
        "    max(myData['Longitude'])\n",
        ")"
      ],
      "id": "32f11af5"
    },
    {
      "cell_type": "markdown",
      "metadata": {},
      "source": [
        "There’s the same `.index` which tells us that Python is going to look\n",
        "for something in the list associated with the `Longitude` key. All we’ve\n",
        "done is change what’s *inside* that index function to\n",
        "`max(myData['Longitude'])`. This is telling Python to find the *maximum*\n",
        "value in the `myData['Longitude']` list. So to explain this in three\n",
        "steps, what we’re doing is:\n",
        "\n",
        "-   Finding the maximum value in the Longitude column (we know there\n",
        "    must be one, but we don’t know what it is!),\n",
        "-   Finding the index (position) of that maximum value in the Longitude\n",
        "    column (now that we know what the value is!),\n",
        "-   Using that index to read a value out of the Name column.\n",
        "\n",
        "I *am* a geek, but that’s pretty cool, right? In one line of code we\n",
        "managed to quickly find out where the data we needed was even though it\n",
        "involved three discrete steps. Think about how much work you’d have to\n",
        "do if you were still thinking in *rows*, not *columns*!\n",
        "\n",
        "#### 4.1.5 The Location of Lerwick\n",
        "\n",
        "Lerwick is a small town in [the Shetlands](https://www.shetland.org/),\n",
        "way up to the North of mainland U.K. and somewhere I’ve wanted to go\n",
        "ever since I got back from [Orkney](https://www.orkney.com/)–but then I\n",
        "spent my honeymoon in the far North of\n",
        "[Iceland](https://www.westfjords.is/), so perhaps I just don’t like\n",
        "being around lots of people… 🙃\n",
        "\n",
        "Anyway, this one *might* be a tiny bit easier conceptually than the\n",
        "other problems, except that I’ve deliberately used a slightly different\n",
        "way of showing the output that might be confusing:\n",
        "\n",
        "Print the location of Lerwick:"
      ],
      "id": "75101da7-abab-4c55-ba66-007c2953d271"
    },
    {
      "cell_type": "code",
      "execution_count": 50,
      "metadata": {},
      "outputs": [
        {
          "output_type": "stream",
          "name": "stdout",
          "text": [
            "The town of Lerwick can be found at 1.145ºW, 60.155ºN"
          ]
        }
      ],
      "source": [
        "city = \"Lerwick\"\n",
        "print(f\"The town of {city} can be found at \" + \n",
        "      f\"{abs(myData['Longitude'][myData['Name'].index(city)])}ºW, {myData['Latitude'][myData['Name'].index(city)]}ºN\")"
      ],
      "id": "d4bb9280"
    },
    {
      "cell_type": "markdown",
      "metadata": {},
      "source": [
        "The first thing to do is to pull apart the `print` statement: you can\n",
        "see that this is actually just two ‘f-strings’ joined by a `+`–having\n",
        "that at the end of the line tells Python that it should carry on to the\n",
        "next line. That’s a handy way to make your code a little easier to read.\n",
        "If you’re creating a list and it’s getting a little long, then you can\n",
        "also continue a line using a `,` as well!\n",
        "\n",
        "##### 4.1.5.1 1. The first f-string\n",
        "\n",
        "The first string will help you to make sense of the second: f-strings\n",
        "allow you to ‘interpolate’ a variable into a string directly rather than\n",
        "having to have lots of `str(x) + \" some text \" + str(y)`. You can write\n",
        "`f\"{x} some text {y}\"` and Python will automatically convert the\n",
        "variables `x` and `y` to strings and replace `{x}` with the *value of\n",
        "`x`* and `{y}` with the *value of `y`*.\n",
        "\n",
        "So here `f\"The town of {city} can be found at \"` becomes\n",
        "`f\"The town of Lerwick can be found at \"` because `{city}` is replaced\n",
        "by the value of the variable `city`. This makes for code that is easier\n",
        "for humans to read and so I’d consider that a good thing.\n",
        "\n",
        "##### 4.1.5.2 2. The second f-string\n",
        "\n",
        "This one is hard because there’s just a *lot* of code there. But, again,\n",
        "if we start with what we recognise that it gets just a little bit more\n",
        "manageable… Also, it stands to reason that the only difference between\n",
        "the two outputs is that one asks for the ‘Longitude’ and the other for\n",
        "the ‘Latitude’. So if you can make sense of one you have *automatically*\n",
        "made sense of the other and don’t need to work it all out.\n",
        "\n",
        "Let’s start with a part that you might recognise:"
      ],
      "id": "99ae8d51-911e-47c4-a06f-5e4395905eff"
    },
    {
      "cell_type": "code",
      "execution_count": 51,
      "metadata": {},
      "outputs": [
        {
          "output_type": "display_data",
          "metadata": {},
          "data": {
            "text/plain": [
              "5"
            ]
          }
        }
      ],
      "source": [
        "myData['Name'].index(city)"
      ],
      "id": "530e5243"
    },
    {
      "cell_type": "markdown",
      "metadata": {},
      "source": [
        "You’ve *got* this. This is just asking Python to work out the index of\n",
        "Lerwick (because `city = 'Lerwick'`). So it’s a number. 5 in this case.\n",
        "And we can then think, ’OK so what does this return:"
      ],
      "id": "04ac1ca3-4abb-48ef-8db3-a005e528f60e"
    },
    {
      "cell_type": "code",
      "execution_count": 52,
      "metadata": {},
      "outputs": [
        {
          "output_type": "display_data",
          "metadata": {},
          "data": {
            "text/plain": [
              "-1.145"
            ]
          }
        }
      ],
      "source": [
        "myData['Longitude'][5]"
      ],
      "id": "f1e8f8b9"
    },
    {
      "cell_type": "markdown",
      "metadata": {},
      "source": [
        "And the answer is `-1.145`. That’s the Longitude of Lerwick! There’s\n",
        "just *one* last thing: notice that we’re talking about degrees West\n",
        "here. So the answer isn’t a negative (because negative West degrees\n",
        "would be *East*!), it’s the *absolute* value. And that is the final\n",
        "piece of the puzzle: `abs(...)` gives us the absolute value of a number!"
      ],
      "id": "aa83beb1-6bd2-4828-8611-add5dc098a34"
    },
    {
      "cell_type": "code",
      "execution_count": 54,
      "metadata": {},
      "outputs": [
        {
          "output_type": "stream",
          "name": "stdout",
          "text": [
            "Help on built-in function abs in module builtins:\n",
            "\n",
            "abs(x, /)\n",
            "    Return the absolute value of the argument.\n"
          ]
        }
      ],
      "source": [
        "help(abs)"
      ],
      "id": "e12c935a"
    },
    {
      "cell_type": "markdown",
      "metadata": {},
      "source": [
        "#### 4.1.6 The Average City Size\n",
        "\n",
        "Here we’re going to ‘cheat’ a little bit: rather than writing our own\n",
        "function, we’re going to import a package and use someone *else’s*\n",
        "function. The `numpy` package contains a *lot* of useful functions that\n",
        "we can call on (if you don’t believe me, add “`dir(np)`” on a new line\n",
        "after the `import` statement), and one of them calculates the average of\n",
        "a list or array of data."
      ],
      "id": "a3eaecee-7f39-47d5-9193-f0f37361a440"
    },
    {
      "cell_type": "code",
      "execution_count": 55,
      "metadata": {},
      "outputs": [
        {
          "output_type": "stream",
          "name": "stdout",
          "text": [
            "The mean population is 2435442.5"
          ]
        }
      ],
      "source": [
        "print(f\"The mean population is {np.mean(myData['Population'])}\")"
      ],
      "id": "461dd286"
    },
    {
      "cell_type": "markdown",
      "metadata": {},
      "source": [
        "This is where our new approach really comes into its own: because all of\n",
        "the population data is in one place (a.k.a. a *series* or column), we\n",
        "can just throw the whole list into the `np.mean` function rather than\n",
        "having to use all of those convoluted loops and counters. Simples,\n",
        "right?\n",
        "\n",
        "No, not *simple* at all, but we’ve come up with a way to *make* it\n",
        "simple.\n",
        "\n",
        "#### 4.1.7 Recap!\n",
        "\n",
        "So the *really* clever bit in all of this isn’t switching from a\n",
        "list-of-lists to a dictionary-of-lists, it’s recognising that the\n",
        "dictionary-of-lists is a *better* way to work *with* the data that we’re\n",
        "trying to analyse and that that there are useful functions that we can\n",
        "exploit to do the heavy lifting for us. Simply by changing the way that\n",
        "we stored the data in a ‘data structure’ (i.e. complex arrangement of\n",
        "lists, dictionaries, and variables) we were able to do away with lots of\n",
        "for loops and counters and conditions, and reduce many difficult\n",
        "operations to something that could be done on one line!\n",
        "\n",
        "### 4.2 Brain Teaser\n",
        "\n",
        "> **Difficulty: 🤯.**\n",
        "\n",
        "Why not have a stab at writing the code to print out the *4th most\n",
        "populous* city? This can *still* be done on one line, though you might\n",
        "want to start by breaking the problem down:\n",
        "\n",
        "1.  How do I find the *4th* largest value in a list?\n",
        "2.  How do I find the *index* of the 4th largest value in a list?\n",
        "3.  How do I use that to look up the name associated with that index?\n",
        "\n",
        "You’ve already done #2 and #3 above so you’ve *solved* that problem. If\n",
        "you can solve #1 then the rest should fall into place.\n",
        "\n",
        "> **Tip**\n",
        ">\n",
        "> You don’t want to use `<list>.sort()` because that will sort your data\n",
        "> *in place* and break the link between the indexes across the\n",
        "> ‘columns’; you want to research the function `sorted(<list>)` where\n",
        "> `<list>` is the variable that holds your data and `sorted(...)` just\n",
        "> returns whatever you pass it in a sorted order *without* changing the\n",
        "> original list. You’ll see why this matters if you get the answer…\n",
        "> otherwise, wait a few days for the answers to post.\n",
        "\n",
        "##### 4.2.0.1 Question"
      ],
      "id": "b281c23c-ea16-4f62-9190-92d31f67724f"
    },
    {
      "cell_type": "code",
      "execution_count": null,
      "metadata": {},
      "outputs": [],
      "source": [
        "# Print out the name of the 4th most populous city-region\n",
        "city = ??\n",
        "\n",
        "print(\"The fourth most populous city is: \" + str(city))"
      ],
      "id": "1f6aed64-60e7-4ce6-95d7-11443416533b"
    },
    {
      "cell_type": "markdown",
      "metadata": {},
      "source": [
        "The answer is Edinburgh.\n",
        "\n",
        "### 4.3 Bringing it all together…\n",
        "\n",
        "Conceptually, this is one of the hardest practicals in the entire term\n",
        "because it joins up so many of the seemingly simple ideas that you\n",
        "covered in Code Camp into a very complex ‘stew’ – all our basic\n",
        "ingredients (lists, dictionaries, etc.) have simmered for a bit, been\n",
        "stirred up together, and become something entirely new and more complex.\n",
        "\n",
        "So if this practical doesn’t make sense to you on the *first*\n",
        "runthrough, I’d suggest going back through the second half of the\n",
        "practical *again* in a couple of days’ time – that will give your brain\n",
        "a little time to wrap itself around the basics before you throw the hard\n",
        "stuff at it again. *Don’t* panic if it doesn’t all make sense on the\n",
        "*second* runthrough either – this is like a language, you need to\n",
        "practice! With luck, the second time you went through this code a little\n",
        "bit *more* made sense. If you need to do it a third time you’ll find\n",
        "that even *more* makes sense… and so on."
      ],
      "id": "16e91705-c512-470e-936b-e92bdcd02ae8"
    }
  ],
  "nbformat": 4,
  "nbformat_minor": 5,
  "metadata": {
    "kernelspec": {
      "name": "python3",
      "display_name": "Python 3 (ipykernel)",
      "language": "python",
      "path": "/Users/jreades/anaconda3/envs/sds/share/jupyter/kernels/python3"
    },
    "language_info": {
      "name": "python",
      "codemirror_mode": {
        "name": "ipython",
        "version": "3"
      },
      "file_extension": ".py",
      "mimetype": "text/x-python",
      "nbconvert_exporter": "python",
      "pygments_lexer": "ipython3",
      "version": "3.12.2"
    }
  }
}