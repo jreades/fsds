{
  "cells": [
    {
      "cell_type": "markdown",
      "metadata": {},
      "source": [
        "## Practical 3: Foundations (Part 2)\n",
        "\n",
        "Getting to grips with Dictionaries, LOLs and DOLs\n",
        "\n",
        "In this notebook we are exploring basic (in the sense of fundamental)\n",
        "data structures so that you understand both how to manage more complex\n",
        "types of data and are prepared for what we will encounter when we start\n",
        "using `pandas` to perform data analysis. To achieve that, you will need\n",
        "to be ‘fluent’ in nested lists and dictionaries; we will focus primarily\n",
        "on lists-of-lists and dictionaries-of-lists, but note that file formats\n",
        "like JSON can be understood as\n",
        "dictionaries-of-dictionaries-of-lists-of-… so this is just a *taster* of\n",
        "real-world data structures.\n",
        "\n",
        "> **Tip**\n",
        ">\n",
        "> You should download this notebook and then save it to your own copy of\n",
        "> the repository. Follow the process used *last* week\n",
        "> (i.e. `git add ...`, `git commit -m \"...\"`, `git push`) right away and\n",
        "> then do this again at the end of the class and you’ll have a record of\n",
        "> everything you did.\n",
        "\n",
        "## 1. From Lists to Data (Little Steps)\n",
        "\n",
        "We’re going to start off using lists and dictionaries that *we* define\n",
        "right at the start of the ‘program’, but the *real* value of these data\n",
        "structures comes when we build a list or dictionary *from* data such as\n",
        "a file or a web page… and that’s what we’re going to do below!\n",
        "\n",
        "First, here’s a reminder of some useful methods (*i.e.* functions) that\n",
        "apply to lists which we covered in the\n",
        "[lecture](https://jreades.github.io/fsds/sessions/week2.html#pre-recorded-lectures)\n",
        "and\n",
        "[practical](https://jreades.github.io/fsds/sessions/week2.html#practical)\n",
        "in Week 2:\n",
        "\n",
        "| Method | Action |\n",
        "|--------------------|----------------------------------------------------|\n",
        "| `list.count(x)` | Return the number of times x appears in the list |\n",
        "| `list.insert(i, x)` | Insert value `x` at a given position `i` |\n",
        "| `list.pop([i])` | Remove and return the value at position `i` (`i` is optional) |\n",
        "| `list.remove(x)` | Remove the first element from the list whose value is `x` |\n",
        "| `list.reverse()` | Reverse the elements of the list in place |\n",
        "| `list.sort()` | Sort the items of the list in place |\n",
        "| `list.index(x)` | Find the first occurence of `x` in the list |\n",
        "| `list[x:y]` | Slice the list from index `x` to `y-1` |\n",
        "\n",
        "This should all be revision… because it’s how we finished things up\n",
        "*last week*. But I want to go over it *briefly* again because we’re\n",
        "going to build on it this week.\n",
        "\n",
        "> **Hint**\n",
        ">\n",
        "> As before, `??` will highlight where one or more bit of code are\n",
        "> missing and need to be filled in…\n",
        "\n",
        "### 1.1 List Refresher\n",
        "\n",
        "> **Difficulty: Low.**\n",
        "\n",
        "To complete these tasks, all of the methods that you need are listed\n",
        "above, so this is about testing yourself on your understanding *both* of\n",
        "how to read the help *and* how to index elements in a list.\n",
        "\n",
        "The next line creates a list of (made up) Airbnb property names where\n",
        "each element is a string:"
      ],
      "id": "bb95aeb8-b842-4ceb-9bc5-cfe1627acc6b"
    },
    {
      "cell_type": "code",
      "execution_count": 1,
      "metadata": {},
      "outputs": [],
      "source": [
        "listings = [\"Sunny 1-Bed\", \"Fantastic Dbl\", \"Home-Away-From-Home\", \"Sunny Single\", \"Whole House\", \"Trendy Terrace\"]"
      ],
      "id": "14e941d2"
    },
    {
      "cell_type": "markdown",
      "metadata": {},
      "source": [
        "#### 1.1.1 List Arithmetic\n",
        "\n",
        "Replace the `??` so that it prints <code>Sunny Single</code>.\n",
        "\n",
        "##### 1.1.1.1 Question"
      ],
      "id": "95ddc5a1-b426-46e0-8663-153c07a7943e"
    },
    {
      "cell_type": "code",
      "execution_count": null,
      "metadata": {},
      "outputs": [],
      "source": [
        "print(listings[?? + 1])"
      ],
      "id": "a1548e90-c618-4af6-8b3b-e3eec8d4205f"
    },
    {
      "cell_type": "markdown",
      "metadata": {},
      "source": [
        "#### 1.1.2 Negative List Arithmetic\n",
        "\n",
        "Now use a **negative** index to print <code>Whole House</code>:\n",
        "\n",
        "##### 1.1.2.1 Question"
      ],
      "id": "d65151e1-5739-48dc-acb2-9f6c73c9d284"
    },
    {
      "cell_type": "code",
      "execution_count": null,
      "metadata": {},
      "outputs": [],
      "source": [
        "print(listings[??])"
      ],
      "id": "f2028996-ad8b-45a7-b5de-6286f8267832"
    },
    {
      "cell_type": "markdown",
      "metadata": {},
      "source": [
        "#### 1.1.3 Finding a Position in a List\n",
        "\n",
        "Replace the `??` so that it prints the *index* for <code>Fantastic\n",
        "Dbl</code> in the list.\n",
        "\n",
        "##### 1.1.3.1 Question"
      ],
      "id": "2d95f8f7-35bc-4850-9822-04caf7f43b21"
    },
    {
      "cell_type": "code",
      "execution_count": null,
      "metadata": {},
      "outputs": [],
      "source": [
        "print(\"The position of 'Fantastic Dbl' in the list is: \" + str( ?? ))"
      ],
      "id": "912133fb-f8a2-4fe4-ab9c-026f7fa0b631"
    },
    {
      "cell_type": "markdown",
      "metadata": {},
      "source": [
        "### 1.2 Looking Across Lists\n",
        "\n",
        "> **Connections**\n",
        ">\n",
        "> This section draws on the\n",
        "> [LOLs](https://jreades.github.io/fsds/sessions/week3.html#pre-recorded-lectures)\n",
        "> lecture and you will also find Code Camp’s\n",
        "> [Loops](https://jreades.github.io/code-camp/lessons/Loops.html)\n",
        "> session useful here.\n",
        "\n",
        "> **Difficulty: Medium.**\n",
        "\n",
        "Notice that the list of `prices` is the same length as the list of\n",
        "`listings`, that’s because these are (made-up) prices for each listing."
      ],
      "id": "63e1d9f6-cb49-4a31-8fc5-8be949729e34"
    },
    {
      "cell_type": "code",
      "execution_count": 5,
      "metadata": {},
      "outputs": [],
      "source": [
        "listings = [\"Sunny 1-Bed\", \"Fantastic Dbl\", \"Home-Away-From-Home\", \"Sunny Single\", \"Whole House\", \"Trendy Terrace\"]\n",
        "prices = [37.50, 46.00, 125.00, 45.00, 299.99, 175.00]"
      ],
      "id": "d84d2c06"
    },
    {
      "cell_type": "markdown",
      "metadata": {},
      "source": [
        "#### 1.2.1 Lateral Thinking\n",
        "\n",
        "Given what you know about `listings` and `prices`, how do you print:\n",
        "\n",
        "> “The nightly price for Home-Away-From-Home is £125.0.”\n",
        "\n",
        "But you have to do this *without* doing any of the following:\n",
        "\n",
        "1.  Using a list index directly (*i.e.* `listings[2]` and `prices[2]`)\n",
        "    or\n",
        "2.  Hard-coding the name of the listing?\n",
        "\n",
        "To put it another way, **neither** of these solutions is the answer:\n",
        "\n",
        "``` python\n",
        "print(\"The nightly price for Home\\-Away\\-From\\-Home is £\" + str(prices[2]) + \".\")\n",
        "# ...OR...\n",
        "listing=2\n",
        "print(\"The nightly price for Home\\-Away\\-From\\-Home is £\" + str(prices[listing[2]]) + \".\")\n",
        "```\n",
        "\n",
        "> **Tip**\n",
        ">\n",
        "> You will need to combine some of the ideas above and also think about\n",
        "> the fact that the list index is that we need is the same in both\n",
        "> lists… Also, remember that you’ll need to wrap a `str(...)` around\n",
        "> your temperature to make it into a string.\n",
        "\n",
        "##### 1.2.1.1 Question"
      ],
      "id": "e78aee02-635d-4221-85bf-79bedd8e8dfb"
    },
    {
      "cell_type": "code",
      "execution_count": null,
      "metadata": {},
      "outputs": [],
      "source": [
        "listing=\"Home-Away-From-Home\" # Use this to get the solution...\n",
        "\n",
        "# This way is perfectly fine\n",
        "print(\"The nightly price of \" + ?? + \" is \" + str(??))\n",
        "\n",
        "# This way is more Python 3 and a bit easier to read\n",
        "print(f\"The nightly price of {??} is {??}\")"
      ],
      "id": "7846bcd6-06b6-45e5-9a1b-59ca1e1c3497"
    },
    {
      "cell_type": "markdown",
      "metadata": {},
      "source": [
        "#### 1.2.2 Double-Checking Your Solution"
      ],
      "id": "5494033a-e68d-4e85-9b65-1ba12ae2ae89"
    },
    {
      "cell_type": "code",
      "execution_count": 8,
      "metadata": {},
      "outputs": [],
      "source": [
        "listing = 'Sunny Single'"
      ],
      "id": "352f6419"
    },
    {
      "cell_type": "markdown",
      "metadata": {},
      "source": [
        "You’ll know that you got the ‘right’ answer to the question above if you\n",
        "can copy+paste your code and change only **one** thing in order to print\n",
        "out: “The nightly price of Sunny Single is £45.0”\n",
        "\n",
        "##### 1.2.2.1 Question"
      ],
      "id": "cbf915c7-7c3d-4f57-8a00-8c66f3c12929"
    },
    {
      "cell_type": "code",
      "execution_count": null,
      "metadata": {},
      "outputs": [],
      "source": [
        "listing = 'Sunny Single'\n",
        "print(??)"
      ],
      "id": "12036f9a-f015-4f34-84f1-dfedb4ed0773"
    },
    {
      "cell_type": "markdown",
      "metadata": {},
      "source": [
        "#### 1.2.3 Loops\n",
        "\n",
        "Now use a `for` loop over the cities to print out the average\n",
        "temperature in each city:\n",
        "\n",
        "> **Formatting Numbers**\n",
        ">\n",
        "> We often want to format numbers in a particular way to make the more\n",
        "> readable. Commonly, in English we use commas for thousands separators\n",
        "> and a full-stop for the decimal. Other countries follow other\n",
        "> standards, but by default Python goes the English way. So:\n",
        ">\n",
        "> ``` python\n",
        "> print(f\"{1234567.25:.0f}\")\n",
        "> print(f\"{1234567.25:.1f}\")\n",
        "> print(f\"{1234567.25:.2f}\")\n",
        "> print(f\"{1234567:.2f}\")\n",
        "> print(f\"{1234567:,.2f}\")\n",
        "> ```\n",
        ">\n",
        ">     1234567\n",
        ">     1234567.2\n",
        ">     1234567.25\n",
        ">     1234567.00\n",
        ">     1,234,567.00\n",
        "\n",
        "That should then help you with the output of the following block of\n",
        "code!\n",
        "\n",
        "##### 1.2.3.1 Question"
      ],
      "id": "f4a25350-e785-4981-9430-8ffd6ad1f2a4"
    },
    {
      "cell_type": "code",
      "execution_count": null,
      "metadata": {},
      "outputs": [],
      "source": [
        "for l in listings:\n",
        "    ??"
      ],
      "id": "9c2895d2-daae-44ba-aaf3-139d0216650d"
    },
    {
      "cell_type": "markdown",
      "metadata": {},
      "source": [
        "The output should be:"
      ],
      "id": "2259d013-aba6-4dff-ae66-7bd183e47c44"
    },
    {
      "cell_type": "code",
      "execution_count": null,
      "metadata": {},
      "outputs": [],
      "source": [
        "The nightly price of Sunny 1-Bed is £37.50\n",
        "The nightly price of Fantastic Dbl is £46.00\n",
        "The nightly price of Home-Away-From-Home is £125.00\n",
        "The nightly price of Sunny Single is £45.00\n",
        "The nightly price of Whole House is £299.99\n",
        "The nightly price of Trendy Terrace is £175.00"
      ],
      "id": "be437523-049f-49d3-af68-e59722b9fd9c"
    },
    {
      "cell_type": "markdown",
      "metadata": {},
      "source": [
        "## 2. Dictionaries\n",
        "\n",
        "> **Connections**\n",
        ">\n",
        "> This section draws on the\n",
        "> [Dictionaries](https://jreades.github.io/fsds/sessions/week3.html#pre-recorded-lectures)\n",
        "> lecture and Code Camp\n",
        "> [Dictionaries](https://jreades.github.io/code-camp/lessons/Dicts.html)\n",
        "> session.\n",
        "\n",
        "> **Difficulty: Low.**\n",
        "\n",
        "Remember that dictionaries (a.k.a. dicts) are like lists in that they\n",
        "are [data\n",
        "structures](https://docs.python.org/2/tutorial/datastructures.html)\n",
        "containing multiple elements. A key difference between\n",
        "[dictionaries](https://docs.python.org/2/tutorial/datastructures.html#dictionaries)\n",
        "and [lists](https://docs.python.org/2/tutorial/introduction.html#lists)\n",
        "is that while elements in lists are ordered, dicts (in most programming\n",
        "languages, though not Python) are unordered. This means that whereas for\n",
        "lists we use integers as indexes to access elements, in dictonaries we\n",
        "use ‘keys’ (which can multiple different types; strings, integers,\n",
        "etc.). Consequently, the important term here is key-value pairs.\n",
        "\n",
        "### 2.1 Creating an Atlas\n",
        "\n",
        "The code below creates an atlas using a dictionary. The dictionary `key`\n",
        "is a listing, and the `value` is the latitude, longitude, and price."
      ],
      "id": "570f9ede-43a5-4ed8-a95a-61eefbbefc98"
    },
    {
      "cell_type": "code",
      "execution_count": 13,
      "metadata": {},
      "outputs": [],
      "source": [
        "listings = {\n",
        "    'Sunny 1-Bed': [37.77, -122.43, '£37.50'],\n",
        "    'Fantastic Dbl': [51.51, -0.08, '£46.00'],\n",
        "    'Home-Away-From-Home': [48.86, 2.29, '£125.00'],\n",
        "    'Sunny Single': [39.92, 116.40 ,'£45.00'],\n",
        "}"
      ],
      "id": "c1980414"
    },
    {
      "cell_type": "markdown",
      "metadata": {},
      "source": [
        "#### 2.1.1 Adding to a Dict\n",
        "\n",
        "Add a record to the dictionary for “Whole House” following the same\n",
        "format.\n",
        "\n",
        "##### 2.1.1.1 Question"
      ],
      "id": "3e952642-3b1e-4acf-8610-551345034122"
    },
    {
      "cell_type": "code",
      "execution_count": null,
      "metadata": {},
      "outputs": [],
      "source": [
        "??"
      ],
      "id": "7831e884-b1ba-4896-89c0-2476adc50157"
    },
    {
      "cell_type": "markdown",
      "metadata": {},
      "source": [
        "#### 2.1.2 Accessing a Dict\n",
        "\n",
        "In *one* line of code, print out the price for ‘Whole House’:\n",
        "\n",
        "##### 2.1.2.1 Question"
      ],
      "id": "4ae09baa-759a-4a8b-95ea-14835de906b8"
    },
    {
      "cell_type": "code",
      "execution_count": null,
      "metadata": {},
      "outputs": [],
      "source": [
        "??"
      ],
      "id": "c0a46a77-b533-4452-b94f-9c93701ae522"
    },
    {
      "cell_type": "markdown",
      "metadata": {},
      "source": [
        "### 2.2 Dealing With Errors\n",
        "\n",
        "Check you understand the difference between the following two blocks of\n",
        "code by running them."
      ],
      "id": "afca172b-a09d-4bbc-b8d2-559715bee412"
    },
    {
      "cell_type": "code",
      "execution_count": 16,
      "metadata": {},
      "outputs": [
        {
          "output_type": "stream",
          "name": "stdout",
          "text": [
            "Error found\n",
            "'Trendy Terrace'"
          ]
        }
      ],
      "source": [
        "try:\n",
        "    print(listings['Trendy Terrace'])\n",
        "except KeyError as e:\n",
        "    print(\"Error found\")\n",
        "    print(e)"
      ],
      "id": "5b09ee55"
    },
    {
      "cell_type": "code",
      "execution_count": 17,
      "metadata": {},
      "outputs": [
        {
          "output_type": "stream",
          "name": "stdout",
          "text": [
            "Not Found"
          ]
        }
      ],
      "source": [
        "try:\n",
        "    print(listings.get('Trendy Terrace','Not Found'))\n",
        "except KeyError as e:\n",
        "    print(\"Error found\")\n",
        "    print(e)"
      ],
      "id": "9d6d7faf"
    },
    {
      "cell_type": "markdown",
      "metadata": {},
      "source": [
        "Notice that trying to access a non-existent element of a dict triggers a\n",
        "`KeyError`, while asking the dict to `get` the *same element* does not,\n",
        "it simply returns `None`. Can you think why, depending on the\n",
        "situtation, *either* of these might be the ‘correct’ answer?\n",
        "\n",
        "### 2.3 Thinking Data\n",
        "\n",
        "This section makes use of both the\n",
        "[Dictionaries](https://jreades.github.io/fsds//sessions/week3.html#pre-recorded-lectures)\n",
        "lecture and the [DOLs to\n",
        "Data](https://jreades.github.io/fsds/sessions/week3.html#pre-recorded-lectures)\n",
        "lecture.\n",
        "\n",
        "> **Tip**\n",
        ">\n",
        "> In this section you’ll need to look up (i.e. Google) and make use of a\n",
        "> few new functions that apply to dictionaries: `<dictionary>.items()`,\n",
        "> `<dictionary>.keys()`. *Remember*: if in doubt, add `print(...)`\n",
        "> statements to see what is going on!\n",
        "\n",
        "#### 2.3.1 Iterating over a Dict\n",
        "\n",
        "Adapting the code below, print out the city name and airport code for\n",
        "every city in our Atlas.\n",
        "\n",
        "##### 2.3.1.1 Question"
      ],
      "id": "11e17829-ea3a-433b-87cf-823b5d7e9ca5"
    },
    {
      "cell_type": "code",
      "execution_count": null,
      "metadata": {},
      "outputs": [],
      "source": [
        "for l in listings.keys():\n",
        "    print(??)"
      ],
      "id": "2ff4c886-5188-4b90-a0a9-7d1de783690c"
    },
    {
      "cell_type": "markdown",
      "metadata": {},
      "source": [
        "The output should look something like this:"
      ],
      "id": "a6bb57c0-af5f-4d60-aa25-0293a5d701a4"
    },
    {
      "cell_type": "code",
      "execution_count": null,
      "metadata": {},
      "outputs": [],
      "source": [
        "Sunny 1-Bed -> £37.50\n",
        "Fantastic Dbl -> £46.00\n",
        "Home-Away-From-Home -> £125.00\n",
        "Sunny Single -> £45.00\n",
        "Whole House -> £299.99"
      ],
      "id": "7a714b21-b23a-4b0e-b449-fececa10e254"
    },
    {
      "cell_type": "markdown",
      "metadata": {},
      "source": [
        "#### 2.3.2 More Complex Dicts\n",
        "\n",
        "How would your code need to change to produce the *same output* from\n",
        "this data structure:"
      ],
      "id": "56d025ae-899e-43fe-9adb-fca2f1d4ccdc"
    },
    {
      "cell_type": "code",
      "execution_count": 20,
      "metadata": {},
      "outputs": [],
      "source": [
        "listings = {\n",
        "    'Sunny 1-Bed': {\n",
        "        'lat': 37.77, \n",
        "        'lon': -122.43, \n",
        "        'price': '£37.50'},\n",
        "    'Fantastic Dbl': {\n",
        "        'lat': 51.51, \n",
        "        'lon': -0.08, \n",
        "        'price': '£46.00'},\n",
        "    'Home-Away-From-Home': {\n",
        "        'lat': 48.86, \n",
        "        'lon': 2.29, \n",
        "        'price': '£125.00'},\n",
        "    'Sunny Single': {\n",
        "        'lat': 39.92, \n",
        "        'lon': 116.40, \n",
        "        'price': '£45.00'},\n",
        "}"
      ],
      "id": "c08a4345"
    },
    {
      "cell_type": "markdown",
      "metadata": {},
      "source": [
        "##### 2.3.2.1 Question\n",
        "\n",
        "So to print out the below for each listing it’s…"
      ],
      "id": "8f41431c-e0ad-4e28-a98b-945fba3cbd84"
    },
    {
      "cell_type": "code",
      "execution_count": null,
      "metadata": {},
      "outputs": [
        {
          "output_type": "stream",
          "name": "stdout",
          "text": [
            "Sunny 1-Bed -> £37.50\n",
            "Fantastic Dbl -> £46.00\n",
            "Home-Away-From-Home -> £125.00\n",
            "Sunny Single -> £45.00"
          ]
        }
      ],
      "source": [
        "for l in listings.keys():\n",
        "    print(??)"
      ],
      "id": "f69c91ab-82c3-4c76-b371-479e964f9cef"
    },
    {
      "cell_type": "markdown",
      "metadata": {},
      "source": [
        "#### 2.3.3 More Dictionary Action!\n",
        "\n",
        "And how would it need to change to print out the name and latitude of\n",
        "every listing?\n",
        "\n",
        "##### 2.3.3.1 Question"
      ],
      "id": "83e60585-c9b2-4a96-9134-f5cedf38a06c"
    },
    {
      "cell_type": "code",
      "execution_count": null,
      "metadata": {},
      "outputs": [],
      "source": [
        "for l in listings.keys():\n",
        "    print(??)"
      ],
      "id": "18bde9f9-f134-48c9-a6c2-c848111b81f4"
    },
    {
      "cell_type": "markdown",
      "metadata": {},
      "source": [
        "The output should be something like this:"
      ],
      "id": "80ffb1f3-05df-4a33-9a2d-8d820c80c055"
    },
    {
      "cell_type": "code",
      "execution_count": null,
      "metadata": {},
      "outputs": [],
      "source": [
        "Sunny 1-Bed is at latitude 37.77\n",
        "Fantastic Dbl is at latitude 51.51\n",
        "Home-Away-From-Home is at latitude 48.86\n",
        "Sunny Single is at latitude 39.92"
      ],
      "id": "c437a2f8-cb9e-41e3-8b70-dde37a6fa5e7"
    },
    {
      "cell_type": "markdown",
      "metadata": {},
      "source": [
        "#### 2.3.4 And Another Way to Use a Dict\n",
        "\n",
        "Now produce the *same output* using this new data structure:"
      ],
      "id": "3e9cd629-b90c-4c20-82cb-b285e364555d"
    },
    {
      "cell_type": "code",
      "execution_count": 25,
      "metadata": {},
      "outputs": [],
      "source": [
        "listings_alt = [\n",
        "    {'name':     'Sunny 1-Bed',\n",
        "     'position': [37.77, -122.43],\n",
        "     'price':    '£37.50'},\n",
        "    {'name':     'Fantastic Dbl',\n",
        "     'position': [51.51, -0.08],\n",
        "     'price':    '£46.00'},\n",
        "    {'name':     'Home-Away-From-Home',\n",
        "     'position': [48.86, 2.29],\n",
        "     'price':    '£125.00'},\n",
        "    {'name':     'Sunny Single',\n",
        "     'position': [39.92, 116.40],\n",
        "     'price':    '£45.00'},\n",
        "    {'name':     'Whole House', \n",
        "     'position': [13.08, 80.28],\n",
        "     'price':    '£299.99'}\n",
        "]"
      ],
      "id": "8a630afa"
    },
    {
      "cell_type": "markdown",
      "metadata": {},
      "source": [
        "##### 2.3.4.1 Question"
      ],
      "id": "006cbdde-ac25-45af-819d-a2d8ba3858c3"
    },
    {
      "cell_type": "code",
      "execution_count": null,
      "metadata": {},
      "outputs": [],
      "source": [
        "for l in listings_alt:\n",
        "    print(??)"
      ],
      "id": "0142530c-f6f1-4e98-822e-8ab97e739c98"
    },
    {
      "cell_type": "markdown",
      "metadata": {},
      "source": [
        "The output should be something like this:"
      ],
      "id": "42af8d76-978f-4275-ba91-8f2aff2152a6"
    },
    {
      "cell_type": "code",
      "execution_count": null,
      "metadata": {},
      "outputs": [],
      "source": [
        "Sunny 1-Bed is at latitude 37.77\n",
        "Fantastic Dbl is at latitude 51.51\n",
        "Home-Away-From-Home is at latitude 48.86\n",
        "Sunny Single is at latitude 39.92\n",
        "Whole House is at latitude 13.08"
      ],
      "id": "6c7d6bb4-e1d4-460d-9692-7a9f960c77d0"
    },
    {
      "cell_type": "markdown",
      "metadata": {},
      "source": [
        "#### 2.3.5 Think Data!\n",
        "\n",
        "What are some of the main differences that you can think of between\n",
        "`cities` and `cities_alt` *as* data? There is no right answer.\n",
        "\n",
        "> **Tip**\n",
        ">\n",
        "> I just want you to think about these *as data*! If you were trying to\n",
        "> use `cities` and `cities_alt` as data what differences would you find\n",
        "> when accessing one or more ‘records’?\n",
        "\n",
        "-   Point 1 here.\n",
        "-   Point 2 here.\n",
        "-   Point 3 here.\n",
        "\n",
        "### 2.4 Add to Git/GitHub\n",
        "\n",
        "Now follow the same process that you used last week to ensure that your\n",
        "edited notebook is updated in Git and then synchronised with GitHub."
      ],
      "id": "48ca58a3-252a-44b6-b488-2572e6823efc"
    }
  ],
  "nbformat": 4,
  "nbformat_minor": 5,
  "metadata": {
    "kernelspec": {
      "name": "python3",
      "display_name": "Python 3 (ipykernel)",
      "language": "python",
      "path": "/Users/jreades/anaconda3/envs/sds/share/jupyter/kernels/python3"
    },
    "language_info": {
      "name": "python",
      "codemirror_mode": {
        "name": "ipython",
        "version": "3"
      },
      "file_extension": ".py",
      "mimetype": "text/x-python",
      "nbconvert_exporter": "python",
      "pygments_lexer": "ipython3",
      "version": "3.12.8"
    }
  }
}