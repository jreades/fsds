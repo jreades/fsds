{
  "cells": [
    {
      "cell_type": "markdown",
      "metadata": {},
      "source": [
        "## Practical 3: Foundations (Part 2)\n",
        "\n",
        "Getting to grips with Dictionaries, LOLs and DOLs\n",
        "\n",
        "In this notebook we are exploring basic (in the sense of fundamental)\n",
        "data structures so that you understand both how to manage more complex\n",
        "types of data and are prepared for what we will encounter when we start\n",
        "using `pandas` to perform data analysis. To achieve that, you will need\n",
        "to be ‘fluent’ in “nested” lists and dictionaries; we will focus\n",
        "primarily on lists-of-lists and dictionaries-of-lists, but note that\n",
        "file formats like JSON can be understood as\n",
        "dictionaries-of-dictionaries-of-lists-of-… so this is just a *taster* of\n",
        "real-world data structures.\n",
        "\n",
        "> **Tip**\n",
        ">\n",
        "> You should download this notebook from GitHub and then save it to your\n",
        "> own copy of the repository. I’d suggest adding it (`git add ...`)\n",
        "> right away and then committing (e.g. `git commit -m \"Just added.\"`).\n",
        "> Do this again at the end of the class (`git add ...`,\n",
        "> `git commit -m ...`) and you’ll have a record of everything you did.\n",
        "> Then you can `git push` everything to GitHub.\n",
        "\n",
        "> **Group Sign-Up**\n",
        ">\n",
        "> While there’s no benefit to signing up early, if you’ve already formed\n",
        "> a group then you can now [Sign\n",
        "> Up](https://forms.office.com/e/2ij0sWHnpR)!\n",
        "\n",
        "## 1. From Lists to Data (Little Steps)\n",
        "\n",
        "We’re going to start off using lists and dictionaries that *we* define\n",
        "right at the start of the ‘program’, but the *real* value of these data\n",
        "structures comes when we build a list or dictionary *from* data such as\n",
        "a file or a web page… and that’s what we’re going to do below!\n",
        "\n",
        "First, here’s a reminder of some useful methods (*i.e.* functions) that\n",
        "apply to lists which we covered in the\n",
        "[lecture](https://jreades.github.io/fsds/sessions/week2.html#lectures)\n",
        "and\n",
        "[practical](https://jreades.github.io/fsds/sessions/week2.html#practical)\n",
        "in Week 2:\n",
        "\n",
        "| Method | Action |\n",
        "|--------------------|----------------------------------------------------|\n",
        "| `list.count(x)` | Return the number of times x appears in the list |\n",
        "| `list.insert(i, x)` | Insert value `x` at a given position `i` |\n",
        "| `list.pop([i])` | Remove and return the value at position `i` (`i` is optional) |\n",
        "| `list.remove(x)` | Remove the first element from the list whose value is `x` |\n",
        "| `list.reverse()` | Reverse the elements of the list in place |\n",
        "| `list.sort()` | Sort the items of the list in place |\n",
        "| `list.index(x)` | Find the first occurence of `x` in the list |\n",
        "| `list[x:y]` | Slice the list from index `x` to `y-1` |\n",
        "\n",
        "This should all be revision… because it’s how we finished things up\n",
        "*last week*. But I want to go over it *briefly* again because we’re\n",
        "going to build on it this week.\n",
        "\n",
        "> **Hint**\n",
        ">\n",
        "> As before, `??` will highlight where one or more bit of code are\n",
        "> missing and need to be filled in…\n",
        "\n",
        "### 1.1 List Refresher\n",
        "\n",
        "> **Difficulty: Low.**\n",
        "\n",
        "To complete these tasks, all of the methods that you need are listed\n",
        "above, so this is about testing yourself on your understanding *both* of\n",
        "how to read the help *and* how to index elements in a list.\n",
        "\n",
        "The next line creates a list of city names (each element is a string):"
      ],
      "id": "90c72357-b3f9-4594-b8a0-9c41954f6d08"
    },
    {
      "cell_type": "code",
      "execution_count": 1,
      "metadata": {},
      "outputs": [],
      "source": [
        "cities = [\"Bristol\", \"London\", \"Manchester\", \"Edinburgh\", \"Belfast\", \"York\"]"
      ],
      "id": "5e269317"
    },
    {
      "cell_type": "markdown",
      "metadata": {},
      "source": [
        "#### 1.1.1 List Arithmetic\n",
        "\n",
        "Replace the `??` so that it prints `Belfast`.\n",
        "\n",
        "##### 1.1.1.1 Question"
      ],
      "id": "5a07cea8-69e6-4fba-a23c-e794db37032e"
    },
    {
      "cell_type": "code",
      "execution_count": null,
      "metadata": {},
      "outputs": [],
      "source": [
        "print(cities[?? + 2])"
      ],
      "id": "0acfa5b9-a916-44be-b088-c33a6413020c"
    },
    {
      "cell_type": "markdown",
      "metadata": {},
      "source": [
        "#### 1.1.2 Negative List Arithmetic\n",
        "\n",
        "Use a **negative** index to print `Belfast`:\n",
        "\n",
        "##### 1.1.2.1 Question"
      ],
      "id": "55ed1ad2-7b2e-479f-95bc-96f5af583d5b"
    },
    {
      "cell_type": "code",
      "execution_count": null,
      "metadata": {},
      "outputs": [],
      "source": [
        "print(cities[??])"
      ],
      "id": "b209fbd6-947e-4ba9-ada5-a6286a4b30bf"
    },
    {
      "cell_type": "markdown",
      "metadata": {},
      "source": [
        "#### 1.1.3 Finding a Position in a List\n",
        "\n",
        "Replace the `??` so that it prints the *index* for Manchester in the\n",
        "list.\n",
        "\n",
        "##### 1.1.3.1 Question"
      ],
      "id": "28033f71-d3ba-484b-9511-f0ca6d902a6f"
    },
    {
      "cell_type": "code",
      "execution_count": null,
      "metadata": {},
      "outputs": [],
      "source": [
        "print(\"The position of Manchester in the list is: \" + str( ?? ))"
      ],
      "id": "3dee0c2c-b593-44a1-8daa-b33cf273a73c"
    },
    {
      "cell_type": "markdown",
      "metadata": {},
      "source": [
        "### 1.2 Looking Across Lists\n",
        "\n",
        "> **Connections**\n",
        ">\n",
        "> This section draws on the\n",
        "> [LOLs](https://jreades.github.io/fsds/sessions/week3.html#lectures)\n",
        "> lecture and you will also find Code Camp’s\n",
        "> [Loops](https://jreades.github.io/code-camp/lessons/Loops.html)\n",
        "> session useful here.\n",
        "\n",
        "> **Difficulty: Medium.**\n",
        "\n",
        "Notice that the list of `temperatures` below is the same length as the\n",
        "list of `cities`, that’s because these are (roughly) the average\n",
        "temperatures for each city."
      ],
      "id": "107ed3f3-4cc9-4cea-9a5c-01cd5b888c80"
    },
    {
      "cell_type": "code",
      "execution_count": 5,
      "metadata": {},
      "outputs": [],
      "source": [
        "cities = [\"Bristol\", \"London\", \"Manchester\", \"Edinburgh\", \"Belfast\", \"York\"]\n",
        "temperatures = [15.6, 16.5, 13.4, 14.0, 15.2, 14.8]"
      ],
      "id": "6a56a6a2"
    },
    {
      "cell_type": "markdown",
      "metadata": {},
      "source": [
        "#### 1.2.1 Lateral Thinking\n",
        "\n",
        "Given what you know about `cities` and `temperatures`, how do you print:\n",
        "\n",
        "> “The average temperature in Manchester is 13.4 degrees”\n",
        "\n",
        "But you have to do this *without* doing any of the following:\n",
        "\n",
        "1.  Using a list index directly (*i.e.* `cities[2]` and\n",
        "    `temperatures[2]`) or\n",
        "2.  Hard-coding the name of the city?\n",
        "\n",
        "To put it another way, **neither** of these solutions is the answer:\n",
        "\n",
        "``` python\n",
        "print(\"The average temperature in Manchester is \" + str(temperatures[2]) + \" degrees.\")\n",
        "# ...OR...\n",
        "city=2\n",
        "print(\"The average temperature in \" + cities[city] + \" is \" + str(temperatures[city]) + \" degrees.\")\n",
        "```\n",
        "\n",
        "> **Tip**\n",
        ">\n",
        "> You will need to combine some of the ideas above and also think about\n",
        "> the fact that the list index is that we need is the same in both\n",
        "> lists… Also, remember that you’ll need to wrap a `str(...)` around\n",
        "> your temperature to make it into a string.\n",
        "\n",
        "##### 1.2.1.1 Question"
      ],
      "id": "a3bf2a6c-66e8-4fff-880e-3369b170713f"
    },
    {
      "cell_type": "code",
      "execution_count": null,
      "metadata": {},
      "outputs": [],
      "source": [
        "city=\"Manchester\" # Use this to get the solution...\n",
        "\n",
        "# This way is perfectly fine\n",
        "print(\"The average temperature in \" + ?? + \" is \" + str(??))\n",
        "\n",
        "# This way is more Python 3 and a bit easier to read\n",
        "print(f\"The average temperature in {??} is {??}\")"
      ],
      "id": "61092c3b-1fd4-4b28-929a-3af498b7d01c"
    },
    {
      "cell_type": "markdown",
      "metadata": {},
      "source": [
        "#### 1.2.2 Double-Checking Your Solution\n",
        "\n",
        "You’ll know that you got the ‘right’ answer to the question above if you\n",
        "can copy+paste your code and change only **one** thing in order to print\n",
        "out: “The average temperature in Belfast is 15.2 degrees”\n",
        "\n",
        "##### 1.2.2.1 Question"
      ],
      "id": "217f5749-8984-4422-8361-1464cd22ad95"
    },
    {
      "cell_type": "code",
      "execution_count": null,
      "metadata": {},
      "outputs": [],
      "source": [
        "city=\"Belfast\"\n",
        "print(??)"
      ],
      "id": "ec50541b-51fc-4e90-bc80-40a290389135"
    },
    {
      "cell_type": "markdown",
      "metadata": {},
      "source": [
        "#### 1.2.3 Loops\n",
        "\n",
        "Now use a `for` loop over the cities to print out the average\n",
        "temperature in each city:\n",
        "\n",
        "##### 1.2.3.1 Question"
      ],
      "id": "8b4334d0-ac57-4849-a533-bb70d125ac49"
    },
    {
      "cell_type": "code",
      "execution_count": null,
      "metadata": {},
      "outputs": [],
      "source": [
        "for c in cities:\n",
        "    ??"
      ],
      "id": "fc684530-a350-4489-8e8a-8cdcb43df460"
    },
    {
      "cell_type": "markdown",
      "metadata": {},
      "source": [
        "The output should be:"
      ],
      "id": "ce714739-787e-423c-8d08-f32ffe332456"
    },
    {
      "cell_type": "code",
      "execution_count": null,
      "metadata": {},
      "outputs": [],
      "source": [
        "The average temperature in Bristol is 15.6\n",
        "The average temperature in London is 16.5\n",
        "The average temperature in Manchester is 13.4\n",
        "The average temperature in Edinburgh is 14.0\n",
        "The average temperature in Belfast is 15.2\n",
        "The average temperature in York is 14.8"
      ],
      "id": "3caab66f-1b39-4f32-aca8-56764f4065ed"
    },
    {
      "cell_type": "markdown",
      "metadata": {},
      "source": [
        "## 2. Dictionaries\n",
        "\n",
        "> **Connections**\n",
        ">\n",
        "> This section draws on the\n",
        "> [Dictionaries](https://jreades.github.io/fsds/sessions/week3.html#lectures)\n",
        "> lecture and Code Camp\n",
        "> [Dictonaries](https://jreades.github.io/code-camp/lessons/Dicts.html)\n",
        "> session.\n",
        "\n",
        "> **Difficulty: Low.**\n",
        "\n",
        "Remember that dictionaries (a.k.a. dicts) are like lists in that they\n",
        "are [data\n",
        "structures](https://docs.python.org/2/tutorial/datastructures.html)\n",
        "containing multiple elements. A key difference between\n",
        "[dictionaries](https://docs.python.org/2/tutorial/datastructures.html#dictionaries)\n",
        "and [lists](https://docs.python.org/2/tutorial/introduction.html#lists)\n",
        "is that while elements in lists are ordered, dicts (in most programming\n",
        "languages, though not Python) are unordered. This means that whereas for\n",
        "lists we use integers as indexes to access elements, in dictonaries we\n",
        "use ‘keys’ (which can multiple different types; strings, integers,\n",
        "etc.). Consequently, an important concept for dicts is that of key-value\n",
        "pairs.\n",
        "\n",
        "### 2.1 Creating an Atlas\n",
        "\n",
        "The code below creates an Atlas using a dictionary. The dictionary `key`\n",
        "is a city name, and the `value` is the latitude, longitude, and main\n",
        "airport code."
      ],
      "id": "2924b923-8a4f-4a35-a26f-b9c726c41c7d"
    },
    {
      "cell_type": "code",
      "execution_count": 11,
      "metadata": {},
      "outputs": [],
      "source": [
        "cities = {\n",
        "    'San Francisco': [37.77, -122.43, 'SFO'],\n",
        "    'London': [51.51, -0.08, 'LDN'],\n",
        "    'Paris': [48.86,2.29, 'PAR'],\n",
        "    'Beijing': [39.92,116.40 ,'BEI'],\n",
        "}"
      ],
      "id": "c6fdcb5d"
    },
    {
      "cell_type": "markdown",
      "metadata": {},
      "source": [
        "#### 2.1.1 Adding to a Dict\n",
        "\n",
        "Add a record to the dictionary for Chennai ([data\n",
        "here](https://en.wikipedia.org/wiki/Chennai))\n",
        "\n",
        "##### 2.1.1.1 Question"
      ],
      "id": "6a0a2694-9f1b-4b28-ba79-caca02b7af46"
    },
    {
      "cell_type": "code",
      "execution_count": null,
      "metadata": {},
      "outputs": [],
      "source": [
        "??"
      ],
      "id": "b26a0fe1-5daf-4b09-b875-b9a845511e06"
    },
    {
      "cell_type": "markdown",
      "metadata": {},
      "source": [
        "#### 2.1.2 Accessing a Dict\n",
        "\n",
        "In *one* line of code, print out the airport code for Chennai (`MAA`):\n",
        "\n",
        "##### 2.1.2.1 Question"
      ],
      "id": "d1092fc4-8c86-4f5c-8168-5604b53cd35e"
    },
    {
      "cell_type": "code",
      "execution_count": null,
      "metadata": {},
      "outputs": [],
      "source": [
        "??"
      ],
      "id": "5d84ca46-9da6-4cfb-86b1-331358e6245e"
    },
    {
      "cell_type": "markdown",
      "metadata": {},
      "source": [
        "### 2.2 Dealing With Errors\n",
        "\n",
        "Check you understand the difference between the following two blocks of\n",
        "code by running them."
      ],
      "id": "c3ad1c46-186f-4052-88b3-9db096b3da47"
    },
    {
      "cell_type": "code",
      "execution_count": 14,
      "metadata": {},
      "outputs": [
        {
          "output_type": "stream",
          "name": "stdout",
          "text": [
            "Error found\n",
            "'Berlin'"
          ]
        }
      ],
      "source": [
        "try:\n",
        "    print(cities['Berlin'])\n",
        "except KeyError as e:\n",
        "    print(\"Error found\")\n",
        "    print(e)"
      ],
      "id": "f4d244f5"
    },
    {
      "cell_type": "code",
      "execution_count": 15,
      "metadata": {},
      "outputs": [
        {
          "output_type": "stream",
          "name": "stdout",
          "text": [
            "Not Found"
          ]
        }
      ],
      "source": [
        "try:\n",
        "    print(cities.get('Berlin','Not Found'))\n",
        "except KeyError as e:\n",
        "    print(\"Error found\")\n",
        "    print(e)"
      ],
      "id": "662cdc48"
    },
    {
      "cell_type": "markdown",
      "metadata": {},
      "source": [
        "Notice that trying to access a non-existent element of a dict triggers a\n",
        "`KeyError`, while asking the dict to `get` the *same element* does not,\n",
        "it simply returns `None`. Can you think why, depending on the\n",
        "situtation, *either* of these might be the ‘correct’ answer?\n",
        "\n",
        "### 2.3 Thinking Data\n",
        "\n",
        "This section makes use of both the\n",
        "[Dictionaries](https://jreades.github.io/fsds/sessions/week3.html#lectures)\n",
        "lecture and the [DOLs to\n",
        "Data](https://jreades.github.io/fsds/sessions/week3.html#lectures)\n",
        "lecture.\n",
        "\n",
        "> **Tip**\n",
        ">\n",
        "> In this section you’ll need to look up (i.e. Google) and make use of a\n",
        "> few new functions that apply to dictionaries: `<dictionary>.items()`,\n",
        "> `<dictionary>.keys()`. *Remember*: if in doubt, add `print(...)`\n",
        "> statements to see what is going on!\n",
        "\n",
        "#### 2.3.1 Iterating over a Dict\n",
        "\n",
        "Adapting the code below, print out the city name and airport code for\n",
        "every city in our Atlas.\n",
        "\n",
        "##### 2.3.1.1 Question"
      ],
      "id": "e1f67e85-e8eb-43c7-9ee8-44752235f768"
    },
    {
      "cell_type": "code",
      "execution_count": null,
      "metadata": {},
      "outputs": [],
      "source": [
        "for c in cities.keys():\n",
        "    print(??)"
      ],
      "id": "ab00db96-e550-4960-993c-b2ef12435683"
    },
    {
      "cell_type": "markdown",
      "metadata": {},
      "source": [
        "The output should look something like this:"
      ],
      "id": "f6f05522-24b5-4dc1-ab57-8cc913021544"
    },
    {
      "cell_type": "code",
      "execution_count": null,
      "metadata": {},
      "outputs": [],
      "source": [
        "San Francisco -> SFO\n",
        "London -> LDN\n",
        "Paris -> PAR\n",
        "Beijing -> BEI\n",
        "Chennai -> MAA"
      ],
      "id": "2fb4e581-1640-4471-af9b-b9587d6167b4"
    },
    {
      "cell_type": "markdown",
      "metadata": {},
      "source": [
        "#### 2.3.2 More Complex Dicts\n",
        "\n",
        "How would your code need to change to produce the *same output* from\n",
        "this data structure:"
      ],
      "id": "b631a044-9a9b-4686-9b3a-a162ecb1b8e7"
    },
    {
      "cell_type": "code",
      "execution_count": 17,
      "metadata": {},
      "outputs": [],
      "source": [
        "cities = {\n",
        "    'San Francisco': {\n",
        "        'lat': 37.77, \n",
        "        'lon': -122.43,\n",
        "        'airport': 'SFO'},\n",
        "    'London': {\n",
        "        'lat': 51.51, \n",
        "        'lon': -0.08, \n",
        "        'airport': 'LDN'},\n",
        "    'Paris': {\n",
        "        'lat': 48.86,\n",
        "        'lon': 2.29, \n",
        "        'airport': 'PAR'},\n",
        "    'Beijing': {\n",
        "        'lat': 39.92,\n",
        "        'lon': 116.40,\n",
        "        'airport': 'BEI'},\n",
        "    'Chennai': { \n",
        "        'lat': 13.08, \n",
        "        'lon': 80.28, \n",
        "        'airport': 'MAA'}\n",
        "}"
      ],
      "id": "d799eb30"
    },
    {
      "cell_type": "markdown",
      "metadata": {},
      "source": [
        "##### 2.3.2.1 Question"
      ],
      "id": "42aaee0b-570a-4f6e-9942-9b0ee50a2e79"
    },
    {
      "cell_type": "code",
      "execution_count": null,
      "metadata": {},
      "outputs": [],
      "source": [
        "for c in cities.keys():\n",
        "    print(??)"
      ],
      "id": "d2e65547-22d7-4156-9df0-cc0dcdc245b1"
    },
    {
      "cell_type": "markdown",
      "metadata": {},
      "source": [
        "#### 2.3.3 More Dictionary Action!\n",
        "\n",
        "And how would it need to change to print out the name and latitude of\n",
        "every city?\n",
        "\n",
        "##### 2.3.3.1 Question"
      ],
      "id": "bb8632d3-9e11-490c-99f4-971240aad3a0"
    },
    {
      "cell_type": "code",
      "execution_count": null,
      "metadata": {},
      "outputs": [],
      "source": [
        "for c in cities.keys():\n",
        "    print(??)"
      ],
      "id": "f1b4b1c0-915e-4da1-b3b4-04af3144a3b1"
    },
    {
      "cell_type": "markdown",
      "metadata": {},
      "source": [
        "The output should be something like this:"
      ],
      "id": "c03a0552-a682-442e-ab30-70db00eb8417"
    },
    {
      "cell_type": "code",
      "execution_count": null,
      "metadata": {},
      "outputs": [],
      "source": [
        "San Francisco is at latitude 37.77\n",
        "London is at latitude 51.51\n",
        "Paris is at latitude 48.86\n",
        "Beijing is at latitude 39.92\n",
        "Chennai is at latitude 13.08"
      ],
      "id": "a7c7fcc6-4ffc-49d5-93d5-33910be2b8c2"
    },
    {
      "cell_type": "markdown",
      "metadata": {},
      "source": [
        "#### 2.3.4 And Another Way to Use a Dict\n",
        "\n",
        "Now produce the *same output* using this new data structure:"
      ],
      "id": "d3058598-55e7-411c-9d2a-101e0dad4659"
    },
    {
      "cell_type": "code",
      "execution_count": 21,
      "metadata": {},
      "outputs": [],
      "source": [
        "cities_alt = [\n",
        "    {'name':     'San Francisco',\n",
        "     'position': [37.77, -122.43],\n",
        "     'airport':  'SFO'},\n",
        "    {'name':     'London',\n",
        "     'position': [51.51, -0.08],\n",
        "     'airport':  'LDN'},\n",
        "    {'name':     'Paris',\n",
        "     'position': [48.86, 2.29],\n",
        "     'airport':  'PAR'},\n",
        "    {'name':     'Beijing',\n",
        "     'position': [39.92, 116.40],\n",
        "     'airport':  'BEI'},\n",
        "    {'name':     'Chennai', \n",
        "     'position': [13.08, 80.28],\n",
        "      'airport': 'MAA'}\n",
        "]"
      ],
      "id": "e7c81186"
    },
    {
      "cell_type": "markdown",
      "metadata": {},
      "source": [
        "##### Question\n",
        "\n",
        "``` python\n",
        "for c in cities_alt:\n",
        "    print(??)\n",
        "```\n",
        "\n",
        "The output should be something like this:\n",
        "\n",
        "    San Francisco is at latitude 37.77\n",
        "    London is at latitude 51.51\n",
        "    Paris is at latitude 48.86\n",
        "    Beijing is at latitude 39.92\n",
        "    Chennai is at latitude 13.08\n",
        "\n",
        "##### Answer\n",
        "\n",
        "``` python\n",
        "for c in cities_alt:\n",
        "    print(f\"{c['name']} is at latitude {c['position'][0]}\")\n",
        "```\n",
        "\n",
        "    San Francisco is at latitude 37.77\n",
        "    London is at latitude 51.51\n",
        "    Paris is at latitude 48.86\n",
        "    Beijing is at latitude 39.92\n",
        "    Chennai is at latitude 13.08\n",
        "\n",
        "#### 2.3.5 Think Data!\n",
        "\n",
        "What are some of the main differences that you can think of between\n",
        "`cities` and `cities_alt` *as* data? There is no right answer.\n",
        "\n",
        "> **Tip**\n",
        ">\n",
        "> I just want you to think about these *as data*! If you were trying to\n",
        "> use `cities` and `cities_alt` as data what differences would you find\n",
        "> when accessing one or more ‘records’?\n",
        "\n",
        "-   Point 1 here.\n",
        "-   Point 2 here.\n",
        "-   Point 3 here."
      ],
      "id": "608e5166-9ea8-403e-bbdf-86c09f2464c6"
    }
  ],
  "nbformat": 4,
  "nbformat_minor": 5,
  "metadata": {
    "kernelspec": {
      "name": "python3",
      "display_name": "Python 3 (ipykernel)",
      "language": "python",
      "path": "/Users/jreades/anaconda3/envs/sds/share/jupyter/kernels/python3"
    },
    "language_info": {
      "name": "python",
      "codemirror_mode": {
        "name": "ipython",
        "version": "3"
      },
      "file_extension": ".py",
      "mimetype": "text/x-python",
      "nbconvert_exporter": "python",
      "pygments_lexer": "ipython3",
      "version": "3.12.2"
    }
  }
}